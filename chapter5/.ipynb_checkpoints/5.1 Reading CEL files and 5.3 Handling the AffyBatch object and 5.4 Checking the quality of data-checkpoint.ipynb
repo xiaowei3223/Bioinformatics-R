{
 "cells": [
  {
   "cell_type": "markdown",
   "metadata": {},
   "source": [
    "The CEL file contains all the intensity-related information of the pixels on the array. The files\n",
    "include the intensity itself, the standard deviation, the number of pixels, and other meta\n",
    "information. To get a feel of the file, we can open the CEL file with any text editor and take a\n",
    "look at it. Each experiment usually has more than one sample and replicates; therefore, there\n",
    "will be one CEL file present for each sample or replicated file. The CEL files must be read to\n",
    "get the data in a workable format in the R workspace. This recipe will explain how we can read\n",
    "such a file in the R workspace.\n",
    "\n",
    "CEL文件包含阵列上像素的所有与强度相关的信息。 CEL文件包括强度本身、标准差、像素数等元素信息。要读取该文件，我们可以使用任何文本编辑器打开CEL文件，并查看它。每个实验通常会有很多个样本和重复性，而CEL文件就是记录一个为每个样本或重复。读取CEL文件可以使用特定的格式获取数据。"
   ]
  },
  {
   "cell_type": "markdown",
   "metadata": {},
   "source": [
    "1. Download GSE24460 from NCBI GEO (http://www.ncbi.nlm.nih.gov/geo/\n",
    "query/acc.cgi?acc=GSE24460). This gives you a file named GSE24460_RAW.\n",
    "tar in your desired directory.\n",
    " \n",
    " 从NCBI GEO （ https://www.ncbi.nlm.nih.gov/geo/query/acc.cgi?acc=GSE24460 ） 下载GSE24460文件。并把该文件放在当前文件夹。"
   ]
  },
  {
   "cell_type": "markdown",
   "metadata": {},
   "source": [
    "2. Unzip this file to get CEL files. The files have also been provided with the code files\n",
    "(available on book's web page) the sub directory <GSE24460_RAW>.\n",
    "\n",
    " 解压这个文件，该文件还提供了一些子文件。"
   ]
  },
  {
   "cell_type": "markdown",
   "metadata": {},
   "source": [
    "3. Next, install and load the affy library into the R session as follows:\n",
    "\n",
    "   安装并加载affy。"
   ]
  },
  {
   "cell_type": "code",
   "execution_count": 5,
   "metadata": {
    "collapsed": true
   },
   "outputs": [
    {
     "name": "stderr",
     "output_type": "stream",
     "text": [
      "Bioconductor version 3.8 (BiocManager 1.30.1), R 3.5.1 (2018-07-02)\n",
      "Installing package(s) 'affy'\n",
      "also installing the dependencies 'affyio', 'preprocessCore'\n",
      "\n",
      "Warning message:\n",
      "\"unable to access index for repository http://www.stats.ox.ac.uk/pub/RWin/bin/windows/contrib/3.5:\n",
      "  无法打开URL'http://www.stats.ox.ac.uk/pub/RWin/bin/windows/contrib/3.5/PACKAGES'\""
     ]
    },
    {
     "name": "stdout",
     "output_type": "stream",
     "text": [
      "package 'affyio' successfully unpacked and MD5 sums checked\n",
      "package 'preprocessCore' successfully unpacked and MD5 sums checked\n",
      "package 'affy' successfully unpacked and MD5 sums checked\n",
      "\n",
      "The downloaded binary packages are in\n",
      "\tC:\\Users\\Administrator\\AppData\\Local\\Temp\\RtmpGo5KWd\\downloaded_packages\n"
     ]
    },
    {
     "name": "stderr",
     "output_type": "stream",
     "text": [
      "Update old packages: 'ade4', 'ape', 'backports', 'BH', 'BiocInstaller',\n",
      "  'BiocManager', 'biomaRt', 'Biostrings', 'broom', 'callr', 'caret',\n",
      "  'checkpoint', 'class', 'cli', 'clipr', 'clusterProfiler', 'codetools',\n",
      "  'colorspace', 'curl', 'data.table', 'dbplyr', 'ddalpha', 'digest', 'dimRed',\n",
      "  'doParallel', 'DOSE', 'dplyr', 'enrichplot', 'evaluate', 'fansi', 'fgsea',\n",
      "  'foreign', 'GenomicFeatures', 'ggplot2', 'GOSemSim', 'haven', 'htmlwidgets',\n",
      "  'httpuv', 'httr', 'ipred', 'IRdisplay', 'IRkernel', 'jsonlite', 'kernlab',\n",
      "  'knitr', 'later', 'lattice', 'lava', 'magic', 'markdown', 'MASS', 'Matrix',\n",
      "  'mgcv', 'mime', 'MKmisc', 'ModelMetrics', 'modelr', 'muscle', 'openssl',\n",
      "  'pillar', 'pkgconfig', 'pls', 'processx', 'purrr', 'qvalue', 'R6', 'Rcpp',\n",
      "  'readr', 'readxl', 'recipes', 'repr', 'reprex', 'rlang', 'rmarkdown',\n",
      "  'robustbase', 'Rsamtools', 'rstudioapi', 'RUnit', 'scales', 'sfsmisc',\n",
      "  'shiny', 'stringi', 'stringr', 'survival', 'testthat', 'tibble', 'tidyr',\n",
      "  'tidyselect', 'tinytex', 'TTR', 'xfun', 'XML', 'xtable', 'xts', 'zoo'\n",
      "Loading required package: BiocGenerics\n",
      "Loading required package: parallel\n",
      "\n",
      "Attaching package: 'BiocGenerics'\n",
      "\n",
      "The following objects are masked from 'package:parallel':\n",
      "\n",
      "    clusterApply, clusterApplyLB, clusterCall, clusterEvalQ,\n",
      "    clusterExport, clusterMap, parApply, parCapply, parLapply,\n",
      "    parLapplyLB, parRapply, parSapply, parSapplyLB\n",
      "\n",
      "The following objects are masked from 'package:stats':\n",
      "\n",
      "    IQR, mad, sd, var, xtabs\n",
      "\n",
      "The following objects are masked from 'package:base':\n",
      "\n",
      "    anyDuplicated, append, as.data.frame, basename, cbind, colMeans,\n",
      "    colnames, colSums, dirname, do.call, duplicated, eval, evalq,\n",
      "    Filter, Find, get, grep, grepl, intersect, is.unsorted, lapply,\n",
      "    lengths, Map, mapply, match, mget, order, paste, pmax, pmax.int,\n",
      "    pmin, pmin.int, Position, rank, rbind, Reduce, rowMeans, rownames,\n",
      "    rowSums, sapply, setdiff, sort, table, tapply, union, unique,\n",
      "    unsplit, which, which.max, which.min\n",
      "\n",
      "Loading required package: Biobase\n",
      "Welcome to Bioconductor\n",
      "\n",
      "    Vignettes contain introductory material; view with\n",
      "    'browseVignettes()'. To cite Bioconductor, see\n",
      "    'citation(\"Biobase\")', and for packages 'citation(\"pkgname\")'.\n",
      "\n"
     ]
    }
   ],
   "source": [
    "BiocManager::install(c(\"affy\"))"
   ]
  },
  {
   "cell_type": "code",
   "execution_count": 3,
   "metadata": {
    "collapsed": true
   },
   "outputs": [
    {
     "name": "stderr",
     "output_type": "stream",
     "text": [
      "Loading required package: BiocGenerics\n",
      "Loading required package: parallel\n",
      "\n",
      "Attaching package: 'BiocGenerics'\n",
      "\n",
      "The following objects are masked from 'package:parallel':\n",
      "\n",
      "    clusterApply, clusterApplyLB, clusterCall, clusterEvalQ,\n",
      "    clusterExport, clusterMap, parApply, parCapply, parLapply,\n",
      "    parLapplyLB, parRapply, parSapply, parSapplyLB\n",
      "\n",
      "The following objects are masked from 'package:stats':\n",
      "\n",
      "    IQR, mad, sd, var, xtabs\n",
      "\n",
      "The following objects are masked from 'package:base':\n",
      "\n",
      "    anyDuplicated, append, as.data.frame, basename, cbind, colMeans,\n",
      "    colnames, colSums, dirname, do.call, duplicated, eval, evalq,\n",
      "    Filter, Find, get, grep, grepl, intersect, is.unsorted, lapply,\n",
      "    lengths, Map, mapply, match, mget, order, paste, pmax, pmax.int,\n",
      "    pmin, pmin.int, Position, rank, rbind, Reduce, rowMeans, rownames,\n",
      "    rowSums, sapply, setdiff, sort, table, tapply, union, unique,\n",
      "    unsplit, which, which.max, which.min\n",
      "\n",
      "Loading required package: Biobase\n",
      "Welcome to Bioconductor\n",
      "\n",
      "    Vignettes contain introductory material; view with\n",
      "    'browseVignettes()'. To cite Bioconductor, see\n",
      "    'citation(\"Biobase\")', and for packages 'citation(\"pkgname\")'.\n",
      "\n"
     ]
    }
   ],
   "source": [
    "library(affy)"
   ]
  },
  {
   "cell_type": "markdown",
   "metadata": {},
   "source": [
    "4. To read all the files in the directory, use the ReadAffy function as follows:\n",
    "\n",
    "   读取该目录下所有文件，用ReadAffy函数"
   ]
  },
  {
   "cell_type": "code",
   "execution_count": 5,
   "metadata": {},
   "outputs": [],
   "source": [
    "myData <- ReadAffy(celfile.path=\"C:/Users/Administrator/bioinformatics_with_R/chapter5/GSE24460_RAW\")"
   ]
  },
  {
   "cell_type": "code",
   "execution_count": 6,
   "metadata": {},
   "outputs": [
    {
     "name": "stderr",
     "output_type": "stream",
     "text": [
      "Warning message:\n",
      "\"unable to access index for repository http://www.stats.ox.ac.uk/pub/RWin/bin/windows/contrib/3.5:\n",
      "  无法打开URL'http://www.stats.ox.ac.uk/pub/RWin/bin/windows/contrib/3.5/PACKAGES'\"installing the source package 'hgu133a2cdf'\n",
      "\n",
      "Warning message:\n",
      "\"replacing previous import 'AnnotationDbi::tail' by 'utils::tail' when loading 'hgu133a2cdf'\"Warning message:\n",
      "\"replacing previous import 'AnnotationDbi::head' by 'utils::head' when loading 'hgu133a2cdf'\"\n"
     ]
    },
    {
     "data": {
      "text/plain": [
       "AffyBatch object\n",
       "size of arrays=732x732 features (19 kb)\n",
       "cdf=HG-U133A_2 (22277 affyids)\n",
       "number of samples=4\n",
       "number of genes=22277\n",
       "annotation=hgu133a2\n",
       "notes="
      ]
     },
     "metadata": {},
     "output_type": "display_data"
    }
   ],
   "source": [
    "myData"
   ]
  },
  {
   "cell_type": "markdown",
   "metadata": {},
   "source": [
    "5. If you wish to read only one or a couple of files, specify the filename as follows:\n",
    "   \n",
    "   如果想要读取一个文件或一些文件，直接使用filename参数。"
   ]
  },
  {
   "cell_type": "code",
   "execution_count": 8,
   "metadata": {},
   "outputs": [],
   "source": [
    "myData1 <- ReadAffy(filenames=\"GSM602659_MCF72.CEL\",celfile.path=\"C:/Users/Administrator/bioinformatics_with_R/chapter5/GSE24460_RAW\")"
   ]
  },
  {
   "cell_type": "code",
   "execution_count": 9,
   "metadata": {},
   "outputs": [
    {
     "data": {
      "text/plain": [
       "AffyBatch object\n",
       "size of arrays=732x732 features (18 kb)\n",
       "cdf=HG-U133A_2 (22277 affyids)\n",
       "number of samples=1\n",
       "number of genes=22277\n",
       "annotation=hgu133a2\n",
       "notes="
      ]
     },
     "metadata": {},
     "output_type": "display_data"
    }
   ],
   "source": [
    "myData1"
   ]
  }
 ],
 "metadata": {
  "kernelspec": {
   "display_name": "R",
   "language": "R",
   "name": "ir"
  },
  "language_info": {
   "codemirror_mode": "r",
   "file_extension": ".r",
   "mimetype": "text/x-r-source",
   "name": "R",
   "pygments_lexer": "r",
   "version": "3.5.1"
  }
 },
 "nbformat": 4,
 "nbformat_minor": 2
}
