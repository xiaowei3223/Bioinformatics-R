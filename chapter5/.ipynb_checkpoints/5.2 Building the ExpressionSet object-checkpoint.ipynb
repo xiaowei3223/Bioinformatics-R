{
 "cells": [
  {
   "cell_type": "markdown",
   "metadata": {},
   "source": [
    "1. Install and load the Biobase library, if not already loaded(it gets loaded by default when you load the affy library), as follows:\n",
    "\n",
    "安装并加载Biobase， 一般情况下当你加载affy时，会自动加载Biobase"
   ]
  },
  {
   "cell_type": "code",
   "execution_count": 7,
   "metadata": {
    "scrolled": false
   },
   "outputs": [
    {
     "name": "stderr",
     "output_type": "stream",
     "text": [
      "Bioconductor version 3.8 (BiocManager 1.30.1), R 3.5.1 (2018-07-02)\n",
      "Installing package(s) 'Biobase'\n",
      "Warning message:\n",
      "\"unable to access index for repository http://www.stats.ox.ac.uk/pub/RWin/bin/windows/contrib/3.5:\n",
      "  无法打开URL'http://www.stats.ox.ac.uk/pub/RWin/bin/windows/contrib/3.5/PACKAGES'\""
     ]
    },
    {
     "name": "stdout",
     "output_type": "stream",
     "text": [
      "package 'Biobase' successfully unpacked and MD5 sums checked\n"
     ]
    },
    {
     "name": "stderr",
     "output_type": "stream",
     "text": [
      "Warning message:\n",
      "\"cannot remove prior installation of package 'Biobase'\""
     ]
    },
    {
     "name": "stdout",
     "output_type": "stream",
     "text": [
      "\n",
      "The downloaded binary packages are in\n",
      "\tC:\\Users\\Administrator\\AppData\\Local\\Temp\\RtmpMrfgbi\\downloaded_packages\n"
     ]
    },
    {
     "name": "stderr",
     "output_type": "stream",
     "text": [
      "Update old packages: 'ade4', 'ape', 'backports', 'BH', 'BiocInstaller',\n",
      "  'BiocManager', 'BiocParallel', 'biomaRt', 'Biostrings', 'broom', 'callr',\n",
      "  'caret', 'checkpoint', 'class', 'cli', 'clipr', 'clusterProfiler',\n",
      "  'codetools', 'colorspace', 'curl', 'data.table', 'dbplyr', 'ddalpha',\n",
      "  'digest', 'dimRed', 'doParallel', 'DOSE', 'dplyr', 'enrichplot', 'evaluate',\n",
      "  'fansi', 'fgsea', 'forcats', 'foreign', 'GenomeInfoDb', 'GenomicFeatures',\n",
      "  'ggplot2', 'GOSemSim', 'haven', 'htmlwidgets', 'httpuv', 'httr', 'igraph',\n",
      "  'ipred', 'IRdisplay', 'IRkernel', 'jsonlite', 'kernlab', 'knitr', 'later',\n",
      "  'lattice', 'lava', 'magic', 'markdown', 'MASS', 'Matrix', 'mgcv', 'mime',\n",
      "  'MKmisc', 'ModelMetrics', 'modelr', 'muscle', 'openssl', 'pillar',\n",
      "  'pkgconfig', 'pls', 'processx', 'purrr', 'qvalue', 'R6', 'Rcpp', 'readr',\n",
      "  'readxl', 'recipes', 'repr', 'reprex', 'rlang', 'rmarkdown', 'robustbase',\n",
      "  'Rsamtools', 'rstudioapi', 'RUnit', 'scales', 'sfsmisc', 'shiny', 'stringi',\n",
      "  'stringr', 'survival', 'testthat', 'tibble', 'tidyr', 'tidyselect',\n",
      "  'tinytex', 'TTR', 'xfun', 'XML', 'xtable', 'xts', 'zoo'\n"
     ]
    },
    {
     "ename": "ERROR",
     "evalue": "Error: package 'Biobase' required by 'affy' could not be found\n",
     "output_type": "error",
     "traceback": [
      "Error: package 'Biobase' required by 'affy' could not be found\nTraceback:\n",
      "1. library(\"affy\")",
      "2. .getRequiredPackages2(pkgInfo, quietly = quietly)",
      "3. stop(gettextf(\"package %s required by %s could not be found\", \n .     sQuote(pkg), sQuote(pkgname)), call. = FALSE, domain = NA)"
     ]
    }
   ],
   "source": [
    "BiocManager::install(\"Biobase\")\n",
    "library(\"affy\")"
   ]
  },
  {
   "cell_type": "code",
   "execution_count": 10,
   "metadata": {},
   "outputs": [
    {
     "data": {
      "text/html": [
       "'C:/ProgramData/Anaconda3/Lib/R/library'"
      ],
      "text/latex": [
       "'C:/ProgramData/Anaconda3/Lib/R/library'"
      ],
      "text/markdown": [
       "'C:/ProgramData/Anaconda3/Lib/R/library'"
      ],
      "text/plain": [
       "[1] \"C:/ProgramData/Anaconda3/Lib/R/library\""
      ]
     },
     "metadata": {},
     "output_type": "display_data"
    }
   ],
   "source": [
    ".libPaths()"
   ]
  },
  {
   "cell_type": "code",
   "execution_count": 8,
   "metadata": {
    "scrolled": true
   },
   "outputs": [
    {
     "ename": "ERROR",
     "evalue": "Error in library(\"biobase\"): there is no package called 'biobase'\n",
     "output_type": "error",
     "traceback": [
      "Error in library(\"biobase\"): there is no package called 'biobase'\nTraceback:\n",
      "1. library(\"biobase\")",
      "2. stop(txt, domain = NA)"
     ]
    }
   ],
   "source": [
    "library(\"biobase\")"
   ]
  },
  {
   "cell_type": "markdown",
   "metadata": {},
   "source": [
    "2. As a demo expression file and the phenotypic data(pData) file, we will use the built-in data for the Biobase library, whose location can be fetcched as follows:\n",
    "\n",
    "作为演示表达式文件和表型数据(pData)文件，我们将使用Biobase库的内置数据，它的位置可以如下所示:"
   ]
  },
  {
   "cell_type": "code",
   "execution_count": null,
   "metadata": {},
   "outputs": [],
   "source": [
    "DIR <- system.file(\"extdata\", package=\"Biobase\")\n",
    "exprsLoc <- file.path(DIR, \"exprsData.txt\")\n",
    "pDataLoc <- file.path(DIR, \"pData.txt\")"
   ]
  },
  {
   "cell_type": "markdown",
   "metadata": {},
   "source": [
    "3. Read the table from the text file that contains the expression values using the usual read.table or read.csv function as follows:\n",
    "\n",
    "使用通常的读取操作从包含表达式值的文本文件中读取该表。使用read.table或者read.csv函数。"
   ]
  },
  {
   "cell_type": "code",
   "execution_count": null,
   "metadata": {},
   "outputs": [],
   "source": [
    "exprs <- as.matrix(read.csv(exprsLoc, header = TRUE, sep =\"\\t\", row.names = 1, as.is = TRUE))"
   ]
  },
  {
   "cell_type": "markdown",
   "metadata": {},
   "source": [
    "4. Now, check the object created previously. It should be a matrix:\n",
    "现在，检查前面创建的对象，应该是一个矩阵："
   ]
  },
  {
   "cell_type": "code",
   "execution_count": null,
   "metadata": {},
   "outputs": [],
   "source": [
    "class(exprs)"
   ]
  },
  {
   "cell_type": "code",
   "execution_count": null,
   "metadata": {},
   "outputs": [],
   "source": [
    "dim(exprs)"
   ]
  },
  {
   "cell_type": "code",
   "execution_count": null,
   "metadata": {},
   "outputs": [],
   "source": [
    "5. Now, read the phenotype information file in a similar way using the read.csv function as follows:\n"
   ]
  },
  {
   "cell_type": "code",
   "execution_count": null,
   "metadata": {},
   "outputs": [],
   "source": [
    "pData <- read.table(pDataLoc, row.names =1,header=TRUE, sep= \"/t\")"
   ]
  },
  {
   "cell_type": "code",
   "execution_count": null,
   "metadata": {},
   "outputs": [],
   "source": [
    "pData <- new(\"AnnotatedDataFrame\", data=pData)"
   ]
  },
  {
   "cell_type": "markdown",
   "metadata": {},
   "source": [
    "6. Compile the experiment information, an object of the MIAME class with slots for inverstigator name, lab name, and so on as follows:"
   ]
  },
  {
   "cell_type": "code",
   "execution_count": null,
   "metadata": {},
   "outputs": [],
   "source": [
    "exData <- new(\"MIAME\", name=\"ABCabc\", lab=\"XYZ Lab\", contact=\"abc@xyz\", title=\"\", abstract=\"\", url=\"www.xyz\")"
   ]
  },
  {
   "cell_type": "code",
   "execution_count": null,
   "metadata": {},
   "outputs": [],
   "source": [
    "7. It is also important to know the chip annotation as it is a part of the ExpressionSet object for this data. Use the hgu95av2 annotation for this purpose.m"
   ]
  },
  {
   "cell_type": "markdown",
   "metadata": {},
   "source": [
    "8. Now, create a new ExpressionSet object using the information compilied in the previous steps as follows:"
   ]
  },
  {
   "cell_type": "code",
   "execution_count": null,
   "metadata": {},
   "outputs": [],
   "source": [
    "exampleSet <- new(\"ExpressionSet\", exprs=exprs, phenoData=pData, experimentData=exData, annotation=\"hgu133a2\")"
   ]
  },
  {
   "cell_type": "markdown",
   "metadata": {},
   "source": [
    "9. To check your object, simply type in the object name or check the structue with the str function as follows:"
   ]
  },
  {
   "cell_type": "code",
   "execution_count": null,
   "metadata": {},
   "outputs": [],
   "source": [
    "str(exampleSet)"
   ]
  },
  {
   "cell_type": "markdown",
   "metadata": {},
   "source": [
    "10. Test the validity of the object created before continuing with the analysis, as follows:"
   ]
  },
  {
   "cell_type": "code",
   "execution_count": null,
   "metadata": {},
   "outputs": [],
   "source": [
    "validObject(exampleSet)"
   ]
  },
  {
   "cell_type": "markdown",
   "metadata": {},
   "source": [
    "11. To convert an AffyBatch object to ExpressionSet, simply use the AffyBatch components directly to create a new ExpressionSet object, as shown in step 6. "
   ]
  }
 ],
 "metadata": {
  "kernelspec": {
   "display_name": "R",
   "language": "R",
   "name": "ir"
  },
  "language_info": {
   "codemirror_mode": "r",
   "file_extension": ".r",
   "mimetype": "text/x-r-source",
   "name": "R",
   "pygments_lexer": "r",
   "version": "3.5.1"
  }
 },
 "nbformat": 4,
 "nbformat_minor": 2
}
