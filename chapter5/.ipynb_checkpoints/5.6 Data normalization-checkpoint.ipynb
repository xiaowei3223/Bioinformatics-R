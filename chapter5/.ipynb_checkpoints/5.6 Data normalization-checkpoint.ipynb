{
 "cells": [
  {
   "cell_type": "markdown",
   "metadata": {},
   "source": [
    "1. get the data into the R session as an AffyBatch object or a matrix, already shown in previous recipes, as follows( in our case, we use the myData object that was created in the reading CEL files recipe; let's repeat the step again for convenience):"
   ]
  },
  {
   "cell_type": "raw",
   "metadata": {},
   "source": [
    "myData <- ReadAffy(celfile.path=\"path/to/dir\")"
   ]
  },
  {
   "cell_type": "markdown",
   "metadata": {},
   "source": [
    "There are many possible types of normalizations. In this recipe, we focus on three methods:the vsn, loess, and quantile nomalizations."
   ]
  },
  {
   "cell_type": "markdown",
   "metadata": {},
   "source": [
    "2. To do a vsn normalization, you need a library named vsn. Install and load it into the R session as follows:"
   ]
  },
  {
   "cell_type": "code",
   "execution_count": 1,
   "metadata": {},
   "outputs": [
    {
     "name": "stderr",
     "output_type": "stream",
     "text": [
      "Bioconductor version 3.8 (BiocManager 1.30.1), R 3.5.1 (2018-07-02)\n",
      "Installing package(s) 'vsn'\n",
      "Warning message:\n",
      "\"unable to access index for repository http://www.stats.ox.ac.uk/pub/RWin/bin/windows/contrib/3.5:\n",
      "  无法打开URL'http://www.stats.ox.ac.uk/pub/RWin/bin/windows/contrib/3.5/PACKAGES'\""
     ]
    },
    {
     "name": "stdout",
     "output_type": "stream",
     "text": [
      "package 'vsn' successfully unpacked and MD5 sums checked\n"
     ]
    },
    {
     "name": "stderr",
     "output_type": "stream",
     "text": [
      "Warning message:\n",
      "\"cannot remove prior installation of package 'vsn'\""
     ]
    },
    {
     "name": "stdout",
     "output_type": "stream",
     "text": [
      "\n",
      "The downloaded binary packages are in\n",
      "\tC:\\Users\\Administrator\\AppData\\Local\\Temp\\RtmpkTrM0j\\downloaded_packages\n"
     ]
    },
    {
     "name": "stderr",
     "output_type": "stream",
     "text": [
      "Update old packages: 'ade4', 'ape', 'backports', 'BH', 'BiocInstaller',\n",
      "  'BiocManager', 'BiocParallel', 'biomaRt', 'Biostrings', 'broom', 'callr',\n",
      "  'caret', 'checkpoint', 'class', 'cli', 'clipr', 'clusterProfiler',\n",
      "  'codetools', 'colorspace', 'curl', 'data.table', 'dbplyr', 'ddalpha',\n",
      "  'digest', 'dimRed', 'doParallel', 'DOSE', 'dplyr', 'enrichplot', 'evaluate',\n",
      "  'fansi', 'fgsea', 'foreign', 'GenomicFeatures', 'ggplot2', 'GOSemSim',\n",
      "  'haven', 'htmlwidgets', 'httpuv', 'httr', 'igraph', 'ipred', 'IRdisplay',\n",
      "  'IRkernel', 'jsonlite', 'kernlab', 'knitr', 'later', 'lattice', 'lava',\n",
      "  'magic', 'markdown', 'MASS', 'Matrix', 'mgcv', 'mime', 'MKmisc',\n",
      "  'ModelMetrics', 'modelr', 'muscle', 'openssl', 'pillar', 'pkgconfig', 'pls',\n",
      "  'processx', 'purrr', 'qvalue', 'R6', 'Rcpp', 'readr', 'readxl', 'recipes',\n",
      "  'repr', 'reprex', 'rlang', 'rmarkdown', 'robustbase', 'Rsamtools',\n",
      "  'rstudioapi', 'RUnit', 'scales', 'sfsmisc', 'shiny', 'stringi', 'stringr',\n",
      "  'survival', 'testthat', 'tibble', 'tidyr', 'tidyselect', 'tinytex', 'TTR',\n",
      "  'xfun', 'XML', 'xtable', 'xts', 'zoo'\n"
     ]
    }
   ],
   "source": [
    "BiocManager::install(\"vsn\")"
   ]
  },
  {
   "cell_type": "code",
   "execution_count": 2,
   "metadata": {},
   "outputs": [
    {
     "ename": "ERROR",
     "evalue": "Error in library(vsn): there is no package called 'vsn'\n",
     "output_type": "error",
     "traceback": [
      "Error in library(vsn): there is no package called 'vsn'\nTraceback:\n",
      "1. library(vsn)",
      "2. stop(txt, domain = NA)"
     ]
    }
   ],
   "source": [
    "library(vsn)"
   ]
  },
  {
   "cell_type": "markdown",
   "metadata": {},
   "source": [
    "3. Perform the vsn normalization on an AffyBatch object with the following command:"
   ]
  },
  {
   "cell_type": "raw",
   "metadata": {},
   "source": [
    "myData.VSN <- normalize.AffyBatch.vsn(myData)"
   ]
  },
  {
   "cell_type": "markdown",
   "metadata": {},
   "source": [
    "4. Create a boxplot for the normalized data and compare it with the boxplot for non-normalized data in the previous recipe as follows:"
   ]
  },
  {
   "cell_type": "raw",
   "metadata": {},
   "source": [
    "boxplot(myData.VSN)"
   ]
  },
  {
   "cell_type": "markdown",
   "metadata": {},
   "source": [
    "5. The loess normalization uses the affy library. To do the loess normalization, use the normalize.AffyBatch.loess function as follows:"
   ]
  },
  {
   "cell_type": "raw",
   "metadata": {},
   "source": [
    "myData.loess <- normalize.AffyBatch.loess(myData)"
   ]
  },
  {
   "cell_type": "markdown",
   "metadata": {},
   "source": [
    "6. The quantile normalization uses the affy library. To do the quantile normalization, use the normalize.AffyBatch.quantile function as follows:"
   ]
  },
  {
   "cell_type": "raw",
   "metadata": {},
   "source": [
    "myData.loess <- normalize.AffyBatch.quantiles(myData)"
   ]
  },
  {
   "cell_type": "markdown",
   "metadata": {},
   "source": [
    "7. Again, plot the boxplot for these two methods in a way similar to the one shown in step5."
   ]
  },
  {
   "cell_type": "markdown",
   "metadata": {},
   "source": [
    "Normalization can also be performed using the normalize.loess and normalize.quantile function with the data matrix as the input argument if the data is only a matrix of intensities."
   ]
  },
  {
   "cell_type": "markdown",
   "metadata": {},
   "source": [
    "8. Do a second round of quality check for the normalized data and observe the effect of normalization in the same way as before using arrayQualityMetrics."
   ]
  }
 ],
 "metadata": {
  "kernelspec": {
   "display_name": "R",
   "language": "R",
   "name": "ir"
  },
  "language_info": {
   "codemirror_mode": "r",
   "file_extension": ".r",
   "mimetype": "text/x-r-source",
   "name": "R",
   "pygments_lexer": "r",
   "version": "3.5.1"
  }
 },
 "nbformat": 4,
 "nbformat_minor": 2
}
