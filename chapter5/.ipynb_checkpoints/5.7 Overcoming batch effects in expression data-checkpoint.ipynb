{
 "cells": [
  {
   "cell_type": "markdown",
   "metadata": {},
   "source": [
    "1. First, load all the required libraries. If they are not installed, you first need to install them as you did before from their respective repositories using the following commands:"
   ]
  },
  {
   "cell_type": "code",
   "execution_count": 2,
   "metadata": {},
   "outputs": [
    {
     "name": "stderr",
     "output_type": "stream",
     "text": [
      "Warning message in file(filename, \"r\", encoding = encoding):\n",
      "\"InternetOpenUrl失败:’无法解析服务器的名称或地址'\""
     ]
    },
    {
     "ename": "ERROR",
     "evalue": "Error in file(filename, \"r\", encoding = encoding): 无法打开链结\n",
     "output_type": "error",
     "traceback": [
      "Error in file(filename, \"r\", encoding = encoding): 无法打开链结\nTraceback:\n",
      "1. source(\"http://biocondunctor.org/biocLite.R\")",
      "2. file(filename, \"r\", encoding = encoding)"
     ]
    }
   ],
   "source": [
    "source(\"http://biocondunctor.org/biocLite.R\")\n",
    "biocLite(c(\"sva\",\"bladderbatch\"))"
   ]
  },
  {
   "cell_type": "code",
   "execution_count": 4,
   "metadata": {},
   "outputs": [
    {
     "name": "stderr",
     "output_type": "stream",
     "text": [
      "Bioconductor version 3.8 (BiocManager 1.30.1), R 3.5.1 (2018-07-02)\n",
      "Installing package(s) 'sva', 'bladderbatch'\n",
      "Warning message:\n",
      "\"unable to access index for repository http://www.stats.ox.ac.uk/pub/RWin/bin/windows/contrib/3.5:\n",
      "  无法打开URL'http://www.stats.ox.ac.uk/pub/RWin/bin/windows/contrib/3.5/PACKAGES'\""
     ]
    },
    {
     "name": "stdout",
     "output_type": "stream",
     "text": [
      "package 'sva' successfully unpacked and MD5 sums checked\n",
      "\n",
      "The downloaded binary packages are in\n",
      "\tC:\\Users\\Administrator\\AppData\\Local\\Temp\\RtmpkrzE3N\\downloaded_packages\n"
     ]
    },
    {
     "name": "stderr",
     "output_type": "stream",
     "text": [
      "installing the source package 'bladderbatch'\n",
      "\n",
      "Update old packages: 'ade4', 'ape', 'backports', 'BH', 'BiocInstaller',\n",
      "  'BiocManager', 'BiocParallel', 'biomaRt', 'Biostrings', 'broom', 'callr',\n",
      "  'caret', 'checkpoint', 'class', 'cli', 'clipr', 'clusterProfiler',\n",
      "  'codetools', 'colorspace', 'curl', 'data.table', 'dbplyr', 'ddalpha',\n",
      "  'digest', 'dimRed', 'doParallel', 'DOSE', 'dplyr', 'enrichplot', 'evaluate',\n",
      "  'fansi', 'fgsea', 'foreign', 'GenomicFeatures', 'ggplot2', 'GOSemSim',\n",
      "  'haven', 'htmlwidgets', 'httpuv', 'httr', 'igraph', 'ipred', 'IRdisplay',\n",
      "  'IRkernel', 'jsonlite', 'kernlab', 'knitr', 'later', 'lattice', 'lava',\n",
      "  'magic', 'markdown', 'MASS', 'Matrix', 'mgcv', 'mime', 'MKmisc',\n",
      "  'ModelMetrics', 'modelr', 'muscle', 'openssl', 'pillar', 'pkgconfig', 'pls',\n",
      "  'processx', 'purrr', 'qvalue', 'R6', 'Rcpp', 'readr', 'readxl', 'recipes',\n",
      "  'repr', 'reprex', 'rlang', 'rmarkdown', 'robustbase', 'Rsamtools',\n",
      "  'rstudioapi', 'RUnit', 'scales', 'sfsmisc', 'shiny', 'stringi', 'stringr',\n",
      "  'survival', 'testthat', 'tibble', 'tidyr', 'tidyselect', 'tinytex', 'TTR',\n",
      "  'xfun', 'XML', 'xtable', 'xts', 'zoo'\n"
     ]
    }
   ],
   "source": [
    "BiocManager::install(c(\"sva\",\"bladderbatch\"))"
   ]
  },
  {
   "cell_type": "code",
   "execution_count": 5,
   "metadata": {},
   "outputs": [
    {
     "name": "stderr",
     "output_type": "stream",
     "text": [
      "Warning message:\n",
      "\"package 'sva' was built under R version 3.5.2\"Loading required package: mgcv\n",
      "Loading required package: nlme\n",
      "This is mgcv 1.8-24. For overview type 'help(\"mgcv-package\")'.\n",
      "Loading required package: genefilter\n",
      "Loading required package: BiocParallel\n",
      "Warning message:\n",
      "\"package 'BiocParallel' was built under R version 3.5.2\"Loading required package: Biobase\n",
      "Loading required package: BiocGenerics\n",
      "Loading required package: parallel\n",
      "\n",
      "Attaching package: 'BiocGenerics'\n",
      "\n",
      "The following objects are masked from 'package:parallel':\n",
      "\n",
      "    clusterApply, clusterApplyLB, clusterCall, clusterEvalQ,\n",
      "    clusterExport, clusterMap, parApply, parCapply, parLapply,\n",
      "    parLapplyLB, parRapply, parSapply, parSapplyLB\n",
      "\n",
      "The following objects are masked from 'package:stats':\n",
      "\n",
      "    IQR, mad, sd, var, xtabs\n",
      "\n",
      "The following objects are masked from 'package:base':\n",
      "\n",
      "    anyDuplicated, append, as.data.frame, basename, cbind, colMeans,\n",
      "    colnames, colSums, dirname, do.call, duplicated, eval, evalq,\n",
      "    Filter, Find, get, grep, grepl, intersect, is.unsorted, lapply,\n",
      "    lengths, Map, mapply, match, mget, order, paste, pmax, pmax.int,\n",
      "    pmin, pmin.int, Position, rank, rbind, Reduce, rowMeans, rownames,\n",
      "    rowSums, sapply, setdiff, sort, table, tapply, union, unique,\n",
      "    unsplit, which, which.max, which.min\n",
      "\n",
      "Welcome to Bioconductor\n",
      "\n",
      "    Vignettes contain introductory material; view with\n",
      "    'browseVignettes()'. To cite Bioconductor, see\n",
      "    'citation(\"Biobase\")', and for packages 'citation(\"pkgname\")'.\n",
      "\n"
     ]
    }
   ],
   "source": [
    "library(sva)  #contains batch removing utilities\n",
    "library(bladderbatch)  #The data to be used"
   ]
  },
  {
   "cell_type": "markdown",
   "metadata": {},
   "source": [
    "2. Then, load bladderdata using the following data function:"
   ]
  },
  {
   "cell_type": "code",
   "execution_count": 6,
   "metadata": {},
   "outputs": [],
   "source": [
    "data(bladderdata)"
   ]
  },
  {
   "cell_type": "markdown",
   "metadata": {},
   "source": [
    "3. Now, extract the expression matrix and pheno data from it as follows:"
   ]
  },
  {
   "cell_type": "code",
   "execution_count": 7,
   "metadata": {},
   "outputs": [],
   "source": [
    "pheno <- pData(bladderEset)"
   ]
  },
  {
   "cell_type": "code",
   "execution_count": 8,
   "metadata": {},
   "outputs": [],
   "source": [
    "edata <- exprs(bladderEset)"
   ]
  },
  {
   "cell_type": "markdown",
   "metadata": {},
   "source": [
    "4. Before you start working with the data, take a look at the phenotypic information by typing the following command:"
   ]
  },
  {
   "cell_type": "code",
   "execution_count": 9,
   "metadata": {},
   "outputs": [
    {
     "data": {
      "text/html": [
       "<table>\n",
       "<thead><tr><th></th><th scope=col>sample</th><th scope=col>outcome</th><th scope=col>batch</th><th scope=col>cancer</th></tr></thead>\n",
       "<tbody>\n",
       "\t<tr><th scope=row>GSM71019.CEL</th><td> 1      </td><td>Normal  </td><td>3       </td><td>Normal  </td></tr>\n",
       "\t<tr><th scope=row>GSM71020.CEL</th><td> 2      </td><td>Normal  </td><td>2       </td><td>Normal  </td></tr>\n",
       "\t<tr><th scope=row>GSM71021.CEL</th><td> 3      </td><td>Normal  </td><td>2       </td><td>Normal  </td></tr>\n",
       "\t<tr><th scope=row>GSM71022.CEL</th><td> 4      </td><td>Normal  </td><td>3       </td><td>Normal  </td></tr>\n",
       "\t<tr><th scope=row>GSM71023.CEL</th><td> 5      </td><td>Normal  </td><td>3       </td><td>Normal  </td></tr>\n",
       "\t<tr><th scope=row>GSM71024.CEL</th><td> 6      </td><td>Normal  </td><td>3       </td><td>Normal  </td></tr>\n",
       "\t<tr><th scope=row>GSM71025.CEL</th><td> 7      </td><td>Normal  </td><td>2       </td><td>Normal  </td></tr>\n",
       "\t<tr><th scope=row>GSM71026.CEL</th><td> 8      </td><td>Normal  </td><td>2       </td><td>Normal  </td></tr>\n",
       "\t<tr><th scope=row>GSM71028.CEL</th><td> 9      </td><td>sTCC+CIS</td><td>5       </td><td>Cancer  </td></tr>\n",
       "\t<tr><th scope=row>GSM71029.CEL</th><td>10      </td><td>sTCC-CIS</td><td>2       </td><td>Cancer  </td></tr>\n",
       "\t<tr><th scope=row>GSM71030.CEL</th><td>11      </td><td>sTCC-CIS</td><td>5       </td><td>Cancer  </td></tr>\n",
       "\t<tr><th scope=row>GSM71031.CEL</th><td>12      </td><td>sTCC-CIS</td><td>2       </td><td>Cancer  </td></tr>\n",
       "\t<tr><th scope=row>GSM71032.CEL</th><td>13      </td><td>sTCC+CIS</td><td>5       </td><td>Cancer  </td></tr>\n",
       "\t<tr><th scope=row>GSM71033.CEL</th><td>14      </td><td>sTCC-CIS</td><td>2       </td><td>Cancer  </td></tr>\n",
       "\t<tr><th scope=row>GSM71034.CEL</th><td>15      </td><td>sTCC+CIS</td><td>5       </td><td>Cancer  </td></tr>\n",
       "\t<tr><th scope=row>GSM71035.CEL</th><td>16      </td><td>sTCC+CIS</td><td>5       </td><td>Cancer  </td></tr>\n",
       "\t<tr><th scope=row>GSM71036.CEL</th><td>17      </td><td>sTCC-CIS</td><td>2       </td><td>Cancer  </td></tr>\n",
       "\t<tr><th scope=row>GSM71037.CEL</th><td>18      </td><td>mTCC    </td><td>1       </td><td>Cancer  </td></tr>\n",
       "\t<tr><th scope=row>GSM71038.CEL</th><td>19      </td><td>sTCC+CIS</td><td>5       </td><td>Cancer  </td></tr>\n",
       "\t<tr><th scope=row>GSM71039.CEL</th><td>20      </td><td>mTCC    </td><td>1       </td><td>Cancer  </td></tr>\n",
       "\t<tr><th scope=row>GSM71040.CEL</th><td>21      </td><td>mTCC    </td><td>2       </td><td>Cancer  </td></tr>\n",
       "\t<tr><th scope=row>GSM71041.CEL</th><td>22      </td><td>mTCC    </td><td>1       </td><td>Cancer  </td></tr>\n",
       "\t<tr><th scope=row>GSM71042.CEL</th><td>23      </td><td>sTCC-CIS</td><td>2       </td><td>Cancer  </td></tr>\n",
       "\t<tr><th scope=row>GSM71043.CEL</th><td>24      </td><td>sTCC+CIS</td><td>5       </td><td>Cancer  </td></tr>\n",
       "\t<tr><th scope=row>GSM71044.CEL</th><td>25      </td><td>sTCC-CIS</td><td>2       </td><td>Cancer  </td></tr>\n",
       "\t<tr><th scope=row>GSM71045.CEL</th><td>26      </td><td>sTCC-CIS</td><td>2       </td><td>Cancer  </td></tr>\n",
       "\t<tr><th scope=row>GSM71046.CEL</th><td>27      </td><td>sTCC+CIS</td><td>5       </td><td>Cancer  </td></tr>\n",
       "\t<tr><th scope=row>GSM71047.CEL</th><td>28      </td><td>mTCC    </td><td>1       </td><td>Cancer  </td></tr>\n",
       "\t<tr><th scope=row>GSM71048.CEL</th><td>29      </td><td>mTCC    </td><td>1       </td><td>Cancer  </td></tr>\n",
       "\t<tr><th scope=row>GSM71049.CEL</th><td>30      </td><td>sTCC-CIS</td><td>2       </td><td>Cancer  </td></tr>\n",
       "\t<tr><th scope=row>GSM71050.CEL</th><td>31      </td><td>mTCC    </td><td>1       </td><td>Cancer  </td></tr>\n",
       "\t<tr><th scope=row>GSM71051.CEL</th><td>32      </td><td>mTCC    </td><td>1       </td><td>Cancer  </td></tr>\n",
       "\t<tr><th scope=row>GSM71052.CEL</th><td>33      </td><td>mTCC    </td><td>1       </td><td>Cancer  </td></tr>\n",
       "\t<tr><th scope=row>GSM71053.CEL</th><td>34      </td><td>sTCC+CIS</td><td>5       </td><td>Cancer  </td></tr>\n",
       "\t<tr><th scope=row>GSM71054.CEL</th><td>35      </td><td>mTCC    </td><td>1       </td><td>Cancer  </td></tr>\n",
       "\t<tr><th scope=row>GSM71055.CEL</th><td>36      </td><td>sTCC-CIS</td><td>2       </td><td>Cancer  </td></tr>\n",
       "\t<tr><th scope=row>GSM71056.CEL</th><td>37      </td><td>sTCC-CIS</td><td>2       </td><td>Cancer  </td></tr>\n",
       "\t<tr><th scope=row>GSM71058.CEL</th><td>38      </td><td>sTCC-CIS</td><td>2       </td><td>Cancer  </td></tr>\n",
       "\t<tr><th scope=row>GSM71059.CEL</th><td>39      </td><td>sTCC-CIS</td><td>2       </td><td>Cancer  </td></tr>\n",
       "\t<tr><th scope=row>GSM71060.CEL</th><td>40      </td><td>mTCC    </td><td>1       </td><td>Cancer  </td></tr>\n",
       "\t<tr><th scope=row>GSM71061.CEL</th><td>41      </td><td>sTCC+CIS</td><td>5       </td><td>Cancer  </td></tr>\n",
       "\t<tr><th scope=row>GSM71062.CEL</th><td>42      </td><td>sTCC+CIS</td><td>5       </td><td>Cancer  </td></tr>\n",
       "\t<tr><th scope=row>GSM71063.CEL</th><td>43      </td><td>sTCC+CIS</td><td>5       </td><td>Cancer  </td></tr>\n",
       "\t<tr><th scope=row>GSM71064.CEL</th><td>44      </td><td>sTCC-CIS</td><td>2       </td><td>Cancer  </td></tr>\n",
       "\t<tr><th scope=row>GSM71065.CEL</th><td>45      </td><td>sTCC-CIS</td><td>5       </td><td>Cancer  </td></tr>\n",
       "\t<tr><th scope=row>GSM71066.CEL</th><td>46      </td><td>mTCC    </td><td>1       </td><td>Cancer  </td></tr>\n",
       "\t<tr><th scope=row>GSM71067.CEL</th><td>47      </td><td>sTCC-CIS</td><td>5       </td><td>Cancer  </td></tr>\n",
       "\t<tr><th scope=row>GSM71068.CEL</th><td>48      </td><td>sTCC+CIS</td><td>5       </td><td>Cancer  </td></tr>\n",
       "\t<tr><th scope=row>GSM71069.CEL</th><td>49      </td><td>Biopsy  </td><td>4       </td><td>Biopsy  </td></tr>\n",
       "\t<tr><th scope=row>GSM71070.CEL</th><td>50      </td><td>Biopsy  </td><td>4       </td><td>Biopsy  </td></tr>\n",
       "\t<tr><th scope=row>GSM71071.CEL</th><td>51      </td><td>Biopsy  </td><td>5       </td><td>Biopsy  </td></tr>\n",
       "\t<tr><th scope=row>GSM71072.CEL</th><td>52      </td><td>Biopsy  </td><td>5       </td><td>Biopsy  </td></tr>\n",
       "\t<tr><th scope=row>GSM71073.CEL</th><td>53      </td><td>Biopsy  </td><td>5       </td><td>Biopsy  </td></tr>\n",
       "\t<tr><th scope=row>GSM71074.CEL</th><td>54      </td><td>Biopsy  </td><td>5       </td><td>Biopsy  </td></tr>\n",
       "\t<tr><th scope=row>GSM71075.CEL</th><td>55      </td><td>Biopsy  </td><td>4       </td><td>Biopsy  </td></tr>\n",
       "\t<tr><th scope=row>GSM71076.CEL</th><td>56      </td><td>Biopsy  </td><td>4       </td><td>Biopsy  </td></tr>\n",
       "\t<tr><th scope=row>GSM71077.CEL</th><td>57      </td><td>Biopsy  </td><td>4       </td><td>Biopsy  </td></tr>\n",
       "</tbody>\n",
       "</table>\n"
      ],
      "text/latex": [
       "\\begin{tabular}{r|llll}\n",
       "  & sample & outcome & batch & cancer\\\\\n",
       "\\hline\n",
       "\tGSM71019.CEL &  1       & Normal   & 3        & Normal  \\\\\n",
       "\tGSM71020.CEL &  2       & Normal   & 2        & Normal  \\\\\n",
       "\tGSM71021.CEL &  3       & Normal   & 2        & Normal  \\\\\n",
       "\tGSM71022.CEL &  4       & Normal   & 3        & Normal  \\\\\n",
       "\tGSM71023.CEL &  5       & Normal   & 3        & Normal  \\\\\n",
       "\tGSM71024.CEL &  6       & Normal   & 3        & Normal  \\\\\n",
       "\tGSM71025.CEL &  7       & Normal   & 2        & Normal  \\\\\n",
       "\tGSM71026.CEL &  8       & Normal   & 2        & Normal  \\\\\n",
       "\tGSM71028.CEL &  9       & sTCC+CIS & 5        & Cancer  \\\\\n",
       "\tGSM71029.CEL & 10       & sTCC-CIS & 2        & Cancer  \\\\\n",
       "\tGSM71030.CEL & 11       & sTCC-CIS & 5        & Cancer  \\\\\n",
       "\tGSM71031.CEL & 12       & sTCC-CIS & 2        & Cancer  \\\\\n",
       "\tGSM71032.CEL & 13       & sTCC+CIS & 5        & Cancer  \\\\\n",
       "\tGSM71033.CEL & 14       & sTCC-CIS & 2        & Cancer  \\\\\n",
       "\tGSM71034.CEL & 15       & sTCC+CIS & 5        & Cancer  \\\\\n",
       "\tGSM71035.CEL & 16       & sTCC+CIS & 5        & Cancer  \\\\\n",
       "\tGSM71036.CEL & 17       & sTCC-CIS & 2        & Cancer  \\\\\n",
       "\tGSM71037.CEL & 18       & mTCC     & 1        & Cancer  \\\\\n",
       "\tGSM71038.CEL & 19       & sTCC+CIS & 5        & Cancer  \\\\\n",
       "\tGSM71039.CEL & 20       & mTCC     & 1        & Cancer  \\\\\n",
       "\tGSM71040.CEL & 21       & mTCC     & 2        & Cancer  \\\\\n",
       "\tGSM71041.CEL & 22       & mTCC     & 1        & Cancer  \\\\\n",
       "\tGSM71042.CEL & 23       & sTCC-CIS & 2        & Cancer  \\\\\n",
       "\tGSM71043.CEL & 24       & sTCC+CIS & 5        & Cancer  \\\\\n",
       "\tGSM71044.CEL & 25       & sTCC-CIS & 2        & Cancer  \\\\\n",
       "\tGSM71045.CEL & 26       & sTCC-CIS & 2        & Cancer  \\\\\n",
       "\tGSM71046.CEL & 27       & sTCC+CIS & 5        & Cancer  \\\\\n",
       "\tGSM71047.CEL & 28       & mTCC     & 1        & Cancer  \\\\\n",
       "\tGSM71048.CEL & 29       & mTCC     & 1        & Cancer  \\\\\n",
       "\tGSM71049.CEL & 30       & sTCC-CIS & 2        & Cancer  \\\\\n",
       "\tGSM71050.CEL & 31       & mTCC     & 1        & Cancer  \\\\\n",
       "\tGSM71051.CEL & 32       & mTCC     & 1        & Cancer  \\\\\n",
       "\tGSM71052.CEL & 33       & mTCC     & 1        & Cancer  \\\\\n",
       "\tGSM71053.CEL & 34       & sTCC+CIS & 5        & Cancer  \\\\\n",
       "\tGSM71054.CEL & 35       & mTCC     & 1        & Cancer  \\\\\n",
       "\tGSM71055.CEL & 36       & sTCC-CIS & 2        & Cancer  \\\\\n",
       "\tGSM71056.CEL & 37       & sTCC-CIS & 2        & Cancer  \\\\\n",
       "\tGSM71058.CEL & 38       & sTCC-CIS & 2        & Cancer  \\\\\n",
       "\tGSM71059.CEL & 39       & sTCC-CIS & 2        & Cancer  \\\\\n",
       "\tGSM71060.CEL & 40       & mTCC     & 1        & Cancer  \\\\\n",
       "\tGSM71061.CEL & 41       & sTCC+CIS & 5        & Cancer  \\\\\n",
       "\tGSM71062.CEL & 42       & sTCC+CIS & 5        & Cancer  \\\\\n",
       "\tGSM71063.CEL & 43       & sTCC+CIS & 5        & Cancer  \\\\\n",
       "\tGSM71064.CEL & 44       & sTCC-CIS & 2        & Cancer  \\\\\n",
       "\tGSM71065.CEL & 45       & sTCC-CIS & 5        & Cancer  \\\\\n",
       "\tGSM71066.CEL & 46       & mTCC     & 1        & Cancer  \\\\\n",
       "\tGSM71067.CEL & 47       & sTCC-CIS & 5        & Cancer  \\\\\n",
       "\tGSM71068.CEL & 48       & sTCC+CIS & 5        & Cancer  \\\\\n",
       "\tGSM71069.CEL & 49       & Biopsy   & 4        & Biopsy  \\\\\n",
       "\tGSM71070.CEL & 50       & Biopsy   & 4        & Biopsy  \\\\\n",
       "\tGSM71071.CEL & 51       & Biopsy   & 5        & Biopsy  \\\\\n",
       "\tGSM71072.CEL & 52       & Biopsy   & 5        & Biopsy  \\\\\n",
       "\tGSM71073.CEL & 53       & Biopsy   & 5        & Biopsy  \\\\\n",
       "\tGSM71074.CEL & 54       & Biopsy   & 5        & Biopsy  \\\\\n",
       "\tGSM71075.CEL & 55       & Biopsy   & 4        & Biopsy  \\\\\n",
       "\tGSM71076.CEL & 56       & Biopsy   & 4        & Biopsy  \\\\\n",
       "\tGSM71077.CEL & 57       & Biopsy   & 4        & Biopsy  \\\\\n",
       "\\end{tabular}\n"
      ],
      "text/markdown": [
       "\n",
       "| <!--/--> | sample | outcome | batch | cancer | \n",
       "|---|---|---|---|---|---|---|---|---|---|---|---|---|---|---|---|---|---|---|---|---|---|---|---|---|---|---|---|---|---|---|---|---|---|---|---|---|---|---|---|---|---|---|---|---|---|---|---|---|---|---|---|---|---|---|---|---|\n",
       "| GSM71019.CEL |  1       | Normal   | 3        | Normal   | \n",
       "| GSM71020.CEL |  2       | Normal   | 2        | Normal   | \n",
       "| GSM71021.CEL |  3       | Normal   | 2        | Normal   | \n",
       "| GSM71022.CEL |  4       | Normal   | 3        | Normal   | \n",
       "| GSM71023.CEL |  5       | Normal   | 3        | Normal   | \n",
       "| GSM71024.CEL |  6       | Normal   | 3        | Normal   | \n",
       "| GSM71025.CEL |  7       | Normal   | 2        | Normal   | \n",
       "| GSM71026.CEL |  8       | Normal   | 2        | Normal   | \n",
       "| GSM71028.CEL |  9       | sTCC+CIS | 5        | Cancer   | \n",
       "| GSM71029.CEL | 10       | sTCC-CIS | 2        | Cancer   | \n",
       "| GSM71030.CEL | 11       | sTCC-CIS | 5        | Cancer   | \n",
       "| GSM71031.CEL | 12       | sTCC-CIS | 2        | Cancer   | \n",
       "| GSM71032.CEL | 13       | sTCC+CIS | 5        | Cancer   | \n",
       "| GSM71033.CEL | 14       | sTCC-CIS | 2        | Cancer   | \n",
       "| GSM71034.CEL | 15       | sTCC+CIS | 5        | Cancer   | \n",
       "| GSM71035.CEL | 16       | sTCC+CIS | 5        | Cancer   | \n",
       "| GSM71036.CEL | 17       | sTCC-CIS | 2        | Cancer   | \n",
       "| GSM71037.CEL | 18       | mTCC     | 1        | Cancer   | \n",
       "| GSM71038.CEL | 19       | sTCC+CIS | 5        | Cancer   | \n",
       "| GSM71039.CEL | 20       | mTCC     | 1        | Cancer   | \n",
       "| GSM71040.CEL | 21       | mTCC     | 2        | Cancer   | \n",
       "| GSM71041.CEL | 22       | mTCC     | 1        | Cancer   | \n",
       "| GSM71042.CEL | 23       | sTCC-CIS | 2        | Cancer   | \n",
       "| GSM71043.CEL | 24       | sTCC+CIS | 5        | Cancer   | \n",
       "| GSM71044.CEL | 25       | sTCC-CIS | 2        | Cancer   | \n",
       "| GSM71045.CEL | 26       | sTCC-CIS | 2        | Cancer   | \n",
       "| GSM71046.CEL | 27       | sTCC+CIS | 5        | Cancer   | \n",
       "| GSM71047.CEL | 28       | mTCC     | 1        | Cancer   | \n",
       "| GSM71048.CEL | 29       | mTCC     | 1        | Cancer   | \n",
       "| GSM71049.CEL | 30       | sTCC-CIS | 2        | Cancer   | \n",
       "| GSM71050.CEL | 31       | mTCC     | 1        | Cancer   | \n",
       "| GSM71051.CEL | 32       | mTCC     | 1        | Cancer   | \n",
       "| GSM71052.CEL | 33       | mTCC     | 1        | Cancer   | \n",
       "| GSM71053.CEL | 34       | sTCC+CIS | 5        | Cancer   | \n",
       "| GSM71054.CEL | 35       | mTCC     | 1        | Cancer   | \n",
       "| GSM71055.CEL | 36       | sTCC-CIS | 2        | Cancer   | \n",
       "| GSM71056.CEL | 37       | sTCC-CIS | 2        | Cancer   | \n",
       "| GSM71058.CEL | 38       | sTCC-CIS | 2        | Cancer   | \n",
       "| GSM71059.CEL | 39       | sTCC-CIS | 2        | Cancer   | \n",
       "| GSM71060.CEL | 40       | mTCC     | 1        | Cancer   | \n",
       "| GSM71061.CEL | 41       | sTCC+CIS | 5        | Cancer   | \n",
       "| GSM71062.CEL | 42       | sTCC+CIS | 5        | Cancer   | \n",
       "| GSM71063.CEL | 43       | sTCC+CIS | 5        | Cancer   | \n",
       "| GSM71064.CEL | 44       | sTCC-CIS | 2        | Cancer   | \n",
       "| GSM71065.CEL | 45       | sTCC-CIS | 5        | Cancer   | \n",
       "| GSM71066.CEL | 46       | mTCC     | 1        | Cancer   | \n",
       "| GSM71067.CEL | 47       | sTCC-CIS | 5        | Cancer   | \n",
       "| GSM71068.CEL | 48       | sTCC+CIS | 5        | Cancer   | \n",
       "| GSM71069.CEL | 49       | Biopsy   | 4        | Biopsy   | \n",
       "| GSM71070.CEL | 50       | Biopsy   | 4        | Biopsy   | \n",
       "| GSM71071.CEL | 51       | Biopsy   | 5        | Biopsy   | \n",
       "| GSM71072.CEL | 52       | Biopsy   | 5        | Biopsy   | \n",
       "| GSM71073.CEL | 53       | Biopsy   | 5        | Biopsy   | \n",
       "| GSM71074.CEL | 54       | Biopsy   | 5        | Biopsy   | \n",
       "| GSM71075.CEL | 55       | Biopsy   | 4        | Biopsy   | \n",
       "| GSM71076.CEL | 56       | Biopsy   | 4        | Biopsy   | \n",
       "| GSM71077.CEL | 57       | Biopsy   | 4        | Biopsy   | \n",
       "\n",
       "\n"
      ],
      "text/plain": [
       "             sample outcome  batch cancer\n",
       "GSM71019.CEL  1     Normal   3     Normal\n",
       "GSM71020.CEL  2     Normal   2     Normal\n",
       "GSM71021.CEL  3     Normal   2     Normal\n",
       "GSM71022.CEL  4     Normal   3     Normal\n",
       "GSM71023.CEL  5     Normal   3     Normal\n",
       "GSM71024.CEL  6     Normal   3     Normal\n",
       "GSM71025.CEL  7     Normal   2     Normal\n",
       "GSM71026.CEL  8     Normal   2     Normal\n",
       "GSM71028.CEL  9     sTCC+CIS 5     Cancer\n",
       "GSM71029.CEL 10     sTCC-CIS 2     Cancer\n",
       "GSM71030.CEL 11     sTCC-CIS 5     Cancer\n",
       "GSM71031.CEL 12     sTCC-CIS 2     Cancer\n",
       "GSM71032.CEL 13     sTCC+CIS 5     Cancer\n",
       "GSM71033.CEL 14     sTCC-CIS 2     Cancer\n",
       "GSM71034.CEL 15     sTCC+CIS 5     Cancer\n",
       "GSM71035.CEL 16     sTCC+CIS 5     Cancer\n",
       "GSM71036.CEL 17     sTCC-CIS 2     Cancer\n",
       "GSM71037.CEL 18     mTCC     1     Cancer\n",
       "GSM71038.CEL 19     sTCC+CIS 5     Cancer\n",
       "GSM71039.CEL 20     mTCC     1     Cancer\n",
       "GSM71040.CEL 21     mTCC     2     Cancer\n",
       "GSM71041.CEL 22     mTCC     1     Cancer\n",
       "GSM71042.CEL 23     sTCC-CIS 2     Cancer\n",
       "GSM71043.CEL 24     sTCC+CIS 5     Cancer\n",
       "GSM71044.CEL 25     sTCC-CIS 2     Cancer\n",
       "GSM71045.CEL 26     sTCC-CIS 2     Cancer\n",
       "GSM71046.CEL 27     sTCC+CIS 5     Cancer\n",
       "GSM71047.CEL 28     mTCC     1     Cancer\n",
       "GSM71048.CEL 29     mTCC     1     Cancer\n",
       "GSM71049.CEL 30     sTCC-CIS 2     Cancer\n",
       "GSM71050.CEL 31     mTCC     1     Cancer\n",
       "GSM71051.CEL 32     mTCC     1     Cancer\n",
       "GSM71052.CEL 33     mTCC     1     Cancer\n",
       "GSM71053.CEL 34     sTCC+CIS 5     Cancer\n",
       "GSM71054.CEL 35     mTCC     1     Cancer\n",
       "GSM71055.CEL 36     sTCC-CIS 2     Cancer\n",
       "GSM71056.CEL 37     sTCC-CIS 2     Cancer\n",
       "GSM71058.CEL 38     sTCC-CIS 2     Cancer\n",
       "GSM71059.CEL 39     sTCC-CIS 2     Cancer\n",
       "GSM71060.CEL 40     mTCC     1     Cancer\n",
       "GSM71061.CEL 41     sTCC+CIS 5     Cancer\n",
       "GSM71062.CEL 42     sTCC+CIS 5     Cancer\n",
       "GSM71063.CEL 43     sTCC+CIS 5     Cancer\n",
       "GSM71064.CEL 44     sTCC-CIS 2     Cancer\n",
       "GSM71065.CEL 45     sTCC-CIS 5     Cancer\n",
       "GSM71066.CEL 46     mTCC     1     Cancer\n",
       "GSM71067.CEL 47     sTCC-CIS 5     Cancer\n",
       "GSM71068.CEL 48     sTCC+CIS 5     Cancer\n",
       "GSM71069.CEL 49     Biopsy   4     Biopsy\n",
       "GSM71070.CEL 50     Biopsy   4     Biopsy\n",
       "GSM71071.CEL 51     Biopsy   5     Biopsy\n",
       "GSM71072.CEL 52     Biopsy   5     Biopsy\n",
       "GSM71073.CEL 53     Biopsy   5     Biopsy\n",
       "GSM71074.CEL 54     Biopsy   5     Biopsy\n",
       "GSM71075.CEL 55     Biopsy   4     Biopsy\n",
       "GSM71076.CEL 56     Biopsy   4     Biopsy\n",
       "GSM71077.CEL 57     Biopsy   4     Biopsy"
      ]
     },
     "metadata": {},
     "output_type": "display_data"
    }
   ],
   "source": [
    "pheno"
   ]
  },
  {
   "cell_type": "markdown",
   "metadata": {},
   "source": [
    "5. You can see that the first eight samples are normal cells but split into two batches(batch number 2 and 3). Use these eight sample to demonstrate how to remove the batch effects. To select these samples, use the following function:"
   ]
  },
  {
   "cell_type": "code",
   "execution_count": 10,
   "metadata": {},
   "outputs": [],
   "source": [
    "myData <- bladderEset[, sampleNames(bladderEset)[1:8]]"
   ]
  },
  {
   "cell_type": "markdown",
   "metadata": {},
   "source": [
    "6. To have a look at the batch effect, perform a quality check on the data. Do this with the help of the following arrayQualityMetrics function:"
   ]
  },
  {
   "cell_type": "raw",
   "metadata": {},
   "source": [
    "arrayQualityMetrics(myData, outdir=\"qc_be\")"
   ]
  },
  {
   "cell_type": "markdown",
   "metadata": {},
   "source": [
    "7. Take a look at the heatmap and clustering tree produced for the samples to check for the batch effect."
   ]
  },
  {
   "cell_type": "markdown",
   "metadata": {},
   "source": [
    "8. Now, create the model matrix for the dataset as follows(note that only the first and third columns have been used from model matrix as the data has only one condition):"
   ]
  },
  {
   "cell_type": "raw",
   "metadata": {},
   "source": [
    "mod1 <- model.matrix(~as.factor(cancer), data=pData(myData))\n",
    "[,c(1,3)]"
   ]
  },
  {
   "cell_type": "markdown",
   "metadata": {},
   "source": [
    "9. Then, define the batches by typing the following command:"
   ]
  },
  {
   "cell_type": "code",
   "execution_count": 15,
   "metadata": {},
   "outputs": [],
   "source": [
    "batch <- pData(myData)"
   ]
  },
  {
   "cell_type": "markdown",
   "metadata": {},
   "source": [
    "10. Extract the expression matrix from the expression set object myData, where the batch effect has to be removed, as follows:"
   ]
  },
  {
   "cell_type": "code",
   "execution_count": 16,
   "metadata": {},
   "outputs": [],
   "source": [
    "edata <- exprs(myData)"
   ]
  },
  {
   "cell_type": "markdown",
   "metadata": {},
   "source": [
    "11. Once you have all the objects ready, run the ComBat function as follows:"
   ]
  },
  {
   "cell_type": "raw",
   "metadata": {},
   "source": [
    "conBat_edata <- ComBat(dat=edata, batch=batch,mod=mod1, numCovs=NULL, par.prior=TRUE)"
   ]
  },
  {
   "cell_type": "markdown",
   "metadata": {},
   "source": [
    "12. Now, create an expression set object with everything as your original input data, except the expression matrix-which is replaced by the matrix received as a resut of the ComBat function in the last step-as follows:"
   ]
  },
  {
   "cell_type": "raw",
   "metadata": {},
   "source": [
    "myData2 <- myData"
   ]
  },
  {
   "cell_type": "raw",
   "metadata": {},
   "source": [
    "exprs(myData2) <- combat_edata"
   ]
  },
  {
   "cell_type": "markdown",
   "metadata": {},
   "source": [
    "13. Now,rerun the following arrayQualityMetrics function to check for the elimination of batch effects with this new object as the input:"
   ]
  },
  {
   "cell_type": "raw",
   "metadata": {},
   "source": [
    "arrayQualityMetrics(myData2, outdir=\"qc_nbe\")"
   ]
  },
  {
   "cell_type": "markdown",
   "metadata": {},
   "source": [
    "14. Again, take a look at the heatmap and clustering tree generated by the preceding function of batch effects with this new object as the input:"
   ]
  }
 ],
 "metadata": {
  "kernelspec": {
   "display_name": "R",
   "language": "R",
   "name": "ir"
  },
  "language_info": {
   "codemirror_mode": "r",
   "file_extension": ".r",
   "mimetype": "text/x-r-source",
   "name": "R",
   "pygments_lexer": "r",
   "version": "3.5.1"
  }
 },
 "nbformat": 4,
 "nbformat_minor": 2
}
