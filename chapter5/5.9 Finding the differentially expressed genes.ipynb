{
 "cells": [
  {
   "cell_type": "markdown",
   "metadata": {},
   "source": [
    "At the genome level, the content of every cell is the same, which means that similar genes are present (with a few exceptions) in similar cells. The question that arises then is, what makes cells (for example, control and treated samples) different from one another? This is the question  we have most of the time while doing microarray-based experiments. The concept of differential gene expression is the answer to the question. It is well established that only a fraction of a genome is expressed in each cell, and this phenomenon of selective expression of genes based  on cell types is the baseline behind the concept of differential gene expression. Thus, it is important to find which genes show differential expression in a particular cell. This is achieved by comparing the cell under study with a reference, usually called control. This recipe will explain how to find the DE genes for a cell based on the expression levels of the control and treatment cells.\n",
    "\n",
    "在基因组水平上，每个细胞的内容是相同的，这意味着相似的基因(除了少数例外)存在于相似的细胞中。接下来的问题是，是什么使得细胞(例如，对照和处理过的样本)彼此不同?这是我们在做基于微阵列的实验时经常遇到的问题。基因差异表达的概念就是这个问题的答案。众所周知，每个细胞中只表达一小部分基因组，这种基于细胞类型的基因选择性表达现象是基因差异表达概念背后的基础。因此，重要的是找到哪些基因在特定的细胞中表现出不同的表达。这是通过将正在研究的细胞与通常称为对照的参考细胞进行比较来实现的。本教程将解释如何基于控制和治疗细胞的表达水平来寻找细胞的DE基因。"
   ]
  },
  {
   "cell_type": "markdown",
   "metadata": {},
   "source": [
    "The recipe requires the normalized expression data for treatment and control samples. More number of replicates is always statistically relevant for such analytical purposes. It must be noted that we always use normalized data for any differential expression analysis. As mentioned earlier, normalization makes the array comparable, and hence, using such transformed data to find differences makes the process unbiased and scientifically rational. In this recipe, we will use the quantile normalized data. Besides this, we need the experiment and phenotype details, which are part of the affyBatch or ExpressionSet object. We will also introduce the R library, limma, that houses one of the most popular methods in R for differential gene expression analysis. For demonstration, we will use normal colon cancer preprocessed affy data from the antiProfilesData package.\n",
    "\n",
    "该教程要求处理和对照样品的归一化表达数据。对于这种分析目的，更多的重复在统计学上总是相关的。必须注意的是，对于任何微分表达式分析，我们总是使用规范化的数据。正如前面提到的，标准化使数组具有可比性，因此，使用这些转换后的数据来发现差异使这个过程没有偏见，并且在科学上是合理的。在这个配方中，我们将使用分位数规范化数据。除此之外，我们还需要affyBatch或ExpressionSet对象的实验和表型细节。我们还将介绍R文库limma，它包含了R中用于差异基因表达分析的最流行的方法之一。为了演示，我们将使用来自antiProfilesData包的正常结肠癌预处理affy数据。"
   ]
  },
  {
   "cell_type": "markdown",
   "metadata": {},
   "source": [
    "1. Install and load the limma library into your R session together with the affy package as follows:\n",
    "\n",
    " 将limma库与affy包一起安装并加载到R会话中，如下所示："
   ]
  },
  {
   "cell_type": "code",
   "execution_count": 13,
   "metadata": {},
   "outputs": [
    {
     "name": "stderr",
     "output_type": "stream",
     "text": [
      "Bioconductor version 3.7 (BiocInstaller 1.30.0), ?biocLite for help\n",
      "A newer version of Bioconductor is available for this version of R,\n",
      "  ?BiocUpgrade for help\n",
      "BioC_mirror: http://mirrors.ustc.edu.cn/bioc/\n",
      "Using Bioconductor 3.7 (BiocInstaller 1.30.0), R 3.5.1 (2018-07-02).\n",
      "Installing package(s) 'limma'\n",
      "Warning message:\n",
      "\"package 'limma' is in use and will not be installed\"Old packages: 'ade4', 'ape', 'backports', 'BH', 'BiocManager', 'broom',\n",
      "  'callr', 'caret', 'checkpoint', 'class', 'cli', 'clipr', 'codetools',\n",
      "  'colorspace', 'curl', 'data.table', 'dbplyr', 'ddalpha', 'digest', 'dimRed',\n",
      "  'doParallel', 'dplyr', 'evaluate', 'fansi', 'forcats', 'foreign', 'geometry',\n",
      "  'ggplot2', 'haven', 'htmlwidgets', 'httpuv', 'httr', 'igraph', 'ipred',\n",
      "  'IRdisplay', 'IRkernel', 'jsonlite', 'kernlab', 'knitr', 'later', 'lattice',\n",
      "  'lava', 'magic', 'markdown', 'MASS', 'Matrix', 'mgcv', 'mime', 'MKmisc',\n",
      "  'ModelMetrics', 'modelr', 'openssl', 'pillar', 'pkgconfig', 'pls',\n",
      "  'processx', 'purrr', 'R6', 'Rcpp', 'readr', 'readxl', 'recipes', 'repr',\n",
      "  'reprex', 'rlang', 'rmarkdown', 'robustbase', 'rstudioapi', 'RUnit',\n",
      "  'scales', 'sfsmisc', 'shiny', 'stringi', 'stringr', 'survival', 'testthat',\n",
      "  'tibble', 'tidyr', 'tidyselect', 'tinytex', 'TTR', 'xfun', 'XML', 'xtable',\n",
      "  'xts', 'zoo'\n"
     ]
    }
   ],
   "source": [
    "source(\"http://bioconductor.org/biocLite.R\")\n",
    "options(BioC_mirror=\"http://mirrors.ustc.edu.cn/bioc/\")\n",
    "biocLite(\"limma\")"
   ]
  },
  {
   "cell_type": "code",
   "execution_count": 7,
   "metadata": {
    "collapsed": true
   },
   "outputs": [
    {
     "name": "stderr",
     "output_type": "stream",
     "text": [
      "Bioconductor version 3.8 (BiocManager 1.30.1), R 3.5.1 (2018-07-02)\n",
      "Installing package(s) 'antiProfilesData'\n",
      "Warning message:\n",
      "\"unable to access index for repository http://www.stats.ox.ac.uk/pub/RWin/bin/windows/contrib/3.5:\n",
      "  无法打开URL'http://www.stats.ox.ac.uk/pub/RWin/bin/windows/contrib/3.5/PACKAGES'\"installing the source package 'antiProfilesData'\n",
      "\n",
      "Update old packages: 'ade4', 'ape', 'backports', 'BH', 'Biobase',\n",
      "  'BiocInstaller', 'BiocManager', 'BiocParallel', 'biomaRt', 'Biostrings',\n",
      "  'broom', 'callr', 'caret', 'checkpoint', 'class', 'cli', 'clipr',\n",
      "  'clusterProfiler', 'codetools', 'colorspace', 'curl', 'data.table', 'dbplyr',\n",
      "  'ddalpha', 'digest', 'dimRed', 'doParallel', 'DOSE', 'dplyr', 'enrichplot',\n",
      "  'evaluate', 'fansi', 'fgsea', 'forcats', 'foreign', 'GenomeInfoDb',\n",
      "  'GenomicFeatures', 'ggplot2', 'GOSemSim', 'haven', 'htmlwidgets', 'httpuv',\n",
      "  'httr', 'igraph', 'ipred', 'IRdisplay', 'IRkernel', 'jsonlite', 'kernlab',\n",
      "  'knitr', 'later', 'lattice', 'lava', 'magic', 'markdown', 'MASS', 'Matrix',\n",
      "  'mgcv', 'mime', 'MKmisc', 'ModelMetrics', 'modelr', 'muscle', 'openssl',\n",
      "  'pillar', 'pkgconfig', 'pls', 'processx', 'purrr', 'qvalue', 'R6', 'Rcpp',\n",
      "  'readr', 'readxl', 'recipes', 'repr', 'reprex', 'rlang', 'rmarkdown',\n",
      "  'robustbase', 'Rsamtools', 'rstudioapi', 'RUnit', 'scales', 'sfsmisc',\n",
      "  'shiny', 'stringi', 'stringr', 'survival', 'sva', 'testthat', 'tibble',\n",
      "  'tidyr', 'tidyselect', 'tinytex', 'TTR', 'xfun', 'XML', 'xtable', 'xts',\n",
      "  'zoo'\n"
     ]
    }
   ],
   "source": [
    "BiocManager::install(\"antiProfilesData\")"
   ]
  },
  {
   "cell_type": "code",
   "execution_count": 7,
   "metadata": {},
   "outputs": [],
   "source": [
    "library(affy) #package for affy data handing"
   ]
  },
  {
   "cell_type": "code",
   "execution_count": 8,
   "metadata": {},
   "outputs": [],
   "source": [
    "library(antiProfilesData) #Package containing input data"
   ]
  },
  {
   "cell_type": "code",
   "execution_count": 11,
   "metadata": {},
   "outputs": [
    {
     "name": "stderr",
     "output_type": "stream",
     "text": [
      "Bioconductor version 3.7 (BiocInstaller 1.30.0), ?biocLite for help\n",
      "A newer version of Bioconductor is available for this version of R,\n",
      "  ?BiocUpgrade for help\n",
      "BioC_mirror: http://mirrors.ustc.edu.cn/bioc/\n",
      "Using Bioconductor 3.7 (BiocInstaller 1.30.0), R 3.5.1 (2018-07-02).\n",
      "Installing package(s) 'gcrma', 'preprocessCore'\n",
      "Warning message:\n",
      "\"packages 'gcrma', 'preprocessCore' are in use and will not be installed\"Old packages: 'ade4', 'ape', 'backports', 'BH', 'BiocManager', 'broom',\n",
      "  'callr', 'caret', 'checkpoint', 'class', 'cli', 'clipr', 'codetools',\n",
      "  'colorspace', 'curl', 'data.table', 'dbplyr', 'ddalpha', 'digest', 'dimRed',\n",
      "  'doParallel', 'dplyr', 'evaluate', 'fansi', 'forcats', 'foreign', 'geometry',\n",
      "  'ggplot2', 'haven', 'htmlwidgets', 'httpuv', 'httr', 'igraph', 'ipred',\n",
      "  'IRdisplay', 'IRkernel', 'jsonlite', 'kernlab', 'knitr', 'later', 'lattice',\n",
      "  'lava', 'magic', 'markdown', 'MASS', 'Matrix', 'mgcv', 'mime', 'MKmisc',\n",
      "  'ModelMetrics', 'modelr', 'openssl', 'pillar', 'pkgconfig', 'pls',\n",
      "  'processx', 'purrr', 'R6', 'Rcpp', 'readr', 'readxl', 'recipes', 'repr',\n",
      "  'reprex', 'rlang', 'rmarkdown', 'robustbase', 'rstudioapi', 'RUnit',\n",
      "  'scales', 'sfsmisc', 'shiny', 'stringi', 'stringr', 'survival', 'testthat',\n",
      "  'tibble', 'tidyr', 'tidyselect', 'tinytex', 'TTR', 'xfun', 'XML', 'xtable',\n",
      "  'xts', 'zoo'\n"
     ]
    }
   ],
   "source": [
    "source(\"http://bioconductor.org/biocLite.R\")\n",
    "options(BioC_mirror=\"http://mirrors.ustc.edu.cn/bioc/\")\n",
    "biocLite(c(\"gcrma\",\"preprocessCore\"))"
   ]
  },
  {
   "cell_type": "code",
   "execution_count": 9,
   "metadata": {},
   "outputs": [],
   "source": [
    "library(affyPLM) #Normalization package for eSet"
   ]
  },
  {
   "cell_type": "code",
   "execution_count": 10,
   "metadata": {},
   "outputs": [],
   "source": [
    "library(limma) #limma analysis package"
   ]
  },
  {
   "cell_type": "markdown",
   "metadata": {},
   "source": [
    "2. Get the data(the colon cancer data) from the antiProfilesData package into the R session and subset the first 16 samples that represent the normal and tumor samples(eight each) as we did in previous recipes by typing the following commands: \n",
    "\n",
    "将数据(结肠癌数据)从antiProfilesData包中获取到R会话中，并将表示正常和肿瘤样本(每个样本8个)的前16个样本进行子集，就像我们在前面的菜谱中所做的那样，输入以下命令:"
   ]
  },
  {
   "cell_type": "code",
   "execution_count": 24,
   "metadata": {},
   "outputs": [],
   "source": [
    "data(apColonData)"
   ]
  },
  {
   "cell_type": "code",
   "execution_count": 25,
   "metadata": {},
   "outputs": [],
   "source": [
    "myData <- apColonData[, sampleNames(apColonData)[1:16]]"
   ]
  },
  {
   "cell_type": "code",
   "execution_count": 26,
   "metadata": {},
   "outputs": [],
   "source": [
    "myData_quantile <- normalize.ExpressionSet.quantiles(myData)"
   ]
  },
  {
   "cell_type": "markdown",
   "metadata": {},
   "source": [
    "3.Prepare a design matrix based on the experiment details and phenoData as follows:\n",
    "\n",
    "  根据实验细节和表型数据，编制设计矩阵如下:"
   ]
  },
  {
   "cell_type": "code",
   "execution_count": 27,
   "metadata": {
    "scrolled": true
   },
   "outputs": [],
   "source": [
    "design <- model.matrix(~0 + pData(myData)$Status)"
   ]
  },
  {
   "cell_type": "markdown",
   "metadata": {},
   "source": [
    "4. Fit a linear model using the expression data and design matrix as follows:\n",
    "\n",
    " 利用表达式数据和设计矩阵拟合线性模型如下："
   ]
  },
  {
   "cell_type": "code",
   "execution_count": 28,
   "metadata": {},
   "outputs": [],
   "source": [
    "fit <- lmFit(myData_quantile,design)"
   ]
  },
  {
   "cell_type": "markdown",
   "metadata": {},
   "source": [
    "5. Check the fit object generated at this step by typing the following command to get more details:\n",
    "\n",
    " 输入以下命令检查在此步骤中生成的fit对象，以获得更多详细信息:"
   ]
  },
  {
   "cell_type": "code",
   "execution_count": 30,
   "metadata": {},
   "outputs": [
    {
     "data": {
      "text/plain": [
       "An object of class \"MArrayLM\"\n",
       "$coefficients\n",
       "             pData(myData)$Status\n",
       "1555078_at             -0.3891325\n",
       "238493_at               0.3318299\n",
       "1562133_x_at           -0.3822317\n",
       "1559616_x_at           -0.9623383\n",
       "235687_at              -0.6461947\n",
       "5334 more rows ...\n",
       "\n",
       "$rank\n",
       "[1] 1\n",
       "\n",
       "$assign\n",
       "[1] 1\n",
       "\n",
       "$qr\n",
       "$qr\n",
       "  pData(myData)$Status\n",
       "1            -2.828427\n",
       "2             0.000000\n",
       "3             0.000000\n",
       "4             0.000000\n",
       "5             0.000000\n",
       "11 more rows ...\n",
       "\n",
       "$qraux\n",
       "[1] 1\n",
       "\n",
       "$pivot\n",
       "[1] 1\n",
       "\n",
       "$tol\n",
       "[1] 1e-07\n",
       "\n",
       "$rank\n",
       "[1] 1\n",
       "\n",
       "\n",
       "$df.residual\n",
       "[1] 15 15 15 15 15\n",
       "5334 more elements ...\n",
       "\n",
       "$sigma\n",
       "  1555078_at    238493_at 1562133_x_at 1559616_x_at    235687_at \n",
       "   0.3893793    1.3899476    0.4058717    0.6304099    0.6146187 \n",
       "5334 more elements ...\n",
       "\n",
       "$cov.coefficients\n",
       "                     pData(myData)$Status\n",
       "pData(myData)$Status                0.125\n",
       "\n",
       "$stdev.unscaled\n",
       "             pData(myData)$Status\n",
       "1555078_at              0.3535534\n",
       "238493_at               0.3535534\n",
       "1562133_x_at            0.3535534\n",
       "1559616_x_at            0.3535534\n",
       "235687_at               0.3535534\n",
       "5334 more rows ...\n",
       "\n",
       "$pivot\n",
       "[1] 1\n",
       "\n",
       "$Amean\n",
       "  1555078_at    238493_at 1562133_x_at 1559616_x_at    235687_at \n",
       "  -0.2382232    0.6460257   -0.4434705   -0.8408450   -0.6992017 \n",
       "5334 more elements ...\n",
       "\n",
       "$method\n",
       "[1] \"ls\"\n",
       "\n",
       "$design\n",
       "  pData(myData)$Status\n",
       "1                    0\n",
       "2                    0\n",
       "3                    0\n",
       "4                    0\n",
       "5                    0\n",
       "11 more rows ...\n"
      ]
     },
     "metadata": {},
     "output_type": "display_data"
    }
   ],
   "source": [
    "fit"
   ]
  },
  {
   "cell_type": "markdown",
   "metadata": {},
   "source": [
    "6. Once you have a linear model fit, compute the moderated statistics for it using the following eBayes function:\n",
    "\n",
    " 一旦你有一个线性模型拟合，计算它的适度统计使用以下eBayes函数:"
   ]
  },
  {
   "cell_type": "code",
   "execution_count": 34,
   "metadata": {},
   "outputs": [
    {
     "data": {
      "text/plain": [
       "An object of class \"MArrayLM\"\n",
       "$coefficients\n",
       "             pData(myData)$Status\n",
       "1555078_at             -0.3891325\n",
       "238493_at               0.3318299\n",
       "1562133_x_at           -0.3822317\n",
       "1559616_x_at           -0.9623383\n",
       "235687_at              -0.6461947\n",
       "5334 more rows ...\n",
       "\n",
       "$rank\n",
       "[1] 1\n",
       "\n",
       "$assign\n",
       "[1] 1\n",
       "\n",
       "$qr\n",
       "$qr\n",
       "  pData(myData)$Status\n",
       "1            -2.828427\n",
       "2             0.000000\n",
       "3             0.000000\n",
       "4             0.000000\n",
       "5             0.000000\n",
       "11 more rows ...\n",
       "\n",
       "$qraux\n",
       "[1] 1\n",
       "\n",
       "$pivot\n",
       "[1] 1\n",
       "\n",
       "$tol\n",
       "[1] 1e-07\n",
       "\n",
       "$rank\n",
       "[1] 1\n",
       "\n",
       "\n",
       "$df.residual\n",
       "[1] 15 15 15 15 15\n",
       "5334 more elements ...\n",
       "\n",
       "$sigma\n",
       "  1555078_at    238493_at 1562133_x_at 1559616_x_at    235687_at \n",
       "   0.3893793    1.3899476    0.4058717    0.6304099    0.6146187 \n",
       "5334 more elements ...\n",
       "\n",
       "$cov.coefficients\n",
       "                     pData(myData)$Status\n",
       "pData(myData)$Status                0.125\n",
       "\n",
       "$stdev.unscaled\n",
       "             pData(myData)$Status\n",
       "1555078_at              0.3535534\n",
       "238493_at               0.3535534\n",
       "1562133_x_at            0.3535534\n",
       "1559616_x_at            0.3535534\n",
       "235687_at               0.3535534\n",
       "5334 more rows ...\n",
       "\n",
       "$pivot\n",
       "[1] 1\n",
       "\n",
       "$Amean\n",
       "  1555078_at    238493_at 1562133_x_at 1559616_x_at    235687_at \n",
       "  -0.2382232    0.6460257   -0.4434705   -0.8408450   -0.6992017 \n",
       "5334 more elements ...\n",
       "\n",
       "$method\n",
       "[1] \"ls\"\n",
       "\n",
       "$design\n",
       "  pData(myData)$Status\n",
       "1                    0\n",
       "2                    0\n",
       "3                    0\n",
       "4                    0\n",
       "5                    0\n",
       "11 more rows ...\n",
       "\n",
       "$df.prior\n",
       "[1] 1.316078\n",
       "\n",
       "$s2.prior\n",
       "[1] 0.2580634\n",
       "\n",
       "$var.prior\n",
       "[1] 9.156446\n",
       "\n",
       "$proportion\n",
       "[1] 0.01\n",
       "\n",
       "$s2.post\n",
       "  1555078_at    238493_at 1562133_x_at 1559616_x_at    235687_at \n",
       "   0.1602024    1.7969358    0.1722601    0.3861762    0.3681016 \n",
       "5334 more elements ...\n",
       "\n",
       "$t\n",
       "             pData(myData)$Status\n",
       "1555078_at              -2.749843\n",
       "238493_at                0.700155\n",
       "1562133_x_at            -2.604830\n",
       "1559616_x_at            -4.380060\n",
       "235687_at               -3.012482\n",
       "5334 more rows ...\n",
       "\n",
       "$df.total\n",
       "[1] 16.31608 16.31608 16.31608 16.31608 16.31608\n",
       "5334 more elements ...\n",
       "\n",
       "$p.value\n",
       "             pData(myData)$Status\n",
       "1555078_at           0.0140512222\n",
       "238493_at            0.4936939029\n",
       "1562133_x_at         0.0189345321\n",
       "1559616_x_at         0.0004465372\n",
       "235687_at            0.0081226177\n",
       "5334 more rows ...\n",
       "\n",
       "$lods\n",
       "             pData(myData)$Status\n",
       "1555078_at             -3.5057863\n",
       "238493_at              -6.4960522\n",
       "1562133_x_at           -3.7865081\n",
       "1559616_x_at           -0.1540363\n",
       "235687_at              -2.9844557\n",
       "5334 more rows ...\n",
       "\n",
       "$F\n",
       "[1]  7.561638  0.490217  6.785137 19.184923  9.075050\n",
       "5334 more elements ...\n",
       "\n",
       "$F.p.value\n",
       "[1] 0.0140512222 0.4936939029 0.0189345321 0.0004465372 0.0081226177\n",
       "5334 more elements ...\n"
      ]
     },
     "metadata": {},
     "output_type": "display_data"
    }
   ],
   "source": [
    "fitE <- eBayes(fit)\n",
    "fitE"
   ]
  },
  {
   "cell_type": "markdown",
   "metadata": {},
   "source": [
    "7. The output can be ranked and top-ranking genes extracted from it, as follows:\n",
    "\n",
    " 可以对输出进行排序，从中提取出的顶级基因如下："
   ]
  },
  {
   "cell_type": "code",
   "execution_count": 35,
   "metadata": {},
   "outputs": [
    {
     "data": {
      "text/html": [
       "<table>\n",
       "<thead><tr><th></th><th scope=col>logFC</th><th scope=col>AveExpr</th><th scope=col>t</th><th scope=col>P.Value</th><th scope=col>adj.P.Val</th><th scope=col>B</th></tr></thead>\n",
       "<tbody>\n",
       "\t<tr><th scope=row>210372_s_at</th><td> 5.200189   </td><td> 2.9369060  </td><td> 18.586820  </td><td>2.082126e-12</td><td>1.111647e-08</td><td>17.909406   </td></tr>\n",
       "\t<tr><th scope=row>205470_s_at</th><td> 6.255458   </td><td> 3.4624353  </td><td> 14.523453  </td><td>9.365043e-11</td><td>2.499998e-07</td><td>14.665745   </td></tr>\n",
       "\t<tr><th scope=row>204855_at</th><td>13.342429   </td><td> 8.3325984  </td><td> 12.511677  </td><td>8.820153e-10</td><td>1.260731e-06</td><td>12.634755   </td></tr>\n",
       "\t<tr><th scope=row>219795_at</th><td> 6.773997   </td><td> 3.2696607  </td><td> 12.454113  </td><td>9.445448e-10</td><td>1.260731e-06</td><td>12.571572   </td></tr>\n",
       "\t<tr><th scope=row>220133_at</th><td> 3.223162   </td><td> 1.5617431  </td><td> 12.127986  </td><td>1.399296e-09</td><td>1.494168e-06</td><td>12.207825   </td></tr>\n",
       "\t<tr><th scope=row>204259_at</th><td> 7.111360   </td><td> 3.6682683  </td><td> 10.809794  </td><td>7.511799e-09</td><td>6.684249e-06</td><td>10.631112   </td></tr>\n",
       "\t<tr><th scope=row>203585_at</th><td> 3.814912   </td><td> 2.3970818  </td><td> 10.575189  </td><td>1.030032e-08</td><td>7.014783e-06</td><td>10.331384   </td></tr>\n",
       "\t<tr><th scope=row>203485_at</th><td>-1.477512   </td><td>-0.7942994  </td><td>-10.526023  </td><td>1.101229e-08</td><td>7.014783e-06</td><td>10.267797   </td></tr>\n",
       "\t<tr><th scope=row>219752_at</th><td> 2.948165   </td><td> 1.8787889  </td><td> 10.473843  </td><td>1.182488e-08</td><td>7.014783e-06</td><td>10.200014   </td></tr>\n",
       "\t<tr><th scope=row>232151_at</th><td> 5.490196   </td><td> 3.4301028  </td><td> 10.321526  </td><td>1.457882e-08</td><td>7.783631e-06</td><td>10.000392   </td></tr>\n",
       "\t<tr><th scope=row>209309_at</th><td> 6.996555   </td><td> 4.1278207  </td><td>  9.848596  </td><td>2.835113e-08</td><td>1.376061e-05</td><td> 9.363467   </td></tr>\n",
       "\t<tr><th scope=row>230398_at</th><td> 5.665631   </td><td> 3.3003175  </td><td>  9.766528  </td><td>3.189540e-08</td><td>1.419079e-05</td><td> 9.250240   </td></tr>\n",
       "\t<tr><th scope=row>218412_s_at</th><td> 7.497466   </td><td> 5.2023793  </td><td>  9.423892  </td><td>5.256847e-08</td><td>2.158947e-05</td><td> 8.768637   </td></tr>\n",
       "\t<tr><th scope=row>203962_s_at</th><td>10.751804   </td><td> 7.5600927  </td><td>  9.370139  </td><td>5.692160e-08</td><td>2.166592e-05</td><td> 8.691761   </td></tr>\n",
       "\t<tr><th scope=row>212531_at</th><td>17.064917   </td><td>11.9881353  </td><td>  9.317129  </td><td>6.158685e-08</td><td>2.166592e-05</td><td> 8.615594   </td></tr>\n",
       "\t<tr><th scope=row>241782_at</th><td> 2.195624   </td><td> 1.1963186  </td><td>  9.253373  </td><td>6.773548e-08</td><td>2.166592e-05</td><td> 8.523515   </td></tr>\n",
       "\t<tr><th scope=row>235245_at</th><td> 2.334599   </td><td> 1.4756777  </td><td>  9.227164  </td><td>7.044712e-08</td><td>2.166592e-05</td><td> 8.485513   </td></tr>\n",
       "\t<tr><th scope=row>208209_s_at</th><td> 3.822005   </td><td> 2.4020938  </td><td>  9.203031  </td><td>7.304486e-08</td><td>2.166592e-05</td><td> 8.450445   </td></tr>\n",
       "\t<tr><th scope=row>1566766_a_at</th><td> 4.146974   </td><td> 2.6918098  </td><td>  9.136375  </td><td>8.075648e-08</td><td>2.269257e-05</td><td> 8.353196   </td></tr>\n",
       "\t<tr><th scope=row>244180_at</th><td>-1.344145   </td><td>-0.8307531  </td><td> -9.061854  </td><td>9.040027e-08</td><td>2.413235e-05</td><td> 8.243797   </td></tr>\n",
       "\t<tr><th scope=row>205566_at</th><td> 3.226118   </td><td> 1.9002566  </td><td>  9.012534  </td><td>9.744220e-08</td><td>2.477352e-05</td><td> 8.171000   </td></tr>\n",
       "\t<tr><th scope=row>206941_x_at</th><td>-1.005474   </td><td>-0.6635295  </td><td> -8.962673  </td><td>1.051493e-07</td><td>2.551782e-05</td><td> 8.097083   </td></tr>\n",
       "\t<tr><th scope=row>205349_at</th><td> 3.212065   </td><td> 1.6030105  </td><td>  8.791665  </td><td>1.368203e-07</td><td>3.176015e-05</td><td> 7.841098   </td></tr>\n",
       "\t<tr><th scope=row>202917_s_at</th><td> 9.110590   </td><td> 4.6962185  </td><td>  8.695275  </td><td>1.589515e-07</td><td>3.340168e-05</td><td> 7.695107   </td></tr>\n",
       "\t<tr><th scope=row>202357_s_at</th><td> 8.271597   </td><td> 5.6286043  </td><td>  8.689031  </td><td>1.605088e-07</td><td>3.340168e-05</td><td> 7.685609   </td></tr>\n",
       "\t<tr><th scope=row>205977_s_at</th><td> 4.119680   </td><td> 2.8835908  </td><td>  8.680509  </td><td>1.626604e-07</td><td>3.340168e-05</td><td> 7.672635   </td></tr>\n",
       "\t<tr><th scope=row>209409_at</th><td> 5.113576   </td><td> 3.5591380  </td><td>  8.444412  </td><td>2.360515e-07</td><td>4.667700e-05</td><td> 7.309324   </td></tr>\n",
       "\t<tr><th scope=row>218704_at</th><td> 7.976579   </td><td> 5.7665953  </td><td>  8.404005  </td><td>2.517568e-07</td><td>4.800462e-05</td><td> 7.246389   </td></tr>\n",
       "\t<tr><th scope=row>221815_at</th><td> 4.468376   </td><td> 3.0759494  </td><td>  8.351318  </td><td>2.738977e-07</td><td>5.042551e-05</td><td> 7.163994   </td></tr>\n",
       "\t<tr><th scope=row>205476_at</th><td>14.466160   </td><td>10.4372247  </td><td>  8.248990  </td><td>3.229343e-07</td><td>5.747153e-05</td><td> 7.002877   </td></tr>\n",
       "\t<tr><th scope=row>...</th><td>...</td><td>...</td><td>...</td><td>...</td><td>...</td><td>...</td></tr>\n",
       "\t<tr><th scope=row>1562211_a_at</th><td>-3.627688e-03</td><td> 0.033859078 </td><td>-0.0281154771</td><td>0.9779111    </td><td>0.9832518    </td><td>-6.748436    </td></tr>\n",
       "\t<tr><th scope=row>220373_at</th><td> 5.740751e-03</td><td>-0.258401883 </td><td> 0.0269088363</td><td>0.9788588    </td><td>0.9840194    </td><td>-6.748470    </td></tr>\n",
       "\t<tr><th scope=row>231626_at</th><td> 2.757279e-02</td><td> 1.857394629 </td><td> 0.0253280978</td><td>0.9801005    </td><td>0.9850070    </td><td>-6.748514    </td></tr>\n",
       "\t<tr><th scope=row>220343_at</th><td>-2.956402e-03</td><td> 0.004189963 </td><td>-0.0251884424</td><td>0.9802102    </td><td>0.9850070    </td><td>-6.748517    </td></tr>\n",
       "\t<tr><th scope=row>1559429_a_at</th><td> 3.890462e-03</td><td>-0.040891499 </td><td> 0.0217618683</td><td>0.9829018    </td><td>0.9875259    </td><td>-6.748601    </td></tr>\n",
       "\t<tr><th scope=row>221690_s_at</th><td> 1.831913e-02</td><td> 0.659423984 </td><td> 0.0214927376</td><td>0.9831133    </td><td>0.9875525    </td><td>-6.748608    </td></tr>\n",
       "\t<tr><th scope=row>1553059_at</th><td>-3.434531e-03</td><td>-0.163317401 </td><td>-0.0210531485</td><td>0.9834586    </td><td>0.9877136    </td><td>-6.748617    </td></tr>\n",
       "\t<tr><th scope=row>206834_at</th><td>-4.011657e-03</td><td>-0.167439369 </td><td>-0.0198192016</td><td>0.9844279    </td><td>0.9885012    </td><td>-6.748644    </td></tr>\n",
       "\t<tr><th scope=row>234361_at</th><td> 3.016104e-03</td><td> 0.044745530 </td><td> 0.0192995924</td><td>0.9848362    </td><td>0.9887251    </td><td>-6.748654    </td></tr>\n",
       "\t<tr><th scope=row>224390_s_at</th><td>-1.756399e-03</td><td>-0.001132483 </td><td>-0.0188067738</td><td>0.9852233    </td><td>0.9889247    </td><td>-6.748664    </td></tr>\n",
       "\t<tr><th scope=row>240967_at</th><td> 2.842829e-03</td><td>-0.164153264 </td><td> 0.0185750184</td><td>0.9854054    </td><td>0.9889247    </td><td>-6.748669    </td></tr>\n",
       "\t<tr><th scope=row>243231_at</th><td>-4.517521e-03</td><td> 0.252822841 </td><td>-0.0168659091</td><td>0.9867481    </td><td>0.9900861    </td><td>-6.748700    </td></tr>\n",
       "\t<tr><th scope=row>1552526_at</th><td>-1.509388e-03</td><td> 0.042989550 </td><td>-0.0147194442</td><td>0.9884345    </td><td>0.9915918    </td><td>-6.748736    </td></tr>\n",
       "\t<tr><th scope=row>213780_at</th><td>-1.830945e-03</td><td>-0.012559300 </td><td>-0.0120276478</td><td>0.9905494    </td><td>0.9935268    </td><td>-6.748774    </td></tr>\n",
       "\t<tr><th scope=row>229152_at</th><td> 7.274305e-03</td><td> 0.785249728 </td><td> 0.0094557174</td><td>0.9925702    </td><td>0.9953667    </td><td>-6.748803    </td></tr>\n",
       "\t<tr><th scope=row>242883_at</th><td> 1.284877e-03</td><td>-0.202721125 </td><td> 0.0086463667</td><td>0.9932061    </td><td>0.9958174    </td><td>-6.748810    </td></tr>\n",
       "\t<tr><th scope=row>221658_s_at</th><td>-1.067008e-03</td><td>-0.026685009 </td><td>-0.0081065141</td><td>0.9936303    </td><td>0.9960556    </td><td>-6.748815    </td></tr>\n",
       "\t<tr><th scope=row>231386_at</th><td> 8.382728e-04</td><td> 0.027066565 </td><td> 0.0077754172</td><td>0.9938905    </td><td>0.9961049    </td><td>-6.748818    </td></tr>\n",
       "\t<tr><th scope=row>1555643_s_at</th><td>-1.162331e-03</td><td> 0.030274093 </td><td>-0.0075690004</td><td>0.9940526    </td><td>0.9961049    </td><td>-6.748819    </td></tr>\n",
       "\t<tr><th scope=row>207972_at</th><td>-9.074408e-04</td><td>-0.120894936 </td><td>-0.0060321130</td><td>0.9952602    </td><td>0.9971208    </td><td>-6.748830    </td></tr>\n",
       "\t<tr><th scope=row>210402_at</th><td>-8.584665e-04</td><td> 0.164386348 </td><td>-0.0058033702</td><td>0.9954400    </td><td>0.9971208    </td><td>-6.748832    </td></tr>\n",
       "\t<tr><th scope=row>1552948_at</th><td>-9.712917e-04</td><td> 0.037384033 </td><td>-0.0055466975</td><td>0.9956417    </td><td>0.9971358    </td><td>-6.748833    </td></tr>\n",
       "\t<tr><th scope=row>205685_at</th><td>-8.604690e-04</td><td> 0.230873696 </td><td>-0.0047693364</td><td>0.9962525    </td><td>0.9975604    </td><td>-6.748837    </td></tr>\n",
       "\t<tr><th scope=row>231794_at</th><td>-6.487468e-04</td><td> 0.098780981 </td><td>-0.0034424825</td><td>0.9972950    </td><td>0.9984065    </td><td>-6.748843    </td></tr>\n",
       "\t<tr><th scope=row>242809_at</th><td>-5.042769e-04</td><td>-0.022999856 </td><td>-0.0029907888</td><td>0.9976500    </td><td>0.9984065    </td><td>-6.748845    </td></tr>\n",
       "\t<tr><th scope=row>203603_s_at</th><td> 2.719045e-03</td><td> 1.850278399 </td><td> 0.0027853887</td><td>0.9978114    </td><td>0.9984065    </td><td>-6.748845    </td></tr>\n",
       "\t<tr><th scope=row>208402_at</th><td>-3.644787e-04</td><td>-0.131042892 </td><td>-0.0026030083</td><td>0.9979547    </td><td>0.9984065    </td><td>-6.748846    </td></tr>\n",
       "\t<tr><th scope=row>1553534_at</th><td>-2.792301e-04</td><td>-0.044046503 </td><td>-0.0025039235</td><td>0.9980325    </td><td>0.9984065    </td><td>-6.748846    </td></tr>\n",
       "\t<tr><th scope=row>237320_at</th><td> 4.826854e-05</td><td>-0.213631604 </td><td> 0.0002714129</td><td>0.9997867    </td><td>0.9999727    </td><td>-6.748849    </td></tr>\n",
       "\t<tr><th scope=row>207067_s_at</th><td>-7.696790e-06</td><td> 0.334753187 </td><td>-0.0000347936</td><td>0.9999727    </td><td>0.9999727    </td><td>-6.748849    </td></tr>\n",
       "</tbody>\n",
       "</table>\n"
      ],
      "text/latex": [
       "\\begin{tabular}{r|llllll}\n",
       "  & logFC & AveExpr & t & P.Value & adj.P.Val & B\\\\\n",
       "\\hline\n",
       "\t210372\\_s\\_at &  5.200189    &  2.9369060   &  18.586820   & 2.082126e-12 & 1.111647e-08 & 17.909406   \\\\\n",
       "\t205470\\_s\\_at &  6.255458    &  3.4624353   &  14.523453   & 9.365043e-11 & 2.499998e-07 & 14.665745   \\\\\n",
       "\t204855\\_at & 13.342429    &  8.3325984   &  12.511677   & 8.820153e-10 & 1.260731e-06 & 12.634755   \\\\\n",
       "\t219795\\_at &  6.773997    &  3.2696607   &  12.454113   & 9.445448e-10 & 1.260731e-06 & 12.571572   \\\\\n",
       "\t220133\\_at &  3.223162    &  1.5617431   &  12.127986   & 1.399296e-09 & 1.494168e-06 & 12.207825   \\\\\n",
       "\t204259\\_at &  7.111360    &  3.6682683   &  10.809794   & 7.511799e-09 & 6.684249e-06 & 10.631112   \\\\\n",
       "\t203585\\_at &  3.814912    &  2.3970818   &  10.575189   & 1.030032e-08 & 7.014783e-06 & 10.331384   \\\\\n",
       "\t203485\\_at & -1.477512    & -0.7942994   & -10.526023   & 1.101229e-08 & 7.014783e-06 & 10.267797   \\\\\n",
       "\t219752\\_at &  2.948165    &  1.8787889   &  10.473843   & 1.182488e-08 & 7.014783e-06 & 10.200014   \\\\\n",
       "\t232151\\_at &  5.490196    &  3.4301028   &  10.321526   & 1.457882e-08 & 7.783631e-06 & 10.000392   \\\\\n",
       "\t209309\\_at &  6.996555    &  4.1278207   &   9.848596   & 2.835113e-08 & 1.376061e-05 &  9.363467   \\\\\n",
       "\t230398\\_at &  5.665631    &  3.3003175   &   9.766528   & 3.189540e-08 & 1.419079e-05 &  9.250240   \\\\\n",
       "\t218412\\_s\\_at &  7.497466    &  5.2023793   &   9.423892   & 5.256847e-08 & 2.158947e-05 &  8.768637   \\\\\n",
       "\t203962\\_s\\_at & 10.751804    &  7.5600927   &   9.370139   & 5.692160e-08 & 2.166592e-05 &  8.691761   \\\\\n",
       "\t212531\\_at & 17.064917    & 11.9881353   &   9.317129   & 6.158685e-08 & 2.166592e-05 &  8.615594   \\\\\n",
       "\t241782\\_at &  2.195624    &  1.1963186   &   9.253373   & 6.773548e-08 & 2.166592e-05 &  8.523515   \\\\\n",
       "\t235245\\_at &  2.334599    &  1.4756777   &   9.227164   & 7.044712e-08 & 2.166592e-05 &  8.485513   \\\\\n",
       "\t208209\\_s\\_at &  3.822005    &  2.4020938   &   9.203031   & 7.304486e-08 & 2.166592e-05 &  8.450445   \\\\\n",
       "\t1566766\\_a\\_at &  4.146974    &  2.6918098   &   9.136375   & 8.075648e-08 & 2.269257e-05 &  8.353196   \\\\\n",
       "\t244180\\_at & -1.344145    & -0.8307531   &  -9.061854   & 9.040027e-08 & 2.413235e-05 &  8.243797   \\\\\n",
       "\t205566\\_at &  3.226118    &  1.9002566   &   9.012534   & 9.744220e-08 & 2.477352e-05 &  8.171000   \\\\\n",
       "\t206941\\_x\\_at & -1.005474    & -0.6635295   &  -8.962673   & 1.051493e-07 & 2.551782e-05 &  8.097083   \\\\\n",
       "\t205349\\_at &  3.212065    &  1.6030105   &   8.791665   & 1.368203e-07 & 3.176015e-05 &  7.841098   \\\\\n",
       "\t202917\\_s\\_at &  9.110590    &  4.6962185   &   8.695275   & 1.589515e-07 & 3.340168e-05 &  7.695107   \\\\\n",
       "\t202357\\_s\\_at &  8.271597    &  5.6286043   &   8.689031   & 1.605088e-07 & 3.340168e-05 &  7.685609   \\\\\n",
       "\t205977\\_s\\_at &  4.119680    &  2.8835908   &   8.680509   & 1.626604e-07 & 3.340168e-05 &  7.672635   \\\\\n",
       "\t209409\\_at &  5.113576    &  3.5591380   &   8.444412   & 2.360515e-07 & 4.667700e-05 &  7.309324   \\\\\n",
       "\t218704\\_at &  7.976579    &  5.7665953   &   8.404005   & 2.517568e-07 & 4.800462e-05 &  7.246389   \\\\\n",
       "\t221815\\_at &  4.468376    &  3.0759494   &   8.351318   & 2.738977e-07 & 5.042551e-05 &  7.163994   \\\\\n",
       "\t205476\\_at & 14.466160    & 10.4372247   &   8.248990   & 3.229343e-07 & 5.747153e-05 &  7.002877   \\\\\n",
       "\t... & ... & ... & ... & ... & ... & ...\\\\\n",
       "\t1562211\\_a\\_at & -3.627688e-03 &  0.033859078  & -0.0281154771 & 0.9779111     & 0.9832518     & -6.748436    \\\\\n",
       "\t220373\\_at &  5.740751e-03 & -0.258401883  &  0.0269088363 & 0.9788588     & 0.9840194     & -6.748470    \\\\\n",
       "\t231626\\_at &  2.757279e-02 &  1.857394629  &  0.0253280978 & 0.9801005     & 0.9850070     & -6.748514    \\\\\n",
       "\t220343\\_at & -2.956402e-03 &  0.004189963  & -0.0251884424 & 0.9802102     & 0.9850070     & -6.748517    \\\\\n",
       "\t1559429\\_a\\_at &  3.890462e-03 & -0.040891499  &  0.0217618683 & 0.9829018     & 0.9875259     & -6.748601    \\\\\n",
       "\t221690\\_s\\_at &  1.831913e-02 &  0.659423984  &  0.0214927376 & 0.9831133     & 0.9875525     & -6.748608    \\\\\n",
       "\t1553059\\_at & -3.434531e-03 & -0.163317401  & -0.0210531485 & 0.9834586     & 0.9877136     & -6.748617    \\\\\n",
       "\t206834\\_at & -4.011657e-03 & -0.167439369  & -0.0198192016 & 0.9844279     & 0.9885012     & -6.748644    \\\\\n",
       "\t234361\\_at &  3.016104e-03 &  0.044745530  &  0.0192995924 & 0.9848362     & 0.9887251     & -6.748654    \\\\\n",
       "\t224390\\_s\\_at & -1.756399e-03 & -0.001132483  & -0.0188067738 & 0.9852233     & 0.9889247     & -6.748664    \\\\\n",
       "\t240967\\_at &  2.842829e-03 & -0.164153264  &  0.0185750184 & 0.9854054     & 0.9889247     & -6.748669    \\\\\n",
       "\t243231\\_at & -4.517521e-03 &  0.252822841  & -0.0168659091 & 0.9867481     & 0.9900861     & -6.748700    \\\\\n",
       "\t1552526\\_at & -1.509388e-03 &  0.042989550  & -0.0147194442 & 0.9884345     & 0.9915918     & -6.748736    \\\\\n",
       "\t213780\\_at & -1.830945e-03 & -0.012559300  & -0.0120276478 & 0.9905494     & 0.9935268     & -6.748774    \\\\\n",
       "\t229152\\_at &  7.274305e-03 &  0.785249728  &  0.0094557174 & 0.9925702     & 0.9953667     & -6.748803    \\\\\n",
       "\t242883\\_at &  1.284877e-03 & -0.202721125  &  0.0086463667 & 0.9932061     & 0.9958174     & -6.748810    \\\\\n",
       "\t221658\\_s\\_at & -1.067008e-03 & -0.026685009  & -0.0081065141 & 0.9936303     & 0.9960556     & -6.748815    \\\\\n",
       "\t231386\\_at &  8.382728e-04 &  0.027066565  &  0.0077754172 & 0.9938905     & 0.9961049     & -6.748818    \\\\\n",
       "\t1555643\\_s\\_at & -1.162331e-03 &  0.030274093  & -0.0075690004 & 0.9940526     & 0.9961049     & -6.748819    \\\\\n",
       "\t207972\\_at & -9.074408e-04 & -0.120894936  & -0.0060321130 & 0.9952602     & 0.9971208     & -6.748830    \\\\\n",
       "\t210402\\_at & -8.584665e-04 &  0.164386348  & -0.0058033702 & 0.9954400     & 0.9971208     & -6.748832    \\\\\n",
       "\t1552948\\_at & -9.712917e-04 &  0.037384033  & -0.0055466975 & 0.9956417     & 0.9971358     & -6.748833    \\\\\n",
       "\t205685\\_at & -8.604690e-04 &  0.230873696  & -0.0047693364 & 0.9962525     & 0.9975604     & -6.748837    \\\\\n",
       "\t231794\\_at & -6.487468e-04 &  0.098780981  & -0.0034424825 & 0.9972950     & 0.9984065     & -6.748843    \\\\\n",
       "\t242809\\_at & -5.042769e-04 & -0.022999856  & -0.0029907888 & 0.9976500     & 0.9984065     & -6.748845    \\\\\n",
       "\t203603\\_s\\_at &  2.719045e-03 &  1.850278399  &  0.0027853887 & 0.9978114     & 0.9984065     & -6.748845    \\\\\n",
       "\t208402\\_at & -3.644787e-04 & -0.131042892  & -0.0026030083 & 0.9979547     & 0.9984065     & -6.748846    \\\\\n",
       "\t1553534\\_at & -2.792301e-04 & -0.044046503  & -0.0025039235 & 0.9980325     & 0.9984065     & -6.748846    \\\\\n",
       "\t237320\\_at &  4.826854e-05 & -0.213631604  &  0.0002714129 & 0.9997867     & 0.9999727     & -6.748849    \\\\\n",
       "\t207067\\_s\\_at & -7.696790e-06 &  0.334753187  & -0.0000347936 & 0.9999727     & 0.9999727     & -6.748849    \\\\\n",
       "\\end{tabular}\n"
      ],
      "text/markdown": [
       "\n",
       "| <!--/--> | logFC | AveExpr | t | P.Value | adj.P.Val | B | \n",
       "|---|---|---|---|---|---|---|---|---|---|---|---|---|---|---|---|---|---|---|---|---|---|---|---|---|---|---|---|---|---|---|---|---|---|---|---|---|---|---|---|---|---|---|---|---|---|---|---|---|---|---|---|---|---|---|---|---|---|---|---|---|\n",
       "| 210372_s_at |  5.200189    |  2.9369060   |  18.586820   | 2.082126e-12 | 1.111647e-08 | 17.909406    | \n",
       "| 205470_s_at |  6.255458    |  3.4624353   |  14.523453   | 9.365043e-11 | 2.499998e-07 | 14.665745    | \n",
       "| 204855_at | 13.342429    |  8.3325984   |  12.511677   | 8.820153e-10 | 1.260731e-06 | 12.634755    | \n",
       "| 219795_at |  6.773997    |  3.2696607   |  12.454113   | 9.445448e-10 | 1.260731e-06 | 12.571572    | \n",
       "| 220133_at |  3.223162    |  1.5617431   |  12.127986   | 1.399296e-09 | 1.494168e-06 | 12.207825    | \n",
       "| 204259_at |  7.111360    |  3.6682683   |  10.809794   | 7.511799e-09 | 6.684249e-06 | 10.631112    | \n",
       "| 203585_at |  3.814912    |  2.3970818   |  10.575189   | 1.030032e-08 | 7.014783e-06 | 10.331384    | \n",
       "| 203485_at | -1.477512    | -0.7942994   | -10.526023   | 1.101229e-08 | 7.014783e-06 | 10.267797    | \n",
       "| 219752_at |  2.948165    |  1.8787889   |  10.473843   | 1.182488e-08 | 7.014783e-06 | 10.200014    | \n",
       "| 232151_at |  5.490196    |  3.4301028   |  10.321526   | 1.457882e-08 | 7.783631e-06 | 10.000392    | \n",
       "| 209309_at |  6.996555    |  4.1278207   |   9.848596   | 2.835113e-08 | 1.376061e-05 |  9.363467    | \n",
       "| 230398_at |  5.665631    |  3.3003175   |   9.766528   | 3.189540e-08 | 1.419079e-05 |  9.250240    | \n",
       "| 218412_s_at |  7.497466    |  5.2023793   |   9.423892   | 5.256847e-08 | 2.158947e-05 |  8.768637    | \n",
       "| 203962_s_at | 10.751804    |  7.5600927   |   9.370139   | 5.692160e-08 | 2.166592e-05 |  8.691761    | \n",
       "| 212531_at | 17.064917    | 11.9881353   |   9.317129   | 6.158685e-08 | 2.166592e-05 |  8.615594    | \n",
       "| 241782_at |  2.195624    |  1.1963186   |   9.253373   | 6.773548e-08 | 2.166592e-05 |  8.523515    | \n",
       "| 235245_at |  2.334599    |  1.4756777   |   9.227164   | 7.044712e-08 | 2.166592e-05 |  8.485513    | \n",
       "| 208209_s_at |  3.822005    |  2.4020938   |   9.203031   | 7.304486e-08 | 2.166592e-05 |  8.450445    | \n",
       "| 1566766_a_at |  4.146974    |  2.6918098   |   9.136375   | 8.075648e-08 | 2.269257e-05 |  8.353196    | \n",
       "| 244180_at | -1.344145    | -0.8307531   |  -9.061854   | 9.040027e-08 | 2.413235e-05 |  8.243797    | \n",
       "| 205566_at |  3.226118    |  1.9002566   |   9.012534   | 9.744220e-08 | 2.477352e-05 |  8.171000    | \n",
       "| 206941_x_at | -1.005474    | -0.6635295   |  -8.962673   | 1.051493e-07 | 2.551782e-05 |  8.097083    | \n",
       "| 205349_at |  3.212065    |  1.6030105   |   8.791665   | 1.368203e-07 | 3.176015e-05 |  7.841098    | \n",
       "| 202917_s_at |  9.110590    |  4.6962185   |   8.695275   | 1.589515e-07 | 3.340168e-05 |  7.695107    | \n",
       "| 202357_s_at |  8.271597    |  5.6286043   |   8.689031   | 1.605088e-07 | 3.340168e-05 |  7.685609    | \n",
       "| 205977_s_at |  4.119680    |  2.8835908   |   8.680509   | 1.626604e-07 | 3.340168e-05 |  7.672635    | \n",
       "| 209409_at |  5.113576    |  3.5591380   |   8.444412   | 2.360515e-07 | 4.667700e-05 |  7.309324    | \n",
       "| 218704_at |  7.976579    |  5.7665953   |   8.404005   | 2.517568e-07 | 4.800462e-05 |  7.246389    | \n",
       "| 221815_at |  4.468376    |  3.0759494   |   8.351318   | 2.738977e-07 | 5.042551e-05 |  7.163994    | \n",
       "| 205476_at | 14.466160    | 10.4372247   |   8.248990   | 3.229343e-07 | 5.747153e-05 |  7.002877    | \n",
       "| ... | ... | ... | ... | ... | ... | ... | \n",
       "| 1562211_a_at | -3.627688e-03 |  0.033859078  | -0.0281154771 | 0.9779111     | 0.9832518     | -6.748436     | \n",
       "| 220373_at |  5.740751e-03 | -0.258401883  |  0.0269088363 | 0.9788588     | 0.9840194     | -6.748470     | \n",
       "| 231626_at |  2.757279e-02 |  1.857394629  |  0.0253280978 | 0.9801005     | 0.9850070     | -6.748514     | \n",
       "| 220343_at | -2.956402e-03 |  0.004189963  | -0.0251884424 | 0.9802102     | 0.9850070     | -6.748517     | \n",
       "| 1559429_a_at |  3.890462e-03 | -0.040891499  |  0.0217618683 | 0.9829018     | 0.9875259     | -6.748601     | \n",
       "| 221690_s_at |  1.831913e-02 |  0.659423984  |  0.0214927376 | 0.9831133     | 0.9875525     | -6.748608     | \n",
       "| 1553059_at | -3.434531e-03 | -0.163317401  | -0.0210531485 | 0.9834586     | 0.9877136     | -6.748617     | \n",
       "| 206834_at | -4.011657e-03 | -0.167439369  | -0.0198192016 | 0.9844279     | 0.9885012     | -6.748644     | \n",
       "| 234361_at |  3.016104e-03 |  0.044745530  |  0.0192995924 | 0.9848362     | 0.9887251     | -6.748654     | \n",
       "| 224390_s_at | -1.756399e-03 | -0.001132483  | -0.0188067738 | 0.9852233     | 0.9889247     | -6.748664     | \n",
       "| 240967_at |  2.842829e-03 | -0.164153264  |  0.0185750184 | 0.9854054     | 0.9889247     | -6.748669     | \n",
       "| 243231_at | -4.517521e-03 |  0.252822841  | -0.0168659091 | 0.9867481     | 0.9900861     | -6.748700     | \n",
       "| 1552526_at | -1.509388e-03 |  0.042989550  | -0.0147194442 | 0.9884345     | 0.9915918     | -6.748736     | \n",
       "| 213780_at | -1.830945e-03 | -0.012559300  | -0.0120276478 | 0.9905494     | 0.9935268     | -6.748774     | \n",
       "| 229152_at |  7.274305e-03 |  0.785249728  |  0.0094557174 | 0.9925702     | 0.9953667     | -6.748803     | \n",
       "| 242883_at |  1.284877e-03 | -0.202721125  |  0.0086463667 | 0.9932061     | 0.9958174     | -6.748810     | \n",
       "| 221658_s_at | -1.067008e-03 | -0.026685009  | -0.0081065141 | 0.9936303     | 0.9960556     | -6.748815     | \n",
       "| 231386_at |  8.382728e-04 |  0.027066565  |  0.0077754172 | 0.9938905     | 0.9961049     | -6.748818     | \n",
       "| 1555643_s_at | -1.162331e-03 |  0.030274093  | -0.0075690004 | 0.9940526     | 0.9961049     | -6.748819     | \n",
       "| 207972_at | -9.074408e-04 | -0.120894936  | -0.0060321130 | 0.9952602     | 0.9971208     | -6.748830     | \n",
       "| 210402_at | -8.584665e-04 |  0.164386348  | -0.0058033702 | 0.9954400     | 0.9971208     | -6.748832     | \n",
       "| 1552948_at | -9.712917e-04 |  0.037384033  | -0.0055466975 | 0.9956417     | 0.9971358     | -6.748833     | \n",
       "| 205685_at | -8.604690e-04 |  0.230873696  | -0.0047693364 | 0.9962525     | 0.9975604     | -6.748837     | \n",
       "| 231794_at | -6.487468e-04 |  0.098780981  | -0.0034424825 | 0.9972950     | 0.9984065     | -6.748843     | \n",
       "| 242809_at | -5.042769e-04 | -0.022999856  | -0.0029907888 | 0.9976500     | 0.9984065     | -6.748845     | \n",
       "| 203603_s_at |  2.719045e-03 |  1.850278399  |  0.0027853887 | 0.9978114     | 0.9984065     | -6.748845     | \n",
       "| 208402_at | -3.644787e-04 | -0.131042892  | -0.0026030083 | 0.9979547     | 0.9984065     | -6.748846     | \n",
       "| 1553534_at | -2.792301e-04 | -0.044046503  | -0.0025039235 | 0.9980325     | 0.9984065     | -6.748846     | \n",
       "| 237320_at |  4.826854e-05 | -0.213631604  |  0.0002714129 | 0.9997867     | 0.9999727     | -6.748849     | \n",
       "| 207067_s_at | -7.696790e-06 |  0.334753187  | -0.0000347936 | 0.9999727     | 0.9999727     | -6.748849     | \n",
       "\n",
       "\n"
      ],
      "text/plain": [
       "             logFC         AveExpr      t             P.Value      adj.P.Val   \n",
       "210372_s_at   5.200189      2.9369060    18.586820    2.082126e-12 1.111647e-08\n",
       "205470_s_at   6.255458      3.4624353    14.523453    9.365043e-11 2.499998e-07\n",
       "204855_at    13.342429      8.3325984    12.511677    8.820153e-10 1.260731e-06\n",
       "219795_at     6.773997      3.2696607    12.454113    9.445448e-10 1.260731e-06\n",
       "220133_at     3.223162      1.5617431    12.127986    1.399296e-09 1.494168e-06\n",
       "204259_at     7.111360      3.6682683    10.809794    7.511799e-09 6.684249e-06\n",
       "203585_at     3.814912      2.3970818    10.575189    1.030032e-08 7.014783e-06\n",
       "203485_at    -1.477512     -0.7942994   -10.526023    1.101229e-08 7.014783e-06\n",
       "219752_at     2.948165      1.8787889    10.473843    1.182488e-08 7.014783e-06\n",
       "232151_at     5.490196      3.4301028    10.321526    1.457882e-08 7.783631e-06\n",
       "209309_at     6.996555      4.1278207     9.848596    2.835113e-08 1.376061e-05\n",
       "230398_at     5.665631      3.3003175     9.766528    3.189540e-08 1.419079e-05\n",
       "218412_s_at   7.497466      5.2023793     9.423892    5.256847e-08 2.158947e-05\n",
       "203962_s_at  10.751804      7.5600927     9.370139    5.692160e-08 2.166592e-05\n",
       "212531_at    17.064917     11.9881353     9.317129    6.158685e-08 2.166592e-05\n",
       "241782_at     2.195624      1.1963186     9.253373    6.773548e-08 2.166592e-05\n",
       "235245_at     2.334599      1.4756777     9.227164    7.044712e-08 2.166592e-05\n",
       "208209_s_at   3.822005      2.4020938     9.203031    7.304486e-08 2.166592e-05\n",
       "1566766_a_at  4.146974      2.6918098     9.136375    8.075648e-08 2.269257e-05\n",
       "244180_at    -1.344145     -0.8307531    -9.061854    9.040027e-08 2.413235e-05\n",
       "205566_at     3.226118      1.9002566     9.012534    9.744220e-08 2.477352e-05\n",
       "206941_x_at  -1.005474     -0.6635295    -8.962673    1.051493e-07 2.551782e-05\n",
       "205349_at     3.212065      1.6030105     8.791665    1.368203e-07 3.176015e-05\n",
       "202917_s_at   9.110590      4.6962185     8.695275    1.589515e-07 3.340168e-05\n",
       "202357_s_at   8.271597      5.6286043     8.689031    1.605088e-07 3.340168e-05\n",
       "205977_s_at   4.119680      2.8835908     8.680509    1.626604e-07 3.340168e-05\n",
       "209409_at     5.113576      3.5591380     8.444412    2.360515e-07 4.667700e-05\n",
       "218704_at     7.976579      5.7665953     8.404005    2.517568e-07 4.800462e-05\n",
       "221815_at     4.468376      3.0759494     8.351318    2.738977e-07 5.042551e-05\n",
       "205476_at    14.466160     10.4372247     8.248990    3.229343e-07 5.747153e-05\n",
       "...          ...           ...          ...           ...          ...         \n",
       "1562211_a_at -3.627688e-03  0.033859078 -0.0281154771 0.9779111    0.9832518   \n",
       "220373_at     5.740751e-03 -0.258401883  0.0269088363 0.9788588    0.9840194   \n",
       "231626_at     2.757279e-02  1.857394629  0.0253280978 0.9801005    0.9850070   \n",
       "220343_at    -2.956402e-03  0.004189963 -0.0251884424 0.9802102    0.9850070   \n",
       "1559429_a_at  3.890462e-03 -0.040891499  0.0217618683 0.9829018    0.9875259   \n",
       "221690_s_at   1.831913e-02  0.659423984  0.0214927376 0.9831133    0.9875525   \n",
       "1553059_at   -3.434531e-03 -0.163317401 -0.0210531485 0.9834586    0.9877136   \n",
       "206834_at    -4.011657e-03 -0.167439369 -0.0198192016 0.9844279    0.9885012   \n",
       "234361_at     3.016104e-03  0.044745530  0.0192995924 0.9848362    0.9887251   \n",
       "224390_s_at  -1.756399e-03 -0.001132483 -0.0188067738 0.9852233    0.9889247   \n",
       "240967_at     2.842829e-03 -0.164153264  0.0185750184 0.9854054    0.9889247   \n",
       "243231_at    -4.517521e-03  0.252822841 -0.0168659091 0.9867481    0.9900861   \n",
       "1552526_at   -1.509388e-03  0.042989550 -0.0147194442 0.9884345    0.9915918   \n",
       "213780_at    -1.830945e-03 -0.012559300 -0.0120276478 0.9905494    0.9935268   \n",
       "229152_at     7.274305e-03  0.785249728  0.0094557174 0.9925702    0.9953667   \n",
       "242883_at     1.284877e-03 -0.202721125  0.0086463667 0.9932061    0.9958174   \n",
       "221658_s_at  -1.067008e-03 -0.026685009 -0.0081065141 0.9936303    0.9960556   \n",
       "231386_at     8.382728e-04  0.027066565  0.0077754172 0.9938905    0.9961049   \n",
       "1555643_s_at -1.162331e-03  0.030274093 -0.0075690004 0.9940526    0.9961049   \n",
       "207972_at    -9.074408e-04 -0.120894936 -0.0060321130 0.9952602    0.9971208   \n",
       "210402_at    -8.584665e-04  0.164386348 -0.0058033702 0.9954400    0.9971208   \n",
       "1552948_at   -9.712917e-04  0.037384033 -0.0055466975 0.9956417    0.9971358   \n",
       "205685_at    -8.604690e-04  0.230873696 -0.0047693364 0.9962525    0.9975604   \n",
       "231794_at    -6.487468e-04  0.098780981 -0.0034424825 0.9972950    0.9984065   \n",
       "242809_at    -5.042769e-04 -0.022999856 -0.0029907888 0.9976500    0.9984065   \n",
       "203603_s_at   2.719045e-03  1.850278399  0.0027853887 0.9978114    0.9984065   \n",
       "208402_at    -3.644787e-04 -0.131042892 -0.0026030083 0.9979547    0.9984065   \n",
       "1553534_at   -2.792301e-04 -0.044046503 -0.0025039235 0.9980325    0.9984065   \n",
       "237320_at     4.826854e-05 -0.213631604  0.0002714129 0.9997867    0.9999727   \n",
       "207067_s_at  -7.696790e-06  0.334753187 -0.0000347936 0.9999727    0.9999727   \n",
       "             B        \n",
       "210372_s_at  17.909406\n",
       "205470_s_at  14.665745\n",
       "204855_at    12.634755\n",
       "219795_at    12.571572\n",
       "220133_at    12.207825\n",
       "204259_at    10.631112\n",
       "203585_at    10.331384\n",
       "203485_at    10.267797\n",
       "219752_at    10.200014\n",
       "232151_at    10.000392\n",
       "209309_at     9.363467\n",
       "230398_at     9.250240\n",
       "218412_s_at   8.768637\n",
       "203962_s_at   8.691761\n",
       "212531_at     8.615594\n",
       "241782_at     8.523515\n",
       "235245_at     8.485513\n",
       "208209_s_at   8.450445\n",
       "1566766_a_at  8.353196\n",
       "244180_at     8.243797\n",
       "205566_at     8.171000\n",
       "206941_x_at   8.097083\n",
       "205349_at     7.841098\n",
       "202917_s_at   7.695107\n",
       "202357_s_at   7.685609\n",
       "205977_s_at   7.672635\n",
       "209409_at     7.309324\n",
       "218704_at     7.246389\n",
       "221815_at     7.163994\n",
       "205476_at     7.002877\n",
       "...          ...      \n",
       "1562211_a_at -6.748436\n",
       "220373_at    -6.748470\n",
       "231626_at    -6.748514\n",
       "220343_at    -6.748517\n",
       "1559429_a_at -6.748601\n",
       "221690_s_at  -6.748608\n",
       "1553059_at   -6.748617\n",
       "206834_at    -6.748644\n",
       "234361_at    -6.748654\n",
       "224390_s_at  -6.748664\n",
       "240967_at    -6.748669\n",
       "243231_at    -6.748700\n",
       "1552526_at   -6.748736\n",
       "213780_at    -6.748774\n",
       "229152_at    -6.748803\n",
       "242883_at    -6.748810\n",
       "221658_s_at  -6.748815\n",
       "231386_at    -6.748818\n",
       "1555643_s_at -6.748819\n",
       "207972_at    -6.748830\n",
       "210402_at    -6.748832\n",
       "1552948_at   -6.748833\n",
       "205685_at    -6.748837\n",
       "231794_at    -6.748843\n",
       "242809_at    -6.748845\n",
       "203603_s_at  -6.748845\n",
       "208402_at    -6.748846\n",
       "1553534_at   -6.748846\n",
       "237320_at    -6.748849\n",
       "207067_s_at  -6.748849"
      ]
     },
     "metadata": {},
     "output_type": "display_data"
    }
   ],
   "source": [
    "tested <- topTable(fitE, adjust=\"fdr\", sort.by=\"B\", number=Inf)\n",
    "tested"
   ]
  },
  {
   "cell_type": "markdown",
   "metadata": {},
   "source": [
    "8. To add the conditions of the p=values or other conditions to get the DE genes, extend the previous steps as follows:\n",
    " \n",
    " 若要添加p=值的条件或其他条件以获得DE基因，请扩展前面的步骤如下:"
   ]
  },
  {
   "cell_type": "code",
   "execution_count": 38,
   "metadata": {},
   "outputs": [
    {
     "data": {
      "text/html": [
       "<ol class=list-inline>\n",
       "\t<li>1211</li>\n",
       "\t<li>6</li>\n",
       "</ol>\n"
      ],
      "text/latex": [
       "\\begin{enumerate*}\n",
       "\\item 1211\n",
       "\\item 6\n",
       "\\end{enumerate*}\n"
      ],
      "text/markdown": [
       "1. 1211\n",
       "2. 6\n",
       "\n",
       "\n"
      ],
      "text/plain": [
       "[1] 1211    6"
      ]
     },
     "metadata": {},
     "output_type": "display_data"
    }
   ],
   "source": [
    "DE <- tested[tested$adj.P.Val<0.01,]\n",
    "dim(DE)"
   ]
  },
  {
   "cell_type": "code",
   "execution_count": 42,
   "metadata": {},
   "outputs": [],
   "source": [
    "DE <- tested[tested$adj.P.Val< 0.01 & abs(tested$logFC) >2, ]"
   ]
  },
  {
   "cell_type": "code",
   "execution_count": 43,
   "metadata": {},
   "outputs": [
    {
     "data": {
      "text/html": [
       "<ol class=list-inline>\n",
       "\t<li>558</li>\n",
       "\t<li>6</li>\n",
       "</ol>\n"
      ],
      "text/latex": [
       "\\begin{enumerate*}\n",
       "\\item 558\n",
       "\\item 6\n",
       "\\end{enumerate*}\n"
      ],
      "text/markdown": [
       "1. 558\n",
       "2. 6\n",
       "\n",
       "\n"
      ],
      "text/plain": [
       "[1] 558   6"
      ]
     },
     "metadata": {},
     "output_type": "display_data"
    }
   ],
   "source": [
    "dim(DE)"
   ]
  }
 ],
 "metadata": {
  "kernelspec": {
   "display_name": "R",
   "language": "R",
   "name": "ir"
  },
  "language_info": {
   "codemirror_mode": "r",
   "file_extension": ".r",
   "mimetype": "text/x-r-source",
   "name": "R",
   "pygments_lexer": "r",
   "version": "3.5.1"
  }
 },
 "nbformat": 4,
 "nbformat_minor": 2
}
