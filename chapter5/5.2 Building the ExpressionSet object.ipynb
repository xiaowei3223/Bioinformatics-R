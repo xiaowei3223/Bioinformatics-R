{
 "cells": [
  {
   "cell_type": "markdown",
   "metadata": {},
   "source": [
    "The ExpressionSet class in Bioconductor represents a combination of several different\n",
    "sources of information into one data structure. For an array, it contains the intensities,\n",
    "phenotype data, and experiment information as well as annotation information. When we read\n",
    "a set of CEL files using the ReadAffy or read.affyBatch function, an AffyBatch object\n",
    "is created that extends the ExpressionSet structure. The AffyBatch object is probe-level\n",
    "data, whereas ExpressionSet is probeset-level data, which is extended to a probe level by\n",
    "AffyBatch. Sometimes, we have intensity values in the form of a table, matrix, or data\n",
    "frame together with phenotype data, experiment details, and annotations as separate\n",
    "objects (or files). We must create an ExpressionSet object from these individual files from\n",
    "scratch to facilitate the analysis work. This recipe will present the solution to this problem.\n",
    "\n",
    "ExpressionSet类在Bioconductor中主要是将几种不同信息资源整合转换的一个数据结构。对于一个数组，它包含强度、表型数据、实验信息、注释信息。当我们读取CEL文件时使用ReadAffy或read.affyBatch函数。一个Affybatch对象就是用来扩展ExpressionSet结构。Affybatch对象是probe水平数据，而ExpressionSet是通过AffyBatch对probe水平数据扩展得到的probeset水平数据。有时，强度值以表、矩阵或数据的形式连同表型数据、实验细节和注释都独立成为一个文件（或对象）。我们必须从这些独立的文件中创建一个ExpressionSet对象以便于后面的分析工作。\n",
    "\n",
    "这个教程就是提供解决这个问题的方案。"
   ]
  },
  {
   "cell_type": "raw",
   "metadata": {},
   "source": [
    "首先我们需要实验信息、表型数据、注释信息、元数据、实验描述等这些信息的不同类型文件。\n",
    "在这个教程是通过简单写入需要的部分到myData对象中。"
   ]
  },
  {
   "cell_type": "markdown",
   "metadata": {},
   "source": [
    "1. Install and load the Biobase library, if not already loaded(it gets loaded by default when you load the affy library), as follows:\n",
    "\n",
    "安装并加载Biobase， 一般情况下当你加载affy时，会自动加载Biobase"
   ]
  },
  {
   "cell_type": "code",
   "execution_count": 1,
   "metadata": {
    "scrolled": false
   },
   "outputs": [
    {
     "name": "stderr",
     "output_type": "stream",
     "text": [
      "Bioconductor version 3.7 (BiocInstaller 1.30.0), ?biocLite for help\n",
      "A newer version of Bioconductor is available for this version of R,\n",
      "  ?BiocUpgrade for help\n",
      "BioC_mirror: https://bioconductor.org\n",
      "Using Bioconductor 3.7 (BiocInstaller 1.30.0), R 3.5.1 (2018-07-02).\n",
      "Installing package(s) 'Biobase'\n"
     ]
    },
    {
     "name": "stdout",
     "output_type": "stream",
     "text": [
      "package 'Biobase' successfully unpacked and MD5 sums checked\n",
      "\n",
      "The downloaded binary packages are in\n",
      "\tC:\\Users\\Administrator\\AppData\\Local\\Temp\\RtmpGKXWpp\\downloaded_packages\n"
     ]
    },
    {
     "name": "stderr",
     "output_type": "stream",
     "text": [
      "Old packages: 'ade4', 'ape', 'backports', 'BH', 'BiocManager', 'broom',\n",
      "  'callr', 'caret', 'checkpoint', 'class', 'cli', 'clipr', 'codetools',\n",
      "  'colorspace', 'curl', 'data.table', 'dbplyr', 'ddalpha', 'digest', 'dimRed',\n",
      "  'doParallel', 'dplyr', 'evaluate', 'fansi', 'forcats', 'foreign', 'ggplot2',\n",
      "  'haven', 'htmlwidgets', 'httpuv', 'httr', 'igraph', 'ipred', 'IRdisplay',\n",
      "  'IRkernel', 'jsonlite', 'kernlab', 'knitr', 'later', 'lattice', 'lava',\n",
      "  'magic', 'markdown', 'MASS', 'Matrix', 'mgcv', 'mime', 'MKmisc',\n",
      "  'ModelMetrics', 'modelr', 'openssl', 'pillar', 'pkgconfig', 'pls',\n",
      "  'processx', 'purrr', 'R6', 'Rcpp', 'readr', 'readxl', 'recipes', 'repr',\n",
      "  'reprex', 'rlang', 'rmarkdown', 'robustbase', 'rstudioapi', 'RUnit',\n",
      "  'scales', 'sfsmisc', 'shiny', 'stringi', 'stringr', 'survival', 'testthat',\n",
      "  'tibble', 'tidyr', 'tidyselect', 'tinytex', 'TTR', 'xfun', 'XML', 'xtable',\n",
      "  'xts', 'zoo'\n"
     ]
    }
   ],
   "source": [
    "source(\"https://bioconductor.org/biocLite.R\")\n",
    "biocLite(\"Biobase\")"
   ]
  },
  {
   "cell_type": "code",
   "execution_count": 2,
   "metadata": {
    "scrolled": true
   },
   "outputs": [
    {
     "name": "stderr",
     "output_type": "stream",
     "text": [
      "Loading required package: BiocGenerics\n",
      "Loading required package: parallel\n",
      "\n",
      "Attaching package: 'BiocGenerics'\n",
      "\n",
      "The following objects are masked from 'package:parallel':\n",
      "\n",
      "    clusterApply, clusterApplyLB, clusterCall, clusterEvalQ,\n",
      "    clusterExport, clusterMap, parApply, parCapply, parLapply,\n",
      "    parLapplyLB, parRapply, parSapply, parSapplyLB\n",
      "\n",
      "The following objects are masked from 'package:stats':\n",
      "\n",
      "    IQR, mad, sd, var, xtabs\n",
      "\n",
      "The following objects are masked from 'package:base':\n",
      "\n",
      "    anyDuplicated, append, as.data.frame, basename, cbind, colMeans,\n",
      "    colnames, colSums, dirname, do.call, duplicated, eval, evalq,\n",
      "    Filter, Find, get, grep, grepl, intersect, is.unsorted, lapply,\n",
      "    lengths, Map, mapply, match, mget, order, paste, pmax, pmax.int,\n",
      "    pmin, pmin.int, Position, rank, rbind, Reduce, rowMeans, rownames,\n",
      "    rowSums, sapply, setdiff, sort, table, tapply, union, unique,\n",
      "    unsplit, which, which.max, which.min\n",
      "\n",
      "Welcome to Bioconductor\n",
      "\n",
      "    Vignettes contain introductory material; view with\n",
      "    'browseVignettes()'. To cite Bioconductor, see\n",
      "    'citation(\"Biobase\")', and for packages 'citation(\"pkgname\")'.\n",
      "\n",
      "\n",
      "Attaching package: 'Biobase'\n",
      "\n",
      "The following object is masked from 'package:BiocGenerics':\n",
      "\n",
      "    dims\n",
      "\n"
     ]
    }
   ],
   "source": [
    "library(\"Biobase\")"
   ]
  },
  {
   "cell_type": "markdown",
   "metadata": {},
   "source": [
    "2. As a demo expression file and the phenotypic data(pData) file, we will use the built-in data for the Biobase library, whose location can be fetcched as follows:\n",
    "\n",
    "作为演示表达式文件和表型数据(pData)文件，我们将使用Biobase库的内置数据，它的位置可以如下所示:"
   ]
  },
  {
   "cell_type": "code",
   "execution_count": 3,
   "metadata": {},
   "outputs": [],
   "source": [
    "DIR <- system.file(\"extdata\", package=\"Biobase\")\n",
    "exprsLoc <- file.path(DIR, \"exprsData.txt\")\n",
    "pDataLoc <- file.path(DIR, \"pData.txt\")"
   ]
  },
  {
   "cell_type": "code",
   "execution_count": 4,
   "metadata": {},
   "outputs": [
    {
     "data": {
      "text/html": [
       "'C:/ProgramData/Anaconda3/Lib/R/library/Biobase/extdata/pData.txt'"
      ],
      "text/latex": [
       "'C:/ProgramData/Anaconda3/Lib/R/library/Biobase/extdata/pData.txt'"
      ],
      "text/markdown": [
       "'C:/ProgramData/Anaconda3/Lib/R/library/Biobase/extdata/pData.txt'"
      ],
      "text/plain": [
       "[1] \"C:/ProgramData/Anaconda3/Lib/R/library/Biobase/extdata/pData.txt\""
      ]
     },
     "metadata": {},
     "output_type": "display_data"
    }
   ],
   "source": [
    "pDataLoc"
   ]
  },
  {
   "cell_type": "markdown",
   "metadata": {},
   "source": [
    "3. Read the table from the text file that contains the expression values using the usual read.table or read.csv function as follows:\n",
    "\n",
    "使用通常的读取操作从包含表达式值的文本文件中读取该表。使用read.table或者read.csv函数。"
   ]
  },
  {
   "cell_type": "code",
   "execution_count": 5,
   "metadata": {},
   "outputs": [],
   "source": [
    "exprs <- as.matrix(read.csv(exprsLoc, header = TRUE, sep =\"\\t\", row.names = 1, as.is = TRUE))"
   ]
  },
  {
   "cell_type": "code",
   "execution_count": 6,
   "metadata": {},
   "outputs": [
    {
     "data": {
      "text/html": [
       "<table>\n",
       "<thead><tr><th></th><th scope=col>A</th><th scope=col>B</th><th scope=col>C</th><th scope=col>D</th><th scope=col>E</th><th scope=col>F</th><th scope=col>G</th><th scope=col>H</th><th scope=col>I</th><th scope=col>J</th><th scope=col>...</th><th scope=col>Q</th><th scope=col>R</th><th scope=col>S</th><th scope=col>T</th><th scope=col>U</th><th scope=col>V</th><th scope=col>W</th><th scope=col>X</th><th scope=col>Y</th><th scope=col>Z</th></tr></thead>\n",
       "<tbody>\n",
       "\t<tr><th scope=row>AFFX-MurIL2_at</th><td>192.7420 </td><td> 85.75330</td><td>176.7570 </td><td>135.5750 </td><td>64.49390 </td><td>76.3569  </td><td>160.5050 </td><td>65.9631  </td><td>56.9039  </td><td>135.60800</td><td>...      </td><td>179.8450 </td><td>152.4670 </td><td>180.83400</td><td>85.4146  </td><td>157.98900</td><td>146.8000 </td><td>93.8829  </td><td>103.85500</td><td>64.4340  </td><td>175.61500</td></tr>\n",
       "\t<tr><th scope=row>AFFX-MurIL10_at</th><td> 97.1370 </td><td>126.19600</td><td> 77.9216 </td><td> 93.3713 </td><td>24.39860 </td><td>85.5088  </td><td> 98.9086 </td><td>81.6932  </td><td>97.8015  </td><td> 90.48380</td><td>...      </td><td> 87.6806 </td><td>108.0320 </td><td>134.26300</td><td>91.4031  </td><td> -8.68811</td><td> 85.0212 </td><td>79.2998  </td><td> 71.65520</td><td>64.2369  </td><td> 78.70680</td></tr>\n",
       "\t<tr><th scope=row>AFFX-MurIL4_at</th><td> 45.8192 </td><td>  8.83135</td><td> 33.0632 </td><td> 28.7072 </td><td> 5.94492 </td><td>28.2925  </td><td> 30.9694 </td><td>14.7923  </td><td>14.2399  </td><td> 34.48740</td><td>...      </td><td> 32.7911 </td><td> 33.5292 </td><td> 19.81720</td><td>20.4190  </td><td> 26.87200</td><td> 31.1488 </td><td>22.3420  </td><td> 19.01350</td><td>12.1686  </td><td> 17.37800</td></tr>\n",
       "\t<tr><th scope=row>AFFX-MurFAS_at</th><td> 22.5445 </td><td>  3.60093</td><td> 14.6883 </td><td> 12.3397 </td><td>36.86630 </td><td>11.2568  </td><td> 23.0034 </td><td>16.2134  </td><td>12.0375  </td><td>  4.54978</td><td>...      </td><td> 15.9488 </td><td> 14.6753 </td><td> -7.91911</td><td>12.8875  </td><td> 11.91860</td><td> 12.8324 </td><td>11.1390  </td><td>  7.55564</td><td>19.9849  </td><td>  8.96849</td></tr>\n",
       "\t<tr><th scope=row>AFFX-BioB-5_at</th><td> 96.7875 </td><td> 30.43800</td><td> 46.1271 </td><td> 70.9319 </td><td>56.17440 </td><td>42.6756  </td><td> 86.5156 </td><td>30.7927  </td><td>19.7183  </td><td> 46.35200</td><td>...      </td><td> 58.6239 </td><td>114.0620 </td><td> 93.44020</td><td>22.5168  </td><td> 48.64620</td><td> 90.2215 </td><td>42.0053  </td><td> 57.57380</td><td>44.8216  </td><td> 61.70440</td></tr>\n",
       "\t<tr><th scope=row>AFFX-BioB-M_at</th><td> 89.0730 </td><td> 25.84610</td><td> 57.2033 </td><td> 69.9766 </td><td>49.58220 </td><td>26.1262  </td><td> 75.0083 </td><td>42.3352  </td><td>41.1207  </td><td> 91.53070</td><td>...      </td><td> 58.1331 </td><td>104.1220 </td><td>115.83100</td><td>58.1224  </td><td> 73.42210</td><td> 64.6066 </td><td>40.3068  </td><td> 41.82090</td><td>46.1087  </td><td> 49.41220</td></tr>\n",
       "</tbody>\n",
       "</table>\n"
      ],
      "text/latex": [
       "\\begin{tabular}{r|llllllllllllllllllllllllll}\n",
       "  & A & B & C & D & E & F & G & H & I & J & ... & Q & R & S & T & U & V & W & X & Y & Z\\\\\n",
       "\\hline\n",
       "\tAFFX-MurIL2\\_at & 192.7420  &  85.75330 & 176.7570  & 135.5750  & 64.49390  & 76.3569   & 160.5050  & 65.9631   & 56.9039   & 135.60800 & ...       & 179.8450  & 152.4670  & 180.83400 & 85.4146   & 157.98900 & 146.8000  & 93.8829   & 103.85500 & 64.4340   & 175.61500\\\\\n",
       "\tAFFX-MurIL10\\_at &  97.1370  & 126.19600 &  77.9216  &  93.3713  & 24.39860  & 85.5088   &  98.9086  & 81.6932   & 97.8015   &  90.48380 & ...       &  87.6806  & 108.0320  & 134.26300 & 91.4031   &  -8.68811 &  85.0212  & 79.2998   &  71.65520 & 64.2369   &  78.70680\\\\\n",
       "\tAFFX-MurIL4\\_at &  45.8192  &   8.83135 &  33.0632  &  28.7072  &  5.94492  & 28.2925   &  30.9694  & 14.7923   & 14.2399   &  34.48740 & ...       &  32.7911  &  33.5292  &  19.81720 & 20.4190   &  26.87200 &  31.1488  & 22.3420   &  19.01350 & 12.1686   &  17.37800\\\\\n",
       "\tAFFX-MurFAS\\_at &  22.5445  &   3.60093 &  14.6883  &  12.3397  & 36.86630  & 11.2568   &  23.0034  & 16.2134   & 12.0375   &   4.54978 & ...       &  15.9488  &  14.6753  &  -7.91911 & 12.8875   &  11.91860 &  12.8324  & 11.1390   &   7.55564 & 19.9849   &   8.96849\\\\\n",
       "\tAFFX-BioB-5\\_at &  96.7875  &  30.43800 &  46.1271  &  70.9319  & 56.17440  & 42.6756   &  86.5156  & 30.7927   & 19.7183   &  46.35200 & ...       &  58.6239  & 114.0620  &  93.44020 & 22.5168   &  48.64620 &  90.2215  & 42.0053   &  57.57380 & 44.8216   &  61.70440\\\\\n",
       "\tAFFX-BioB-M\\_at &  89.0730  &  25.84610 &  57.2033  &  69.9766  & 49.58220  & 26.1262   &  75.0083  & 42.3352   & 41.1207   &  91.53070 & ...       &  58.1331  & 104.1220  & 115.83100 & 58.1224   &  73.42210 &  64.6066  & 40.3068   &  41.82090 & 46.1087   &  49.41220\\\\\n",
       "\\end{tabular}\n"
      ],
      "text/markdown": [
       "\n",
       "| <!--/--> | A | B | C | D | E | F | G | H | I | J | ... | Q | R | S | T | U | V | W | X | Y | Z | \n",
       "|---|---|---|---|---|---|\n",
       "| AFFX-MurIL2_at | 192.7420  |  85.75330 | 176.7570  | 135.5750  | 64.49390  | 76.3569   | 160.5050  | 65.9631   | 56.9039   | 135.60800 | ...       | 179.8450  | 152.4670  | 180.83400 | 85.4146   | 157.98900 | 146.8000  | 93.8829   | 103.85500 | 64.4340   | 175.61500 | \n",
       "| AFFX-MurIL10_at |  97.1370  | 126.19600 |  77.9216  |  93.3713  | 24.39860  | 85.5088   |  98.9086  | 81.6932   | 97.8015   |  90.48380 | ...       |  87.6806  | 108.0320  | 134.26300 | 91.4031   |  -8.68811 |  85.0212  | 79.2998   |  71.65520 | 64.2369   |  78.70680 | \n",
       "| AFFX-MurIL4_at |  45.8192  |   8.83135 |  33.0632  |  28.7072  |  5.94492  | 28.2925   |  30.9694  | 14.7923   | 14.2399   |  34.48740 | ...       |  32.7911  |  33.5292  |  19.81720 | 20.4190   |  26.87200 |  31.1488  | 22.3420   |  19.01350 | 12.1686   |  17.37800 | \n",
       "| AFFX-MurFAS_at |  22.5445  |   3.60093 |  14.6883  |  12.3397  | 36.86630  | 11.2568   |  23.0034  | 16.2134   | 12.0375   |   4.54978 | ...       |  15.9488  |  14.6753  |  -7.91911 | 12.8875   |  11.91860 |  12.8324  | 11.1390   |   7.55564 | 19.9849   |   8.96849 | \n",
       "| AFFX-BioB-5_at |  96.7875  |  30.43800 |  46.1271  |  70.9319  | 56.17440  | 42.6756   |  86.5156  | 30.7927   | 19.7183   |  46.35200 | ...       |  58.6239  | 114.0620  |  93.44020 | 22.5168   |  48.64620 |  90.2215  | 42.0053   |  57.57380 | 44.8216   |  61.70440 | \n",
       "| AFFX-BioB-M_at |  89.0730  |  25.84610 |  57.2033  |  69.9766  | 49.58220  | 26.1262   |  75.0083  | 42.3352   | 41.1207   |  91.53070 | ...       |  58.1331  | 104.1220  | 115.83100 | 58.1224   |  73.42210 |  64.6066  | 40.3068   |  41.82090 | 46.1087   |  49.41220 | \n",
       "\n",
       "\n"
      ],
      "text/plain": [
       "                A        B         C        D        E        F       G       \n",
       "AFFX-MurIL2_at  192.7420  85.75330 176.7570 135.5750 64.49390 76.3569 160.5050\n",
       "AFFX-MurIL10_at  97.1370 126.19600  77.9216  93.3713 24.39860 85.5088  98.9086\n",
       "AFFX-MurIL4_at   45.8192   8.83135  33.0632  28.7072  5.94492 28.2925  30.9694\n",
       "AFFX-MurFAS_at   22.5445   3.60093  14.6883  12.3397 36.86630 11.2568  23.0034\n",
       "AFFX-BioB-5_at   96.7875  30.43800  46.1271  70.9319 56.17440 42.6756  86.5156\n",
       "AFFX-BioB-M_at   89.0730  25.84610  57.2033  69.9766 49.58220 26.1262  75.0083\n",
       "                H       I       J         ... Q        R        S        \n",
       "AFFX-MurIL2_at  65.9631 56.9039 135.60800 ... 179.8450 152.4670 180.83400\n",
       "AFFX-MurIL10_at 81.6932 97.8015  90.48380 ...  87.6806 108.0320 134.26300\n",
       "AFFX-MurIL4_at  14.7923 14.2399  34.48740 ...  32.7911  33.5292  19.81720\n",
       "AFFX-MurFAS_at  16.2134 12.0375   4.54978 ...  15.9488  14.6753  -7.91911\n",
       "AFFX-BioB-5_at  30.7927 19.7183  46.35200 ...  58.6239 114.0620  93.44020\n",
       "AFFX-BioB-M_at  42.3352 41.1207  91.53070 ...  58.1331 104.1220 115.83100\n",
       "                T       U         V        W       X         Y       Z        \n",
       "AFFX-MurIL2_at  85.4146 157.98900 146.8000 93.8829 103.85500 64.4340 175.61500\n",
       "AFFX-MurIL10_at 91.4031  -8.68811  85.0212 79.2998  71.65520 64.2369  78.70680\n",
       "AFFX-MurIL4_at  20.4190  26.87200  31.1488 22.3420  19.01350 12.1686  17.37800\n",
       "AFFX-MurFAS_at  12.8875  11.91860  12.8324 11.1390   7.55564 19.9849   8.96849\n",
       "AFFX-BioB-5_at  22.5168  48.64620  90.2215 42.0053  57.57380 44.8216  61.70440\n",
       "AFFX-BioB-M_at  58.1224  73.42210  64.6066 40.3068  41.82090 46.1087  49.41220"
      ]
     },
     "metadata": {},
     "output_type": "display_data"
    }
   ],
   "source": [
    "head(exprs)"
   ]
  },
  {
   "cell_type": "markdown",
   "metadata": {},
   "source": [
    "4. Now, check the object created previously. It should be a matrix:\n",
    "\n",
    "现在，检查前面创建的对象，应该是一个矩阵："
   ]
  },
  {
   "cell_type": "code",
   "execution_count": 7,
   "metadata": {},
   "outputs": [
    {
     "data": {
      "text/html": [
       "'matrix'"
      ],
      "text/latex": [
       "'matrix'"
      ],
      "text/markdown": [
       "'matrix'"
      ],
      "text/plain": [
       "[1] \"matrix\""
      ]
     },
     "metadata": {},
     "output_type": "display_data"
    }
   ],
   "source": [
    "class(exprs)"
   ]
  },
  {
   "cell_type": "code",
   "execution_count": 8,
   "metadata": {},
   "outputs": [
    {
     "data": {
      "text/html": [
       "<ol class=list-inline>\n",
       "\t<li>500</li>\n",
       "\t<li>26</li>\n",
       "</ol>\n"
      ],
      "text/latex": [
       "\\begin{enumerate*}\n",
       "\\item 500\n",
       "\\item 26\n",
       "\\end{enumerate*}\n"
      ],
      "text/markdown": [
       "1. 500\n",
       "2. 26\n",
       "\n",
       "\n"
      ],
      "text/plain": [
       "[1] 500  26"
      ]
     },
     "metadata": {},
     "output_type": "display_data"
    }
   ],
   "source": [
    "dim(exprs)"
   ]
  },
  {
   "cell_type": "markdown",
   "metadata": {},
   "source": [
    "5. Now, read the phenotype information file in a similar way using the read.csv function as follows:\n",
    "\n",
    "用read.csv函数读取表型数据信息"
   ]
  },
  {
   "cell_type": "code",
   "execution_count": 9,
   "metadata": {},
   "outputs": [],
   "source": [
    "pData <- read.table(pDataLoc, row.names =1,header=TRUE, sep= \"\\t\")"
   ]
  },
  {
   "cell_type": "code",
   "execution_count": 10,
   "metadata": {},
   "outputs": [],
   "source": [
    "pData <- new(\"AnnotatedDataFrame\", data=pData)"
   ]
  },
  {
   "cell_type": "markdown",
   "metadata": {},
   "source": [
    "6. Compile the experiment information, an object of the MIAME class with slots for inverstigator name, lab name, and so on as follows:\n",
    " \n",
    " 编译实验信息，MIAME类的一个对象，该对象具有用于逆变器名称、实验室名称等的插槽，如下图所示:"
   ]
  },
  {
   "cell_type": "code",
   "execution_count": 11,
   "metadata": {},
   "outputs": [],
   "source": [
    "exData <- new(\"MIAME\", name=\"ABCabc\", lab=\"XYZ Lab\", contact=\"abc@xyz\", title=\"\", abstract=\"\", url=\"www.xyz\")"
   ]
  },
  {
   "cell_type": "markdown",
   "metadata": {},
   "source": [
    "7. It is also important to know the chip annotation as it is a part of the ExpressionSet object for this data. Use the hgu95av2 annotation for this purpose.\n",
    "\n",
    " (因为了解芯片注释非常重要，因为它是此数据的ExpressionSet对象的一部分。以hgu95av2芯片注释为例。使用前面步骤中编译的信息创建一个新的ExpressionSet对象。)"
   ]
  },
  {
   "cell_type": "markdown",
   "metadata": {},
   "source": [
    "8. Now, create a new ExpressionSet object using the information compilied in the previous steps as follows:\n",
    "\n",
    " 创建一个新的ExpressionSet对象："
   ]
  },
  {
   "cell_type": "code",
   "execution_count": 12,
   "metadata": {},
   "outputs": [
    {
     "data": {
      "text/plain": [
       "ExpressionSet (storageMode: lockedEnvironment)\n",
       "assayData: 500 features, 26 samples \n",
       "  element names: exprs \n",
       "protocolData: none\n",
       "phenoData\n",
       "  sampleNames: A B ... Z (26 total)\n",
       "  varLabels: gender type score\n",
       "  varMetadata: labelDescription\n",
       "featureData: none\n",
       "experimentData: use 'experimentData(object)'\n",
       "Annotation: hgu133a2 "
      ]
     },
     "metadata": {},
     "output_type": "display_data"
    }
   ],
   "source": [
    "exampleSet <- new(\"ExpressionSet\", exprs = exprs, phenoData = pData, experimentData = exData, annotation = \"hgu133a2\")\n",
    "exampleSet"
   ]
  },
  {
   "cell_type": "code",
   "execution_count": 13,
   "metadata": {},
   "outputs": [],
   "source": [
    "exampleSetexampleSet <- new(\"ExpressionSet\", exprs=exprs, phenoData=pData, experimentData=exData, annotation=\"hgu133a2\")"
   ]
  },
  {
   "cell_type": "markdown",
   "metadata": {},
   "source": [
    "9. To check your object, simply type in the object name or check the structue with the str function as follows:\n",
    "\n",
    " 检查对象："
   ]
  },
  {
   "cell_type": "code",
   "execution_count": 14,
   "metadata": {},
   "outputs": [
    {
     "name": "stdout",
     "output_type": "stream",
     "text": [
      "Formal class 'ExpressionSet' [package \"Biobase\"] with 7 slots\n",
      "  ..@ experimentData   :Formal class 'MIAME' [package \"Biobase\"] with 13 slots\n",
      "  .. .. ..@ name             : chr \"ABCabc\"\n",
      "  .. .. ..@ lab              : chr \"XYZ Lab\"\n",
      "  .. .. ..@ contact          : chr \"abc@xyz\"\n",
      "  .. .. ..@ title            : chr \"\"\n",
      "  .. .. ..@ abstract         : chr \"\"\n",
      "  .. .. ..@ url              : chr \"www.xyz\"\n",
      "  .. .. ..@ pubMedIds        : chr \"\"\n",
      "  .. .. ..@ samples          : list()\n",
      "  .. .. ..@ hybridizations   : list()\n",
      "  .. .. ..@ normControls     : list()\n",
      "  .. .. ..@ preprocessing    : list()\n",
      "  .. .. ..@ other            : list()\n",
      "  .. .. ..@ .__classVersion__:Formal class 'Versions' [package \"Biobase\"] with 1 slot\n",
      "  .. .. .. .. ..@ .Data:List of 2\n",
      "  .. .. .. .. .. ..$ : int [1:3] 1 0 0\n",
      "  .. .. .. .. .. ..$ : int [1:3] 1 1 0\n",
      "  ..@ assayData        :<environment: 0x000000000b71bb80> \n",
      "  ..@ phenoData        :Formal class 'AnnotatedDataFrame' [package \"Biobase\"] with 4 slots\n",
      "  .. .. ..@ varMetadata      :'data.frame':\t3 obs. of  1 variable:\n",
      "  .. .. .. ..$ labelDescription: chr [1:3] NA NA NA\n",
      "  .. .. ..@ data             :'data.frame':\t26 obs. of  3 variables:\n",
      "  .. .. .. ..$ gender: Factor w/ 2 levels \"Female\",\"Male\": 1 2 2 2 1 2 2 2 1 2 ...\n",
      "  .. .. .. ..$ type  : Factor w/ 2 levels \"Case\",\"Control\": 2 1 2 1 1 2 1 1 1 2 ...\n",
      "  .. .. .. ..$ score : num [1:26] 0.75 0.4 0.73 0.42 0.93 0.22 0.96 0.79 0.37 0.63 ...\n",
      "  .. .. ..@ dimLabels        : chr [1:2] \"sampleNames\" \"sampleColumns\"\n",
      "  .. .. ..@ .__classVersion__:Formal class 'Versions' [package \"Biobase\"] with 1 slot\n",
      "  .. .. .. .. ..@ .Data:List of 1\n",
      "  .. .. .. .. .. ..$ : int [1:3] 1 1 0\n",
      "  ..@ featureData      :Formal class 'AnnotatedDataFrame' [package \"Biobase\"] with 4 slots\n",
      "  .. .. ..@ varMetadata      :'data.frame':\t0 obs. of  1 variable:\n",
      "  .. .. .. ..$ labelDescription: chr(0) \n",
      "  .. .. ..@ data             :'data.frame':\t500 obs. of  0 variables\n",
      "  .. .. ..@ dimLabels        : chr [1:2] \"featureNames\" \"featureColumns\"\n",
      "  .. .. ..@ .__classVersion__:Formal class 'Versions' [package \"Biobase\"] with 1 slot\n",
      "  .. .. .. .. ..@ .Data:List of 1\n",
      "  .. .. .. .. .. ..$ : int [1:3] 1 1 0\n",
      "  ..@ annotation       : chr \"hgu133a2\"\n",
      "  ..@ protocolData     :Formal class 'AnnotatedDataFrame' [package \"Biobase\"] with 4 slots\n",
      "  .. .. ..@ varMetadata      :'data.frame':\t0 obs. of  1 variable:\n",
      "  .. .. .. ..$ labelDescription: chr(0) \n",
      "  .. .. ..@ data             :'data.frame':\t26 obs. of  0 variables\n",
      "  .. .. ..@ dimLabels        : chr [1:2] \"sampleNames\" \"sampleColumns\"\n",
      "  .. .. ..@ .__classVersion__:Formal class 'Versions' [package \"Biobase\"] with 1 slot\n",
      "  .. .. .. .. ..@ .Data:List of 1\n",
      "  .. .. .. .. .. ..$ : int [1:3] 1 1 0\n",
      "  ..@ .__classVersion__:Formal class 'Versions' [package \"Biobase\"] with 1 slot\n",
      "  .. .. ..@ .Data:List of 4\n",
      "  .. .. .. ..$ : int [1:3] 3 5 0\n",
      "  .. .. .. ..$ : int [1:3] 2 40 0\n",
      "  .. .. .. ..$ : int [1:3] 1 3 0\n",
      "  .. .. .. ..$ : int [1:3] 1 0 0\n"
     ]
    }
   ],
   "source": [
    "str(exampleSet)"
   ]
  },
  {
   "cell_type": "markdown",
   "metadata": {},
   "source": [
    "10. Test the validity of the object created before continuing with the analysis, as follows:\n",
    "\n",
    " 测试对象的真实性："
   ]
  },
  {
   "cell_type": "code",
   "execution_count": 15,
   "metadata": {},
   "outputs": [
    {
     "data": {
      "text/html": [
       "TRUE"
      ],
      "text/latex": [
       "TRUE"
      ],
      "text/markdown": [
       "TRUE"
      ],
      "text/plain": [
       "[1] TRUE"
      ]
     },
     "metadata": {},
     "output_type": "display_data"
    }
   ],
   "source": [
    "validObject(exampleSet)"
   ]
  },
  {
   "cell_type": "markdown",
   "metadata": {},
   "source": [
    "11. To convert an AffyBatch object to ExpressionSet, simply use the AffyBatch components directly to create a new ExpressionSet object, as shown in step 6. "
   ]
  },
  {
   "cell_type": "markdown",
   "metadata": {},
   "source": [
    "In this recipe, we read different information files individually using the conventional\n",
    "read.csv function in a matrix or data frame. The expression data is a matrix that contains\n",
    "the intensities measured, whereas the phenotypic data carries information about the\n",
    "conditions (for example, control or disease) of the data and samples. The experimental\n",
    "data simply has certain formal information, and it is not obligatory to fill it in. As the\n",
    "order is very important for the final eSet, we check the validity of the created object. The\n",
    "annotation chip used is because the built-in data for the package actually comes from the\n",
    "hgu133a2Affymetrix chip. For example, if the sample names in the expression data\n",
    "and phenotypic data are different, the function will return the object as invalid. These\n",
    "individual objects are then assembled into ExpressionSet by creating a new object. Each\n",
    "component of ExpressionSet has its own role. The exprs object is the expression data,\n",
    "the phenotypic data summarizes information about the samples (for example, the sex, age,\n",
    "and treatment status—referred to as covariates), and the annotated package provides basic\n",
    "data manipulation tools for the metadata packages. This can be done with any platform, be it\n",
    "Affymetrix or Illumina.\n",
    "\n",
    "在这个教程中，我们使用常规方法read.csv函数分别读取不同的信息文件。表达式数据是一个包含测量的强度，而表型数据携带有关的信息数据和样本的状况（比如，对照和疾病）。实验数据只是具有特定的正式信息，并不一定要填写它。随着顺序对于最终的eSet，我们检查创建的对象的有效性。使用注释芯片是因为包的内置数据实际上来自hgu133a2Affymetrix芯片。例如，如果表达式数据中的示例名称而表型数据不同，函数将返回无效的对象。这些通过创建一个新对象将单个对象组装到ExpressionSet中。每一个ExpreessionSet组建有自己的角色。exprs对象是表达式数据，表型数据总结了关于样本的信息（例如：性别、年龄、以及处理状态--设计协变量，带注释的包提供了基本的元数据包的数据操作工具。这可以在任何平台上完成，比如Affymetrix、Illumina。"
   ]
  }
 ],
 "metadata": {
  "kernelspec": {
   "display_name": "R",
   "language": "R",
   "name": "ir"
  },
  "language_info": {
   "codemirror_mode": "r",
   "file_extension": ".r",
   "mimetype": "text/x-r-source",
   "name": "R",
   "pygments_lexer": "r",
   "version": "3.5.1"
  }
 },
 "nbformat": 4,
 "nbformat_minor": 2
}
