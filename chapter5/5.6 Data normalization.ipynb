{
 "cells": [
  {
   "cell_type": "markdown",
   "metadata": {},
   "source": [
    "Microarrays are high-throughput methods that measure the expression levels of thousands of genes simultaneously. Each sample receives different conditions. A small difference in RNA quantities or/and experimental errors may cause the intensity level to vary from one replicate to the other. This can be irrespective of the biological expression of genes. Handling this inherent problem requires the normalization of data. This minimizes the technical effects, rendering the data comparable. This recipe will explore a few of the many normalization methods developed for data normalization in R.\n",
    "\n",
    "微阵列是同时检测数千个基因表达水平的高通量方法。每个样本接受不同的条件。RNA数量的微小差异或/和实验误差可能会导致强度水平在不同的复制之间发生变化。这与基因的生物学表达无关。处理这个固有的问题需要数据的规范化。让技术影响最小化，使数据具有可比性。本文将探索R中为数据规范化开发的许多规范化方法中的一些。"
   ]
  },
  {
   "cell_type": "markdown",
   "metadata": {},
   "source": [
    "1. get the data into the R session as an AffyBatch object or a matrix, already shown in previous recipes, as follows( in our case, we use the myData object that was created in the reading CEL files recipe; let's repeat the step again for convenience):\n",
    "\n",
    " 将数据作为AffyBatch对象或矩阵(在前面的菜谱中已经显示)放入R会话中，如下所示(在本例中，我们使用在读取CEL文件菜谱中创建的myData对象;为方便起见，让我们再重复一遍):"
   ]
  },
  {
   "cell_type": "code",
   "execution_count": 2,
   "metadata": {},
   "outputs": [
    {
     "name": "stderr",
     "output_type": "stream",
     "text": [
      "Loading required package: BiocGenerics\n",
      "Loading required package: parallel\n",
      "\n",
      "Attaching package: 'BiocGenerics'\n",
      "\n",
      "The following objects are masked from 'package:parallel':\n",
      "\n",
      "    clusterApply, clusterApplyLB, clusterCall, clusterEvalQ,\n",
      "    clusterExport, clusterMap, parApply, parCapply, parLapply,\n",
      "    parLapplyLB, parRapply, parSapply, parSapplyLB\n",
      "\n",
      "The following objects are masked from 'package:stats':\n",
      "\n",
      "    IQR, mad, sd, var, xtabs\n",
      "\n",
      "The following objects are masked from 'package:base':\n",
      "\n",
      "    anyDuplicated, append, as.data.frame, basename, cbind, colMeans,\n",
      "    colnames, colSums, dirname, do.call, duplicated, eval, evalq,\n",
      "    Filter, Find, get, grep, grepl, intersect, is.unsorted, lapply,\n",
      "    lengths, Map, mapply, match, mget, order, paste, pmax, pmax.int,\n",
      "    pmin, pmin.int, Position, rank, rbind, Reduce, rowMeans, rownames,\n",
      "    rowSums, sapply, setdiff, sort, table, tapply, union, unique,\n",
      "    unsplit, which, which.max, which.min\n",
      "\n",
      "Loading required package: Biobase\n",
      "Welcome to Bioconductor\n",
      "\n",
      "    Vignettes contain introductory material; view with\n",
      "    'browseVignettes()'. To cite Bioconductor, see\n",
      "    'citation(\"Biobase\")', and for packages 'citation(\"pkgname\")'.\n",
      "\n",
      "\n",
      "Attaching package: 'Biobase'\n",
      "\n",
      "The following object is masked from 'package:BiocGenerics':\n",
      "\n",
      "    dims\n",
      "\n"
     ]
    }
   ],
   "source": [
    "library(affy)"
   ]
  },
  {
   "cell_type": "code",
   "execution_count": 3,
   "metadata": {},
   "outputs": [],
   "source": [
    "myData <-ReadAffy(celfile.path=\"C:/Users/Administrator/bioinformatics_with_R/chapter5/GSE24460_RAW\")"
   ]
  },
  {
   "cell_type": "markdown",
   "metadata": {},
   "source": [
    "There are many possible types of normalizations. In this recipe, we focus on three methods:the vsn, loess, and quantile nomalizations.\n",
    "\n",
    " 标准化有许多可能的类型。在这个教程中，我们重点介绍三种方法:vsn、loess和分位数规范化。"
   ]
  },
  {
   "cell_type": "markdown",
   "metadata": {},
   "source": [
    "2. To do a vsn normalization, you need a library named vsn. Install and load it into the R session as follows:\n",
    "\n",
    " 要进行vsn规范化，需要一个名为vsn的库。按照如下方式将其安装并加载到R会话中："
   ]
  },
  {
   "cell_type": "code",
   "execution_count": 2,
   "metadata": {},
   "outputs": [
    {
     "name": "stderr",
     "output_type": "stream",
     "text": [
      "Bioconductor version 3.7 (BiocInstaller 1.30.0), ?biocLite for help\n",
      "A newer version of Bioconductor is available for this version of R,\n",
      "  ?BiocUpgrade for help\n",
      "BioC_mirror: http://mirrors.ustc.edu.cn/bioc/\n",
      "Using Bioconductor 3.7 (BiocInstaller 1.30.0), R 3.5.1 (2018-07-02).\n",
      "Installing package(s) 'vsn'\n"
     ]
    },
    {
     "name": "stdout",
     "output_type": "stream",
     "text": [
      "package 'vsn' successfully unpacked and MD5 sums checked\n",
      "\n",
      "The downloaded binary packages are in\n",
      "\tC:\\Users\\Administrator\\AppData\\Local\\Temp\\RtmpoHkoWN\\downloaded_packages\n"
     ]
    },
    {
     "name": "stderr",
     "output_type": "stream",
     "text": [
      "Old packages: 'ade4', 'ape', 'backports', 'BH', 'BiocManager'\n"
     ]
    }
   ],
   "source": [
    "source(\"http://bioconductor.org/biocLite.R\")\n",
    "options(BioC_mirror=\"http://mirrors.ustc.edu.cn/bioc/\")\n",
    "biocLite(\"vsn\")"
   ]
  },
  {
   "cell_type": "code",
   "execution_count": 3,
   "metadata": {},
   "outputs": [
    {
     "name": "stderr",
     "output_type": "stream",
     "text": [
      "Loading required package: Biobase\n",
      "Loading required package: BiocGenerics\n",
      "Loading required package: parallel\n",
      "\n",
      "Attaching package: 'BiocGenerics'\n",
      "\n",
      "The following objects are masked from 'package:parallel':\n",
      "\n",
      "    clusterApply, clusterApplyLB, clusterCall, clusterEvalQ,\n",
      "    clusterExport, clusterMap, parApply, parCapply, parLapply,\n",
      "    parLapplyLB, parRapply, parSapply, parSapplyLB\n",
      "\n",
      "The following objects are masked from 'package:stats':\n",
      "\n",
      "    IQR, mad, sd, var, xtabs\n",
      "\n",
      "The following objects are masked from 'package:base':\n",
      "\n",
      "    anyDuplicated, append, as.data.frame, basename, cbind, colMeans,\n",
      "    colnames, colSums, dirname, do.call, duplicated, eval, evalq,\n",
      "    Filter, Find, get, grep, grepl, intersect, is.unsorted, lapply,\n",
      "    lengths, Map, mapply, match, mget, order, paste, pmax, pmax.int,\n",
      "    pmin, pmin.int, Position, rank, rbind, Reduce, rowMeans, rownames,\n",
      "    rowSums, sapply, setdiff, sort, table, tapply, union, unique,\n",
      "    unsplit, which, which.max, which.min\n",
      "\n",
      "Welcome to Bioconductor\n",
      "\n",
      "    Vignettes contain introductory material; view with\n",
      "    'browseVignettes()'. To cite Bioconductor, see\n",
      "    'citation(\"Biobase\")', and for packages 'citation(\"pkgname\")'.\n",
      "\n",
      "\n",
      "Attaching package: 'Biobase'\n",
      "\n",
      "The following object is masked from 'package:BiocGenerics':\n",
      "\n",
      "    dims\n",
      "\n"
     ]
    }
   ],
   "source": [
    "library(vsn)"
   ]
  },
  {
   "cell_type": "markdown",
   "metadata": {},
   "source": [
    "3. Perform the vsn normalization on an AffyBatch object with the following command:\n",
    "\n",
    " 用以下命令对AffyBatch对象执行vsn规范化:"
   ]
  },
  {
   "cell_type": "code",
   "execution_count": 10,
   "metadata": {},
   "outputs": [],
   "source": [
    "myData.VSN <- normalize.AffyBatch.constant(myData)"
   ]
  },
  {
   "cell_type": "markdown",
   "metadata": {},
   "source": [
    "4. Create a boxplot for the normalized data and compare it with the boxplot for non-normalized data in the previous recipe as follows:\n",
    "\n",
    " 为规范化数据创建一个boxplot，并将其与上一教程的非规范化数据的boxplot进行比较，如下所示:"
   ]
  },
  {
   "cell_type": "code",
   "execution_count": 11,
   "metadata": {
    "scrolled": true
   },
   "outputs": [
    {
     "name": "stderr",
     "output_type": "stream",
     "text": [
      "Warning message:\n",
      "\"replacing previous import 'BiocGenerics::dims' by 'Biobase::dims' when loading 'AnnotationDbi'\"Warning message:\n",
      "\"replacing previous import 'AnnotationDbi::tail' by 'utils::tail' when loading 'hgu133a2cdf'\"Warning message:\n",
      "\"replacing previous import 'AnnotationDbi::head' by 'utils::head' when loading 'hgu133a2cdf'\"\n"
     ]
    },
    {
     "data": {
      "image/png": "[encoded data removed]",
      "text/plain": [
       "Plot with title \"\""
      ]
     },
     "metadata": {},
     "output_type": "display_data"
    }
   ],
   "source": [
    "boxplot(myData.VSN)"
   ]
  },
  {
   "cell_type": "markdown",
   "metadata": {},
   "source": [
    "5. The loess normalization uses the affy library. To do the loess normalization, use the normalize.AffyBatch.loess function as follows:\n",
    "\n",
    " loess 标准化使用affy库。要对loess 标准化，请使用normalize.AffyBatch。如下:"
   ]
  },
  {
   "cell_type": "code",
   "execution_count": 12,
   "metadata": {},
   "outputs": [
    {
     "name": "stdout",
     "output_type": "stream",
     "text": [
      "Done with 1 vs 2 in iteration 1 \n",
      "Done with 1 vs 3 in iteration 1 \n",
      "Done with 1 vs 4 in iteration 1 \n",
      "Done with 2 vs 3 in iteration 1 \n",
      "Done with 2 vs 4 in iteration 1 \n",
      "Done with 3 vs 4 in iteration 1 \n",
      "1 0.5319208 \n"
     ]
    }
   ],
   "source": [
    "    myData.loess <- normalize.AffyBatch.loess(myData)"
   ]
  },
  {
   "cell_type": "markdown",
   "metadata": {},
   "source": [
    "6. The quantile normalization uses the affy library. To do the quantile normalization, use the normalize.AffyBatch.quantile function as follows:\n",
    " \n",
    " 分位数标准化使用affy库。要做分位数标准化，使用normalize.AffyBatch。分位数函数如下："
   ]
  },
  {
   "cell_type": "code",
   "execution_count": 13,
   "metadata": {},
   "outputs": [],
   "source": [
    "myData.loess <- normalize.AffyBatch.quantiles(myData)"
   ]
  },
  {
   "cell_type": "markdown",
   "metadata": {},
   "source": [
    "7. Again, plot the boxplot for these two methods in a way similar to the one shown in step5.\n",
    " \n",
    " 同样，用类似于步骤5所示的方法绘制这两个方法的箱线图："
   ]
  },
  {
   "cell_type": "code",
   "execution_count": 14,
   "metadata": {
    "scrolled": true
   },
   "outputs": [
    {
     "data": {
      "image/png": "[encoded data removed]",
      "text/plain": [
       "Plot with title \"\""
      ]
     },
     "metadata": {},
     "output_type": "display_data"
    }
   ],
   "source": [
    "boxplot(myData.loess)"
   ]
  },
  {
   "cell_type": "markdown",
   "metadata": {},
   "source": [
    "Normalization can also be performed using the normalize.loess and normalize.quantile function with the data matrix as the input argument if the data is only a matrix of intensities.\n",
    "\n",
    " 执行规范化还可以用normalize.loess和normalize.quantile函数。如果数据只是一个强度矩阵，则以数据矩阵作为输入参数的分位数函数。"
   ]
  },
  {
   "cell_type": "markdown",
   "metadata": {},
   "source": [
    "8. Do a second round of quality check for the normalized data and observe the effect of normalization in the same way as before using arrayQualityMetrics.\n",
    "\n",
    " 对归一化数据进行第二轮质量检查，观察归一化效果，方法与使用arrayQualityMetrics之前相同。"
   ]
  }
 ],
 "metadata": {
  "kernelspec": {
   "display_name": "R",
   "language": "R",
   "name": "ir"
  },
  "language_info": {
   "codemirror_mode": "r",
   "file_extension": ".r",
   "mimetype": "text/x-r-source",
   "name": "R",
   "pygments_lexer": "r",
   "version": "3.5.1"
  }
 },
 "nbformat": 4,
 "nbformat_minor": 2
}
