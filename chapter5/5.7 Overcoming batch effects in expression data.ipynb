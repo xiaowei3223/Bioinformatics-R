{
 "cells": [
  {
   "cell_type": "markdown",
   "metadata": {},
   "source": [
    "Batch effects are the systematic errors caused when samples are processed in different batches. They represent the nonbiological differences between the samples in an experiment. The reason can be the difference in sample preparation or hybridization protocol, and so on. It can be reduced, to some extent, by careful, experimental design but cannot be eliminated completely unless the study is performed under a single batch. Batch effects render the task of combining data from different batches difficult. This ultimately reduces the power of statistical analysis of the data. This needs appropriate preprocessing before the batches are combined. This recipe will present these preprocessing techniques.\n",
    "\n",
    "批效应是指样品在不同批次加工过程中产生的系统误差。它们代表了实验中样本间的非生物差异。其原因可能是样品制备或杂交方案等方面的差异。通过仔细的实验设计可以在一定程度上减少它，但不能完全消除它，除非该研究是在单个批次下进行的。批处理效果使组合来自不同批的数据的任务变得困难。这最终会降低数据的统计分析能力。这需要在合并批次之前进行适当的预处理。本教程将介绍这些预处理技术。"
   ]
  },
  {
   "cell_type": "markdown",
   "metadata": {},
   "source": [
    "1. First, load all the required libraries. If they are not installed, you first need to install them as you did before from their respective repositories using the following commands:\n",
    "\n",
    " 第一，加载所有需要用到的R包。"
   ]
  },
  {
   "cell_type": "code",
   "execution_count": 8,
   "metadata": {
    "scrolled": true
   },
   "outputs": [
    {
     "name": "stderr",
     "output_type": "stream",
     "text": [
      "Bioconductor version 3.8 (BiocManager 1.30.1), R 3.5.1 (2018-07-02)\n",
      "Installing package(s) 'sva'\n",
      "Warning message:\n",
      "\"unable to access index for repository http://www.stats.ox.ac.uk/pub/RWin/bin/windows/contrib/3.5:\n",
      "  无法打开URL'http://www.stats.ox.ac.uk/pub/RWin/bin/windows/contrib/3.5/PACKAGES'\"Warning message:\n",
      "\"package 'sva' is in use and will not be installed\"Update old packages: 'ade4', 'ape', 'backports', 'BH', 'Biobase',\n",
      "  'BiocInstaller', 'BiocManager', 'BiocParallel', 'biomaRt', 'Biostrings',\n",
      "  'broom', 'callr', 'caret', 'checkpoint', 'class', 'cli', 'clipr',\n",
      "  'clusterProfiler', 'codetools', 'colorspace', 'curl', 'data.table', 'dbplyr',\n",
      "  'ddalpha', 'digest', 'dimRed', 'doParallel', 'DOSE', 'dplyr', 'enrichplot',\n",
      "  'evaluate', 'fansi', 'fgsea', 'forcats', 'foreign', 'GenomeInfoDb',\n",
      "  'GenomicFeatures', 'ggplot2', 'GOSemSim', 'haven', 'htmlwidgets', 'httpuv',\n",
      "  'httr', 'igraph', 'ipred', 'IRdisplay', 'IRkernel', 'jsonlite', 'kernlab',\n",
      "  'knitr', 'later', 'lattice', 'lava', 'magic', 'markdown', 'MASS', 'Matrix',\n",
      "  'mgcv', 'mime', 'MKmisc', 'ModelMetrics', 'modelr', 'muscle', 'openssl',\n",
      "  'pillar', 'pkgconfig', 'pls', 'processx', 'purrr', 'qvalue', 'R6', 'Rcpp',\n",
      "  'readr', 'readxl', 'recipes', 'repr', 'reprex', 'rlang', 'rmarkdown',\n",
      "  'robustbase', 'Rsamtools', 'rstudioapi', 'RUnit', 'scales', 'sfsmisc',\n",
      "  'shiny', 'stringi', 'stringr', 'survival', 'sva', 'testthat', 'tibble',\n",
      "  'tidyr', 'tidyselect', 'tinytex', 'TTR', 'xfun', 'XML', 'xtable', 'xts',\n",
      "  'zoo'\n"
     ]
    }
   ],
   "source": [
    "BiocManager::install(\"sva\")"
   ]
  },
  {
   "cell_type": "code",
   "execution_count": 9,
   "metadata": {},
   "outputs": [
    {
     "name": "stderr",
     "output_type": "stream",
     "text": [
      "Bioconductor version 3.8 (BiocManager 1.30.1), R 3.5.1 (2018-07-02)\n",
      "Installing package(s) 'bladderbatch'\n",
      "Warning message:\n",
      "\"unable to access index for repository http://www.stats.ox.ac.uk/pub/RWin/bin/windows/contrib/3.5:\n",
      "  无法打开URL'http://www.stats.ox.ac.uk/pub/RWin/bin/windows/contrib/3.5/PACKAGES'\"installing the source package 'bladderbatch'\n",
      "\n",
      "Update old packages: 'ade4', 'ape', 'backports', 'BH', 'Biobase',\n",
      "  'BiocInstaller', 'BiocManager', 'BiocParallel', 'biomaRt', 'Biostrings',\n",
      "  'broom', 'callr', 'caret', 'checkpoint', 'class', 'cli', 'clipr',\n",
      "  'clusterProfiler', 'codetools', 'colorspace', 'curl', 'data.table', 'dbplyr',\n",
      "  'ddalpha', 'digest', 'dimRed', 'doParallel', 'DOSE', 'dplyr', 'enrichplot',\n",
      "  'evaluate', 'fansi', 'fgsea', 'forcats', 'foreign', 'GenomeInfoDb',\n",
      "  'GenomicFeatures', 'ggplot2', 'GOSemSim', 'haven', 'htmlwidgets', 'httpuv',\n",
      "  'httr', 'igraph', 'ipred', 'IRdisplay', 'IRkernel', 'jsonlite', 'kernlab',\n",
      "  'knitr', 'later', 'lattice', 'lava', 'magic', 'markdown', 'MASS', 'Matrix',\n",
      "  'mgcv', 'mime', 'MKmisc', 'ModelMetrics', 'modelr', 'muscle', 'openssl',\n",
      "  'pillar', 'pkgconfig', 'pls', 'processx', 'purrr', 'qvalue', 'R6', 'Rcpp',\n",
      "  'readr', 'readxl', 'recipes', 'repr', 'reprex', 'rlang', 'rmarkdown',\n",
      "  'robustbase', 'Rsamtools', 'rstudioapi', 'RUnit', 'scales', 'sfsmisc',\n",
      "  'shiny', 'stringi', 'stringr', 'survival', 'sva', 'testthat', 'tibble',\n",
      "  'tidyr', 'tidyselect', 'tinytex', 'TTR', 'xfun', 'XML', 'xtable', 'xts',\n",
      "  'zoo'\n"
     ]
    }
   ],
   "source": [
    "BiocManager::install(\"bladderbatch\")"
   ]
  },
  {
   "cell_type": "code",
   "execution_count": 10,
   "metadata": {},
   "outputs": [],
   "source": [
    "library(sva)  #contains batch removing utilities"
   ]
  },
  {
   "cell_type": "code",
   "execution_count": 11,
   "metadata": {},
   "outputs": [],
   "source": [
    "library(bladderbatch)  #The data to be used"
   ]
  },
  {
   "cell_type": "markdown",
   "metadata": {},
   "source": [
    "2. Then, load bladderdata using the following data function:\n",
    " \n",
    " 加载bladderdata数据："
   ]
  },
  {
   "cell_type": "code",
   "execution_count": 12,
   "metadata": {},
   "outputs": [],
   "source": [
    "data(bladderdata)"
   ]
  },
  {
   "cell_type": "markdown",
   "metadata": {},
   "source": [
    "3. Now, extract the expression matrix and pheno data from it as follows:\n",
    "\n",
    " 提取表达信息矩阵和表型数据："
   ]
  },
  {
   "cell_type": "code",
   "execution_count": 13,
   "metadata": {},
   "outputs": [],
   "source": [
    "pheno <- pData(bladderEset)"
   ]
  },
  {
   "cell_type": "code",
   "execution_count": 14,
   "metadata": {},
   "outputs": [],
   "source": [
    "edata <- exprs(bladderEset)"
   ]
  },
  {
   "cell_type": "markdown",
   "metadata": {},
   "source": [
    "4. Before you start working with the data, take a look at the phenotypic information by typing the following command:\n",
    "\n",
    " 在对这些数据进行处理前，先查看表型信息："
   ]
  },
  {
   "cell_type": "code",
   "execution_count": 15,
   "metadata": {},
   "outputs": [
    {
     "data": {
      "text/html": [
       "<table>\n",
       "<thead><tr><th></th><th scope=col>sample</th><th scope=col>outcome</th><th scope=col>batch</th><th scope=col>cancer</th></tr></thead>\n",
       "<tbody>\n",
       "\t<tr><th scope=row>GSM71019.CEL</th><td> 1      </td><td>Normal  </td><td>3       </td><td>Normal  </td></tr>\n",
       "\t<tr><th scope=row>GSM71020.CEL</th><td> 2      </td><td>Normal  </td><td>2       </td><td>Normal  </td></tr>\n",
       "\t<tr><th scope=row>GSM71021.CEL</th><td> 3      </td><td>Normal  </td><td>2       </td><td>Normal  </td></tr>\n",
       "\t<tr><th scope=row>GSM71022.CEL</th><td> 4      </td><td>Normal  </td><td>3       </td><td>Normal  </td></tr>\n",
       "\t<tr><th scope=row>GSM71023.CEL</th><td> 5      </td><td>Normal  </td><td>3       </td><td>Normal  </td></tr>\n",
       "\t<tr><th scope=row>GSM71024.CEL</th><td> 6      </td><td>Normal  </td><td>3       </td><td>Normal  </td></tr>\n",
       "\t<tr><th scope=row>GSM71025.CEL</th><td> 7      </td><td>Normal  </td><td>2       </td><td>Normal  </td></tr>\n",
       "\t<tr><th scope=row>GSM71026.CEL</th><td> 8      </td><td>Normal  </td><td>2       </td><td>Normal  </td></tr>\n",
       "\t<tr><th scope=row>GSM71028.CEL</th><td> 9      </td><td>sTCC+CIS</td><td>5       </td><td>Cancer  </td></tr>\n",
       "\t<tr><th scope=row>GSM71029.CEL</th><td>10      </td><td>sTCC-CIS</td><td>2       </td><td>Cancer  </td></tr>\n",
       "\t<tr><th scope=row>GSM71030.CEL</th><td>11      </td><td>sTCC-CIS</td><td>5       </td><td>Cancer  </td></tr>\n",
       "\t<tr><th scope=row>GSM71031.CEL</th><td>12      </td><td>sTCC-CIS</td><td>2       </td><td>Cancer  </td></tr>\n",
       "\t<tr><th scope=row>GSM71032.CEL</th><td>13      </td><td>sTCC+CIS</td><td>5       </td><td>Cancer  </td></tr>\n",
       "\t<tr><th scope=row>GSM71033.CEL</th><td>14      </td><td>sTCC-CIS</td><td>2       </td><td>Cancer  </td></tr>\n",
       "\t<tr><th scope=row>GSM71034.CEL</th><td>15      </td><td>sTCC+CIS</td><td>5       </td><td>Cancer  </td></tr>\n",
       "\t<tr><th scope=row>GSM71035.CEL</th><td>16      </td><td>sTCC+CIS</td><td>5       </td><td>Cancer  </td></tr>\n",
       "\t<tr><th scope=row>GSM71036.CEL</th><td>17      </td><td>sTCC-CIS</td><td>2       </td><td>Cancer  </td></tr>\n",
       "\t<tr><th scope=row>GSM71037.CEL</th><td>18      </td><td>mTCC    </td><td>1       </td><td>Cancer  </td></tr>\n",
       "\t<tr><th scope=row>GSM71038.CEL</th><td>19      </td><td>sTCC+CIS</td><td>5       </td><td>Cancer  </td></tr>\n",
       "\t<tr><th scope=row>GSM71039.CEL</th><td>20      </td><td>mTCC    </td><td>1       </td><td>Cancer  </td></tr>\n",
       "\t<tr><th scope=row>GSM71040.CEL</th><td>21      </td><td>mTCC    </td><td>2       </td><td>Cancer  </td></tr>\n",
       "\t<tr><th scope=row>GSM71041.CEL</th><td>22      </td><td>mTCC    </td><td>1       </td><td>Cancer  </td></tr>\n",
       "\t<tr><th scope=row>GSM71042.CEL</th><td>23      </td><td>sTCC-CIS</td><td>2       </td><td>Cancer  </td></tr>\n",
       "\t<tr><th scope=row>GSM71043.CEL</th><td>24      </td><td>sTCC+CIS</td><td>5       </td><td>Cancer  </td></tr>\n",
       "\t<tr><th scope=row>GSM71044.CEL</th><td>25      </td><td>sTCC-CIS</td><td>2       </td><td>Cancer  </td></tr>\n",
       "\t<tr><th scope=row>GSM71045.CEL</th><td>26      </td><td>sTCC-CIS</td><td>2       </td><td>Cancer  </td></tr>\n",
       "\t<tr><th scope=row>GSM71046.CEL</th><td>27      </td><td>sTCC+CIS</td><td>5       </td><td>Cancer  </td></tr>\n",
       "\t<tr><th scope=row>GSM71047.CEL</th><td>28      </td><td>mTCC    </td><td>1       </td><td>Cancer  </td></tr>\n",
       "\t<tr><th scope=row>GSM71048.CEL</th><td>29      </td><td>mTCC    </td><td>1       </td><td>Cancer  </td></tr>\n",
       "\t<tr><th scope=row>GSM71049.CEL</th><td>30      </td><td>sTCC-CIS</td><td>2       </td><td>Cancer  </td></tr>\n",
       "\t<tr><th scope=row>GSM71050.CEL</th><td>31      </td><td>mTCC    </td><td>1       </td><td>Cancer  </td></tr>\n",
       "\t<tr><th scope=row>GSM71051.CEL</th><td>32      </td><td>mTCC    </td><td>1       </td><td>Cancer  </td></tr>\n",
       "\t<tr><th scope=row>GSM71052.CEL</th><td>33      </td><td>mTCC    </td><td>1       </td><td>Cancer  </td></tr>\n",
       "\t<tr><th scope=row>GSM71053.CEL</th><td>34      </td><td>sTCC+CIS</td><td>5       </td><td>Cancer  </td></tr>\n",
       "\t<tr><th scope=row>GSM71054.CEL</th><td>35      </td><td>mTCC    </td><td>1       </td><td>Cancer  </td></tr>\n",
       "\t<tr><th scope=row>GSM71055.CEL</th><td>36      </td><td>sTCC-CIS</td><td>2       </td><td>Cancer  </td></tr>\n",
       "\t<tr><th scope=row>GSM71056.CEL</th><td>37      </td><td>sTCC-CIS</td><td>2       </td><td>Cancer  </td></tr>\n",
       "\t<tr><th scope=row>GSM71058.CEL</th><td>38      </td><td>sTCC-CIS</td><td>2       </td><td>Cancer  </td></tr>\n",
       "\t<tr><th scope=row>GSM71059.CEL</th><td>39      </td><td>sTCC-CIS</td><td>2       </td><td>Cancer  </td></tr>\n",
       "\t<tr><th scope=row>GSM71060.CEL</th><td>40      </td><td>mTCC    </td><td>1       </td><td>Cancer  </td></tr>\n",
       "\t<tr><th scope=row>GSM71061.CEL</th><td>41      </td><td>sTCC+CIS</td><td>5       </td><td>Cancer  </td></tr>\n",
       "\t<tr><th scope=row>GSM71062.CEL</th><td>42      </td><td>sTCC+CIS</td><td>5       </td><td>Cancer  </td></tr>\n",
       "\t<tr><th scope=row>GSM71063.CEL</th><td>43      </td><td>sTCC+CIS</td><td>5       </td><td>Cancer  </td></tr>\n",
       "\t<tr><th scope=row>GSM71064.CEL</th><td>44      </td><td>sTCC-CIS</td><td>2       </td><td>Cancer  </td></tr>\n",
       "\t<tr><th scope=row>GSM71065.CEL</th><td>45      </td><td>sTCC-CIS</td><td>5       </td><td>Cancer  </td></tr>\n",
       "\t<tr><th scope=row>GSM71066.CEL</th><td>46      </td><td>mTCC    </td><td>1       </td><td>Cancer  </td></tr>\n",
       "\t<tr><th scope=row>GSM71067.CEL</th><td>47      </td><td>sTCC-CIS</td><td>5       </td><td>Cancer  </td></tr>\n",
       "\t<tr><th scope=row>GSM71068.CEL</th><td>48      </td><td>sTCC+CIS</td><td>5       </td><td>Cancer  </td></tr>\n",
       "\t<tr><th scope=row>GSM71069.CEL</th><td>49      </td><td>Biopsy  </td><td>4       </td><td>Biopsy  </td></tr>\n",
       "\t<tr><th scope=row>GSM71070.CEL</th><td>50      </td><td>Biopsy  </td><td>4       </td><td>Biopsy  </td></tr>\n",
       "\t<tr><th scope=row>GSM71071.CEL</th><td>51      </td><td>Biopsy  </td><td>5       </td><td>Biopsy  </td></tr>\n",
       "\t<tr><th scope=row>GSM71072.CEL</th><td>52      </td><td>Biopsy  </td><td>5       </td><td>Biopsy  </td></tr>\n",
       "\t<tr><th scope=row>GSM71073.CEL</th><td>53      </td><td>Biopsy  </td><td>5       </td><td>Biopsy  </td></tr>\n",
       "\t<tr><th scope=row>GSM71074.CEL</th><td>54      </td><td>Biopsy  </td><td>5       </td><td>Biopsy  </td></tr>\n",
       "\t<tr><th scope=row>GSM71075.CEL</th><td>55      </td><td>Biopsy  </td><td>4       </td><td>Biopsy  </td></tr>\n",
       "\t<tr><th scope=row>GSM71076.CEL</th><td>56      </td><td>Biopsy  </td><td>4       </td><td>Biopsy  </td></tr>\n",
       "\t<tr><th scope=row>GSM71077.CEL</th><td>57      </td><td>Biopsy  </td><td>4       </td><td>Biopsy  </td></tr>\n",
       "</tbody>\n",
       "</table>\n"
      ],
      "text/latex": [
       "\\begin{tabular}{r|llll}\n",
       "  & sample & outcome & batch & cancer\\\\\n",
       "\\hline\n",
       "\tGSM71019.CEL &  1       & Normal   & 3        & Normal  \\\\\n",
       "\tGSM71020.CEL &  2       & Normal   & 2        & Normal  \\\\\n",
       "\tGSM71021.CEL &  3       & Normal   & 2        & Normal  \\\\\n",
       "\tGSM71022.CEL &  4       & Normal   & 3        & Normal  \\\\\n",
       "\tGSM71023.CEL &  5       & Normal   & 3        & Normal  \\\\\n",
       "\tGSM71024.CEL &  6       & Normal   & 3        & Normal  \\\\\n",
       "\tGSM71025.CEL &  7       & Normal   & 2        & Normal  \\\\\n",
       "\tGSM71026.CEL &  8       & Normal   & 2        & Normal  \\\\\n",
       "\tGSM71028.CEL &  9       & sTCC+CIS & 5        & Cancer  \\\\\n",
       "\tGSM71029.CEL & 10       & sTCC-CIS & 2        & Cancer  \\\\\n",
       "\tGSM71030.CEL & 11       & sTCC-CIS & 5        & Cancer  \\\\\n",
       "\tGSM71031.CEL & 12       & sTCC-CIS & 2        & Cancer  \\\\\n",
       "\tGSM71032.CEL & 13       & sTCC+CIS & 5        & Cancer  \\\\\n",
       "\tGSM71033.CEL & 14       & sTCC-CIS & 2        & Cancer  \\\\\n",
       "\tGSM71034.CEL & 15       & sTCC+CIS & 5        & Cancer  \\\\\n",
       "\tGSM71035.CEL & 16       & sTCC+CIS & 5        & Cancer  \\\\\n",
       "\tGSM71036.CEL & 17       & sTCC-CIS & 2        & Cancer  \\\\\n",
       "\tGSM71037.CEL & 18       & mTCC     & 1        & Cancer  \\\\\n",
       "\tGSM71038.CEL & 19       & sTCC+CIS & 5        & Cancer  \\\\\n",
       "\tGSM71039.CEL & 20       & mTCC     & 1        & Cancer  \\\\\n",
       "\tGSM71040.CEL & 21       & mTCC     & 2        & Cancer  \\\\\n",
       "\tGSM71041.CEL & 22       & mTCC     & 1        & Cancer  \\\\\n",
       "\tGSM71042.CEL & 23       & sTCC-CIS & 2        & Cancer  \\\\\n",
       "\tGSM71043.CEL & 24       & sTCC+CIS & 5        & Cancer  \\\\\n",
       "\tGSM71044.CEL & 25       & sTCC-CIS & 2        & Cancer  \\\\\n",
       "\tGSM71045.CEL & 26       & sTCC-CIS & 2        & Cancer  \\\\\n",
       "\tGSM71046.CEL & 27       & sTCC+CIS & 5        & Cancer  \\\\\n",
       "\tGSM71047.CEL & 28       & mTCC     & 1        & Cancer  \\\\\n",
       "\tGSM71048.CEL & 29       & mTCC     & 1        & Cancer  \\\\\n",
       "\tGSM71049.CEL & 30       & sTCC-CIS & 2        & Cancer  \\\\\n",
       "\tGSM71050.CEL & 31       & mTCC     & 1        & Cancer  \\\\\n",
       "\tGSM71051.CEL & 32       & mTCC     & 1        & Cancer  \\\\\n",
       "\tGSM71052.CEL & 33       & mTCC     & 1        & Cancer  \\\\\n",
       "\tGSM71053.CEL & 34       & sTCC+CIS & 5        & Cancer  \\\\\n",
       "\tGSM71054.CEL & 35       & mTCC     & 1        & Cancer  \\\\\n",
       "\tGSM71055.CEL & 36       & sTCC-CIS & 2        & Cancer  \\\\\n",
       "\tGSM71056.CEL & 37       & sTCC-CIS & 2        & Cancer  \\\\\n",
       "\tGSM71058.CEL & 38       & sTCC-CIS & 2        & Cancer  \\\\\n",
       "\tGSM71059.CEL & 39       & sTCC-CIS & 2        & Cancer  \\\\\n",
       "\tGSM71060.CEL & 40       & mTCC     & 1        & Cancer  \\\\\n",
       "\tGSM71061.CEL & 41       & sTCC+CIS & 5        & Cancer  \\\\\n",
       "\tGSM71062.CEL & 42       & sTCC+CIS & 5        & Cancer  \\\\\n",
       "\tGSM71063.CEL & 43       & sTCC+CIS & 5        & Cancer  \\\\\n",
       "\tGSM71064.CEL & 44       & sTCC-CIS & 2        & Cancer  \\\\\n",
       "\tGSM71065.CEL & 45       & sTCC-CIS & 5        & Cancer  \\\\\n",
       "\tGSM71066.CEL & 46       & mTCC     & 1        & Cancer  \\\\\n",
       "\tGSM71067.CEL & 47       & sTCC-CIS & 5        & Cancer  \\\\\n",
       "\tGSM71068.CEL & 48       & sTCC+CIS & 5        & Cancer  \\\\\n",
       "\tGSM71069.CEL & 49       & Biopsy   & 4        & Biopsy  \\\\\n",
       "\tGSM71070.CEL & 50       & Biopsy   & 4        & Biopsy  \\\\\n",
       "\tGSM71071.CEL & 51       & Biopsy   & 5        & Biopsy  \\\\\n",
       "\tGSM71072.CEL & 52       & Biopsy   & 5        & Biopsy  \\\\\n",
       "\tGSM71073.CEL & 53       & Biopsy   & 5        & Biopsy  \\\\\n",
       "\tGSM71074.CEL & 54       & Biopsy   & 5        & Biopsy  \\\\\n",
       "\tGSM71075.CEL & 55       & Biopsy   & 4        & Biopsy  \\\\\n",
       "\tGSM71076.CEL & 56       & Biopsy   & 4        & Biopsy  \\\\\n",
       "\tGSM71077.CEL & 57       & Biopsy   & 4        & Biopsy  \\\\\n",
       "\\end{tabular}\n"
      ],
      "text/markdown": [
       "\n",
       "| <!--/--> | sample | outcome | batch | cancer | \n",
       "|---|---|---|---|---|---|---|---|---|---|---|---|---|---|---|---|---|---|---|---|---|---|---|---|---|---|---|---|---|---|---|---|---|---|---|---|---|---|---|---|---|---|---|---|---|---|---|---|---|---|---|---|---|---|---|---|---|\n",
       "| GSM71019.CEL |  1       | Normal   | 3        | Normal   | \n",
       "| GSM71020.CEL |  2       | Normal   | 2        | Normal   | \n",
       "| GSM71021.CEL |  3       | Normal   | 2        | Normal   | \n",
       "| GSM71022.CEL |  4       | Normal   | 3        | Normal   | \n",
       "| GSM71023.CEL |  5       | Normal   | 3        | Normal   | \n",
       "| GSM71024.CEL |  6       | Normal   | 3        | Normal   | \n",
       "| GSM71025.CEL |  7       | Normal   | 2        | Normal   | \n",
       "| GSM71026.CEL |  8       | Normal   | 2        | Normal   | \n",
       "| GSM71028.CEL |  9       | sTCC+CIS | 5        | Cancer   | \n",
       "| GSM71029.CEL | 10       | sTCC-CIS | 2        | Cancer   | \n",
       "| GSM71030.CEL | 11       | sTCC-CIS | 5        | Cancer   | \n",
       "| GSM71031.CEL | 12       | sTCC-CIS | 2        | Cancer   | \n",
       "| GSM71032.CEL | 13       | sTCC+CIS | 5        | Cancer   | \n",
       "| GSM71033.CEL | 14       | sTCC-CIS | 2        | Cancer   | \n",
       "| GSM71034.CEL | 15       | sTCC+CIS | 5        | Cancer   | \n",
       "| GSM71035.CEL | 16       | sTCC+CIS | 5        | Cancer   | \n",
       "| GSM71036.CEL | 17       | sTCC-CIS | 2        | Cancer   | \n",
       "| GSM71037.CEL | 18       | mTCC     | 1        | Cancer   | \n",
       "| GSM71038.CEL | 19       | sTCC+CIS | 5        | Cancer   | \n",
       "| GSM71039.CEL | 20       | mTCC     | 1        | Cancer   | \n",
       "| GSM71040.CEL | 21       | mTCC     | 2        | Cancer   | \n",
       "| GSM71041.CEL | 22       | mTCC     | 1        | Cancer   | \n",
       "| GSM71042.CEL | 23       | sTCC-CIS | 2        | Cancer   | \n",
       "| GSM71043.CEL | 24       | sTCC+CIS | 5        | Cancer   | \n",
       "| GSM71044.CEL | 25       | sTCC-CIS | 2        | Cancer   | \n",
       "| GSM71045.CEL | 26       | sTCC-CIS | 2        | Cancer   | \n",
       "| GSM71046.CEL | 27       | sTCC+CIS | 5        | Cancer   | \n",
       "| GSM71047.CEL | 28       | mTCC     | 1        | Cancer   | \n",
       "| GSM71048.CEL | 29       | mTCC     | 1        | Cancer   | \n",
       "| GSM71049.CEL | 30       | sTCC-CIS | 2        | Cancer   | \n",
       "| GSM71050.CEL | 31       | mTCC     | 1        | Cancer   | \n",
       "| GSM71051.CEL | 32       | mTCC     | 1        | Cancer   | \n",
       "| GSM71052.CEL | 33       | mTCC     | 1        | Cancer   | \n",
       "| GSM71053.CEL | 34       | sTCC+CIS | 5        | Cancer   | \n",
       "| GSM71054.CEL | 35       | mTCC     | 1        | Cancer   | \n",
       "| GSM71055.CEL | 36       | sTCC-CIS | 2        | Cancer   | \n",
       "| GSM71056.CEL | 37       | sTCC-CIS | 2        | Cancer   | \n",
       "| GSM71058.CEL | 38       | sTCC-CIS | 2        | Cancer   | \n",
       "| GSM71059.CEL | 39       | sTCC-CIS | 2        | Cancer   | \n",
       "| GSM71060.CEL | 40       | mTCC     | 1        | Cancer   | \n",
       "| GSM71061.CEL | 41       | sTCC+CIS | 5        | Cancer   | \n",
       "| GSM71062.CEL | 42       | sTCC+CIS | 5        | Cancer   | \n",
       "| GSM71063.CEL | 43       | sTCC+CIS | 5        | Cancer   | \n",
       "| GSM71064.CEL | 44       | sTCC-CIS | 2        | Cancer   | \n",
       "| GSM71065.CEL | 45       | sTCC-CIS | 5        | Cancer   | \n",
       "| GSM71066.CEL | 46       | mTCC     | 1        | Cancer   | \n",
       "| GSM71067.CEL | 47       | sTCC-CIS | 5        | Cancer   | \n",
       "| GSM71068.CEL | 48       | sTCC+CIS | 5        | Cancer   | \n",
       "| GSM71069.CEL | 49       | Biopsy   | 4        | Biopsy   | \n",
       "| GSM71070.CEL | 50       | Biopsy   | 4        | Biopsy   | \n",
       "| GSM71071.CEL | 51       | Biopsy   | 5        | Biopsy   | \n",
       "| GSM71072.CEL | 52       | Biopsy   | 5        | Biopsy   | \n",
       "| GSM71073.CEL | 53       | Biopsy   | 5        | Biopsy   | \n",
       "| GSM71074.CEL | 54       | Biopsy   | 5        | Biopsy   | \n",
       "| GSM71075.CEL | 55       | Biopsy   | 4        | Biopsy   | \n",
       "| GSM71076.CEL | 56       | Biopsy   | 4        | Biopsy   | \n",
       "| GSM71077.CEL | 57       | Biopsy   | 4        | Biopsy   | \n",
       "\n",
       "\n"
      ],
      "text/plain": [
       "             sample outcome  batch cancer\n",
       "GSM71019.CEL  1     Normal   3     Normal\n",
       "GSM71020.CEL  2     Normal   2     Normal\n",
       "GSM71021.CEL  3     Normal   2     Normal\n",
       "GSM71022.CEL  4     Normal   3     Normal\n",
       "GSM71023.CEL  5     Normal   3     Normal\n",
       "GSM71024.CEL  6     Normal   3     Normal\n",
       "GSM71025.CEL  7     Normal   2     Normal\n",
       "GSM71026.CEL  8     Normal   2     Normal\n",
       "GSM71028.CEL  9     sTCC+CIS 5     Cancer\n",
       "GSM71029.CEL 10     sTCC-CIS 2     Cancer\n",
       "GSM71030.CEL 11     sTCC-CIS 5     Cancer\n",
       "GSM71031.CEL 12     sTCC-CIS 2     Cancer\n",
       "GSM71032.CEL 13     sTCC+CIS 5     Cancer\n",
       "GSM71033.CEL 14     sTCC-CIS 2     Cancer\n",
       "GSM71034.CEL 15     sTCC+CIS 5     Cancer\n",
       "GSM71035.CEL 16     sTCC+CIS 5     Cancer\n",
       "GSM71036.CEL 17     sTCC-CIS 2     Cancer\n",
       "GSM71037.CEL 18     mTCC     1     Cancer\n",
       "GSM71038.CEL 19     sTCC+CIS 5     Cancer\n",
       "GSM71039.CEL 20     mTCC     1     Cancer\n",
       "GSM71040.CEL 21     mTCC     2     Cancer\n",
       "GSM71041.CEL 22     mTCC     1     Cancer\n",
       "GSM71042.CEL 23     sTCC-CIS 2     Cancer\n",
       "GSM71043.CEL 24     sTCC+CIS 5     Cancer\n",
       "GSM71044.CEL 25     sTCC-CIS 2     Cancer\n",
       "GSM71045.CEL 26     sTCC-CIS 2     Cancer\n",
       "GSM71046.CEL 27     sTCC+CIS 5     Cancer\n",
       "GSM71047.CEL 28     mTCC     1     Cancer\n",
       "GSM71048.CEL 29     mTCC     1     Cancer\n",
       "GSM71049.CEL 30     sTCC-CIS 2     Cancer\n",
       "GSM71050.CEL 31     mTCC     1     Cancer\n",
       "GSM71051.CEL 32     mTCC     1     Cancer\n",
       "GSM71052.CEL 33     mTCC     1     Cancer\n",
       "GSM71053.CEL 34     sTCC+CIS 5     Cancer\n",
       "GSM71054.CEL 35     mTCC     1     Cancer\n",
       "GSM71055.CEL 36     sTCC-CIS 2     Cancer\n",
       "GSM71056.CEL 37     sTCC-CIS 2     Cancer\n",
       "GSM71058.CEL 38     sTCC-CIS 2     Cancer\n",
       "GSM71059.CEL 39     sTCC-CIS 2     Cancer\n",
       "GSM71060.CEL 40     mTCC     1     Cancer\n",
       "GSM71061.CEL 41     sTCC+CIS 5     Cancer\n",
       "GSM71062.CEL 42     sTCC+CIS 5     Cancer\n",
       "GSM71063.CEL 43     sTCC+CIS 5     Cancer\n",
       "GSM71064.CEL 44     sTCC-CIS 2     Cancer\n",
       "GSM71065.CEL 45     sTCC-CIS 5     Cancer\n",
       "GSM71066.CEL 46     mTCC     1     Cancer\n",
       "GSM71067.CEL 47     sTCC-CIS 5     Cancer\n",
       "GSM71068.CEL 48     sTCC+CIS 5     Cancer\n",
       "GSM71069.CEL 49     Biopsy   4     Biopsy\n",
       "GSM71070.CEL 50     Biopsy   4     Biopsy\n",
       "GSM71071.CEL 51     Biopsy   5     Biopsy\n",
       "GSM71072.CEL 52     Biopsy   5     Biopsy\n",
       "GSM71073.CEL 53     Biopsy   5     Biopsy\n",
       "GSM71074.CEL 54     Biopsy   5     Biopsy\n",
       "GSM71075.CEL 55     Biopsy   4     Biopsy\n",
       "GSM71076.CEL 56     Biopsy   4     Biopsy\n",
       "GSM71077.CEL 57     Biopsy   4     Biopsy"
      ]
     },
     "metadata": {},
     "output_type": "display_data"
    }
   ],
   "source": [
    "pheno"
   ]
  },
  {
   "cell_type": "markdown",
   "metadata": {},
   "source": [
    "5. You can see that the first eight samples are normal cells but split into two batches(batch number 2 and 3). Use these eight sample to demonstrate how to remove the batch effects. To select these samples, use the following function: \n",
    "\n",
    " 你可以看到前8个样品是正常的细胞，但是被分成了两个批次(批号2和3)。要选择这些示例，请使用以下函数："
   ]
  },
  {
   "cell_type": "code",
   "execution_count": 16,
   "metadata": {},
   "outputs": [],
   "source": [
    "myData <- bladderEset[, sampleNames(bladderEset)[1:8]]"
   ]
  },
  {
   "cell_type": "markdown",
   "metadata": {},
   "source": [
    "6. To have a look at the batch effect, perform a quality check on the data. Do this with the help of the following arrayQualityMetrics function:\n",
    "\n",
    " 要查看批处理效果，请对数据执行质量检查。使用以下arrayQualityMetrics函数来完成此操作："
   ]
  },
  {
   "cell_type": "code",
   "execution_count": 18,
   "metadata": {},
   "outputs": [],
   "source": [
    "library(arrayQualityMetrics)"
   ]
  },
  {
   "cell_type": "code",
   "execution_count": 19,
   "metadata": {
    "scrolled": true
   },
   "outputs": [
    {
     "name": "stderr",
     "output_type": "stream",
     "text": [
      "The directory 'qc_be' has been created.\n",
      "Warning message in svgStyleAttributes(style, svgdev):\n",
      "\"Removing non-SVG style attribute name(s): subscripts, group.number, group.value\"Warning message in svgStyleAttributes(style, svgdev):\n",
      "\"Removing non-SVG style attribute name(s): subscripts, group.number, group.value\"Warning message in svgStyleAttributes(style, svgdev):\n",
      "\"Removing non-SVG style attribute name(s): subscripts, group.number, group.value\"Warning message in svgStyleAttributes(style, svgdev):\n",
      "\"Removing non-SVG style attribute name(s): subscripts, group.number, group.value\"Warning message in svgStyleAttributes(style, svgdev):\n",
      "\"Removing non-SVG style attribute name(s): subscripts, group.number, group.value\"Warning message in svgStyleAttributes(style, svgdev):\n",
      "\"Removing non-SVG style attribute name(s): subscripts, group.number, group.value\"Warning message in svgStyleAttributes(style, svgdev):\n",
      "\"Removing non-SVG style attribute name(s): subscripts, group.number, group.value\"Warning message in svgStyleAttributes(style, svgdev):\n",
      "\"Removing non-SVG style attribute name(s): subscripts, group.number, group.value\"(loaded the KernSmooth namespace)\n"
     ]
    }
   ],
   "source": [
    "arrayQualityMetrics(myData, outdir=\"qc_be\")"
   ]
  },
  {
   "cell_type": "markdown",
   "metadata": {},
   "source": [
    "7. Take a look at the heatmap and clustering tree produced for the samples to check for the batch effect.\n",
    " \n",
    " 看一下为样品制作的热图和聚类树，看看批量效果如何："
   ]
  },
  {
   "cell_type": "code",
   "execution_count": 2,
   "metadata": {},
   "outputs": [],
   "source": [
    "browseURL(\"C:/Users/Administrator/bioinformatics_with_R/chapter5/qc_be/index.html\")"
   ]
  },
  {
   "cell_type": "markdown",
   "metadata": {},
   "source": [
    "8. Now, create the model matrix for the dataset as follows(note that only the first and third columns have been used from model matrix as the data has only one condition):\n",
    "\n",
    " 现在，为数据集创建如下的模型矩阵(注意，由于数据只有一个条件，所以模型矩阵中只使用了第一列和第三列)："
   ]
  },
  {
   "cell_type": "code",
   "execution_count": 21,
   "metadata": {},
   "outputs": [],
   "source": [
    "mod1 <- model.matrix(~as.factor(cancer), data=pData(myData))"
   ]
  },
  {
   "cell_type": "markdown",
   "metadata": {},
   "source": [
    "9. Then, define the batches by typing the following command:\n",
    "\n",
    " 然后，输入以下命令来定义批处理:"
   ]
  },
  {
   "cell_type": "code",
   "execution_count": 22,
   "metadata": {},
   "outputs": [],
   "source": [
    "batch <- pData(myData)"
   ]
  },
  {
   "cell_type": "code",
   "execution_count": 36,
   "metadata": {},
   "outputs": [
    {
     "data": {
      "text/html": [
       "<table>\n",
       "<thead><tr><th></th><th scope=col>sample</th><th scope=col>outcome</th><th scope=col>batch</th><th scope=col>cancer</th></tr></thead>\n",
       "<tbody>\n",
       "\t<tr><th scope=row>GSM71019.CEL</th><td>1     </td><td>Normal</td><td>3     </td><td>Normal</td></tr>\n",
       "\t<tr><th scope=row>GSM71020.CEL</th><td>2     </td><td>Normal</td><td>2     </td><td>Normal</td></tr>\n",
       "\t<tr><th scope=row>GSM71021.CEL</th><td>3     </td><td>Normal</td><td>2     </td><td>Normal</td></tr>\n",
       "\t<tr><th scope=row>GSM71022.CEL</th><td>4     </td><td>Normal</td><td>3     </td><td>Normal</td></tr>\n",
       "\t<tr><th scope=row>GSM71023.CEL</th><td>5     </td><td>Normal</td><td>3     </td><td>Normal</td></tr>\n",
       "\t<tr><th scope=row>GSM71024.CEL</th><td>6     </td><td>Normal</td><td>3     </td><td>Normal</td></tr>\n",
       "\t<tr><th scope=row>GSM71025.CEL</th><td>7     </td><td>Normal</td><td>2     </td><td>Normal</td></tr>\n",
       "\t<tr><th scope=row>GSM71026.CEL</th><td>8     </td><td>Normal</td><td>2     </td><td>Normal</td></tr>\n",
       "</tbody>\n",
       "</table>\n"
      ],
      "text/latex": [
       "\\begin{tabular}{r|llll}\n",
       "  & sample & outcome & batch & cancer\\\\\n",
       "\\hline\n",
       "\tGSM71019.CEL & 1      & Normal & 3      & Normal\\\\\n",
       "\tGSM71020.CEL & 2      & Normal & 2      & Normal\\\\\n",
       "\tGSM71021.CEL & 3      & Normal & 2      & Normal\\\\\n",
       "\tGSM71022.CEL & 4      & Normal & 3      & Normal\\\\\n",
       "\tGSM71023.CEL & 5      & Normal & 3      & Normal\\\\\n",
       "\tGSM71024.CEL & 6      & Normal & 3      & Normal\\\\\n",
       "\tGSM71025.CEL & 7      & Normal & 2      & Normal\\\\\n",
       "\tGSM71026.CEL & 8      & Normal & 2      & Normal\\\\\n",
       "\\end{tabular}\n"
      ],
      "text/markdown": [
       "\n",
       "| <!--/--> | sample | outcome | batch | cancer | \n",
       "|---|---|---|---|---|---|---|---|\n",
       "| GSM71019.CEL | 1      | Normal | 3      | Normal | \n",
       "| GSM71020.CEL | 2      | Normal | 2      | Normal | \n",
       "| GSM71021.CEL | 3      | Normal | 2      | Normal | \n",
       "| GSM71022.CEL | 4      | Normal | 3      | Normal | \n",
       "| GSM71023.CEL | 5      | Normal | 3      | Normal | \n",
       "| GSM71024.CEL | 6      | Normal | 3      | Normal | \n",
       "| GSM71025.CEL | 7      | Normal | 2      | Normal | \n",
       "| GSM71026.CEL | 8      | Normal | 2      | Normal | \n",
       "\n",
       "\n"
      ],
      "text/plain": [
       "             sample outcome batch cancer\n",
       "GSM71019.CEL 1      Normal  3     Normal\n",
       "GSM71020.CEL 2      Normal  2     Normal\n",
       "GSM71021.CEL 3      Normal  2     Normal\n",
       "GSM71022.CEL 4      Normal  3     Normal\n",
       "GSM71023.CEL 5      Normal  3     Normal\n",
       "GSM71024.CEL 6      Normal  3     Normal\n",
       "GSM71025.CEL 7      Normal  2     Normal\n",
       "GSM71026.CEL 8      Normal  2     Normal"
      ]
     },
     "metadata": {},
     "output_type": "display_data"
    }
   ],
   "source": [
    "batch"
   ]
  },
  {
   "cell_type": "markdown",
   "metadata": {},
   "source": [
    "10. Extract the expression matrix from the expression set object myData, where the batch effect has to be removed, as follows:\n",
    "\n",
    " 从表达式集对象myData中提取表达式矩阵，其中需要去除批处理效果，如下图所示:"
   ]
  },
  {
   "cell_type": "code",
   "execution_count": 42,
   "metadata": {},
   "outputs": [],
   "source": [
    "edata2 <- exprs(myData)"
   ]
  },
  {
   "cell_type": "markdown",
   "metadata": {},
   "source": [
    "11. Once you have all the objects ready, run the ComBat function as follows:\n",
    " \n",
    " 一旦所有对象都准备好了，就按照下面的方式运行ComBat函数："
   ]
  },
  {
   "cell_type": "code",
   "execution_count": 43,
   "metadata": {
    "scrolled": true
   },
   "outputs": [
    {
     "ename": "ERROR",
     "evalue": "Error in ComBat(dat = edata2, batch = batch, mod = mod1, par.prior = TRUE): This version of ComBat only allows one batch variable\n",
     "output_type": "error",
     "traceback": [
      "Error in ComBat(dat = edata2, batch = batch, mod = mod1, par.prior = TRUE): This version of ComBat only allows one batch variable\nTraceback:\n",
      "1. ComBat(dat = edata2, batch = batch, mod = mod1, par.prior = TRUE)",
      "2. stop(\"This version of ComBat only allows one batch variable\")"
     ]
    }
   ],
   "source": [
    "combat_edata <- ComBat(dat=edata2, batch=batch, mod=mod1, par.prior=TRUE)"
   ]
  },
  {
   "cell_type": "code",
   "execution_count": 41,
   "metadata": {},
   "outputs": [],
   "source": [
    "?ComBat"
   ]
  },
  {
   "cell_type": "markdown",
   "metadata": {},
   "source": [
    "12. Now, create an expression set object with everything as your original input data, except the expression matrix-which is replaced by the matrix received as a resut of the ComBat function in the last step-as follows:\n",
    "\n",
    " 现在，创建一个表达式集对象，其中所有内容都作为原始输入数据，除了表达式矩阵(它被上一步中作为战斗函数的resut接收的矩阵所替代)，如下所示:"
   ]
  },
  {
   "cell_type": "code",
   "execution_count": 39,
   "metadata": {},
   "outputs": [],
   "source": [
    "myData2 <- myData"
   ]
  },
  {
   "cell_type": "code",
   "execution_count": 40,
   "metadata": {
    "scrolled": true
   },
   "outputs": [
    {
     "ename": "ERROR",
     "evalue": "Error in eval(expr, envir, enclos): 找不到对象'combat_edata'\n",
     "output_type": "error",
     "traceback": [
      "Error in eval(expr, envir, enclos): 找不到对象'combat_edata'\nTraceback:\n"
     ]
    }
   ],
   "source": [
    "exprs(myData2) <- combat_edata"
   ]
  },
  {
   "cell_type": "markdown",
   "metadata": {},
   "source": [
    "13. Now,rerun the following arrayQualityMetrics function to check for the elimination of batch effects with this new object as the input:\n",
    "\n",
    " 现在，重新运行以下arrayQualityMetrics函数，以检查使用这个新对象作为输入是否消除了批处理效果:"
   ]
  },
  {
   "cell_type": "code",
   "execution_count": 44,
   "metadata": {},
   "outputs": [
    {
     "name": "stderr",
     "output_type": "stream",
     "text": [
      "The directory 'qc_nbe' has been created.\n",
      "Warning message in svgStyleAttributes(style, svgdev):\n",
      "\"Removing non-SVG style attribute name(s): subscripts, group.number, group.value\"Warning message in svgStyleAttributes(style, svgdev):\n",
      "\"Removing non-SVG style attribute name(s): subscripts, group.number, group.value\"Warning message in svgStyleAttributes(style, svgdev):\n",
      "\"Removing non-SVG style attribute name(s): subscripts, group.number, group.value\"Warning message in svgStyleAttributes(style, svgdev):\n",
      "\"Removing non-SVG style attribute name(s): subscripts, group.number, group.value\"Warning message in svgStyleAttributes(style, svgdev):\n",
      "\"Removing non-SVG style attribute name(s): subscripts, group.number, group.value\"Warning message in svgStyleAttributes(style, svgdev):\n",
      "\"Removing non-SVG style attribute name(s): subscripts, group.number, group.value\"Warning message in svgStyleAttributes(style, svgdev):\n",
      "\"Removing non-SVG style attribute name(s): subscripts, group.number, group.value\"Warning message in svgStyleAttributes(style, svgdev):\n",
      "\"Removing non-SVG style attribute name(s): subscripts, group.number, group.value\""
     ]
    }
   ],
   "source": [
    "arrayQualityMetrics(myData2, outdir=\"qc_nbe\")"
   ]
  },
  {
   "cell_type": "markdown",
   "metadata": {},
   "source": [
    "14. Again, take a look at the heatmap and clustering tree generated by the preceding function of batch effects with this new object as the input:\n",
    "\n",
    " 再看一遍前面的batch effects函数生成的heatmap和cluster tree，这个新对象作为输入:"
   ]
  },
  {
   "cell_type": "code",
   "execution_count": null,
   "metadata": {},
   "outputs": [],
   "source": []
  }
 ],
 "metadata": {
  "kernelspec": {
   "display_name": "R",
   "language": "R",
   "name": "ir"
  },
  "language_info": {
   "codemirror_mode": "r",
   "file_extension": ".r",
   "mimetype": "text/x-r-source",
   "name": "R",
   "pygments_lexer": "r",
   "version": "3.5.1"
  }
 },
 "nbformat": 4,
 "nbformat_minor": 2
}
