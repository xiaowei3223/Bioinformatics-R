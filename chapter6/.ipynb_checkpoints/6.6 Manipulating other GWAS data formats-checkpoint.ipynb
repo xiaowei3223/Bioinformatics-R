{
 "cells": [
  {
   "cell_type": "markdown",
   "metadata": {},
   "source": [
    "1. Let's start with a few functions to convert files from different pic data tor types of geenotyaw data. The convert.snp.<desired format> function can be used to convert formats into raw files, as you saw in the affy file into the raw data format:"
   ]
  },
  {
   "cell_type": "raw",
   "metadata": {},
   "source": [
    "dir <- \"<path/to/desired/directory>\""
   ]
  },
  {
   "cell_type": "raw",
   "metadata": {},
   "source": [
    "library(GenABEL)"
   ]
  },
  {
   "cell_type": "raw",
   "metadata": {},
   "source": [
    "convert.snp.affymetrix(dir, map, outfile, skipaffym)"
   ]
  },
  {
   "cell_type": "markdown",
   "metadata": {},
   "source": [
    "2. Similar to the preceding step, use the following functions to convert illumina, mach, and integer genotypic data into the raw data format:"
   ]
  },
  {
   "cell_type": "raw",
   "metadata": {},
   "source": [
    "convert.snp.illumina(infile=\"pedin.18\",out=\"myraw.raw\", strand=\"+\")"
   ]
  },
  {
   "cell_type": "markdown",
   "metadata": {},
   "source": [
    "3. To read a .ped file as a data frame, use the generic function of read.csv or the read.pedfile function from the trio library. The extra.ped file"
   ]
  },
  {
   "cell_type": "raw",
   "metadata": {},
   "source": [
    "biocLite(\"trio\") #please check the compatibility with your R version or install from source (see Chapter 1, starting Bioinformatics with R, for details)"
   ]
  },
  {
   "cell_type": "raw",
   "metadata": {},
   "source": [
    "library(trio)"
   ]
  },
  {
   "cell_type": "raw",
   "metadata": {},
   "source": [
    "mySNP <- read.pedfile(file=\"path/to/codefiles/myPed.ped\")"
   ]
  },
  {
   "cell_type": "markdown",
   "metadata": {},
   "source": [
    "4. Take a look at the data frame that was created with the following generic function:"
   ]
  },
  {
   "cell_type": "raw",
   "metadata": {},
   "source": [
    "head(mySNP)"
   ]
  },
  {
   "cell_type": "markdown",
   "metadata": {},
   "source": [
    " 5. Take a look at column names for the object to check the difference between this data frame and the one we used in the SNPassoc package by typing the following command:"
   ]
  },
  {
   "cell_type": "raw",
   "metadata": {},
   "source": [
    "colnames(mySNP)"
   ]
  },
  {
   "cell_type": "markdown",
   "metadata": {},
   "source": [
    "6. The file that was read has to be converted into a data frame object usable by the function in the SNPassoc package. To do this, extract some features from your original matrix as fllows:"
   ]
  },
  {
   "cell_type": "raw",
   "metadata": {},
   "source": [
    "allsnps <- unlist(strasplit(colnames(mySNP)[7:ncol(mySNP)],\"[.]\"))[seq(1,68,2)]"
   ]
  },
  {
   "cell_type": "raw",
   "metadata": {},
   "source": [
    "onlysnp <- mySNP[,-c(1:6)]"
   ]
  },
  {
   "cell_type": "raw",
   "metadata": {},
   "source": [
    "odds <- seq(1,ncol(onlysnp),2)"
   ]
  },
  {
   "cell_type": "raw",
   "metadata": {},
   "source": [
    "allsnps <- allsnps[odds]"
   ]
  },
  {
   "cell_type": "raw",
   "metadata": {},
   "source": [
    "evens <- odds+1"
   ]
  },
  {
   "cell_type": "raw",
   "metadata": {},
   "source": [
    "7. When you have all the dimensions and specifications of the original .ped data, use the following commands to create an empty data frame that matches the required dimensions:"
   ]
  },
  {
   "cell_type": "raw",
   "metadata": {},
   "source": [
    "x <- matrix(0, nrow(onlysnp), length(allsnps))"
   ]
  },
  {
   "cell_type": "raw",
   "metadata": {},
   "source": [
    "x <- data.frame(x)"
   ]
  },
  {
   "cell_type": "raw",
   "metadata": {},
   "source": [
    "colnames(x) <- allsnps"
   ]
  },
  {
   "cell_type": "markdown",
   "metadata": {},
   "source": [
    "8. Now, use the following commands to fill in the data frame with SNP alleles:"
   ]
  },
  {
   "cell_type": "raw",
   "metadata": {},
   "source": [
    "for(i in 1:length(odds)){\n",
    "p=as.factor(paste(onlysnp[,odds[i]], onlysnp[,evens[i]], sep=\"\"))\n",
    "x[,i]=p\n",
    "}"
   ]
  },
  {
   "cell_type": "markdown",
   "metadata": {},
   "source": [
    "9. Finally, merge the computed data frame with the other ID and variable information from the original .ped file as follows: "
   ]
  },
  {
   "cell_type": "raw",
   "metadata": {},
   "source": [
    "mySNP=data.frame(mySNP[,c(1:6)],x)"
   ]
  },
  {
   "cell_type": "markdown",
   "metadata": {},
   "source": [
    "10. Check your reformatted data with the head function as follows:"
   ]
  },
  {
   "cell_type": "raw",
   "metadata": {},
   "source": [
    "head(mySNP)"
   ]
  },
  {
   "cell_type": "markdown",
   "metadata": {},
   "source": [
    "This data frame can be used for further processing usign the SNPassoc package that we explored in the previous recipes."
   ]
  }
 ],
 "metadata": {
  "kernelspec": {
   "display_name": "R",
   "language": "R",
   "name": "ir"
  },
  "language_info": {
   "codemirror_mode": "r",
   "file_extension": ".r",
   "mimetype": "text/x-r-source",
   "name": "R",
   "pygments_lexer": "r",
   "version": "3.5.1"
  }
 },
 "nbformat": 4,
 "nbformat_minor": 2
}
