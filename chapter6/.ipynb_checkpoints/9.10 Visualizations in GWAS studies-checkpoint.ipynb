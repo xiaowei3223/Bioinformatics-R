{
 "cells": [
  {
   "cell_type": "markdown",
   "metadata": {},
   "source": [
    "1. Start with a Q-Q plot. To do this, first load the GWASTools library as follows:\n"
   ]
  },
  {
   "cell_type": "raw",
   "metadata": {},
   "source": [
    "library(GWASTools)"
   ]
  },
  {
   "cell_type": "markdown",
   "metadata": {},
   "source": [
    "2. As input, take the whole genome association results from the previous recipe on SNP data. To refresh the memory, recompute the association as follows:"
   ]
  },
  {
   "cell_type": "raw",
   "metadata": {},
   "source": [
    "myres <- WGassociation(protein, data=mySNP, model=\"all\")"
   ]
  },
  {
   "cell_type": "markdown",
   "metadata": {},
   "source": [
    "3. Then, extract the p-values for the dominant model of inheritance from the results as follows:"
   ]
  },
  {
   "cell_type": "raw",
   "metadata": {},
   "source": [
    "pvals <- dominant(myres)"
   ]
  },
  {
   "cell_type": "markdown",
   "metadata": {},
   "source": [
    "4. Then, use the following qqPlot function with these p-values as input to generate a Q-Q plot:"
   ]
  },
  {
   "cell_type": "raw",
   "metadata": {},
   "source": [
    "qqPlot(pvals)"
   ]
  },
  {
   "cell_type": "markdown",
   "metadata": {},
   "source": [
    "5. The next plot will be a Manhattan plot. Start with the simulated p-value data of 1000 SNVs by typing the following command:"
   ]
  },
  {
   "cell_type": "raw",
   "metadata": {},
   "source": [
    "n <- 1000"
   ]
  },
  {
   "cell_type": "raw",
   "metadata": {},
   "source": [
    "pvals <- sample(-log10((1:n)/n), n, replace=TRUE)"
   ]
  },
  {
   "cell_type": "markdown",
   "metadata": {},
   "source": [
    "6. Then, assign these p-values to random chromosomes as follows:"
   ]
  },
  {
   "cell_type": "raw",
   "metadata": {},
   "source": [
    "chromosome <- c(rep(1,100),rep(2,150), rep(3, 80),rep(4,90), rep(5,100), rep(6,60), rep(7, 70), rep(8, 70), rep(9,70),rep(10,50),rep(\"X\",110), rep(\"Y\",50))"
   ]
  },
  {
   "cell_type": "markdown",
   "metadata": {},
   "source": [
    "7. To create the plot, call the manhattanPlot function from the GWASTools library as follows:"
   ]
  },
  {
   "cell_type": "raw",
   "metadata": {},
   "source": [
    "manhattanPlot(pvals, chromosome)"
   ]
  },
  {
   "cell_type": "markdown",
   "metadata": {},
   "source": [
    "8. You create a similar plot with the real results. Here, use the results from your HapMap data. Start with the extraction of the p-value for the dominant inheritance model from the whole genome SNP association analysis results, and take the negatives of the log values to the base 10, as follows:"
   ]
  },
  {
   "cell_type": "raw",
   "metadata": {},
   "source": [
    "pvals=dominat(myHapMapres)"
   ]
  },
  {
   "cell_type": "raw",
   "metadata": {},
   "source": [
    "pvals=-log10(pvals)"
   ]
  },
  {
   "cell_type": "markdown",
   "metadata": {},
   "source": [
    "9. Now, use the HapMap position data to get information about the chromosomal location of the SNPs as follows:"
   ]
  },
  {
   "cell_type": "raw",
   "metadata": {},
   "source": [
    "chromosome <- HapMap.SNPs.pos$chromosome"
   ]
  },
  {
   "cell_type": "markdown",
   "metadata": {},
   "source": [
    "10. As earlier, run the manhattanPlot function with these p-values and chromosome information as follows:"
   ]
  },
  {
   "cell_type": "raw",
   "metadata": {},
   "source": [
    "manhattanPlot(pvals, chromosome, signif=le-5)"
   ]
  },
  {
   "cell_type": "markdown",
   "metadata": {},
   "source": [
    "11. The next plot is the regional association plot. To do this, get the gap package as well as the CDKN data as follows:"
   ]
  },
  {
   "cell_type": "code",
   "execution_count": 3,
   "metadata": {},
   "outputs": [
    {
     "name": "stderr",
     "output_type": "stream",
     "text": [
      "Warning message:\n",
      "\"unable to access index for repository http://www.stats.ox.ac.uk/pub/RWin/bin/windows/contrib/3.5:\n",
      "  无法打开URL'http://www.stats.ox.ac.uk/pub/RWin/bin/windows/contrib/3.5/PACKAGES'\""
     ]
    },
    {
     "name": "stdout",
     "output_type": "stream",
     "text": [
      "package 'gap' successfully unpacked and MD5 sums checked\n",
      "\n",
      "The downloaded binary packages are in\n",
      "\tC:\\Users\\Administrator\\AppData\\Local\\Temp\\RtmpoLfk0a\\downloaded_packages\n"
     ]
    }
   ],
   "source": [
    "install.packages(\"gap\")"
   ]
  },
  {
   "cell_type": "code",
   "execution_count": 4,
   "metadata": {},
   "outputs": [
    {
     "name": "stderr",
     "output_type": "stream",
     "text": [
      "gap version 1.1-22\n"
     ]
    }
   ],
   "source": [
    "library(gap)"
   ]
  },
  {
   "cell_type": "raw",
   "metadata": {},
   "source": [
    "data(CDKN)"
   ]
  },
  {
   "cell_type": "markdown",
   "metadata": {},
   "source": [
    "12. The gap library loads the CDKN data that has three subsets. To look at the data, use the head function on them as follows:"
   ]
  },
  {
   "cell_type": "raw",
   "metadata": {},
   "source": [
    "head(CDKNlocus)"
   ]
  },
  {
   "cell_type": "markdown",
   "metadata": {},
   "source": [
    "13. The CDKNlocus object provides all of the information to create the plot. The asplot function uses the locus, map, and gene information from these data sets to create a regional association plot as follows:"
   ]
  },
  {
   "cell_type": "raw",
   "metadata": {},
   "source": [
    "asplot(CDKNlocus,CDKNmap, CDKNgenes, best.pval=5.4e-8, sf=c(3,6))"
   ]
  },
  {
   "cell_type": "markdown",
   "metadata": {},
   "source": [
    "14. You can create a regional plot usign the postgwas library. Start with loading the library as follows:"
   ]
  },
  {
   "cell_type": "raw",
   "metadata": {},
   "source": [
    "install.packages(c(\"postgwas\",\"taRifx\")) #please install from sourcce as explained in Chapter 1, starting Bioinformatics with R, if incompatible with your R version"
   ]
  },
  {
   "cell_type": "raw",
   "metadata": {},
   "source": [
    "library(postwgas) #please check the availability of the package with your R version."
   ]
  },
  {
   "cell_type": "markdown",
   "metadata": {},
   "source": [
    "15. Create a data.frame object for the SNP of your interest, as follows:"
   ]
  },
  {
   "cell_type": "raw",
   "metadata": {},
   "source": [
    "snps <- data.frame(SNP=c(\"rs4648633\",\"rs66659552\"))"
   ]
  },
  {
   "cell_type": "markdown",
   "metadata": {},
   "source": [
    "16. Now, create the gwa data.fram object that consists of the chromosome, SNP, position, and p-values from the HapMap data as follows:"
   ]
  },
  {
   "cell_type": "code",
   "execution_count": null,
   "metadata": {},
   "outputs": [],
   "source": [
    "gwasdata <- data.frame(CHR= H)"
   ]
  },
  {
   "cell_type": "code",
   "execution_count": null,
   "metadata": {},
   "outputs": [],
   "source": []
  }
 ],
 "metadata": {
  "kernelspec": {
   "display_name": "R",
   "language": "R",
   "name": "ir"
  },
  "language_info": {
   "codemirror_mode": "r",
   "file_extension": ".r",
   "mimetype": "text/x-r-source",
   "name": "R",
   "pygments_lexer": "r",
   "version": "3.5.1"
  }
 },
 "nbformat": 4,
 "nbformat_minor": 2
}
