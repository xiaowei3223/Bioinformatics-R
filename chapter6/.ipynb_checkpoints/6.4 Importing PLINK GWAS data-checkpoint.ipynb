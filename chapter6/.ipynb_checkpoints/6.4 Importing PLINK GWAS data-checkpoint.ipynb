{
 "cells": [
  {
   "cell_type": "markdown",
   "metadata": {},
   "source": [
    "1. Unzip the file downloaded from the HapMap page to adesired directory."
   ]
  },
  {
   "cell_type": "markdown",
   "metadata": {},
   "source": [
    "2. Set the working directory of your R session to this directory."
   ]
  },
  {
   "cell_type": "markdown",
   "metadata": {},
   "source": [
    "3. Install and load the GenABEL library as follows:"
   ]
  },
  {
   "cell_type": "code",
   "execution_count": 1,
   "metadata": {},
   "outputs": [
    {
     "name": "stderr",
     "output_type": "stream",
     "text": [
      "Warning message:\n",
      "\"package 'GenABEL' is not available (for R version 3.5.1)\"Warning message:\n",
      "\"unable to access index for repository http://www.stats.ox.ac.uk/pub/RWin/bin/windows/contrib/3.5:\n",
      "  无法打开URL'http://www.stats.ox.ac.uk/pub/RWin/bin/windows/contrib/3.5/PACKAGES'\""
     ]
    }
   ],
   "source": [
    "install.packages(\"GenABEL\")"
   ]
  },
  {
   "cell_type": "code",
   "execution_count": 2,
   "metadata": {},
   "outputs": [
    {
     "ename": "ERROR",
     "evalue": "Error in library(GenABEL): there is no package called 'GenABEL'\n",
     "output_type": "error",
     "traceback": [
      "Error in library(GenABEL): there is no package called 'GenABEL'\nTraceback:\n",
      "1. library(GenABEL)",
      "2. stop(txt, domain = NA)"
     ]
    }
   ],
   "source": [
    "library(GenABEL)"
   ]
  },
  {
   "cell_type": "markdown",
   "metadata": {},
   "source": [
    "4. Now, convert the ped and map files into more usable genotype data using the following function:"
   ]
  },
  {
   "cell_type": "raw",
   "metadata": {},
   "source": [
    "convert.snp.ped(pedfile=\" myPed.ped\", mapfile=\"myMap.map\", out=\"myOut.out\")"
   ]
  },
  {
   "cell_type": "markdown",
   "metadata": {},
   "source": [
    "5. We need a phenotype file for our data, which is a tab separated file, consisting of at least the sample names and the trait of interest as columns. The data will come from the corresponding studies. Here, we have the prepared data on the book's web page. The data required to be loaded into R is now ready in the form of the phenotype data and the genotype data:"
   ]
  },
  {
   "cell_type": "raw",
   "metadata": {},
   "source": [
    "myData <- load.gwaa.data(phenofile=\"myPheno.ph\", genofile=\"myOut.out\")"
   ]
  },
  {
   "cell_type": "markdown",
   "metadata": {},
   "source": [
    "6. take a look at the structure of the myData object as follows:"
   ]
  },
  {
   "cell_type": "raw",
   "metadata": {},
   "source": [
    "str(myData)"
   ]
  },
  {
   "cell_type": "markdown",
   "metadata": {},
   "source": [
    "7. Access the genotype and phenotype data with the help of the following functions:"
   ]
  },
  {
   "cell_type": "code",
   "execution_count": null,
   "metadata": {},
   "outputs": [],
   "source": [
    "phdata()"
   ]
  },
  {
   "cell_type": "code",
   "execution_count": null,
   "metadata": {},
   "outputs": [],
   "source": [
    "gtdata()"
   ]
  }
 ],
 "metadata": {
  "kernelspec": {
   "display_name": "R",
   "language": "R",
   "name": "ir"
  },
  "language_info": {
   "codemirror_mode": "r",
   "file_extension": ".r",
   "mimetype": "text/x-r-source",
   "name": "R",
   "pygments_lexer": "r",
   "version": "3.5.1"
  }
 },
 "nbformat": 4,
 "nbformat_minor": 2
}
