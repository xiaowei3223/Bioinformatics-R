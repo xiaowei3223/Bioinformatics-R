{
 "cells": [
  {
   "cell_type": "markdown",
   "metadata": {},
   "source": [
    "1. Start with installing the package from the Bioconductor repository by typing the following commands:"
   ]
  },
  {
   "cell_type": "code",
   "execution_count": 2,
   "metadata": {
    "scrolled": true
   },
   "outputs": [
    {
     "name": "stderr",
     "output_type": "stream",
     "text": [
      "Bioconductor version 3.8 (BiocManager 1.30.1), R 3.5.1 (2018-07-02)\n",
      "Installing package(s) 'GWASTools'\n",
      "also installing the dependencies 'minqa', 'nloptr', 'RcppEigen', 'ucminf', 'lme4', 'ordinal', 'pan', 'jomo', 'mitml', 'mice', 'quantreg', 'gdsfmt', 'GWASExactHW', 'DNAcopy', 'sandwich', 'lmtest', 'logistf', 'quantsmooth'\n",
      "\n",
      "Warning message:\n",
      "\"unable to access index for repository http://www.stats.ox.ac.uk/pub/RWin/bin/windows/contrib/3.5:\n",
      "  无法打开URL'http://www.stats.ox.ac.uk/pub/RWin/bin/windows/contrib/3.5/PACKAGES'\""
     ]
    },
    {
     "name": "stdout",
     "output_type": "stream",
     "text": [
      "package 'minqa' successfully unpacked and MD5 sums checked\n",
      "package 'nloptr' successfully unpacked and MD5 sums checked\n",
      "package 'RcppEigen' successfully unpacked and MD5 sums checked\n",
      "package 'ucminf' successfully unpacked and MD5 sums checked\n",
      "package 'lme4' successfully unpacked and MD5 sums checked\n",
      "package 'ordinal' successfully unpacked and MD5 sums checked\n",
      "package 'pan' successfully unpacked and MD5 sums checked\n",
      "package 'jomo' successfully unpacked and MD5 sums checked\n",
      "package 'mitml' successfully unpacked and MD5 sums checked\n",
      "package 'mice' successfully unpacked and MD5 sums checked\n",
      "package 'quantreg' successfully unpacked and MD5 sums checked\n",
      "package 'gdsfmt' successfully unpacked and MD5 sums checked\n",
      "package 'GWASExactHW' successfully unpacked and MD5 sums checked\n",
      "package 'DNAcopy' successfully unpacked and MD5 sums checked\n",
      "package 'sandwich' successfully unpacked and MD5 sums checked\n",
      "package 'lmtest' successfully unpacked and MD5 sums checked\n",
      "package 'logistf' successfully unpacked and MD5 sums checked\n",
      "package 'quantsmooth' successfully unpacked and MD5 sums checked\n",
      "package 'GWASTools' successfully unpacked and MD5 sums checked\n",
      "\n",
      "The downloaded binary packages are in\n",
      "\tC:\\Users\\Administrator\\AppData\\Local\\Temp\\Rtmp8KrlgF\\downloaded_packages\n"
     ]
    },
    {
     "name": "stderr",
     "output_type": "stream",
     "text": [
      "Update old packages: 'ade4', 'ape', 'backports', 'BH', 'BiocInstaller',\n",
      "  'BiocManager', 'BiocParallel', 'biomaRt', 'Biostrings', 'broom', 'callr',\n",
      "  'caret', 'checkpoint', 'class', 'cli', 'clipr', 'clusterProfiler',\n",
      "  'codetools', 'colorspace', 'curl', 'data.table', 'dbplyr', 'ddalpha',\n",
      "  'digest', 'dimRed', 'doParallel', 'DOSE', 'dplyr', 'enrichplot', 'evaluate',\n",
      "  'fansi', 'fgsea', 'foreign', 'GenomeInfoDb', 'GenomicFeatures', 'ggplot2',\n",
      "  'GOSemSim', 'haven', 'htmlwidgets', 'httpuv', 'httr', 'igraph', 'ipred',\n",
      "  'IRdisplay', 'IRkernel', 'jsonlite', 'kernlab', 'knitr', 'later', 'lattice',\n",
      "  'lava', 'magic', 'markdown', 'MASS', 'Matrix', 'mgcv', 'mime', 'MKmisc',\n",
      "  'ModelMetrics', 'modelr', 'muscle', 'openssl', 'pillar', 'pkgconfig', 'pls',\n",
      "  'processx', 'purrr', 'qvalue', 'R6', 'Rcpp', 'readr', 'readxl', 'recipes',\n",
      "  'repr', 'reprex', 'rlang', 'rmarkdown', 'robustbase', 'Rsamtools',\n",
      "  'rstudioapi', 'RUnit', 'scales', 'sfsmisc', 'shiny', 'stringi', 'stringr',\n",
      "  'survival', 'testthat', 'tibble', 'tidyr', 'tidyselect', 'tinytex', 'TTR',\n",
      "  'xfun', 'XML', 'xtable', 'xts', 'zoo'\n"
     ]
    }
   ],
   "source": [
    "BiocManager::install(\"GWASTools\")"
   ]
  },
  {
   "cell_type": "code",
   "execution_count": 5,
   "metadata": {},
   "outputs": [
    {
     "name": "stderr",
     "output_type": "stream",
     "text": [
      "Bioconductor version 3.8 (BiocManager 1.30.1), R 3.5.1 (2018-07-02)\n",
      "Installing package(s) 'GWASdata', 'gdsfmt'\n",
      "Warning message:\n",
      "\"unable to access index for repository http://www.stats.ox.ac.uk/pub/RWin/bin/windows/contrib/3.5:\n",
      "  无法打开URL'http://www.stats.ox.ac.uk/pub/RWin/bin/windows/contrib/3.5/PACKAGES'\""
     ]
    },
    {
     "name": "stdout",
     "output_type": "stream",
     "text": [
      "package 'gdsfmt' successfully unpacked and MD5 sums checked\n"
     ]
    },
    {
     "name": "stderr",
     "output_type": "stream",
     "text": [
      "Warning message:\n",
      "\"cannot remove prior installation of package 'gdsfmt'\""
     ]
    },
    {
     "name": "stdout",
     "output_type": "stream",
     "text": [
      "\n",
      "The downloaded binary packages are in\n",
      "\tC:\\Users\\Administrator\\AppData\\Local\\Temp\\Rtmp8KrlgF\\downloaded_packages\n"
     ]
    },
    {
     "name": "stderr",
     "output_type": "stream",
     "text": [
      "installing the source package 'GWASdata'\n",
      "\n",
      "Warning message in install.packages(pkgs = doing, lib = lib, repos = repos, ...):\n",
      "\"installation of package 'GWASdata' had non-zero exit status\"Update old packages: 'ade4', 'ape', 'backports', 'BH', 'BiocInstaller',\n",
      "  'BiocManager', 'BiocParallel', 'biomaRt', 'Biostrings', 'broom', 'callr',\n",
      "  'caret', 'checkpoint', 'class', 'cli', 'clipr', 'clusterProfiler',\n",
      "  'codetools', 'colorspace', 'curl', 'data.table', 'dbplyr', 'ddalpha',\n",
      "  'digest', 'dimRed', 'doParallel', 'DOSE', 'dplyr', 'enrichplot', 'evaluate',\n",
      "  'fansi', 'fgsea', 'foreign', 'GenomeInfoDb', 'GenomicFeatures', 'ggplot2',\n",
      "  'GOSemSim', 'haven', 'htmlwidgets', 'httpuv', 'httr', 'igraph', 'ipred',\n",
      "  'IRdisplay', 'IRkernel', 'jsonlite', 'kernlab', 'knitr', 'later', 'lattice',\n",
      "  'lava', 'magic', 'markdown', 'MASS', 'Matrix', 'mgcv', 'mime', 'MKmisc',\n",
      "  'ModelMetrics', 'modelr', 'muscle', 'openssl', 'pillar', 'pkgconfig', 'pls',\n",
      "  'processx', 'purrr', 'qvalue', 'R6', 'Rcpp', 'readr', 'readxl', 'recipes',\n",
      "  'repr', 'reprex', 'rlang', 'rmarkdown', 'robustbase', 'Rsamtools',\n",
      "  'rstudioapi', 'RUnit', 'scales', 'sfsmisc', 'shiny', 'stringi', 'stringr',\n",
      "  'survival', 'testthat', 'tibble', 'tidyr', 'tidyselect', 'tinytex', 'TTR',\n",
      "  'xfun', 'XML', 'xtable', 'xts', 'zoo'\n"
     ]
    }
   ],
   "source": [
    "BiocManager::install(c(\"GWASdata\",\"gdsfmt\"))"
   ]
  },
  {
   "cell_type": "code",
   "execution_count": 6,
   "metadata": {},
   "outputs": [],
   "source": [
    "library(GWASTools)"
   ]
  },
  {
   "cell_type": "code",
   "execution_count": 8,
   "metadata": {},
   "outputs": [
    {
     "name": "stderr",
     "output_type": "stream",
     "text": [
      "Warning message in data(GWASdata):\n",
      "\"data set 'GWASdata' not found\""
     ]
    }
   ],
   "source": [
    "library(GWASdata)"
   ]
  },
  {
   "cell_type": "markdown",
   "metadata": {},
   "source": [
    "2. Now, load the affy raw data from the GWASdata package. It consists of two data sets, affy_scan_anot and affy_snp_annot, as follows:"
   ]
  },
  {
   "cell_type": "code",
   "execution_count": null,
   "metadata": {},
   "outputs": [],
   "source": [
    "data(affy_scan_annot)"
   ]
  },
  {
   "cell_type": "code",
   "execution_count": null,
   "metadata": {},
   "outputs": [],
   "source": [
    "data(affy_snp_annot)"
   ]
  },
  {
   "cell_type": "markdown",
   "metadata": {},
   "source": [
    "3. Use the built-in data from the package, and to get the complete path and name of the data from the package, type the following commands:"
   ]
  },
  {
   "cell_type": "code",
   "execution_count": null,
   "metadata": {},
   "outputs": [],
   "source": [
    "file <- system.file(\"extdata\",\"affy_geno.nc\", package=\"GWASdata\")"
   ]
  },
  {
   "cell_type": "code",
   "execution_count": null,
   "metadata": {},
   "outputs": [],
   "source": [
    "file"
   ]
  },
  {
   "cell_type": "markdown",
   "metadata": {},
   "source": [
    "4. Now, use this file path and name as the argument of the NcdfGenoTypeReader function to import or load the file in your R workspace as follows:"
   ]
  },
  {
   "cell_type": "code",
   "execution_count": null,
   "metadata": {},
   "outputs": [],
   "source": [
    "nc <- NcdfGenotypeReader(file)"
   ]
  }
 ],
 "metadata": {
  "kernelspec": {
   "display_name": "R",
   "language": "R",
   "name": "ir"
  },
  "language_info": {
   "codemirror_mode": "r",
   "file_extension": ".r",
   "mimetype": "text/x-r-source",
   "name": "R",
   "pygments_lexer": "r",
   "version": "3.5.1"
  }
 },
 "nbformat": 4,
 "nbformat_minor": 2
}
