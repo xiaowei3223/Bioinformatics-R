{
 "cells": [
  {
   "cell_type": "markdown",
   "metadata": {},
   "source": [
    "1. First, load the GWASExactHW library in the R session as follows:"
   ]
  },
  {
   "cell_type": "code",
   "execution_count": 2,
   "metadata": {},
   "outputs": [
    {
     "name": "stderr",
     "output_type": "stream",
     "text": [
      "Warning message:\n",
      "\"package 'GWASEXactHW' is not available (for R version 3.5.1)\"Warning message in readRDS(dest):\n",
      "\"lzma decoding result 10\"Warning message:\n",
      "\"unable to access index for repository http://www.stats.ox.ac.uk/pub/RWin/bin/windows/contrib/3.5:\n",
      "  无法打开URL'http://www.stats.ox.ac.uk/pub/RWin/bin/windows/contrib/3.5/PACKAGES'\""
     ]
    }
   ],
   "source": [
    "install.packages(\"GWASEXactHW\")"
   ]
  },
  {
   "cell_type": "code",
   "execution_count": 3,
   "metadata": {},
   "outputs": [
    {
     "ename": "ERROR",
     "evalue": "Error in library(GWASEXactHW): there is no package called 'GWASEXactHW'\n",
     "output_type": "error",
     "traceback": [
      "Error in library(GWASEXactHW): there is no package called 'GWASEXactHW'\nTraceback:\n",
      "1. library(GWASEXactHW)",
      "2. stop(txt, domain = NA)"
     ]
    }
   ],
   "source": [
    "library(GWASEXactHW)"
   ]
  },
  {
   "cell_type": "markdown",
   "metadata": {},
   "source": [
    "2. Now, simulate some SNP data. To do this, artificially generate SNP variants via a multinomial distribution. Use the conditions of HWE to generate data as follows:"
   ]
  },
  {
   "cell_type": "code",
   "execution_count": null,
   "metadata": {},
   "outputs": [],
   "source": [
    "pA <- runif(1)"
   ]
  },
  {
   "cell_type": "code",
   "execution_count": null,
   "metadata": {},
   "outputs": [],
   "source": [
    "pAA <- pA^2"
   ]
  },
  {
   "cell_type": "code",
   "execution_count": null,
   "metadata": {},
   "outputs": [],
   "source": [
    "pAa<-2*pA*(1-pA)"
   ]
  },
  {
   "cell_type": "code",
   "execution_count": null,
   "metadata": {},
   "outputs": [],
   "source": [
    "paa <- (1-pA)^2"
   ]
  },
  {
   "cell_type": "code",
   "execution_count": null,
   "metadata": {},
   "outputs": [],
   "source": [
    "myCounts <- rmultinom(100, 500, c(pAA, pAa, paa))"
   ]
  },
  {
   "cell_type": "markdown",
   "metadata": {},
   "source": [
    "3. Now, create a data.frame object for counts(frequencies) of all of the variants as follows:"
   ]
  },
  {
   "cell_type": "raw",
   "metadata": {},
   "source": [
    "genotypes <- data.frame(t(myCounts))"
   ]
  },
  {
   "cell_type": "raw",
   "metadata": {},
   "source": [
    "colnames(genotypes)=c(\"nAA\",\"nAa\",\"naa\")"
   ]
  },
  {
   "cell_type": "markdown",
   "metadata": {},
   "source": [
    "4. Then, use the HWExact function to compute the p-values as follows: "
   ]
  },
  {
   "cell_type": "raw",
   "metadata": {},
   "source": [
    "hwPvalues <- HWExact(genotypes)"
   ]
  },
  {
   "cell_type": "markdown",
   "metadata": {},
   "source": [
    "5. Use real SNP data for this  part of the recipe as follows (note that the data is available withthe code files on the book's web page):"
   ]
  },
  {
   "cell_type": "raw",
   "metadata": {},
   "source": [
    "load(\"path/to/code/file/dir/Alzhimers.rda\")"
   ]
  },
  {
   "cell_type": "markdown",
   "metadata": {},
   "source": [
    "6. Performing the previous step loads an object named Alizheimers; take a look at its contents s follows. It is a data.frame object that contains the frequencies of each allele along columns for each SNP along the rows as follows:"
   ]
  },
  {
   "cell_type": "raw",
   "metadata": {},
   "source": [
    "head(Alzheimers)"
   ]
  },
  {
   "cell_type": "markdown",
   "metadata": {},
   "source": [
    "7. Use the data for the exact test with the following HWExact function:"
   ]
  },
  {
   "cell_type": "raw",
   "metadata": {},
   "source": [
    "myTest <- HWExact(Alzheimers)"
   ]
  },
  {
   "cell_type": "raw",
   "metadata": {},
   "source": [
    "names(myTest) <- rownames(Alzheimers)"
   ]
  },
  {
   "cell_type": "markdown",
   "metadata": {},
   "source": [
    "8. Plot the p-values after the test as follows:"
   ]
  },
  {
   "cell_type": "code",
   "execution_count": null,
   "metadata": {},
   "outputs": [],
   "source": [
    "plot(-log10(myTest), type=\"b\", ylab=\"-log10(p-value)\", main=\"HWE\n",
    "p-values for SNPS\")"
   ]
  },
  {
   "cell_type": "code",
   "execution_count": null,
   "metadata": {},
   "outputs": [],
   "source": [
    "abline(h=-log10(0.05), col=\"red\")"
   ]
  },
  {
   "cell_type": "markdown",
   "metadata": {},
   "source": [
    "9.To extract the significant SNPs, look for a p-value lower than 0.05 as follows:"
   ]
  },
  {
   "cell_type": "code",
   "execution_count": null,
   "metadata": {},
   "outputs": [],
   "source": [
    "sum(myTest<0.05)"
   ]
  },
  {
   "cell_type": "markdown",
   "metadata": {},
   "source": [
    "10. To get the name of the significant SNPs from the HWE test, simply extract the ones for\n",
    "which the p-value is less than 0.05, as follows:"
   ]
  },
  {
   "cell_type": "raw",
   "metadata": {},
   "source": [
    "names(myTest)[which(myTest<0.05)]"
   ]
  },
  {
   "cell_type": "markdown",
   "metadata": {},
   "source": [
    "11. Now, imagine a situation where you do not have frequencies; rather, you have the\n",
    "alleles of SNPs in different samples (individuals). Recall the SNP data from the\n",
    "association study recipe."
   ]
  },
  {
   "cell_type": "markdown",
   "metadata": {},
   "source": [
    "12. Source the SNPfreqCal.R function from the code files provided in your workspace.\n",
    "The function contains scripts to compute frequencies from such SNP data. Also, load\n",
    "the SNP data from the SNPassoc library as follows:"
   ]
  },
  {
   "cell_type": "code",
   "execution_count": 5,
   "metadata": {},
   "outputs": [
    {
     "name": "stderr",
     "output_type": "stream",
     "text": [
      "Warning message in file(filename, \"r\", encoding = encoding):\n",
      "\"无法打开文件'path/to code/file/SNPfreqCalc.R': No such file or directory\""
     ]
    },
    {
     "ename": "ERROR",
     "evalue": "Error in file(filename, \"r\", encoding = encoding): 无法打开链结\n",
     "output_type": "error",
     "traceback": [
      "Error in file(filename, \"r\", encoding = encoding): 无法打开链结\nTraceback:\n",
      "1. source(\"path/to code/file/SNPfreqCalc.R\")",
      "2. file(filename, \"r\", encoding = encoding)"
     ]
    }
   ],
   "source": [
    "source(\"path/to code/file/SNPfreqCalc.R\")\n",
    "library(SNPassoc)\n",
    "data(SNPs)"
   ]
  },
  {
   "cell_type": "markdown",
   "metadata": {},
   "source": [
    "13. Now, run the following function to get the frequencies:"
   ]
  },
  {
   "cell_type": "code",
   "execution_count": null,
   "metadata": {},
   "outputs": [],
   "source": [
    "freq2 <- freqCalc(SNPs, pat=\"snp\")"
   ]
  },
  {
   "cell_type": "markdown",
   "metadata": {},
   "source": [
    "14. This gives a frequency table like the one you used for other data. Run the following\n",
    "HWExact function on it, as you did earlier, to get the statistics:"
   ]
  },
  {
   "cell_type": "code",
   "execution_count": null,
   "metadata": {},
   "outputs": [],
   "source": [
    "myTestSNPs <- HWExact(freq2)"
   ]
  }
 ],
 "metadata": {
  "kernelspec": {
   "display_name": "R",
   "language": "R",
   "name": "ir"
  },
  "language_info": {
   "codemirror_mode": "r",
   "file_extension": ".r",
   "mimetype": "text/x-r-source",
   "name": "R",
   "pygments_lexer": "r",
   "version": "3.5.1"
  }
 },
 "nbformat": 4,
 "nbformat_minor": 2
}
