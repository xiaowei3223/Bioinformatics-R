{
 "cells": [
  {
   "cell_type": "markdown",
   "metadata": {},
   "source": [
    "1. As usual, start with intalling and loading the CNVassoc library as follows:"
   ]
  },
  {
   "cell_type": "code",
   "execution_count": 1,
   "metadata": {},
   "outputs": [
    {
     "name": "stderr",
     "output_type": "stream",
     "text": [
      "Warning message:\n",
      "\"package 'CNVassoc' is not available (for R version 3.5.1)\"Warning message:\n",
      "\"unable to access index for repository http://www.stats.ox.ac.uk/pub/RWin/bin/windows/contrib/3.5:\n",
      "  无法打开URL'http://www.stats.ox.ac.uk/pub/RWin/bin/windows/contrib/3.5/PACKAGES'\""
     ]
    }
   ],
   "source": [
    "install.packages(\"CNVassoc\")"
   ]
  },
  {
   "cell_type": "code",
   "execution_count": 2,
   "metadata": {},
   "outputs": [
    {
     "ename": "ERROR",
     "evalue": "Error in library(CNVassoc): there is no package called 'CNVassoc'\n",
     "output_type": "error",
     "traceback": [
      "Error in library(CNVassoc): there is no package called 'CNVassoc'\nTraceback:\n",
      "1. library(CNVassoc)",
      "2. stop(txt, domain = NA)"
     ]
    }
   ],
   "source": [
    "library(CNVassoc)"
   ]
  },
  {
   "cell_type": "markdown",
   "metadata": {},
   "source": [
    "2. After this, load the MLPA data in the workspace by typing the following command:"
   ]
  },
  {
   "cell_type": "raw",
   "metadata": {},
   "source": [
    "data(dataMLPA)"
   ]
  },
  {
   "cell_type": "markdown",
   "metadata": {},
   "source": [
    "3. Take a look at the MLPA data, which is a data frame in the head function, by typing the following function:"
   ]
  },
  {
   "cell_type": "raw",
   "metadata": {},
   "source": [
    "str(dataMLPA)"
   ]
  },
  {
   "cell_type": "raw",
   "metadata": {},
   "source": [
    "head(dataMLPA)"
   ]
  },
  {
   "cell_type": "markdown",
   "metadata": {},
   "source": [
    "4. To check the intensities that correspond to the phenotype, plot the densities as follows:"
   ]
  },
  {
   "cell_type": "raw",
   "metadata": {},
   "source": [
    "plotSignal(dataMLPA$Genel, case.control=dataMLPA$casco)"
   ]
  },
  {
   "cell_type": "markdown",
   "metadata": {},
   "source": [
    "5. Now, as you have seen the data peak iintensities for the two genes, you need to create a cnv object for the gene you want ro study. Here, you will attempt to study Gene 2. Create the cnv object as follows:"
   ]
  },
  {
   "cell_type": "raw",
   "metadata": {},
   "source": [
    "myCNV <- cnv(x = dataMLPA$Gene2, threshold.0 =0.01, mix.method=\"mixdist\")"
   ]
  },
  {
   "cell_type": "markdown",
   "metadata": {},
   "source": [
    "6. Now, use the cnv objext to compute the association using the CNVassoc function, as follows:"
   ]
  },
  {
   "cell_type": "raw",
   "metadata": {},
   "source": [
    "myModel <- CNVassoc(formula=casco~myCNV, data=dataMLPA,model=\"mul\")"
   ]
  },
  {
   "cell_type": "markdown",
   "metadata": {},
   "source": [
    "7. To look at the estimated parameters, type the following command:"
   ]
  },
  {
   "cell_type": "raw",
   "metadata": {},
   "source": [
    "summary(myModel)"
   ]
  },
  {
   "cell_type": "markdown",
   "metadata": {},
   "source": [
    "8. To do an Anova(with an additive model for example) or likelihood computation, use the corresponding function, as follows:"
   ]
  },
  {
   "cell_type": "raw",
   "metadata": {},
   "source": [
    "myModel2 <- CNVassoc(formula=casco~myCNV, data=dataMLPA,model=\"add\")"
   ]
  },
  {
   "cell_type": "raw",
   "metadata": {},
   "source": [
    "anova(myModel)"
   ]
  },
  {
   "cell_type": "raw",
   "metadata": {},
   "source": [
    "logLik(myModel)"
   ]
  },
  {
   "cell_type": "markdown",
   "metadata": {},
   "source": [
    "9. Finally, to determine whether a CNV is associated with the phenotype, perform a Wald or likelihood test on your model with the help of the following commands:"
   ]
  },
  {
   "cell_type": "raw",
   "metadata": {},
   "source": [
    "CNVtest(myModel, type=\"LRT\")"
   ]
  },
  {
   "cell_type": "raw",
   "metadata": {},
   "source": [
    "CNVtest(myModel,type=c(\"wald\",\"LRT\"))"
   ]
  },
  {
   "cell_type": "raw",
   "metadata": {},
   "source": [
    "CNVtest(myModel, type=\"Wald\")"
   ]
  },
  {
   "cell_type": "markdown",
   "metadata": {},
   "source": [
    "This returns the p-value for the association based on the test that wa performed."
   ]
  },
  {
   "cell_type": "code",
   "execution_count": null,
   "metadata": {},
   "outputs": [],
   "source": []
  }
 ],
 "metadata": {
  "kernelspec": {
   "display_name": "R",
   "language": "R",
   "name": "ir"
  },
  "language_info": {
   "codemirror_mode": "r",
   "file_extension": ".r",
   "mimetype": "text/x-r-source",
   "name": "R",
   "pygments_lexer": "r",
   "version": "3.5.1"
  }
 },
 "nbformat": 4,
 "nbformat_minor": 2
}
