{
 "cells": [
  {
   "cell_type": "markdown",
   "metadata": {},
   "source": [
    "1. Start with installing the NCBI2R library and loading it in your R session as follows:"
   ]
  },
  {
   "cell_type": "code",
   "execution_count": 1,
   "metadata": {},
   "outputs": [
    {
     "name": "stderr",
     "output_type": "stream",
     "text": [
      "Warning message in readRDS(dest):\n",
      "\"lzma decoding result 10\"Warning message:\n",
      "\"package 'NCBI2R' is not available (for R version 3.5.1)\"Warning message:\n",
      "\"unable to access index for repository http://www.stats.ox.ac.uk/pub/RWin/bin/windows/contrib/3.5:\n",
      "  无法打开URL'http://www.stats.ox.ac.uk/pub/RWin/bin/windows/contrib/3.5/PACKAGES'\""
     ]
    }
   ],
   "source": [
    "install.packages(\"NCBI2R\")"
   ]
  },
  {
   "cell_type": "code",
   "execution_count": 2,
   "metadata": {},
   "outputs": [
    {
     "ename": "ERROR",
     "evalue": "Error in library(NCBI2R): there is no package called 'NCBI2R'\n",
     "output_type": "error",
     "traceback": [
      "Error in library(NCBI2R): there is no package called 'NCBI2R'\nTraceback:\n",
      "1. library(NCBI2R)",
      "2. stop(txt, domain = NA)"
     ]
    }
   ],
   "source": [
    "library(NCBI2R)"
   ]
  },
  {
   "cell_type": "markdown",
   "metadata": {},
   "source": [
    "2. Now, create a list of some random SNP IDs(it must be a valid dbSNP ID) with the help of the following command:"
   ]
  },
  {
   "cell_type": "code",
   "execution_count": null,
   "metadata": {},
   "outputs": [],
   "source": [
    "mysnplist <- c(\"rs94\", \"rs334\", \"rs309\", \"rs333\", \"rs339\")"
   ]
  },
  {
   "cell_type": "markdown",
   "metadata": {},
   "source": [
    "3. Extract the SNPs from one of the blocks of data that you are working with as follows:"
   ]
  },
  {
   "cell_type": "code",
   "execution_count": null,
   "metadata": {},
   "outputs": [],
   "source": [
    "mySNPs <- SNPs$id"
   ]
  },
  {
   "cell_type": "markdown",
   "metadata": {},
   "source": [
    "4. To get the flank sequence for the set of SNPs, use the GetSNPFlankSeq function from the NCBI2R package as follows:"
   ]
  },
  {
   "cell_type": "raw",
   "metadata": {},
   "source": [
    "myInfo <- GetSNPInfo(mysnplist)"
   ]
  },
  {
   "cell_type": "markdown",
   "metadata": {},
   "source": [
    "5. To fetch information about the SNPs, use the GetSNPInfo function as follows:"
   ]
  },
  {
   "cell_type": "raw",
   "metadata": {},
   "source": [
    "myInfo <- GetSNPInfo(mysnplist)"
   ]
  },
  {
   "cell_type": "markdown",
   "metadata": {},
   "source": [
    "6. To know about the pathways where the SNP related genes are involved, type in the following command:"
   ]
  },
  {
   "cell_type": "raw",
   "metadata": {},
   "source": [
    "pathway <- GetPathways(myInfo$locusID)"
   ]
  },
  {
   "cell_type": "markdown",
   "metadata": {},
   "source": [
    "7. To divide the SNP information for multiple genes into individual entries, use the package that implements the SplitGenes function as follows:"
   ]
  },
  {
   "cell_type": "raw",
   "metadata": {},
   "source": [
    "mySNPs <- SplitGenes(myInfo)"
   ]
  },
  {
   "cell_type": "markdown",
   "metadata": {},
   "source": [
    "8. To get the chromosome and genomic position, use the following function:"
   ]
  },
  {
   "cell_type": "raw",
   "metadata": {},
   "source": [
    "GetSNPPosHapMap(mysnplist[1])"
   ]
  },
  {
   "cell_type": "markdown",
   "metadata": {},
   "source": [
    "9. To perform the annotation for a set of genes in a file, run the AnnotateSNPFile function. The results will be generated and saved as an HTML file, as follows:"
   ]
  },
  {
   "cell_type": "raw",
   "metadata": {},
   "source": [
    "write(mysnplist, file=\"myfile.txt\")"
   ]
  },
  {
   "cell_type": "raw",
   "metadata": {},
   "source": [
    "resultsdf <- AnnotateSNPFile(\"myfile.txt\", \"Annotation_output.html\")"
   ]
  },
  {
   "cell_type": "markdown",
   "metadata": {},
   "source": [
    "10. The following GetGenesInSNPs function returns a list of genes that contain the given SNP:"
   ]
  },
  {
   "cell_type": "raw",
   "metadata": {},
   "source": [
    "geneList <- GetGenessInSNPs(mysnplist)"
   ]
  },
  {
   "cell_type": "markdown",
   "metadata": {},
   "source": [
    "11. If we want to know the gene in a given region(by chromosome name or number and position), use the GetGentsInRegion fuction as follows:"
   ]
  },
  {
   "cell_type": "code",
   "execution_count": null,
   "metadata": {},
   "outputs": [],
   "source": [
    "GetGenesInRegion(\"3\",1, 1000000)"
   ]
  }
 ],
 "metadata": {
  "kernelspec": {
   "display_name": "R",
   "language": "R",
   "name": "ir"
  },
  "language_info": {
   "codemirror_mode": "r",
   "file_extension": ".r",
   "mimetype": "text/x-r-source",
   "name": "R",
   "pygments_lexer": "r",
   "version": "3.5.1"
  }
 },
 "nbformat": 4,
 "nbformat_minor": 2
}
