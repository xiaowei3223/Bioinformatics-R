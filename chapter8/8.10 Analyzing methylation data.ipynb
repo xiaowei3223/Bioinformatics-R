{
 "cells": [
  {
   "cell_type": "markdown",
   "metadata": {},
   "source": [
    "DNA methylation data can serve as a tool to detect an epigenetic marker for which a detailed mechanism of mitotic inheritance has been described. It is usually done via methylation-specific DNA sequencing or via microarray data epigenetic regulation. Recent advances in NGS and microarray technology make it possible to map genome-wide DNA methylation at a high resolution and in a large number of samples. One of the common goals in analyzing methylation data is to identify differentially methylated regions (DMRs) when comparing control and treatment conditions. This recipe aims to address this issue\n",
    "\n",
    "DNA甲基化数据可作为检测表观遗传标记的工具，其中有丝分裂遗传的详细机制已被描述。它通常是通过甲基化特异性DNA测序或微阵列数据表观遗传调控完成的。NGS和微阵列技术的最新进展使得在高分辨率和大量样本中绘制全基因组DNA甲基化图谱成为可能。分析甲基化数据的一个共同目标是在比较对照和治疗条件时识别差异甲基化区域(DMRs)。本教程旨在解决这个问题："
   ]
  },
  {
   "cell_type": "markdown",
   "metadata": {},
   "source": [
    "1. Start with loading the library and dataset in your R workspace as follows:\n",
    "\n",
    " 首先在R工作区中加载库和数据集，如下所示："
   ]
  },
  {
   "cell_type": "code",
   "execution_count": 1,
   "metadata": {},
   "outputs": [
    {
     "name": "stderr",
     "output_type": "stream",
     "text": [
      "Bioconductor version 3.7 (BiocInstaller 1.30.0), ?biocLite for help\n",
      "A newer version of Bioconductor is available for this version of R,\n",
      "  ?BiocUpgrade for help\n",
      "BioC_mirror: https://bioconductor.org\n",
      "Using Bioconductor 3.7 (BiocInstaller 1.30.0), R 3.5.1 (2018-07-02).\n",
      "Installing package(s) 'methyAnalysis'\n",
      "also installing the dependencies 'registry', 'bibtex', 'rngtools', 'pkgmaker', 'Rhdf5lib', 'doRNG', 'multtest', 'rhdf5', 'ProtGenerics', 'TxDb.Hsapiens.UCSC.hg19.knownGene', 'bumphunter', 'beanplot', 'nor1mix', 'siggenes', 'DelayedMatrixStats', 'mclust', 'reshape', 'quadprog', 'HDF5Array', 'ensembldb', 'AnnotationFilter', 'nleqslv', 'FDb.InfiniumMethylation.hg19', 'minfi', 'BSgenome', 'biovizBase', 'lumi', 'methylumi', 'Gviz', 'genoset', 'VariantAnnotation'\n",
      "\n"
     ]
    },
    {
     "name": "stdout",
     "output_type": "stream",
     "text": [
      "package 'registry' successfully unpacked and MD5 sums checked\n",
      "package 'bibtex' successfully unpacked and MD5 sums checked\n",
      "package 'rngtools' successfully unpacked and MD5 sums checked\n",
      "package 'pkgmaker' successfully unpacked and MD5 sums checked\n",
      "package 'Rhdf5lib' successfully unpacked and MD5 sums checked\n",
      "package 'doRNG' successfully unpacked and MD5 sums checked\n",
      "package 'multtest' successfully unpacked and MD5 sums checked\n",
      "package 'rhdf5' successfully unpacked and MD5 sums checked\n",
      "package 'ProtGenerics' successfully unpacked and MD5 sums checked\n",
      "package 'bumphunter' successfully unpacked and MD5 sums checked\n",
      "package 'beanplot' successfully unpacked and MD5 sums checked\n",
      "package 'nor1mix' successfully unpacked and MD5 sums checked\n",
      "package 'siggenes' successfully unpacked and MD5 sums checked\n",
      "package 'DelayedMatrixStats' successfully unpacked and MD5 sums checked\n",
      "package 'mclust' successfully unpacked and MD5 sums checked\n",
      "package 'reshape' successfully unpacked and MD5 sums checked\n",
      "package 'quadprog' successfully unpacked and MD5 sums checked\n",
      "package 'HDF5Array' successfully unpacked and MD5 sums checked\n",
      "package 'ensembldb' successfully unpacked and MD5 sums checked\n",
      "package 'AnnotationFilter' successfully unpacked and MD5 sums checked\n",
      "package 'nleqslv' successfully unpacked and MD5 sums checked\n",
      "package 'minfi' successfully unpacked and MD5 sums checked\n",
      "package 'BSgenome' successfully unpacked and MD5 sums checked\n",
      "package 'biovizBase' successfully unpacked and MD5 sums checked\n",
      "package 'lumi' successfully unpacked and MD5 sums checked\n",
      "package 'methylumi' successfully unpacked and MD5 sums checked\n",
      "package 'Gviz' successfully unpacked and MD5 sums checked\n",
      "package 'genoset' successfully unpacked and MD5 sums checked\n",
      "package 'VariantAnnotation' successfully unpacked and MD5 sums checked\n",
      "package 'methyAnalysis' successfully unpacked and MD5 sums checked\n",
      "\n",
      "The downloaded binary packages are in\n",
      "\tC:\\Users\\Administrator\\AppData\\Local\\Temp\\Rtmp8y88iF\\downloaded_packages\n"
     ]
    },
    {
     "name": "stderr",
     "output_type": "stream",
     "text": [
      "installing the source packages 'TxDb.Hsapiens.UCSC.hg19.knownGene', 'FDb.InfiniumMethylation.hg19'\n",
      "\n",
      "Old packages: 'ade4', 'ape', 'backports', 'BH', 'BiocManager', 'broom',\n",
      "  'callr', 'caret', 'checkpoint', 'class', 'cli', 'clipr', 'codetools',\n",
      "  'colorspace', 'curl', 'data.table', 'dbplyr', 'ddalpha', 'digest', 'dimRed',\n",
      "  'doParallel', 'dplyr', 'evaluate', 'fansi', 'forcats', 'foreign', 'geometry',\n",
      "  'ggplot2', 'haven', 'htmlwidgets', 'httpuv', 'httr', 'igraph', 'ipred',\n",
      "  'IRdisplay', 'IRkernel', 'jsonlite', 'kernlab', 'knitr', 'later', 'lattice',\n",
      "  'lava', 'magic', 'markdown', 'MASS', 'Matrix', 'mgcv', 'mime', 'MKmisc',\n",
      "  'ModelMetrics', 'modelr', 'openssl', 'pillar', 'pkgconfig', 'pls',\n",
      "  'processx', 'purrr', 'R.utils', 'R6', 'Rcpp', 'readr', 'readxl', 'recipes',\n",
      "  'repr', 'reprex', 'rlang', 'rmarkdown', 'robustbase', 'rstudioapi', 'RUnit',\n",
      "  'scales', 'sfsmisc', 'shiny', 'stringi', 'stringr', 'survival', 'testthat',\n",
      "  'tibble', 'tidyr', 'tidyselect', 'tinytex', 'TTR', 'xfun', 'XML', 'xtable',\n",
      "  'xts', 'zoo'\n"
     ]
    }
   ],
   "source": [
    "source(\"http://bioconductor.org/biocLite.R\")\n",
    "biocLite(c(\"methyAnalysis\"))"
   ]
  },
  {
   "cell_type": "code",
   "execution_count": 2,
   "metadata": {},
   "outputs": [
    {
     "name": "stderr",
     "output_type": "stream",
     "text": [
      "Bioconductor version 3.7 (BiocInstaller 1.30.0), ?biocLite for help\n",
      "A newer version of Bioconductor is available for this version of R,\n",
      "  ?BiocUpgrade for help\n",
      "BioC_mirror: https://bioconductor.org\n",
      "Using Bioconductor 3.7 (BiocInstaller 1.30.0), R 3.5.1 (2018-07-02).\n",
      "Installing package(s) 'TxDb.Hsapiens.UCSC.hg19.knownGene'\n",
      "installing the source package 'TxDb.Hsapiens.UCSC.hg19.knownGene'\n",
      "\n",
      "Warning message in download.file(url, destfile, method, mode = \"wb\", ...):\n",
      "\"downloaded length 700416 != reported length 18669702\"Warning message in install.packages(pkgs = doing, lib = lib, ...):\n",
      "\"installation of package 'TxDb.Hsapiens.UCSC.hg19.knownGene' had non-zero exit status\"Old packages: 'ade4', 'ape', 'backports', 'BH', 'BiocManager', 'broom',\n",
      "  'callr', 'caret', 'checkpoint', 'class', 'cli', 'clipr', 'codetools',\n",
      "  'colorspace', 'curl', 'data.table', 'dbplyr', 'ddalpha', 'digest', 'dimRed',\n",
      "  'doParallel', 'dplyr', 'evaluate', 'fansi', 'forcats', 'foreign', 'geometry',\n",
      "  'ggplot2', 'haven', 'htmlwidgets', 'httpuv', 'httr', 'igraph', 'ipred',\n",
      "  'IRdisplay', 'IRkernel', 'jsonlite', 'kernlab', 'knitr', 'later', 'lattice',\n",
      "  'lava', 'magic', 'markdown', 'MASS', 'Matrix', 'mgcv', 'mime', 'MKmisc',\n",
      "  'ModelMetrics', 'modelr', 'openssl', 'pillar', 'pkgconfig', 'pls',\n",
      "  'processx', 'purrr', 'R.utils', 'R6', 'Rcpp', 'readr', 'readxl', 'recipes',\n",
      "  'repr', 'reprex', 'rlang', 'rmarkdown', 'robustbase', 'rstudioapi', 'RUnit',\n",
      "  'scales', 'sfsmisc', 'shiny', 'stringi', 'stringr', 'survival', 'testthat',\n",
      "  'tibble', 'tidyr', 'tidyselect', 'tinytex', 'TTR', 'xfun', 'XML', 'xtable',\n",
      "  'xts', 'zoo'\n"
     ]
    }
   ],
   "source": [
    "source(\"http://bioconductor.org/biocLite.R\")\n",
    "biocLite(c(\"TxDb.Hsapiens.UCSC.hg19.knownGene\"))"
   ]
  },
  {
   "cell_type": "code",
   "execution_count": 2,
   "metadata": {},
   "outputs": [
    {
     "name": "stderr",
     "output_type": "stream",
     "text": [
      "Loading required package: grid\n",
      "Loading required package: BiocGenerics\n",
      "Loading required package: parallel\n",
      "\n",
      "Attaching package: 'BiocGenerics'\n",
      "\n",
      "The following objects are masked from 'package:parallel':\n",
      "\n",
      "    clusterApply, clusterApplyLB, clusterCall, clusterEvalQ,\n",
      "    clusterExport, clusterMap, parApply, parCapply, parLapply,\n",
      "    parLapplyLB, parRapply, parSapply, parSapplyLB\n",
      "\n",
      "The following objects are masked from 'package:stats':\n",
      "\n",
      "    IQR, mad, sd, var, xtabs\n",
      "\n",
      "The following objects are masked from 'package:base':\n",
      "\n",
      "    anyDuplicated, append, as.data.frame, basename, cbind, colMeans,\n",
      "    colnames, colSums, dirname, do.call, duplicated, eval, evalq,\n",
      "    Filter, Find, get, grep, grepl, intersect, is.unsorted, lapply,\n",
      "    lengths, Map, mapply, match, mget, order, paste, pmax, pmax.int,\n",
      "    pmin, pmin.int, Position, rank, rbind, Reduce, rowMeans, rownames,\n",
      "    rowSums, sapply, setdiff, sort, table, tapply, union, unique,\n",
      "    unsplit, which, which.max, which.min\n",
      "\n",
      "Loading required package: IRanges\n",
      "Loading required package: S4Vectors\n",
      "Loading required package: stats4\n",
      "\n",
      "Attaching package: 'S4Vectors'\n",
      "\n",
      "The following object is masked from 'package:base':\n",
      "\n",
      "    expand.grid\n",
      "\n",
      "\n",
      "Attaching package: 'IRanges'\n",
      "\n",
      "The following object is masked from 'package:grDevices':\n",
      "\n",
      "    windows\n",
      "\n",
      "Loading required package: GenomeInfoDb\n",
      "Loading required package: GenomicRanges\n",
      "Loading required package: Biobase\n",
      "Welcome to Bioconductor\n",
      "\n",
      "    Vignettes contain introductory material; view with\n",
      "    'browseVignettes()'. To cite Bioconductor, see\n",
      "    'citation(\"Biobase\")', and for packages 'citation(\"pkgname\")'.\n",
      "\n",
      "\n",
      "Attaching package: 'Biobase'\n",
      "\n",
      "The following object is masked from 'package:BiocGenerics':\n",
      "\n",
      "    dims\n",
      "\n",
      "Loading required package: org.Hs.eg.db\n",
      "Loading required package: AnnotationDbi\n",
      "Warning message:\n",
      "\"replacing previous import 'BiocGenerics::dims' by 'Biobase::dims' when loading 'AnnotationDbi'\"\n",
      "Warning message:\n",
      "\"replacing previous import 'BiocGenerics::dims' by 'Biobase::dims' when loading 'SummarizedExperiment'\"Warning message:\n",
      "\"replacing previous import 'Biobase::dims' by 'DelayedArray::dims' when loading 'SummarizedExperiment'\"Warning message:\n",
      "\"replacing previous import 'BiocGenerics::dims' by 'Biobase::dims' when loading 'methylumi'\"No methods found in package 'DelayedArray' for request: 'write_block_to_sink' when loading 'DelayedMatrixStats'\n",
      "Warning message:\n",
      "\"no function found corresponding to methods exports from 'HDF5Array' for: 'write_block_to_sink'\"Warning message:\n",
      "\"replacing previous import 'BiocGenerics::dims' by 'Biobase::dims' when loading 'multtest'\"Setting options('download.file.method.GEOquery'='auto')\n",
      "Setting options('GEOquery.inmemory.gpl'=FALSE)\n",
      "No methods found in package 'genoset' for request: 'toGenomeOrder' when loading 'methyAnalysis'\n"
     ]
    }
   ],
   "source": [
    "library(methyAnalysis)"
   ]
  },
  {
   "cell_type": "code",
   "execution_count": 3,
   "metadata": {},
   "outputs": [],
   "source": [
    "data(exampleMethyGenoSet)"
   ]
  },
  {
   "cell_type": "markdown",
   "metadata": {},
   "source": [
    "2. To get some information, such as samples and location for the data, look at different components, as follows (note that you can see eight samples):\n",
    " \n",
    " 获取一些信息，比如数据的样本和位置，查看不同的不见："
   ]
  },
  {
   "cell_type": "code",
   "execution_count": 4,
   "metadata": {},
   "outputs": [
    {
     "data": {
      "text/html": [
       "<ol class=list-inline>\n",
       "\t<li>'history'</li>\n",
       "\t<li>'annotation'</li>\n",
       "\t<li>'rowRanges'</li>\n",
       "\t<li>'colData'</li>\n",
       "\t<li>'assays'</li>\n",
       "\t<li>'NAMES'</li>\n",
       "\t<li>'elementMetadata'</li>\n",
       "\t<li>'metadata'</li>\n",
       "</ol>\n"
      ],
      "text/latex": [
       "\\begin{enumerate*}\n",
       "\\item 'history'\n",
       "\\item 'annotation'\n",
       "\\item 'rowRanges'\n",
       "\\item 'colData'\n",
       "\\item 'assays'\n",
       "\\item 'NAMES'\n",
       "\\item 'elementMetadata'\n",
       "\\item 'metadata'\n",
       "\\end{enumerate*}\n"
      ],
      "text/markdown": [
       "1. 'history'\n",
       "2. 'annotation'\n",
       "3. 'rowRanges'\n",
       "4. 'colData'\n",
       "5. 'assays'\n",
       "6. 'NAMES'\n",
       "7. 'elementMetadata'\n",
       "8. 'metadata'\n",
       "\n",
       "\n"
      ],
      "text/plain": [
       "[1] \"history\"         \"annotation\"      \"rowRanges\"       \"colData\"        \n",
       "[5] \"assays\"          \"NAMES\"           \"elementMetadata\" \"metadata\"       "
      ]
     },
     "metadata": {},
     "output_type": "display_data"
    }
   ],
   "source": [
    "slotNames(exampleMethyGenoSet) #对象数据的 根目录类别"
   ]
  },
  {
   "cell_type": "raw",
   "metadata": {},
   "source": [
    "head(locData(exampleMethyGenoSet)"
   ]
  },
  {
   "cell_type": "code",
   "execution_count": 6,
   "metadata": {},
   "outputs": [
    {
     "data": {
      "text/html": [
       "<ol class=list-inline>\n",
       "\t<li>4243</li>\n",
       "\t<li>8</li>\n",
       "</ol>\n"
      ],
      "text/latex": [
       "\\begin{enumerate*}\n",
       "\\item 4243\n",
       "\\item 8\n",
       "\\end{enumerate*}\n"
      ],
      "text/markdown": [
       "1. 4243\n",
       "2. 8\n",
       "\n",
       "\n"
      ],
      "text/plain": [
       "[1] 4243    8"
      ]
     },
     "metadata": {},
     "output_type": "display_data"
    }
   ],
   "source": [
    "dim(exprs(exampleMethyGenoSet))"
   ]
  },
  {
   "cell_type": "raw",
   "metadata": {},
   "source": [
    "pData(exampleMethyGenoSet)"
   ]
  },
  {
   "cell_type": "code",
   "execution_count": 8,
   "metadata": {},
   "outputs": [
    {
     "name": "stdout",
     "output_type": "stream",
     "text": [
      "Formal class 'MethyGenoSet' [package \"methyAnalysis\"] with 8 slots\n",
      "  ..@ history        :'data.frame':\t0 obs. of  4 variables:\n",
      "  .. ..$ submitted  : 'AsIs' logi(0) \n",
      "  .. ..$ finished   : 'AsIs' logi(0) \n",
      "  .. ..$ command    : 'AsIs' logi(0) \n",
      "  .. ..$ lumiVersion: 'AsIs' logi(0) \n",
      "  ..@ annotation     : chr \"IlluminaHumanMethylation450k.db\"\n",
      "  ..@ rowRanges      :"
     ]
    },
    {
     "ename": "ERROR",
     "evalue": "Error in FUN(X[[i]], ...): \"elementType\"槽名不存在于\"GRanges\"类别对象中\n",
     "output_type": "error",
     "traceback": [
      "Error in FUN(X[[i]], ...): \"elementType\"槽名不存在于\"GRanges\"类别对象中\nTraceback:\n",
      "1. str(exampleMethyGenoSet)",
      "2. str.default(exampleMethyGenoSet)",
      "3. strSub(a, comp.str = \"@ \", no.list = TRUE, give.length = give.length, \n .     indent.str = paste(indent.str, \"..\"), nest.lev = nest.lev + \n .         1)",
      "4. do.call(function(...) str(obj, ...), c(aList, list(...)), quote = TRUE)",
      "5. (function (...) \n . str(obj, ...))(max.level = quote(NA), vec.len = quote(4L), digits.d = quote(3L), \n .     nchar.max = quote(128), give.attr = quote(TRUE), drop.deparse.attr = quote(TRUE), \n .     give.head = quote(TRUE), width = quote(80L), envir = quote(<environment>), \n .     strict.width = quote(\"no\"), formatNum = quote(function (x, \n .         ...) \n .     format(x, trim = TRUE, drop0trailing = TRUE, ...)), list.len = quote(99), \n .     comp.str = quote(\"@ \"), no.list = quote(TRUE), give.length = quote(TRUE), \n .     indent.str = quote(\"  ..\"), nest.lev = quote(1))",
      "6. str(obj, ...)",
      "7. str.default(obj, ...)",
      "8. strSub(object[[i]], give.length = give.length, nest.lev = nest.lev + \n .     1, indent.str = paste(indent.str, \"..\"))",
      "9. do.call(function(...) str(obj, ...), c(aList, list(...)), quote = TRUE)",
      "10. (function (...) \n  . str(obj, ...))(max.level = quote(NA), vec.len = quote(4L), digits.d = quote(3L), \n  .     nchar.max = quote(128), give.attr = quote(TRUE), drop.deparse.attr = quote(TRUE), \n  .     give.head = quote(TRUE), width = quote(80L), envir = quote(NULL), \n  .     strict.width = quote(\"no\"), formatNum = quote(function (x, \n  .         ...) \n  .     format(x, trim = TRUE, drop0trailing = TRUE, ...)), list.len = quote(99), \n  .     give.length = quote(TRUE), nest.lev = quote(2), indent.str = quote(\"  .. ..\"))",
      "11. str(obj, ...)",
      "12. str.default(obj, ...)",
      "13. sapply(methods::.slotNames(object), methods::slot, object = object, \n  .     simplify = FALSE)",
      "14. lapply(X = X, FUN = FUN, ...)",
      "15. FUN(X[[i]], ...)"
     ]
    }
   ],
   "source": [
    "str(exampleMethyGenoSet)"
   ]
  },
  {
   "cell_type": "markdown",
   "metadata": {},
   "source": [
    "3. The data has two sample conditions, which are Type1 and Type2. Smoothen the input data with a desired window size (here, it is 200), as follows：\n",
    "\n",
    " 数据有两个样本条件，及Type1和Type2。 用所需的窗口大小平滑输入数据（这里是200）。"
   ]
  },
  {
   "cell_type": "code",
   "execution_count": 9,
   "metadata": {},
   "outputs": [
    {
     "name": "stdout",
     "output_type": "stream",
     "text": [
      "Smoothing Chromosome chr21 ...\n"
     ]
    }
   ],
   "source": [
    "methylSmooth <- smoothMethyData(exampleMethyGenoSet, winSize = 200) #Might get some warning messages"
   ]
  },
  {
   "cell_type": "code",
   "execution_count": 10,
   "metadata": {},
   "outputs": [
    {
     "data": {
      "text/html": [
       "200"
      ],
      "text/latex": [
       "200"
      ],
      "text/markdown": [
       "200"
      ],
      "text/plain": [
       "[1] 200"
      ]
     },
     "metadata": {},
     "output_type": "display_data"
    }
   ],
   "source": [
    "attr(methylSmooth,'windowSize')"
   ]
  },
  {
   "cell_type": "markdown",
   "metadata": {},
   "source": [
    "4. Extract the sample conditions from the pData component as follows:\n",
    "\n",
    " 从pData组件中提取样本情况："
   ]
  },
  {
   "cell_type": "code",
   "execution_count": 12,
   "metadata": {},
   "outputs": [],
   "source": [
    "conditons <- colData(exampleMethyGenoSet)$SampleType"
   ]
  },
  {
   "cell_type": "markdown",
   "metadata": {},
   "source": [
    "5. Take the input data and sample type from the preceding step and detect the DMRs in the data as follows:\n",
    "\n",
    " 从前面的步骤中获取输入数据和样本类型，并检测数据中的SMRs，如下所示：\n"
   ]
  },
  {
   "cell_type": "code",
   "execution_count": 13,
   "metadata": {},
   "outputs": [
    {
     "name": "stdout",
     "output_type": "stream",
     "text": [
      "Smoothing Chromosome chr21 ...\n"
     ]
    }
   ],
   "source": [
    "myDMR <- detectDMR.slideWin(exampleMethyGenoSet, sampleType= conditons) #Might get some warning messages"
   ]
  },
  {
   "cell_type": "markdown",
   "metadata": {},
   "source": [
    "6. Take a look at the object created by typing the following command:\n",
    "\n",
    " 查看："
   ]
  },
  {
   "cell_type": "code",
   "execution_count": 14,
   "metadata": {},
   "outputs": [
    {
     "data": {
      "text/plain": [
       "GRanges object with 6 ranges and 11 metadata columns:\n",
       "             seqnames    ranges strand |    PROBEID         difference\n",
       "                <Rle> <IRanges>  <Rle> |   <factor>          <numeric>\n",
       "  cg17035109    chr21  10882029      * | cg17035109  -1.84116050891237\n",
       "  cg06187584    chr21  10883548      * | cg06187584 -0.456605878544024\n",
       "  cg12459059    chr21  10884748      * | cg12459059 -0.359117942730594\n",
       "  cg25450479    chr21  10884967      * | cg25450479 -0.359117942730594\n",
       "  cg23347501    chr21  10884969      * | cg23347501 -0.359117942730594\n",
       "  cg03661019    chr21  10885409      * | cg03661019 -0.353266150910433\n",
       "                        p.value          p.adjust             tscore\n",
       "                      <numeric>         <numeric>          <numeric>\n",
       "  cg17035109 0.0627644943115837  0.18884880818101  -2.28040907618597\n",
       "  cg06187584  0.416014860951571  0.61495957661053 -0.873425189908341\n",
       "  cg12459059  0.365421521707119 0.562790422031127 -0.978927000428536\n",
       "  cg25450479  0.365421521707119 0.562790422031127 -0.978927000428536\n",
       "  cg23347501  0.365421521707119 0.562790422031127 -0.978927000428536\n",
       "  cg03661019  0.380656000521138 0.578209920562373 -0.946031414573684\n",
       "             startWinIndex endWinIndex startLocation endLocation\n",
       "                 <numeric>   <numeric>     <integer>   <integer>\n",
       "  cg17035109             1           1      10882029    10882029\n",
       "  cg06187584             2           2      10883548    10883548\n",
       "  cg12459059             3           5      10884748    10884969\n",
       "  cg25450479             3           5      10884748    10884969\n",
       "  cg23347501             3           5      10884748    10884969\n",
       "  cg03661019             6           6      10885409    10885409\n",
       "                     mean_Type1          mean_Type2\n",
       "                      <numeric>           <numeric>\n",
       "  cg17035109  -2.41837749804746  -0.577216989135089\n",
       "  cg06187584  -2.22975671527783    -1.7731508367338\n",
       "  cg12459059  0.259415093217181   0.618533035947775\n",
       "  cg25450479  0.259415093217181   0.618533035947775\n",
       "  cg23347501  0.259415093217181   0.618533035947775\n",
       "  cg03661019 -0.417036279735772 -0.0637701288253387\n",
       "  -------\n",
       "  seqinfo: 1 sequence from hg19 genome; no seqlengths"
      ]
     },
     "metadata": {},
     "output_type": "display_data"
    }
   ],
   "source": [
    "head(myDMR)"
   ]
  },
  {
   "cell_type": "markdown",
   "metadata": {},
   "source": [
    "7. Finally, to identify the significant DMRs, run identifySigDMR in the output from the previous step as follows:\n",
    " \n",
    " 最后，为了确定重要的DMR，在输出中运行identifySigDMR。"
   ]
  },
  {
   "cell_type": "code",
   "execution_count": 15,
   "metadata": {},
   "outputs": [],
   "source": [
    "mySigDMR <- identifySigDMR(myDMR)"
   ]
  },
  {
   "cell_type": "markdown",
   "metadata": {},
   "source": [
    "8. Get the annotation information for the regions from UCSC as follows:\n",
    "\n",
    " 从UCSC获取区域的注释信息："
   ]
  },
  {
   "cell_type": "code",
   "execution_count": 16,
   "metadata": {},
   "outputs": [
    {
     "name": "stderr",
     "output_type": "stream",
     "text": [
      "Loading required package: TxDb.Hsapiens.UCSC.hg19.knownGene\n",
      "Loading required package: GenomicFeatures\n",
      "Warning message:\n",
      "\"package 'GenomicFeatures' was built under R version 3.5.2\""
     ]
    }
   ],
   "source": [
    "dmr_anno <- annotateDMRInfo(mySigDMR,'TxDb.Hsapiens.UCSC.hg19.knownGene')"
   ]
  },
  {
   "cell_type": "markdown",
   "metadata": {},
   "source": [
    "9. Finally, export the results of your analysis by typing the following command:\n",
    "\n",
    "导出结果："
   ]
  },
  {
   "cell_type": "code",
   "execution_count": 17,
   "metadata": {},
   "outputs": [],
   "source": [
    "export.DMRInfo(dmr_anno, savePrefix='testExample')"
   ]
  }
 ],
 "metadata": {
  "kernelspec": {
   "display_name": "R",
   "language": "R",
   "name": "ir"
  },
  "language_info": {
   "codemirror_mode": "r",
   "file_extension": ".r",
   "mimetype": "text/x-r-source",
   "name": "R",
   "pygments_lexer": "r",
   "version": "3.5.1"
  }
 },
 "nbformat": 4,
 "nbformat_minor": 2
}
