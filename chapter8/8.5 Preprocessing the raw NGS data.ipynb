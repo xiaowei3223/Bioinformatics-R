{
 "cells": [
  {
   "cell_type": "markdown",
   "metadata": {},
   "source": [
    "FASTQ data has the sequences (the bases) as the corresponding quality scores (Phred) in terms of ASCII characters, as explained in the introductory part of the chapter. Once read into the R workspace, the data is ready to be analyzed. However, it needs some preprocessing to meet the desired conditions on quality and data instance according to our interest. For example, we need higher Phred scores and a particular strand. This preprocessing involves quality assessment and filtering. This recipe will deal with these aspects, specifically filtering and quality checks.\n",
    "\n",
    "FASTQ数据将序列作为ASCII字符对应的质量分数（Phred）。一旦在R工作区读入，就可以分析数据了。但是，根据我们的兴趣，它需要一些预处理来满足质量和数据实例的要求。例如，我们需要更高的Phred分数和特定的线。这种预处理包括质量评估和过滤。这个佩服那个将处理这些方面，特别是过滤和质量检查。"
   ]
  },
  {
   "cell_type": "markdown",
   "metadata": {},
   "source": [
    "1. First, download the required files as follows (note that the download might take a while):\n",
    " \n",
    " 下载文件，可以使用其他软件下载。"
   ]
  },
  {
   "cell_type": "raw",
   "metadata": {
    "scrolled": true
   },
   "source": [
    "download.file(url=\"ftp://ftp.ddbj.nig.ac.jp/ddbj_database/dra/fastq/SRA000/SRA000241/SRX000122/SRR000648.fastq.bz2\", destfile=\"SRR000648.fastq.bz2\")\n",
    "download.file(url=\"ftp://ftp.ddbj.nig.ac.jp/ddbj_database/dra/fastq/SRA000/SRA000241/SRX000122/SRR000657.fastq.bz2\", destfile=\"SRR000657.fastq.bz2\")"
   ]
  },
  {
   "cell_type": "markdown",
   "metadata": {},
   "source": [
    "2. Unzip the downloaded files from within R as follows:\n",
    "\n",
    " 解压文件："
   ]
  },
  {
   "cell_type": "code",
   "execution_count": 3,
   "metadata": {
    "collapsed": true
   },
   "outputs": [
    {
     "name": "stderr",
     "output_type": "stream",
     "text": [
      "Warning message:\n",
      "\"unable to access index for repository http://www.stats.ox.ac.uk/pub/RWin/bin/windows/contrib/3.5:\n",
      "  无法打开URL'http://www.stats.ox.ac.uk/pub/RWin/bin/windows/contrib/3.5/PACKAGES'\""
     ]
    },
    {
     "name": "stdout",
     "output_type": "stream",
     "text": [
      "package 'R.utils' successfully unpacked and MD5 sums checked\n",
      "\n",
      "The downloaded binary packages are in\n",
      "\tC:\\Users\\Administrator\\AppData\\Local\\Temp\\RtmpAXvpso\\downloaded_packages\n"
     ]
    }
   ],
   "source": [
    "install.packages(\"R.utils\") # install the R.utils from CRAN"
   ]
  },
  {
   "cell_type": "code",
   "execution_count": 2,
   "metadata": {
    "collapsed": true
   },
   "outputs": [
    {
     "name": "stderr",
     "output_type": "stream",
     "text": [
      "Loading required package: R.oo\n",
      "Loading required package: R.methodsS3\n",
      "R.methodsS3 v1.7.1 (2016-02-15) successfully loaded. See ?R.methodsS3 for help.\n",
      "R.oo v1.22.0 (2018-04-21) successfully loaded. See ?R.oo for help.\n",
      "\n",
      "Attaching package: 'R.oo'\n",
      "\n",
      "The following objects are masked from 'package:methods':\n",
      "\n",
      "    getClasses, getMethods\n",
      "\n",
      "The following objects are masked from 'package:base':\n",
      "\n",
      "    attach, detach, gc, load, save\n",
      "\n",
      "R.utils v2.6.0 (2017-11-04) successfully loaded. See ?R.utils for help.\n",
      "\n",
      "Attaching package: 'R.utils'\n",
      "\n",
      "The following object is masked from 'package:utils':\n",
      "\n",
      "    timestamp\n",
      "\n",
      "The following objects are masked from 'package:base':\n",
      "\n",
      "    cat, commandArgs, getOption, inherits, isOpen, parse, warnings\n",
      "\n"
     ]
    }
   ],
   "source": [
    "library(R.utils)"
   ]
  },
  {
   "cell_type": "code",
   "execution_count": 11,
   "metadata": {
    "collapsed": true
   },
   "outputs": [
    {
     "ename": "ERROR",
     "evalue": "Error in decompressFile.default(filename = filename, ..., ext = ext, FUN = FUN): Argument 'filename' and 'destname' are identical: SRR351672.fastq.gz\n",
     "output_type": "error",
     "traceback": [
      "Error in decompressFile.default(filename = filename, ..., ext = ext, FUN = FUN): Argument 'filename' and 'destname' are identical: SRR351672.fastq.gz\nTraceback:\n",
      "1. bunzip2(list.files(pattern = \".gz\"))",
      "2. bunzip2.default(list.files(pattern = \".gz\"))",
      "3. decompressFile(filename = filename, ..., ext = ext, FUN = FUN)",
      "4. decompressFile.default(filename = filename, ..., ext = ext, FUN = FUN)",
      "5. stop(sprintf(\"Argument 'filename' and 'destname' are identical: %s\", \n .     filename))"
     ]
    }
   ],
   "source": [
    "bunzip2(list.files(pattern = \".fastq.gz2$\")) #Unzips and removes the original bunzip file"
   ]
  },
  {
   "cell_type": "markdown",
   "metadata": {},
   "source": [
    "3. To assess the quality, use the FastQuality function from the ShortRead library as follows:\n",
    "\n",
    " 用ShortRead包中的FastQuality函数评估质量："
   ]
  },
  {
   "cell_type": "code",
   "execution_count": 1,
   "metadata": {},
   "outputs": [
    {
     "name": "stderr",
     "output_type": "stream",
     "text": [
      "Loading required package: BiocGenerics\n",
      "Loading required package: parallel\n",
      "\n",
      "Attaching package: 'BiocGenerics'\n",
      "\n",
      "The following objects are masked from 'package:parallel':\n",
      "\n",
      "    clusterApply, clusterApplyLB, clusterCall, clusterEvalQ,\n",
      "    clusterExport, clusterMap, parApply, parCapply, parLapply,\n",
      "    parLapplyLB, parRapply, parSapply, parSapplyLB\n",
      "\n",
      "The following objects are masked from 'package:stats':\n",
      "\n",
      "    IQR, mad, sd, var, xtabs\n",
      "\n",
      "The following objects are masked from 'package:base':\n",
      "\n",
      "    anyDuplicated, append, as.data.frame, basename, cbind, colMeans,\n",
      "    colnames, colSums, dirname, do.call, duplicated, eval, evalq,\n",
      "    Filter, Find, get, grep, grepl, intersect, is.unsorted, lapply,\n",
      "    lengths, Map, mapply, match, mget, order, paste, pmax, pmax.int,\n",
      "    pmin, pmin.int, Position, rank, rbind, Reduce, rowMeans, rownames,\n",
      "    rowSums, sapply, setdiff, sort, table, tapply, union, unique,\n",
      "    unsplit, which, which.max, which.min\n",
      "\n",
      "Loading required package: BiocParallel\n",
      "Warning message:\n",
      "\"package 'BiocParallel' was built under R version 3.5.2\"Loading required package: Biostrings\n",
      "Loading required package: S4Vectors\n",
      "Loading required package: stats4\n",
      "\n",
      "Attaching package: 'S4Vectors'\n",
      "\n",
      "The following object is masked from 'package:base':\n",
      "\n",
      "    expand.grid\n",
      "\n",
      "Loading required package: IRanges\n",
      "\n",
      "Attaching package: 'IRanges'\n",
      "\n",
      "The following object is masked from 'package:grDevices':\n",
      "\n",
      "    windows\n",
      "\n",
      "Loading required package: XVector\n",
      "\n",
      "Attaching package: 'Biostrings'\n",
      "\n",
      "The following object is masked from 'package:base':\n",
      "\n",
      "    strsplit\n",
      "\n",
      "Loading required package: Rsamtools\n",
      "Loading required package: GenomeInfoDb\n",
      "Loading required package: GenomicRanges\n",
      "Loading required package: GenomicAlignments\n",
      "Warning message:\n",
      "\"package 'GenomicAlignments' was built under R version 3.5.2\"Loading required package: SummarizedExperiment\n",
      "Loading required package: Biobase\n",
      "Welcome to Bioconductor\n",
      "\n",
      "    Vignettes contain introductory material; view with\n",
      "    'browseVignettes()'. To cite Bioconductor, see\n",
      "    'citation(\"Biobase\")', and for packages 'citation(\"pkgname\")'.\n",
      "\n",
      "\n",
      "Attaching package: 'Biobase'\n",
      "\n",
      "The following object is masked from 'package:BiocGenerics':\n",
      "\n",
      "    dims\n",
      "\n",
      "Loading required package: DelayedArray\n",
      "Loading required package: matrixStats\n",
      "Warning message:\n",
      "\"package 'matrixStats' was built under R version 3.5.2\"\n",
      "Attaching package: 'matrixStats'\n",
      "\n",
      "The following objects are masked from 'package:Biobase':\n",
      "\n",
      "    anyMissing, rowMedians\n",
      "\n",
      "\n",
      "Attaching package: 'DelayedArray'\n",
      "\n",
      "The following objects are masked from 'package:matrixStats':\n",
      "\n",
      "    colMaxs, colMins, colRanges, rowMaxs, rowMins, rowRanges\n",
      "\n",
      "The following object is masked from 'package:Biostrings':\n",
      "\n",
      "    type\n",
      "\n",
      "The following objects are masked from 'package:base':\n",
      "\n",
      "    aperm, apply\n",
      "\n",
      "Warning message:\n",
      "\"replacing previous import 'BiocGenerics::dims' by 'Biobase::dims' when loading 'SummarizedExperiment'\"Warning message:\n",
      "\"replacing previous import 'Biobase::dims' by 'DelayedArray::dims' when loading 'SummarizedExperiment'\"Warning message:\n",
      "\"replacing previous import 'BiocGenerics::dims' by 'Biobase::dims' when loading 'ShortRead'\""
     ]
    }
   ],
   "source": [
    "library(ShortRead)"
   ]
  },
  {
   "cell_type": "code",
   "execution_count": 2,
   "metadata": {},
   "outputs": [
    {
     "data": {
      "text/html": [
       "'C:/Users/Administrator/bioinformatics_with_R/chapter8/SRR351672.fastq'"
      ],
      "text/latex": [
       "'C:/Users/Administrator/bioinformatics\\_with\\_R/chapter8/SRR351672.fastq'"
      ],
      "text/markdown": [
       "'C:/Users/Administrator/bioinformatics_with_R/chapter8/SRR351672.fastq'"
      ],
      "text/plain": [
       "[1] \"C:/Users/Administrator/bioinformatics_with_R/chapter8/SRR351672.fastq\""
      ]
     },
     "metadata": {},
     "output_type": "display_data"
    }
   ],
   "source": [
    "myFiles <- list.files(getwd(), \"fastq\", full=TRUE)\n",
    "myFiles"
   ]
  },
  {
   "cell_type": "code",
   "execution_count": 3,
   "metadata": {},
   "outputs": [],
   "source": [
    "myFQ <- lapply(myFiles, readFastq)"
   ]
  },
  {
   "cell_type": "code",
   "execution_count": 4,
   "metadata": {},
   "outputs": [],
   "source": [
    "myQual <- FastqQuality(quality(quality(myFQ[[1]])))"
   ]
  },
  {
   "cell_type": "markdown",
   "metadata": {},
   "source": [
    "4. Convert the quality measure in terms of a matrix as follows:\n",
    "\n",
    " 将质量度量转化为矩阵的形式：\n"
   ]
  },
  {
   "cell_type": "code",
   "execution_count": 5,
   "metadata": {},
   "outputs": [],
   "source": [
    "readM <- as(myQual, \"matrix\")"
   ]
  },
  {
   "cell_type": "markdown",
   "metadata": {},
   "source": [
    "5. Visualize the results as a boxplot with the help of the following command:\n",
    "\n",
    " 可视化结果："
   ]
  },
  {
   "cell_type": "code",
   "execution_count": 6,
   "metadata": {},
   "outputs": [
    {
     "ename": "ERROR",
     "evalue": "Error: 无法分配大小为84.0 Mb的矢量\n",
     "output_type": "error",
     "traceback": [
      "Error: 无法分配大小为84.0 Mb的矢量\nTraceback:\n",
      "1. boxplot(as.data.frame(readM), outline = FALSE, main = \"Per Cycle Read Quality\", \n .     xlab = \"Cycle\", ylab = \"Phred Quality\")",
      "2. as.data.frame(readM)",
      "3. as.data.frame(readM)",
      "4. as.data.frame.matrix(readM)",
      "5. as.vector(x[, i])"
     ]
    }
   ],
   "source": [
    "boxplot(as.data.frame(readM), outline = FALSE, main=\"Per Cycle Read Quality\", xlab=\"Cycle\", ylab=\"Phred Quality\")"
   ]
  },
  {
   "cell_type": "markdown",
   "metadata": {},
   "source": [
    "6. Another interesting preprocessing step involves filtering the sequences while reading\n",
    "alignment data. For this, you first need alignment data as follows (note that Bowtie\n",
    "data is available on the book's web page under the name myBowtie.txt) and you\n",
    "must either copy it to your working directory or use this directory as working directory\n",
    "to use the myBowtie.txt file:\n",
    "\n",
    " 利益与处理步骤设计在读取对齐比对数据的同时过滤序列，为此，首先需要比对数据："
   ]
  },
  {
   "cell_type": "code",
   "execution_count": null,
   "metadata": {},
   "outputs": [],
   "source": [
    "myData <- readAligned(\"myBowtie.txt\", type = \"Bowtie\")"
   ]
  },
  {
   "cell_type": "markdown",
   "metadata": {},
   "source": [
    "7. To check the read alignments, look at the myData object as follows：\n",
    "\n",
    " 检查读取的比对数据："
   ]
  },
  {
   "cell_type": "code",
   "execution_count": null,
   "metadata": {},
   "outputs": [],
   "source": [
    "myData"
   ]
  },
  {
   "cell_type": "markdown",
   "metadata": {},
   "source": [
    "8. There are different filters that can be used, such as chromosomes, sequence length, strands, and so on. To use these, first define the required filter (in this case, define a filter for the + strand) as follows:\n",
    "\n",
    " 这里用不同的过滤器可以使用，比如染色体、序列长度、链等等。 第一是定义这些过滤器："
   ]
  },
  {
   "cell_type": "code",
   "execution_count": 1,
   "metadata": {},
   "outputs": [
    {
     "ename": "ERROR",
     "evalue": "Error in strandFilter(\"+\"): 没有\"strandFilter\"这个函数\n",
     "output_type": "error",
     "traceback": [
      "Error in strandFilter(\"+\"): 没有\"strandFilter\"这个函数\nTraceback:\n"
     ]
    }
   ],
   "source": [
    "strand <- strandFilter(\"+\")"
   ]
  },
  {
   "cell_type": "markdown",
   "metadata": {},
   "source": [
    "9. Then, use the created filter as follows:\n",
    "\n",
    " 然后，创建过滤器："
   ]
  },
  {
   "cell_type": "code",
   "execution_count": null,
   "metadata": {},
   "outputs": [],
   "source": [
    "myRead_strand <- readAligned(\"myBowtie.txt\", filter=strand, type= \"Bowtie\")"
   ]
  },
  {
   "cell_type": "markdown",
   "metadata": {},
   "source": [
    "10. Combine more than one filters and then use with the compose function as follows:\n",
    " \n",
    " 组合多个筛选器，然后与组合函数一起使用，如下所示:"
   ]
  },
  {
   "cell_type": "code",
   "execution_count": null,
   "metadata": {},
   "outputs": [],
   "source": [
    "chromosome <- chromosomeFilter(\"3\") "
   ]
  },
  {
   "cell_type": "code",
   "execution_count": null,
   "metadata": {},
   "outputs": [],
   "source": [
    "myFilt <- compose(strand, chromosome)"
   ]
  },
  {
   "cell_type": "code",
   "execution_count": null,
   "metadata": {},
   "outputs": [],
   "source": [
    "myRead_filt <- readAligned(\"myBowtie.txt\", filter=Myfilt, type =\n",
    "\"Bowtie\")"
   ]
  },
  {
   "cell_type": "markdown",
   "metadata": {},
   "source": [
    "11. Again, take a look at the filtered data (myRead_filt) as follows:\n",
    "\n",
    " 查看过滤器："
   ]
  },
  {
   "cell_type": "code",
   "execution_count": null,
   "metadata": {},
   "outputs": [],
   "source": [
    "myRead_filt"
   ]
  }
 ],
 "metadata": {
  "kernelspec": {
   "display_name": "R",
   "language": "R",
   "name": "ir"
  },
  "language_info": {
   "codemirror_mode": "r",
   "file_extension": ".r",
   "mimetype": "text/x-r-source",
   "name": "R",
   "pygments_lexer": "r",
   "version": "3.5.1"
  }
 },
 "nbformat": 4,
 "nbformat_minor": 2
}
