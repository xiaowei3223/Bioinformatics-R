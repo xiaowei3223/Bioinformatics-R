{
 "cells": [
  {
   "cell_type": "markdown",
   "metadata": {},
   "source": [
    "This recipe will introduce some new visualizations that can be used to represent some results in NGS analysis. We will present two plots as follows:\n",
    "\n",
    "A quality assessment plot for NGS\n",
    "\n",
    "A map for the methylation data\n",
    "\n",
    "这个教程介绍的是一些新可视化用来代表一些NGS分析结果。主要呈现两种作图：NGS质量评估的图和 甲基化数据图谱。"
   ]
  },
  {
   "cell_type": "markdown",
   "metadata": {},
   "source": [
    "1. First, start with a comprehensive plot used for visualizing the quality in a FASTQ data.\n",
    "You can do this within R, as you did before, by typing the following commands:\n",
    "\n",
    " 下载文件："
   ]
  },
  {
   "cell_type": "code",
   "execution_count": 1,
   "metadata": {},
   "outputs": [],
   "source": [
    "download.file(url = \"http://biocluster.ucr.edu/~tgirke/HTML_Presentations/Manuals/Rngsapps/chipseqBioc2012/data.zip\", destfile = \"data.zip\")"
   ]
  },
  {
   "cell_type": "code",
   "execution_count": 2,
   "metadata": {},
   "outputs": [],
   "source": [
    "unzip(\"data.zip\")"
   ]
  },
  {
   "cell_type": "markdown",
   "metadata": {},
   "source": [
    "2. Now, start your R session and load the following ggplot2 library:\n",
    "\n",
    " 加载ggplot2："
   ]
  },
  {
   "cell_type": "code",
   "execution_count": 3,
   "metadata": {},
   "outputs": [],
   "source": [
    "library(ggplot2)"
   ]
  },
  {
   "cell_type": "markdown",
   "metadata": {},
   "source": [
    "3. Load the function for your plot from a remote host as follows (note that it is advised to check the web pages to be used for source codes manually in order to avoid reaching malicious pages and availability):\n",
    "\n",
    " 从远程主机加载绘图功能如下(注意，建议手动检查用于源代码的web页面，以避免到达恶意页面和可用性)："
   ]
  },
  {
   "cell_type": "code",
   "execution_count": 4,
   "metadata": {},
   "outputs": [],
   "source": [
    "source(\"http://faculty.ucr.edu/~tgirke/Documents/R_BioCond/My_R_Scripts/fastqQuality.R\")"
   ]
  },
  {
   "cell_type": "markdown",
   "metadata": {},
   "source": [
    "4. Now, create a list of unzipped FASTQ files and assign names to each file for the purpose of annotation of plots as follows:\n",
    "\n",
    " 创建一个未压缩的FASTQ文件列表，并为每个文件分配名称，以便对图进行注释，如下所示："
   ]
  },
  {
   "cell_type": "code",
   "execution_count": 5,
   "metadata": {},
   "outputs": [],
   "source": [
    "fastq <- list.files(getwd(),\"*.fastq$\")"
   ]
  },
  {
   "cell_type": "code",
   "execution_count": 9,
   "metadata": {
    "scrolled": true
   },
   "outputs": [
    {
     "ename": "ERROR",
     "evalue": "Error in names(fastq) <- paste(\"flowcell_6_lane\", 1:4, sep = \"_\"): 'names'属性的长度[4]必需和矢量的长度[1]一样\n",
     "output_type": "error",
     "traceback": [
      "Error in names(fastq) <- paste(\"flowcell_6_lane\", 1:4, sep = \"_\"): 'names'属性的长度[4]必需和矢量的长度[1]一样\nTraceback:\n"
     ]
    }
   ],
   "source": [
    "names(fastq) <- paste(\"flowcell_6_lane\", 1:4, sep=\"_\")"
   ]
  },
  {
   "cell_type": "markdown",
   "metadata": {},
   "source": [
    "5. With the FASTQ files ready, compute the quality related scores for each file as follows:\n",
    "\n",
    " 计算质量评估相关的打分："
   ]
  },
  {
   "cell_type": "code",
   "execution_count": 11,
   "metadata": {},
   "outputs": [
    {
     "name": "stderr",
     "output_type": "stream",
     "text": [
      "Loading required package: ShortRead\n",
      "Loading required package: BiocGenerics\n",
      "Loading required package: parallel\n",
      "\n",
      "Attaching package: 'BiocGenerics'\n",
      "\n",
      "The following objects are masked from 'package:parallel':\n",
      "\n",
      "    clusterApply, clusterApplyLB, clusterCall, clusterEvalQ,\n",
      "    clusterExport, clusterMap, parApply, parCapply, parLapply,\n",
      "    parLapplyLB, parRapply, parSapply, parSapplyLB\n",
      "\n",
      "The following objects are masked from 'package:stats':\n",
      "\n",
      "    IQR, mad, sd, var, xtabs\n",
      "\n",
      "The following objects are masked from 'package:base':\n",
      "\n",
      "    anyDuplicated, append, as.data.frame, basename, cbind, colMeans,\n",
      "    colnames, colSums, dirname, do.call, duplicated, eval, evalq,\n",
      "    Filter, Find, get, grep, grepl, intersect, is.unsorted, lapply,\n",
      "    lengths, Map, mapply, match, mget, order, paste, pmax, pmax.int,\n",
      "    pmin, pmin.int, Position, rank, rbind, Reduce, rowMeans, rownames,\n",
      "    rowSums, sapply, setdiff, sort, table, tapply, union, unique,\n",
      "    unsplit, which, which.max, which.min\n",
      "\n",
      "Loading required package: BiocParallel\n",
      "Warning message:\n",
      "\"package 'BiocParallel' was built under R version 3.5.2\"Loading required package: Biostrings\n",
      "Loading required package: S4Vectors\n",
      "Loading required package: stats4\n",
      "\n",
      "Attaching package: 'S4Vectors'\n",
      "\n",
      "The following object is masked from 'package:base':\n",
      "\n",
      "    expand.grid\n",
      "\n",
      "Loading required package: IRanges\n",
      "\n",
      "Attaching package: 'IRanges'\n",
      "\n",
      "The following object is masked from 'package:grDevices':\n",
      "\n",
      "    windows\n",
      "\n",
      "Loading required package: XVector\n",
      "\n",
      "Attaching package: 'Biostrings'\n",
      "\n",
      "The following object is masked from 'package:base':\n",
      "\n",
      "    strsplit\n",
      "\n",
      "Loading required package: Rsamtools\n",
      "Loading required package: GenomeInfoDb\n",
      "Loading required package: GenomicRanges\n",
      "Loading required package: GenomicAlignments\n",
      "Warning message:\n",
      "\"package 'GenomicAlignments' was built under R version 3.5.2\"Loading required package: SummarizedExperiment\n",
      "Loading required package: Biobase\n",
      "Welcome to Bioconductor\n",
      "\n",
      "    Vignettes contain introductory material; view with\n",
      "    'browseVignettes()'. To cite Bioconductor, see\n",
      "    'citation(\"Biobase\")', and for packages 'citation(\"pkgname\")'.\n",
      "\n",
      "\n",
      "Attaching package: 'Biobase'\n",
      "\n",
      "The following object is masked from 'package:BiocGenerics':\n",
      "\n",
      "    dims\n",
      "\n",
      "Loading required package: DelayedArray\n",
      "Loading required package: matrixStats\n",
      "Warning message:\n",
      "\"package 'matrixStats' was built under R version 3.5.2\"\n",
      "Attaching package: 'matrixStats'\n",
      "\n",
      "The following objects are masked from 'package:Biobase':\n",
      "\n",
      "    anyMissing, rowMedians\n",
      "\n",
      "\n",
      "Attaching package: 'DelayedArray'\n",
      "\n",
      "The following objects are masked from 'package:matrixStats':\n",
      "\n",
      "    colMaxs, colMins, colRanges, rowMaxs, rowMins, rowRanges\n",
      "\n",
      "The following object is masked from 'package:Biostrings':\n",
      "\n",
      "    type\n",
      "\n",
      "The following objects are masked from 'package:base':\n",
      "\n",
      "    aperm, apply\n",
      "\n",
      "Warning message:\n",
      "\"replacing previous import 'BiocGenerics::dims' by 'Biobase::dims' when loading 'SummarizedExperiment'\"Warning message:\n",
      "\"replacing previous import 'Biobase::dims' by 'DelayedArray::dims' when loading 'SummarizedExperiment'\"Warning message:\n",
      "\"replacing previous import 'BiocGenerics::dims' by 'Biobase::dims' when loading 'ShortRead'\""
     ]
    }
   ],
   "source": [
    "fqlist <- seeFastq(fastq=fastq, batchsize=1000, klength=5)"
   ]
  },
  {
   "cell_type": "markdown",
   "metadata": {},
   "source": [
    "6. To visualize the results, plot the quality measurements for the first sample only as follows:\n",
    "\n",
    " 可视化结果："
   ]
  },
  {
   "cell_type": "code",
   "execution_count": 12,
   "metadata": {},
   "outputs": [
    {
     "name": "stderr",
     "output_type": "stream",
     "text": [
      "Loading required package: grid\n"
     ]
    },
    {
     "ename": "ERROR",
     "evalue": "Error in unit(rep_len(1, ncol), \"null\"): 'x' and 'units' must have length > 0\n",
     "output_type": "error",
     "traceback": [
      "Error in unit(rep_len(1, ncol), \"null\"): 'x' and 'units' must have length > 0\nTraceback:\n",
      "1. seeFastqPlot(fqlist[1], arrange = seq(along = fqlist))",
      "2. pushViewport(viewport(layout = grid.layout(length(arrange), length(fqplot))))",
      "3. viewport(layout = grid.layout(length(arrange), length(fqplot)))",
      "4. valid.viewport(x, y, width, height, just, gp, clip, xscale, yscale, \n .     angle, layout, layout.pos.row, layout.pos.col, name)",
      "5. grid.layout(length(arrange), length(fqplot))",
      "6. is.unit(widths)",
      "7. unit(rep_len(1, ncol), \"null\")",
      "8. stop(\"'x' and 'units' must have length > 0\")"
     ]
    }
   ],
   "source": [
    "seeFastqPlot(fqlist[1], arrange=seq(along=fqlist))"
   ]
  },
  {
   "cell_type": "markdown",
   "metadata": {},
   "source": [
    "7. The second visualization is a detailed visualization for methylation data. For this,\n",
    "use the analysis results from the Analyzing methylation data recipe as follows:"
   ]
  },
  {
   "cell_type": "code",
   "execution_count": 14,
   "metadata": {},
   "outputs": [
    {
     "name": "stderr",
     "output_type": "stream",
     "text": [
      "Loading required package: org.Hs.eg.db\n",
      "Loading required package: AnnotationDbi\n",
      "Warning message:\n",
      "\"replacing previous import 'BiocGenerics::dims' by 'Biobase::dims' when loading 'AnnotationDbi'\"\n",
      "Warning message:\n",
      "\"replacing previous import 'BiocGenerics::dims' by 'Biobase::dims' when loading 'methylumi'\"No methods found in package 'DelayedArray' for request: 'write_block_to_sink' when loading 'DelayedMatrixStats'\n",
      "Warning message:\n",
      "\"no function found corresponding to methods exports from 'HDF5Array' for: 'write_block_to_sink'\"Warning message:\n",
      "\"replacing previous import 'BiocGenerics::dims' by 'Biobase::dims' when loading 'multtest'\"Setting options('download.file.method.GEOquery'='auto')\n",
      "Setting options('GEOquery.inmemory.gpl'=FALSE)\n",
      "No methods found in package 'genoset' for request: 'toGenomeOrder' when loading 'methyAnalysis'\n"
     ]
    }
   ],
   "source": [
    "library(methyAnalysis)"
   ]
  },
  {
   "cell_type": "code",
   "execution_count": 15,
   "metadata": {},
   "outputs": [],
   "source": [
    "data(exampleMethyGenoSet)"
   ]
  },
  {
   "cell_type": "markdown",
   "metadata": {},
   "source": [
    "8. Now, take a look at the CSV file that you exported in the Analyzing methylation\n",
    "data recipe and choose the gene you want to visualize on the chromosomal map\n",
    "(here, 54149, the first gene in the list)."
   ]
  },
  {
   "cell_type": "markdown",
   "metadata": {},
   "source": [
    "9. To plot the map, use the plotMethylationHeatmapByGene function from the\n",
    "methyAnalysis package as follows:"
   ]
  },
  {
   "cell_type": "code",
   "execution_count": 16,
   "metadata": {},
   "outputs": [
    {
     "ename": "ERROR",
     "evalue": "Error in (function (classes, fdef, mtable) : unable to find an inherited method for function 'pData' for signature '\"MethyGenoSet\"'\n",
     "output_type": "error",
     "traceback": [
      "Error in (function (classes, fdef, mtable) : unable to find an inherited method for function 'pData' for signature '\"MethyGenoSet\"'\nTraceback:\n",
      "1. plotMethylationHeatmapByGene(\"54149\", methyGenoSet = exampleMethyGenoSet, \n .     phenoData = pData(exampleMethyGenoSet), includeGeneBody = TRUE, \n .     genomicFeature = \"TxDb.Hsapiens.UCSC.hg19.knownGene\")",
      "2. pData(exampleMethyGenoSet)",
      "3. (function (classes, fdef, mtable) \n . {\n .     methods <- .findInheritedMethods(classes, fdef, mtable)\n .     if (length(methods) == 1L) \n .         return(methods[[1L]])\n .     else if (length(methods) == 0L) {\n .         cnames <- paste0(\"\\\"\", vapply(classes, as.character, \n .             \"\"), \"\\\"\", collapse = \", \")\n .         stop(gettextf(\"unable to find an inherited method for function %s for signature %s\", \n .             sQuote(fdef@generic), sQuote(cnames)), domain = NA)\n .     }\n .     else stop(\"Internal error in finding inherited methods; didn't return a unique method\", \n .         domain = NA)\n . })(list(structure(\"MethyGenoSet\", package = \"methyAnalysis\")), \n .     new(\"standardGeneric\", .Data = function (object) \n .     standardGeneric(\"pData\"), generic = structure(\"pData\", package = \"Biobase\"), \n .         package = \"Biobase\", group = list(), valueClass = character(0), \n .         signature = \"object\", default = NULL, skeleton = (function (object) \n .         stop(\"invalid call in method dispatch to 'pData' (no default method)\", \n .             domain = NA))(object)), <environment>)",
      "4. stop(gettextf(\"unable to find an inherited method for function %s for signature %s\", \n .     sQuote(fdef@generic), sQuote(cnames)), domain = NA)"
     ]
    }
   ],
   "source": [
    "plotMethylationHeatmapByGene('54149', methyGenoSet = exampleMethyGenoSet, phenoData = pData(exampleMethyGenoSet), includeGeneBody = TRUE, genomicFeature = 'TxDb.Hsapiens.UCSC.hg19.knownGene')"
   ]
  },
  {
   "cell_type": "code",
   "execution_count": null,
   "metadata": {},
   "outputs": [],
   "source": []
  },
  {
   "cell_type": "code",
   "execution_count": null,
   "metadata": {},
   "outputs": [],
   "source": []
  }
 ],
 "metadata": {
  "kernelspec": {
   "display_name": "R",
   "language": "R",
   "name": "ir"
  },
  "language_info": {
   "codemirror_mode": "r",
   "file_extension": ".r",
   "mimetype": "text/x-r-source",
   "name": "R",
   "pygments_lexer": "r",
   "version": "3.5.1"
  }
 },
 "nbformat": 4,
 "nbformat_minor": 2
}
