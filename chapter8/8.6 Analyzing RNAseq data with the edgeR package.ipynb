{
 "cells": [
  {
   "cell_type": "markdown",
   "metadata": {},
   "source": [
    "In order to determine whether the count for a transcript is significantly different or differentially expressed under the treatment condition, we need to do a differential count analysis for the data. This is analogous to the differential gene analysis explained in Chapter 5, Analyzing Microarray Data with R. We will do such an analysis using the edgeR package in this recipe.\n",
    "\n",
    "为了确定在处理后的转录的计数是显著差异还是差异表达，我们需要对数据进行差异计数分析。这类似与第5张的差异基因分析，用R来分析微阵列数据。本章的edgeR包进行分析。\n"
   ]
  },
  {
   "cell_type": "markdown",
   "metadata": {},
   "source": [
    "1. First, start with the installation and loading of the required libraries as follows:\n",
    "\n",
    " 安装并加载edgeR："
   ]
  },
  {
   "cell_type": "code",
   "execution_count": 1,
   "metadata": {
    "scrolled": true
   },
   "outputs": [
    {
     "name": "stderr",
     "output_type": "stream",
     "text": [
      "Bioconductor version 3.7 (BiocInstaller 1.30.0), ?biocLite for help\n",
      "A newer version of Bioconductor is available for this version of R,\n",
      "  ?BiocUpgrade for help\n",
      "BioC_mirror: https://bioconductor.org\n",
      "Using Bioconductor 3.7 (BiocInstaller 1.30.0), R 3.5.1 (2018-07-02).\n",
      "Installing package(s) 'edgeR'\n",
      "also installing the dependency 'locfit'\n",
      "\n"
     ]
    },
    {
     "name": "stdout",
     "output_type": "stream",
     "text": [
      "package 'locfit' successfully unpacked and MD5 sums checked\n",
      "package 'edgeR' successfully unpacked and MD5 sums checked\n",
      "\n",
      "The downloaded binary packages are in\n",
      "\tC:\\Users\\Administrator\\AppData\\Local\\Temp\\RtmpQfKeYA\\downloaded_packages\n"
     ]
    },
    {
     "name": "stderr",
     "output_type": "stream",
     "text": [
      "Old packages: 'ade4', 'ape', 'backports', 'BH', 'BiocManager', 'broom',\n",
      "  'callr', 'caret', 'checkpoint', 'class', 'cli', 'clipr', 'codetools',\n",
      "  'colorspace', 'curl', 'data.table', 'dbplyr', 'ddalpha', 'digest', 'dimRed',\n",
      "  'doParallel', 'dplyr', 'evaluate', 'fansi', 'forcats', 'foreign', 'geometry',\n",
      "  'ggplot2', 'haven', 'htmlwidgets', 'httpuv', 'httr', 'igraph', 'ipred',\n",
      "  'IRdisplay', 'IRkernel', 'jsonlite', 'kernlab', 'knitr', 'later', 'lattice',\n",
      "  'lava', 'magic', 'markdown', 'MASS', 'Matrix', 'mgcv', 'mime', 'MKmisc',\n",
      "  'ModelMetrics', 'modelr', 'openssl', 'pillar', 'pkgconfig', 'pls',\n",
      "  'processx', 'purrr', 'R.utils', 'R6', 'Rcpp', 'readr', 'readxl', 'recipes',\n",
      "  'repr', 'reprex', 'rlang', 'rmarkdown', 'robustbase', 'rstudioapi', 'RUnit',\n",
      "  'scales', 'sfsmisc', 'shiny', 'stringi', 'stringr', 'survival', 'testthat',\n",
      "  'tibble', 'tidyr', 'tidyselect', 'tinytex', 'TTR', 'xfun', 'XML', 'xtable',\n",
      "  'xts', 'zoo'\n"
     ]
    }
   ],
   "source": [
    "source(\"http://bioconductor.org/biocLite.R\")\n",
    "biocLite(\"edgeR\")"
   ]
  },
  {
   "cell_type": "code",
   "execution_count": 2,
   "metadata": {},
   "outputs": [
    {
     "name": "stderr",
     "output_type": "stream",
     "text": [
      "BioC_mirror: https://bioconductor.org\n",
      "Using Bioconductor 3.7 (BiocInstaller 1.30.0), R 3.5.1 (2018-07-02).\n",
      "Installing package(s) 'goseq'\n",
      "also installing the dependencies 'BiasedUrn', 'geneLenDataBase'\n",
      "\n"
     ]
    },
    {
     "name": "stdout",
     "output_type": "stream",
     "text": [
      "package 'BiasedUrn' successfully unpacked and MD5 sums checked\n",
      "package 'goseq' successfully unpacked and MD5 sums checked\n",
      "\n",
      "The downloaded binary packages are in\n",
      "\tC:\\Users\\Administrator\\AppData\\Local\\Temp\\RtmpQfKeYA\\downloaded_packages\n"
     ]
    },
    {
     "name": "stderr",
     "output_type": "stream",
     "text": [
      "installing the source package 'geneLenDataBase'\n",
      "\n",
      "Old packages: 'ade4', 'ape', 'backports', 'BH', 'BiocManager', 'broom',\n",
      "  'callr', 'caret', 'checkpoint', 'class', 'cli', 'clipr', 'codetools',\n",
      "  'colorspace', 'curl', 'data.table', 'dbplyr', 'ddalpha', 'digest', 'dimRed',\n",
      "  'doParallel', 'dplyr', 'evaluate', 'fansi', 'forcats', 'foreign', 'geometry',\n",
      "  'ggplot2', 'haven', 'htmlwidgets', 'httpuv', 'httr', 'igraph', 'ipred',\n",
      "  'IRdisplay', 'IRkernel', 'jsonlite', 'kernlab', 'knitr', 'later', 'lattice',\n",
      "  'lava', 'magic', 'markdown', 'MASS', 'Matrix', 'mgcv', 'mime', 'MKmisc',\n",
      "  'ModelMetrics', 'modelr', 'openssl', 'pillar', 'pkgconfig', 'pls',\n",
      "  'processx', 'purrr', 'R.utils', 'R6', 'Rcpp', 'readr', 'readxl', 'recipes',\n",
      "  'repr', 'reprex', 'rlang', 'rmarkdown', 'robustbase', 'rstudioapi', 'RUnit',\n",
      "  'scales', 'sfsmisc', 'shiny', 'stringi', 'stringr', 'survival', 'testthat',\n",
      "  'tibble', 'tidyr', 'tidyselect', 'tinytex', 'TTR', 'xfun', 'XML', 'xtable',\n",
      "  'xts', 'zoo'\n"
     ]
    }
   ],
   "source": [
    "biocLite(\"goseq\")"
   ]
  },
  {
   "cell_type": "code",
   "execution_count": 3,
   "metadata": {},
   "outputs": [
    {
     "name": "stderr",
     "output_type": "stream",
     "text": [
      "Loading required package: limma\n"
     ]
    }
   ],
   "source": [
    "library(edgeR)"
   ]
  },
  {
   "cell_type": "code",
   "execution_count": 4,
   "metadata": {},
   "outputs": [
    {
     "name": "stderr",
     "output_type": "stream",
     "text": [
      "Loading required package: BiasedUrn\n",
      "Warning message:\n",
      "\"package 'BiasedUrn' was built under R version 3.5.2\"Loading required package: geneLenDataBase\n",
      "Warning message:\n",
      "\"replacing previous import 'BiocGenerics::dims' by 'Biobase::dims' when loading 'SummarizedExperiment'\"Warning message:\n",
      "\"replacing previous import 'Biobase::dims' by 'DelayedArray::dims' when loading 'SummarizedExperiment'\"Warning message:\n",
      "\"replacing previous import 'BiocGenerics::dims' by 'Biobase::dims' when loading 'AnnotationDbi'\"\n"
     ]
    }
   ],
   "source": [
    "library(goseq)"
   ]
  },
  {
   "cell_type": "markdown",
   "metadata": {},
   "source": [
    "2. Now, read in the input data from the goseq library data directory as follows:\n",
    "\n",
    " 直接从goseq包中读取数据："
   ]
  },
  {
   "cell_type": "code",
   "execution_count": 5,
   "metadata": {},
   "outputs": [],
   "source": [
    "myData <- read.table(system.file(\"extdata\", \"Li_sum.txt\",\n",
    "package='goseq'), sep = '\\t', header = TRUE, stringsAsFactors =\n",
    "FALSE,row.names=1)"
   ]
  },
  {
   "cell_type": "markdown",
   "metadata": {},
   "source": [
    "3. Take a look at the content of a part of the data as follows:\n",
    "\n",
    " 查看部分数据内容："
   ]
  },
  {
   "cell_type": "code",
   "execution_count": 6,
   "metadata": {
    "scrolled": true
   },
   "outputs": [
    {
     "data": {
      "text/html": [
       "<table>\n",
       "<thead><tr><th></th><th scope=col>lane1</th><th scope=col>lane2</th><th scope=col>lane3</th><th scope=col>lane4</th><th scope=col>lane5</th><th scope=col>lane6</th><th scope=col>lane8</th></tr></thead>\n",
       "<tbody>\n",
       "\t<tr><th scope=row>ENSG00000215688</th><td>0</td><td>0</td><td>0</td><td>0</td><td>0</td><td>0</td><td>0</td></tr>\n",
       "\t<tr><th scope=row>ENSG00000215689</th><td>0</td><td>0</td><td>0</td><td>0</td><td>0</td><td>0</td><td>0</td></tr>\n",
       "\t<tr><th scope=row>ENSG00000220823</th><td>0</td><td>0</td><td>0</td><td>0</td><td>0</td><td>0</td><td>0</td></tr>\n",
       "\t<tr><th scope=row>ENSG00000242499</th><td>0</td><td>0</td><td>0</td><td>0</td><td>0</td><td>0</td><td>0</td></tr>\n",
       "\t<tr><th scope=row>ENSG00000224938</th><td>0</td><td>0</td><td>0</td><td>0</td><td>0</td><td>0</td><td>0</td></tr>\n",
       "\t<tr><th scope=row>ENSG00000239242</th><td>0</td><td>0</td><td>0</td><td>0</td><td>0</td><td>0</td><td>0</td></tr>\n",
       "</tbody>\n",
       "</table>\n"
      ],
      "text/latex": [
       "\\begin{tabular}{r|lllllll}\n",
       "  & lane1 & lane2 & lane3 & lane4 & lane5 & lane6 & lane8\\\\\n",
       "\\hline\n",
       "\tENSG00000215688 & 0 & 0 & 0 & 0 & 0 & 0 & 0\\\\\n",
       "\tENSG00000215689 & 0 & 0 & 0 & 0 & 0 & 0 & 0\\\\\n",
       "\tENSG00000220823 & 0 & 0 & 0 & 0 & 0 & 0 & 0\\\\\n",
       "\tENSG00000242499 & 0 & 0 & 0 & 0 & 0 & 0 & 0\\\\\n",
       "\tENSG00000224938 & 0 & 0 & 0 & 0 & 0 & 0 & 0\\\\\n",
       "\tENSG00000239242 & 0 & 0 & 0 & 0 & 0 & 0 & 0\\\\\n",
       "\\end{tabular}\n"
      ],
      "text/markdown": [
       "\n",
       "| <!--/--> | lane1 | lane2 | lane3 | lane4 | lane5 | lane6 | lane8 | \n",
       "|---|---|---|---|---|---|\n",
       "| ENSG00000215688 | 0 | 0 | 0 | 0 | 0 | 0 | 0 | \n",
       "| ENSG00000215689 | 0 | 0 | 0 | 0 | 0 | 0 | 0 | \n",
       "| ENSG00000220823 | 0 | 0 | 0 | 0 | 0 | 0 | 0 | \n",
       "| ENSG00000242499 | 0 | 0 | 0 | 0 | 0 | 0 | 0 | \n",
       "| ENSG00000224938 | 0 | 0 | 0 | 0 | 0 | 0 | 0 | \n",
       "| ENSG00000239242 | 0 | 0 | 0 | 0 | 0 | 0 | 0 | \n",
       "\n",
       "\n"
      ],
      "text/plain": [
       "                lane1 lane2 lane3 lane4 lane5 lane6 lane8\n",
       "ENSG00000215688 0     0     0     0     0     0     0    \n",
       "ENSG00000215689 0     0     0     0     0     0     0    \n",
       "ENSG00000220823 0     0     0     0     0     0     0    \n",
       "ENSG00000242499 0     0     0     0     0     0     0    \n",
       "ENSG00000224938 0     0     0     0     0     0     0    \n",
       "ENSG00000239242 0     0     0     0     0     0     0    "
      ]
     },
     "metadata": {},
     "output_type": "display_data"
    }
   ],
   "source": [
    "head(myData)"
   ]
  },
  {
   "cell_type": "markdown",
   "metadata": {},
   "source": [
    "4. The first four columns in your data are controls and the last three are the treatment samples (see the Getting ready section of this recipe). Assign these attributes to the data as follows：\n",
    "\n",
    " 数据中的前四列是控件，最后三列是处理示例(请参阅本菜谱的“准备”部分)。将这些属性分配给数据，如下所示："
   ]
  },
  {
   "cell_type": "code",
   "execution_count": 7,
   "metadata": {},
   "outputs": [],
   "source": [
    "myTreat <- factor(rep(c(\"Control\",\"Treatment\"),times = c(4,3)))"
   ]
  },
  {
   "cell_type": "markdown",
   "metadata": {},
   "source": [
    "5. Now, create a DGElist object using all the count data and treatment information as follows:\n",
    "\n",
    " 创建一个DGElist对象："
   ]
  },
  {
   "cell_type": "code",
   "execution_count": 8,
   "metadata": {},
   "outputs": [],
   "source": [
    "myDG <- DGEList(myData,lib.size = colSums(myData),group = myTreat)"
   ]
  },
  {
   "cell_type": "markdown",
   "metadata": {},
   "source": [
    "The DGElist object is a list with two components: counts and sample (treatment information), as shown in the following example:\n",
    "\n",
    "DGElist对象包含两个部分：count和样本（处理信息）"
   ]
  },
  {
   "cell_type": "code",
   "execution_count": 9,
   "metadata": {},
   "outputs": [
    {
     "data": {
      "text/html": [
       "<dl>\n",
       "\t<dt>$counts</dt>\n",
       "\t\t<dd><table>\n",
       "<thead><tr><th></th><th scope=col>lane1</th><th scope=col>lane2</th><th scope=col>lane3</th><th scope=col>lane4</th><th scope=col>lane5</th><th scope=col>lane6</th><th scope=col>lane8</th></tr></thead>\n",
       "<tbody>\n",
       "\t<tr><th scope=row>ENSG00000215688</th><td>0</td><td>0</td><td>0</td><td>0</td><td>0</td><td>0</td><td>0</td></tr>\n",
       "\t<tr><th scope=row>ENSG00000215689</th><td>0</td><td>0</td><td>0</td><td>0</td><td>0</td><td>0</td><td>0</td></tr>\n",
       "\t<tr><th scope=row>ENSG00000220823</th><td>0</td><td>0</td><td>0</td><td>0</td><td>0</td><td>0</td><td>0</td></tr>\n",
       "\t<tr><th scope=row>ENSG00000242499</th><td>0</td><td>0</td><td>0</td><td>0</td><td>0</td><td>0</td><td>0</td></tr>\n",
       "\t<tr><th scope=row>ENSG00000224938</th><td>0</td><td>0</td><td>0</td><td>0</td><td>0</td><td>0</td><td>0</td></tr>\n",
       "\t<tr><th scope=row>ENSG00000239242</th><td>0</td><td>0</td><td>0</td><td>0</td><td>0</td><td>0</td><td>0</td></tr>\n",
       "\t<tr><th scope=row>ENSG00000243140</th><td>0</td><td>0</td><td>0</td><td>0</td><td>0</td><td>0</td><td>0</td></tr>\n",
       "\t<tr><th scope=row>ENSG00000240187</th><td>0</td><td>0</td><td>0</td><td>0</td><td>0</td><td>0</td><td>0</td></tr>\n",
       "\t<tr><th scope=row>ENSG00000241444</th><td>0</td><td>0</td><td>0</td><td>0</td><td>0</td><td>0</td><td>0</td></tr>\n",
       "\t<tr><th scope=row>ENSG00000242468</th><td>0</td><td>0</td><td>0</td><td>0</td><td>0</td><td>0</td><td>0</td></tr>\n",
       "\t<tr><th scope=row>ENSG00000241826</th><td>0</td><td>0</td><td>0</td><td>0</td><td>0</td><td>0</td><td>0</td></tr>\n",
       "\t<tr><th scope=row>ENSG00000239150</th><td>0</td><td>0</td><td>0</td><td>0</td><td>0</td><td>0</td><td>0</td></tr>\n",
       "\t<tr><th scope=row>ENSG00000220023</th><td>0</td><td>0</td><td>0</td><td>0</td><td>0</td><td>0</td><td>0</td></tr>\n",
       "\t<tr><th scope=row>ENSG00000238303</th><td>0</td><td>0</td><td>0</td><td>0</td><td>0</td><td>0</td><td>0</td></tr>\n",
       "\t<tr><th scope=row>ENSG00000239060</th><td>0</td><td>0</td><td>0</td><td>0</td><td>0</td><td>0</td><td>0</td></tr>\n",
       "\t<tr><th scope=row>ENSG00000238664</th><td>0</td><td>0</td><td>0</td><td>0</td><td>0</td><td>0</td><td>0</td></tr>\n",
       "\t<tr><th scope=row>ENSG00000238600</th><td>0</td><td>0</td><td>0</td><td>0</td><td>0</td><td>0</td><td>0</td></tr>\n",
       "\t<tr><th scope=row>ENSG00000234317</th><td>0</td><td>0</td><td>0</td><td>0</td><td>0</td><td>0</td><td>0</td></tr>\n",
       "\t<tr><th scope=row>ENSG00000225412</th><td>0</td><td>0</td><td>0</td><td>0</td><td>0</td><td>0</td><td>0</td></tr>\n",
       "\t<tr><th scope=row>ENSG00000233023</th><td>0</td><td>0</td><td>0</td><td>0</td><td>0</td><td>0</td><td>0</td></tr>\n",
       "\t<tr><th scope=row>ENSG00000231129</th><td>0</td><td>0</td><td>0</td><td>0</td><td>0</td><td>0</td><td>0</td></tr>\n",
       "\t<tr><th scope=row>ENSG00000233149</th><td>0</td><td>0</td><td>0</td><td>0</td><td>0</td><td>0</td><td>0</td></tr>\n",
       "\t<tr><th scope=row>ENSG00000225459</th><td>0</td><td>0</td><td>0</td><td>0</td><td>0</td><td>0</td><td>0</td></tr>\n",
       "\t<tr><th scope=row>ENSG00000226732</th><td>0</td><td>0</td><td>0</td><td>0</td><td>0</td><td>0</td><td>0</td></tr>\n",
       "\t<tr><th scope=row>ENSG00000223844</th><td>0</td><td>0</td><td>0</td><td>0</td><td>0</td><td>0</td><td>0</td></tr>\n",
       "\t<tr><th scope=row>ENSG00000229493</th><td>0</td><td>0</td><td>0</td><td>0</td><td>0</td><td>0</td><td>0</td></tr>\n",
       "\t<tr><th scope=row>ENSG00000234100</th><td>0</td><td>0</td><td>0</td><td>0</td><td>0</td><td>0</td><td>0</td></tr>\n",
       "\t<tr><th scope=row>ENSG00000234372</th><td>0</td><td>0</td><td>0</td><td>0</td><td>0</td><td>0</td><td>0</td></tr>\n",
       "\t<tr><th scope=row>ENSG00000224230</th><td>0</td><td>0</td><td>0</td><td>0</td><td>0</td><td>0</td><td>0</td></tr>\n",
       "\t<tr><th scope=row>ENSG00000225859</th><td>0</td><td>0</td><td>0</td><td>0</td><td>0</td><td>0</td><td>0</td></tr>\n",
       "\t<tr><th scope=row>...</th><td>...</td><td>...</td><td>...</td><td>...</td><td>...</td><td>...</td><td>...</td></tr>\n",
       "\t<tr><th scope=row>ENSG00000229284</th><td>0</td><td>0</td><td>0</td><td>0</td><td>0</td><td>0</td><td>0</td></tr>\n",
       "\t<tr><th scope=row>ENSG00000206437</th><td>0</td><td>0</td><td>0</td><td>0</td><td>0</td><td>0</td><td>0</td></tr>\n",
       "\t<tr><th scope=row>ENSG00000206308</th><td>0</td><td>0</td><td>0</td><td>0</td><td>0</td><td>0</td><td>0</td></tr>\n",
       "\t<tr><th scope=row>ENSG00000232902</th><td>0</td><td>0</td><td>0</td><td>0</td><td>0</td><td>0</td><td>0</td></tr>\n",
       "\t<tr><th scope=row>ENSG00000235223</th><td>0</td><td>0</td><td>0</td><td>0</td><td>0</td><td>0</td><td>0</td></tr>\n",
       "\t<tr><th scope=row>ENSG00000236934</th><td>0</td><td>0</td><td>0</td><td>0</td><td>0</td><td>0</td><td>0</td></tr>\n",
       "\t<tr><th scope=row>ENSG00000206439</th><td>0</td><td>0</td><td>0</td><td>0</td><td>0</td><td>0</td><td>0</td></tr>\n",
       "\t<tr><th scope=row>ENSG00000235757</th><td>0</td><td>0</td><td>0</td><td>0</td><td>0</td><td>0</td><td>0</td></tr>\n",
       "\t<tr><th scope=row>ENSG00000237559</th><td>0</td><td>0</td><td>0</td><td>0</td><td>0</td><td>0</td><td>0</td></tr>\n",
       "\t<tr><th scope=row>ENSG00000224044</th><td>0</td><td>0</td><td>0</td><td>0</td><td>0</td><td>0</td><td>0</td></tr>\n",
       "\t<tr><th scope=row>ENSG00000228104</th><td>0</td><td>0</td><td>0</td><td>0</td><td>0</td><td>0</td><td>0</td></tr>\n",
       "\t<tr><th scope=row>ENSG00000183574</th><td>0</td><td>0</td><td>0</td><td>0</td><td>0</td><td>0</td><td>0</td></tr>\n",
       "\t<tr><th scope=row>ENSG00000206510</th><td>0</td><td>0</td><td>0</td><td>0</td><td>0</td><td>0</td><td>0</td></tr>\n",
       "\t<tr><th scope=row>ENSG00000243594</th><td>0</td><td>0</td><td>0</td><td>0</td><td>0</td><td>0</td><td>0</td></tr>\n",
       "\t<tr><th scope=row>ENSG00000235814</th><td>0</td><td>0</td><td>0</td><td>0</td><td>0</td><td>0</td><td>0</td></tr>\n",
       "\t<tr><th scope=row>ENSG00000206458</th><td>0</td><td>0</td><td>0</td><td>0</td><td>0</td><td>0</td><td>0</td></tr>\n",
       "\t<tr><th scope=row>ENSG00000215425</th><td>0</td><td>0</td><td>0</td><td>0</td><td>0</td><td>0</td><td>0</td></tr>\n",
       "\t<tr><th scope=row>ENSG00000206366</th><td>0</td><td>0</td><td>0</td><td>0</td><td>0</td><td>0</td><td>0</td></tr>\n",
       "\t<tr><th scope=row>ENSG00000229353</th><td>0</td><td>0</td><td>0</td><td>0</td><td>0</td><td>0</td><td>0</td></tr>\n",
       "\t<tr><th scope=row>ENSG00000242685</th><td>0</td><td>0</td><td>0</td><td>0</td><td>0</td><td>0</td><td>0</td></tr>\n",
       "\t<tr><th scope=row>ENSG00000221974</th><td>0</td><td>0</td><td>0</td><td>0</td><td>0</td><td>0</td><td>0</td></tr>\n",
       "\t<tr><th scope=row>ENSG00000235630</th><td>0</td><td>0</td><td>0</td><td>0</td><td>0</td><td>0</td><td>0</td></tr>\n",
       "\t<tr><th scope=row>ENSG00000235952</th><td>0</td><td>0</td><td>0</td><td>0</td><td>0</td><td>0</td><td>0</td></tr>\n",
       "\t<tr><th scope=row>ENSG00000229199</th><td>0</td><td>0</td><td>0</td><td>0</td><td>0</td><td>0</td><td>0</td></tr>\n",
       "\t<tr><th scope=row>ENSG00000232345</th><td>0</td><td>0</td><td>0</td><td>0</td><td>0</td><td>0</td><td>0</td></tr>\n",
       "\t<tr><th scope=row>ENSG00000231030</th><td>0</td><td>0</td><td>0</td><td>0</td><td>0</td><td>0</td><td>0</td></tr>\n",
       "\t<tr><th scope=row>ENSG00000206296</th><td>0</td><td>0</td><td>0</td><td>0</td><td>0</td><td>0</td><td>0</td></tr>\n",
       "\t<tr><th scope=row>ENSG00000212866</th><td>0</td><td>0</td><td>0</td><td>0</td><td>0</td><td>0</td><td>0</td></tr>\n",
       "\t<tr><th scope=row>ENSG00000228904</th><td>0</td><td>0</td><td>0</td><td>0</td><td>0</td><td>0</td><td>0</td></tr>\n",
       "\t<tr><th scope=row>ENSG00000226795</th><td>0</td><td>0</td><td>0</td><td>0</td><td>0</td><td>0</td><td>0</td></tr>\n",
       "</tbody>\n",
       "</table>\n",
       "</dd>\n",
       "\t<dt>$samples</dt>\n",
       "\t\t<dd><table>\n",
       "<thead><tr><th></th><th scope=col>group</th><th scope=col>lib.size</th><th scope=col>norm.factors</th></tr></thead>\n",
       "<tbody>\n",
       "\t<tr><th scope=row>lane1</th><td>Control  </td><td>1178832  </td><td>1        </td></tr>\n",
       "\t<tr><th scope=row>lane2</th><td>Control  </td><td>1384945  </td><td>1        </td></tr>\n",
       "\t<tr><th scope=row>lane3</th><td>Control  </td><td>1716355  </td><td>1        </td></tr>\n",
       "\t<tr><th scope=row>lane4</th><td>Control  </td><td>1767927  </td><td>1        </td></tr>\n",
       "\t<tr><th scope=row>lane5</th><td>Treatment</td><td>2127868  </td><td>1        </td></tr>\n",
       "\t<tr><th scope=row>lane6</th><td>Treatment</td><td>2142158  </td><td>1        </td></tr>\n",
       "\t<tr><th scope=row>lane8</th><td>Treatment</td><td> 816171  </td><td>1        </td></tr>\n",
       "</tbody>\n",
       "</table>\n",
       "</dd>\n",
       "</dl>\n"
      ],
      "text/latex": [
       "\\begin{description}\n",
       "\\item[\\$counts] \\begin{tabular}{r|lllllll}\n",
       "  & lane1 & lane2 & lane3 & lane4 & lane5 & lane6 & lane8\\\\\n",
       "\\hline\n",
       "\tENSG00000215688 & 0 & 0 & 0 & 0 & 0 & 0 & 0\\\\\n",
       "\tENSG00000215689 & 0 & 0 & 0 & 0 & 0 & 0 & 0\\\\\n",
       "\tENSG00000220823 & 0 & 0 & 0 & 0 & 0 & 0 & 0\\\\\n",
       "\tENSG00000242499 & 0 & 0 & 0 & 0 & 0 & 0 & 0\\\\\n",
       "\tENSG00000224938 & 0 & 0 & 0 & 0 & 0 & 0 & 0\\\\\n",
       "\tENSG00000239242 & 0 & 0 & 0 & 0 & 0 & 0 & 0\\\\\n",
       "\tENSG00000243140 & 0 & 0 & 0 & 0 & 0 & 0 & 0\\\\\n",
       "\tENSG00000240187 & 0 & 0 & 0 & 0 & 0 & 0 & 0\\\\\n",
       "\tENSG00000241444 & 0 & 0 & 0 & 0 & 0 & 0 & 0\\\\\n",
       "\tENSG00000242468 & 0 & 0 & 0 & 0 & 0 & 0 & 0\\\\\n",
       "\tENSG00000241826 & 0 & 0 & 0 & 0 & 0 & 0 & 0\\\\\n",
       "\tENSG00000239150 & 0 & 0 & 0 & 0 & 0 & 0 & 0\\\\\n",
       "\tENSG00000220023 & 0 & 0 & 0 & 0 & 0 & 0 & 0\\\\\n",
       "\tENSG00000238303 & 0 & 0 & 0 & 0 & 0 & 0 & 0\\\\\n",
       "\tENSG00000239060 & 0 & 0 & 0 & 0 & 0 & 0 & 0\\\\\n",
       "\tENSG00000238664 & 0 & 0 & 0 & 0 & 0 & 0 & 0\\\\\n",
       "\tENSG00000238600 & 0 & 0 & 0 & 0 & 0 & 0 & 0\\\\\n",
       "\tENSG00000234317 & 0 & 0 & 0 & 0 & 0 & 0 & 0\\\\\n",
       "\tENSG00000225412 & 0 & 0 & 0 & 0 & 0 & 0 & 0\\\\\n",
       "\tENSG00000233023 & 0 & 0 & 0 & 0 & 0 & 0 & 0\\\\\n",
       "\tENSG00000231129 & 0 & 0 & 0 & 0 & 0 & 0 & 0\\\\\n",
       "\tENSG00000233149 & 0 & 0 & 0 & 0 & 0 & 0 & 0\\\\\n",
       "\tENSG00000225459 & 0 & 0 & 0 & 0 & 0 & 0 & 0\\\\\n",
       "\tENSG00000226732 & 0 & 0 & 0 & 0 & 0 & 0 & 0\\\\\n",
       "\tENSG00000223844 & 0 & 0 & 0 & 0 & 0 & 0 & 0\\\\\n",
       "\tENSG00000229493 & 0 & 0 & 0 & 0 & 0 & 0 & 0\\\\\n",
       "\tENSG00000234100 & 0 & 0 & 0 & 0 & 0 & 0 & 0\\\\\n",
       "\tENSG00000234372 & 0 & 0 & 0 & 0 & 0 & 0 & 0\\\\\n",
       "\tENSG00000224230 & 0 & 0 & 0 & 0 & 0 & 0 & 0\\\\\n",
       "\tENSG00000225859 & 0 & 0 & 0 & 0 & 0 & 0 & 0\\\\\n",
       "\t... & ... & ... & ... & ... & ... & ... & ...\\\\\n",
       "\tENSG00000229284 & 0 & 0 & 0 & 0 & 0 & 0 & 0\\\\\n",
       "\tENSG00000206437 & 0 & 0 & 0 & 0 & 0 & 0 & 0\\\\\n",
       "\tENSG00000206308 & 0 & 0 & 0 & 0 & 0 & 0 & 0\\\\\n",
       "\tENSG00000232902 & 0 & 0 & 0 & 0 & 0 & 0 & 0\\\\\n",
       "\tENSG00000235223 & 0 & 0 & 0 & 0 & 0 & 0 & 0\\\\\n",
       "\tENSG00000236934 & 0 & 0 & 0 & 0 & 0 & 0 & 0\\\\\n",
       "\tENSG00000206439 & 0 & 0 & 0 & 0 & 0 & 0 & 0\\\\\n",
       "\tENSG00000235757 & 0 & 0 & 0 & 0 & 0 & 0 & 0\\\\\n",
       "\tENSG00000237559 & 0 & 0 & 0 & 0 & 0 & 0 & 0\\\\\n",
       "\tENSG00000224044 & 0 & 0 & 0 & 0 & 0 & 0 & 0\\\\\n",
       "\tENSG00000228104 & 0 & 0 & 0 & 0 & 0 & 0 & 0\\\\\n",
       "\tENSG00000183574 & 0 & 0 & 0 & 0 & 0 & 0 & 0\\\\\n",
       "\tENSG00000206510 & 0 & 0 & 0 & 0 & 0 & 0 & 0\\\\\n",
       "\tENSG00000243594 & 0 & 0 & 0 & 0 & 0 & 0 & 0\\\\\n",
       "\tENSG00000235814 & 0 & 0 & 0 & 0 & 0 & 0 & 0\\\\\n",
       "\tENSG00000206458 & 0 & 0 & 0 & 0 & 0 & 0 & 0\\\\\n",
       "\tENSG00000215425 & 0 & 0 & 0 & 0 & 0 & 0 & 0\\\\\n",
       "\tENSG00000206366 & 0 & 0 & 0 & 0 & 0 & 0 & 0\\\\\n",
       "\tENSG00000229353 & 0 & 0 & 0 & 0 & 0 & 0 & 0\\\\\n",
       "\tENSG00000242685 & 0 & 0 & 0 & 0 & 0 & 0 & 0\\\\\n",
       "\tENSG00000221974 & 0 & 0 & 0 & 0 & 0 & 0 & 0\\\\\n",
       "\tENSG00000235630 & 0 & 0 & 0 & 0 & 0 & 0 & 0\\\\\n",
       "\tENSG00000235952 & 0 & 0 & 0 & 0 & 0 & 0 & 0\\\\\n",
       "\tENSG00000229199 & 0 & 0 & 0 & 0 & 0 & 0 & 0\\\\\n",
       "\tENSG00000232345 & 0 & 0 & 0 & 0 & 0 & 0 & 0\\\\\n",
       "\tENSG00000231030 & 0 & 0 & 0 & 0 & 0 & 0 & 0\\\\\n",
       "\tENSG00000206296 & 0 & 0 & 0 & 0 & 0 & 0 & 0\\\\\n",
       "\tENSG00000212866 & 0 & 0 & 0 & 0 & 0 & 0 & 0\\\\\n",
       "\tENSG00000228904 & 0 & 0 & 0 & 0 & 0 & 0 & 0\\\\\n",
       "\tENSG00000226795 & 0 & 0 & 0 & 0 & 0 & 0 & 0\\\\\n",
       "\\end{tabular}\n",
       "\n",
       "\\item[\\$samples] \\begin{tabular}{r|lll}\n",
       "  & group & lib.size & norm.factors\\\\\n",
       "\\hline\n",
       "\tlane1 & Control   & 1178832   & 1        \\\\\n",
       "\tlane2 & Control   & 1384945   & 1        \\\\\n",
       "\tlane3 & Control   & 1716355   & 1        \\\\\n",
       "\tlane4 & Control   & 1767927   & 1        \\\\\n",
       "\tlane5 & Treatment & 2127868   & 1        \\\\\n",
       "\tlane6 & Treatment & 2142158   & 1        \\\\\n",
       "\tlane8 & Treatment &  816171   & 1        \\\\\n",
       "\\end{tabular}\n",
       "\n",
       "\\end{description}\n"
      ],
      "text/markdown": [
       "$counts\n",
       ":   \n",
       "| <!--/--> | lane1 | lane2 | lane3 | lane4 | lane5 | lane6 | lane8 | \n",
       "|---|---|---|---|---|---|---|---|---|---|---|---|---|---|---|---|---|---|---|---|---|---|---|---|---|---|---|---|---|---|---|---|---|---|---|---|---|---|---|---|---|---|---|---|---|---|---|---|---|---|---|---|---|---|---|---|---|---|---|---|---|\n",
       "| ENSG00000215688 | 0 | 0 | 0 | 0 | 0 | 0 | 0 | \n",
       "| ENSG00000215689 | 0 | 0 | 0 | 0 | 0 | 0 | 0 | \n",
       "| ENSG00000220823 | 0 | 0 | 0 | 0 | 0 | 0 | 0 | \n",
       "| ENSG00000242499 | 0 | 0 | 0 | 0 | 0 | 0 | 0 | \n",
       "| ENSG00000224938 | 0 | 0 | 0 | 0 | 0 | 0 | 0 | \n",
       "| ENSG00000239242 | 0 | 0 | 0 | 0 | 0 | 0 | 0 | \n",
       "| ENSG00000243140 | 0 | 0 | 0 | 0 | 0 | 0 | 0 | \n",
       "| ENSG00000240187 | 0 | 0 | 0 | 0 | 0 | 0 | 0 | \n",
       "| ENSG00000241444 | 0 | 0 | 0 | 0 | 0 | 0 | 0 | \n",
       "| ENSG00000242468 | 0 | 0 | 0 | 0 | 0 | 0 | 0 | \n",
       "| ENSG00000241826 | 0 | 0 | 0 | 0 | 0 | 0 | 0 | \n",
       "| ENSG00000239150 | 0 | 0 | 0 | 0 | 0 | 0 | 0 | \n",
       "| ENSG00000220023 | 0 | 0 | 0 | 0 | 0 | 0 | 0 | \n",
       "| ENSG00000238303 | 0 | 0 | 0 | 0 | 0 | 0 | 0 | \n",
       "| ENSG00000239060 | 0 | 0 | 0 | 0 | 0 | 0 | 0 | \n",
       "| ENSG00000238664 | 0 | 0 | 0 | 0 | 0 | 0 | 0 | \n",
       "| ENSG00000238600 | 0 | 0 | 0 | 0 | 0 | 0 | 0 | \n",
       "| ENSG00000234317 | 0 | 0 | 0 | 0 | 0 | 0 | 0 | \n",
       "| ENSG00000225412 | 0 | 0 | 0 | 0 | 0 | 0 | 0 | \n",
       "| ENSG00000233023 | 0 | 0 | 0 | 0 | 0 | 0 | 0 | \n",
       "| ENSG00000231129 | 0 | 0 | 0 | 0 | 0 | 0 | 0 | \n",
       "| ENSG00000233149 | 0 | 0 | 0 | 0 | 0 | 0 | 0 | \n",
       "| ENSG00000225459 | 0 | 0 | 0 | 0 | 0 | 0 | 0 | \n",
       "| ENSG00000226732 | 0 | 0 | 0 | 0 | 0 | 0 | 0 | \n",
       "| ENSG00000223844 | 0 | 0 | 0 | 0 | 0 | 0 | 0 | \n",
       "| ENSG00000229493 | 0 | 0 | 0 | 0 | 0 | 0 | 0 | \n",
       "| ENSG00000234100 | 0 | 0 | 0 | 0 | 0 | 0 | 0 | \n",
       "| ENSG00000234372 | 0 | 0 | 0 | 0 | 0 | 0 | 0 | \n",
       "| ENSG00000224230 | 0 | 0 | 0 | 0 | 0 | 0 | 0 | \n",
       "| ENSG00000225859 | 0 | 0 | 0 | 0 | 0 | 0 | 0 | \n",
       "| ... | ... | ... | ... | ... | ... | ... | ... | \n",
       "| ENSG00000229284 | 0 | 0 | 0 | 0 | 0 | 0 | 0 | \n",
       "| ENSG00000206437 | 0 | 0 | 0 | 0 | 0 | 0 | 0 | \n",
       "| ENSG00000206308 | 0 | 0 | 0 | 0 | 0 | 0 | 0 | \n",
       "| ENSG00000232902 | 0 | 0 | 0 | 0 | 0 | 0 | 0 | \n",
       "| ENSG00000235223 | 0 | 0 | 0 | 0 | 0 | 0 | 0 | \n",
       "| ENSG00000236934 | 0 | 0 | 0 | 0 | 0 | 0 | 0 | \n",
       "| ENSG00000206439 | 0 | 0 | 0 | 0 | 0 | 0 | 0 | \n",
       "| ENSG00000235757 | 0 | 0 | 0 | 0 | 0 | 0 | 0 | \n",
       "| ENSG00000237559 | 0 | 0 | 0 | 0 | 0 | 0 | 0 | \n",
       "| ENSG00000224044 | 0 | 0 | 0 | 0 | 0 | 0 | 0 | \n",
       "| ENSG00000228104 | 0 | 0 | 0 | 0 | 0 | 0 | 0 | \n",
       "| ENSG00000183574 | 0 | 0 | 0 | 0 | 0 | 0 | 0 | \n",
       "| ENSG00000206510 | 0 | 0 | 0 | 0 | 0 | 0 | 0 | \n",
       "| ENSG00000243594 | 0 | 0 | 0 | 0 | 0 | 0 | 0 | \n",
       "| ENSG00000235814 | 0 | 0 | 0 | 0 | 0 | 0 | 0 | \n",
       "| ENSG00000206458 | 0 | 0 | 0 | 0 | 0 | 0 | 0 | \n",
       "| ENSG00000215425 | 0 | 0 | 0 | 0 | 0 | 0 | 0 | \n",
       "| ENSG00000206366 | 0 | 0 | 0 | 0 | 0 | 0 | 0 | \n",
       "| ENSG00000229353 | 0 | 0 | 0 | 0 | 0 | 0 | 0 | \n",
       "| ENSG00000242685 | 0 | 0 | 0 | 0 | 0 | 0 | 0 | \n",
       "| ENSG00000221974 | 0 | 0 | 0 | 0 | 0 | 0 | 0 | \n",
       "| ENSG00000235630 | 0 | 0 | 0 | 0 | 0 | 0 | 0 | \n",
       "| ENSG00000235952 | 0 | 0 | 0 | 0 | 0 | 0 | 0 | \n",
       "| ENSG00000229199 | 0 | 0 | 0 | 0 | 0 | 0 | 0 | \n",
       "| ENSG00000232345 | 0 | 0 | 0 | 0 | 0 | 0 | 0 | \n",
       "| ENSG00000231030 | 0 | 0 | 0 | 0 | 0 | 0 | 0 | \n",
       "| ENSG00000206296 | 0 | 0 | 0 | 0 | 0 | 0 | 0 | \n",
       "| ENSG00000212866 | 0 | 0 | 0 | 0 | 0 | 0 | 0 | \n",
       "| ENSG00000228904 | 0 | 0 | 0 | 0 | 0 | 0 | 0 | \n",
       "| ENSG00000226795 | 0 | 0 | 0 | 0 | 0 | 0 | 0 | \n",
       "\n",
       "\n",
       "\n",
       "$samples\n",
       ":   \n",
       "| <!--/--> | group | lib.size | norm.factors | \n",
       "|---|---|---|---|---|---|---|\n",
       "| lane1 | Control   | 1178832   | 1         | \n",
       "| lane2 | Control   | 1384945   | 1         | \n",
       "| lane3 | Control   | 1716355   | 1         | \n",
       "| lane4 | Control   | 1767927   | 1         | \n",
       "| lane5 | Treatment | 2127868   | 1         | \n",
       "| lane6 | Treatment | 2142158   | 1         | \n",
       "| lane8 | Treatment |  816171   | 1         | \n",
       "\n",
       "\n",
       "\n",
       "\n",
       "\n"
      ],
      "text/plain": [
       "An object of class \"DGEList\"\n",
       "$counts\n",
       "                lane1 lane2 lane3 lane4 lane5 lane6 lane8\n",
       "ENSG00000215688     0     0     0     0     0     0     0\n",
       "ENSG00000215689     0     0     0     0     0     0     0\n",
       "ENSG00000220823     0     0     0     0     0     0     0\n",
       "ENSG00000242499     0     0     0     0     0     0     0\n",
       "ENSG00000224938     0     0     0     0     0     0     0\n",
       "49501 more rows ...\n",
       "\n",
       "$samples\n",
       "          group lib.size norm.factors\n",
       "lane1   Control  1178832            1\n",
       "lane2   Control  1384945            1\n",
       "lane3   Control  1716355            1\n",
       "lane4   Control  1767927            1\n",
       "lane5 Treatment  2127868            1\n",
       "lane6 Treatment  2142158            1\n",
       "lane8 Treatment   816171            1\n"
      ]
     },
     "metadata": {},
     "output_type": "display_data"
    }
   ],
   "source": [
    "myDG"
   ]
  },
  {
   "cell_type": "markdown",
   "metadata": {},
   "source": [
    "6. Now, estimate the dispersion in the data by typing the following command:\n",
    "\n",
    "  输入以下命令来估计数据的离散度："
   ]
  },
  {
   "cell_type": "code",
   "execution_count": 11,
   "metadata": {},
   "outputs": [],
   "source": [
    "myDisp <- estimateCommonDisp(myDG)"
   ]
  },
  {
   "cell_type": "markdown",
   "metadata": {},
   "source": [
    "7. This is followed by an exact test as follows:\n",
    "\n",
    " 然后做更准确的测试："
   ]
  },
  {
   "cell_type": "code",
   "execution_count": 12,
   "metadata": {},
   "outputs": [],
   "source": [
    "mytest <- exactTest(myDisp)"
   ]
  },
  {
   "cell_type": "markdown",
   "metadata": {},
   "source": [
    "8. Extract the top DE tags ranked by the p-value (or the absolute log fold change) using the following topTags function:\n",
    "\n",
    " 使用以下topTags函数提取按p值(或绝对对数折叠变化)排序的顶级DE标记:"
   ]
  },
  {
   "cell_type": "code",
   "execution_count": 13,
   "metadata": {},
   "outputs": [],
   "source": [
    "myRes <- topTags(mytest, sort.by = \"PValue\")"
   ]
  },
  {
   "cell_type": "markdown",
   "metadata": {},
   "source": [
    "9. To see the results, simply check the head of the data.frame object as follows:\n",
    "\n",
    " 要查看结果，只需检查data.frame对象的头部，如下所示："
   ]
  },
  {
   "cell_type": "code",
   "execution_count": 14,
   "metadata": {},
   "outputs": [
    {
     "ename": "ERROR",
     "evalue": "Error: Two subscripts required\n",
     "output_type": "error",
     "traceback": [
      "Error: Two subscripts required\nTraceback:\n",
      "1. head(myRes)",
      "2. head.default(myRes)",
      "3. x[seq_len(n)]",
      "4. `[.TopTags`(x, seq_len(n))",
      "5. stop(\"Two subscripts required\", call. = FALSE)"
     ]
    }
   ],
   "source": [
    "head(myRes)"
   ]
  }
 ],
 "metadata": {
  "kernelspec": {
   "display_name": "R",
   "language": "R",
   "name": "ir"
  },
  "language_info": {
   "codemirror_mode": "r",
   "file_extension": ".r",
   "mimetype": "text/x-r-source",
   "name": "R",
   "pygments_lexer": "r",
   "version": "3.5.1"
  }
 },
 "nbformat": 4,
 "nbformat_minor": 2
}
