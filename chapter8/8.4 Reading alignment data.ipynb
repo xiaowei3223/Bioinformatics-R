{
 "cells": [
  {
   "cell_type": "markdown",
   "metadata": {},
   "source": [
    "The outputs of NGS experiments are sequence reads that have to be aligned and mapped to a reference genome. The first step in NGS data analysis is to align reads to the reference genome. This task of alignment is computationally demanding due to the huge volumes of NGS data and reference genomes. However, there are tools beyond R to do this. Most commonly used alignment tools include BWA and Bowtie. It is beyond the scope of the book to go into the details of these two methods. Nevertheless, a short explanation has been offered on Bowtie in the See also section of this recipe.\n",
    "\n",
    "NGS实验数据输出的序列读取必须是对齐并映射到参考基因组。NGS数据分析第一步与参考基因比对。比对的人物需要大量的计算。但是，R以外的其他工具可以做到这一点。最常用的比对工具是BWA和Bowtie。本书不详述这两种方法的细节。尽管如此，本教程还是提供对Bowtie简短的解释。"
   ]
  },
  {
   "cell_type": "markdown",
   "metadata": {},
   "source": [
    "1. First, download an example file from within R, as follows：\n",
    "\n",
    " 下载文件："
   ]
  },
  {
   "cell_type": "code",
   "execution_count": 7,
   "metadata": {},
   "outputs": [],
   "source": [
    "download.file(url=\"http://genome.ucsc.edu/goldenPath/help/examples/bamExample.bam\", destfile = \"bamExample.bam\")"
   ]
  },
  {
   "cell_type": "markdown",
   "metadata": {},
   "source": [
    "2. To read the BAM file, use the scanBam function from the Rsamtools package as follows (the file has been provided with the code files on the book's web page for the ease of access):\n",
    "\n",
    " 读取BAM文件，用Rsamtools包中的scanBam函数："
   ]
  },
  {
   "cell_type": "code",
   "execution_count": 2,
   "metadata": {},
   "outputs": [
    {
     "name": "stderr",
     "output_type": "stream",
     "text": [
      "Loading required package: GenomeInfoDb\n",
      "Loading required package: BiocGenerics\n",
      "Loading required package: parallel\n",
      "\n",
      "Attaching package: 'BiocGenerics'\n",
      "\n",
      "The following objects are masked from 'package:parallel':\n",
      "\n",
      "    clusterApply, clusterApplyLB, clusterCall, clusterEvalQ,\n",
      "    clusterExport, clusterMap, parApply, parCapply, parLapply,\n",
      "    parLapplyLB, parRapply, parSapply, parSapplyLB\n",
      "\n",
      "The following objects are masked from 'package:stats':\n",
      "\n",
      "    IQR, mad, sd, var, xtabs\n",
      "\n",
      "The following objects are masked from 'package:base':\n",
      "\n",
      "    anyDuplicated, append, as.data.frame, basename, cbind, colMeans,\n",
      "    colnames, colSums, dirname, do.call, duplicated, eval, evalq,\n",
      "    Filter, Find, get, grep, grepl, intersect, is.unsorted, lapply,\n",
      "    lengths, Map, mapply, match, mget, order, paste, pmax, pmax.int,\n",
      "    pmin, pmin.int, Position, rank, rbind, Reduce, rowMeans, rownames,\n",
      "    rowSums, sapply, setdiff, sort, table, tapply, union, unique,\n",
      "    unsplit, which, which.max, which.min\n",
      "\n",
      "Loading required package: S4Vectors\n",
      "Loading required package: stats4\n",
      "\n",
      "Attaching package: 'S4Vectors'\n",
      "\n",
      "The following object is masked from 'package:base':\n",
      "\n",
      "    expand.grid\n",
      "\n",
      "Loading required package: IRanges\n",
      "\n",
      "Attaching package: 'IRanges'\n",
      "\n",
      "The following object is masked from 'package:grDevices':\n",
      "\n",
      "    windows\n",
      "\n",
      "Loading required package: GenomicRanges\n",
      "Loading required package: Biostrings\n",
      "Loading required package: XVector\n",
      "\n",
      "Attaching package: 'Biostrings'\n",
      "\n",
      "The following object is masked from 'package:base':\n",
      "\n",
      "    strsplit\n",
      "\n"
     ]
    }
   ],
   "source": [
    "library(Rsamtools)"
   ]
  },
  {
   "cell_type": "code",
   "execution_count": 9,
   "metadata": {},
   "outputs": [],
   "source": [
    "bam <- scanBam(\"bamExample(1).bam\") #这里用的是另一个相同的文件，不过是下载文件是用其他软件下载的。"
   ]
  },
  {
   "cell_type": "markdown",
   "metadata": {},
   "source": [
    "3. Take a look at the attributes for the first list element of the read data as follows:\n",
    "\n",
    " 查看读取数据的第一个列表元素："
   ]
  },
  {
   "cell_type": "code",
   "execution_count": 10,
   "metadata": {},
   "outputs": [
    {
     "data": {
      "text/html": [
       "<ol class=list-inline>\n",
       "\t<li>'qname'</li>\n",
       "\t<li>'flag'</li>\n",
       "\t<li>'rname'</li>\n",
       "\t<li>'strand'</li>\n",
       "\t<li>'pos'</li>\n",
       "\t<li>'qwidth'</li>\n",
       "\t<li>'mapq'</li>\n",
       "\t<li>'cigar'</li>\n",
       "\t<li>'mrnm'</li>\n",
       "\t<li>'mpos'</li>\n",
       "\t<li>'isize'</li>\n",
       "\t<li>'seq'</li>\n",
       "\t<li>'qual'</li>\n",
       "</ol>\n"
      ],
      "text/latex": [
       "\\begin{enumerate*}\n",
       "\\item 'qname'\n",
       "\\item 'flag'\n",
       "\\item 'rname'\n",
       "\\item 'strand'\n",
       "\\item 'pos'\n",
       "\\item 'qwidth'\n",
       "\\item 'mapq'\n",
       "\\item 'cigar'\n",
       "\\item 'mrnm'\n",
       "\\item 'mpos'\n",
       "\\item 'isize'\n",
       "\\item 'seq'\n",
       "\\item 'qual'\n",
       "\\end{enumerate*}\n"
      ],
      "text/markdown": [
       "1. 'qname'\n",
       "2. 'flag'\n",
       "3. 'rname'\n",
       "4. 'strand'\n",
       "5. 'pos'\n",
       "6. 'qwidth'\n",
       "7. 'mapq'\n",
       "8. 'cigar'\n",
       "9. 'mrnm'\n",
       "10. 'mpos'\n",
       "11. 'isize'\n",
       "12. 'seq'\n",
       "13. 'qual'\n",
       "\n",
       "\n"
      ],
      "text/plain": [
       " [1] \"qname\"  \"flag\"   \"rname\"  \"strand\" \"pos\"    \"qwidth\" \"mapq\"   \"cigar\" \n",
       " [9] \"mrnm\"   \"mpos\"   \"isize\"  \"seq\"    \"qual\"  "
      ]
     },
     "metadata": {},
     "output_type": "display_data"
    }
   ],
   "source": [
    "names(bam[[1]])"
   ]
  },
  {
   "cell_type": "markdown",
   "metadata": {},
   "source": [
    "4. Check the count of the records in the data as follows:\n",
    "\n",
    " 检查数据中记录的数量："
   ]
  },
  {
   "cell_type": "code",
   "execution_count": 12,
   "metadata": {},
   "outputs": [
    {
     "data": {
      "text/html": [
       "<table>\n",
       "<thead><tr><th scope=col>space</th><th scope=col>start</th><th scope=col>end</th><th scope=col>width</th><th scope=col>file</th><th scope=col>records</th><th scope=col>nucleotides</th></tr></thead>\n",
       "<tbody>\n",
       "\t<tr><td>NA               </td><td>NA               </td><td>NA               </td><td>NA               </td><td>bamExample(1).bam</td><td>36142            </td><td>1474950          </td></tr>\n",
       "</tbody>\n",
       "</table>\n"
      ],
      "text/latex": [
       "\\begin{tabular}{r|lllllll}\n",
       " space & start & end & width & file & records & nucleotides\\\\\n",
       "\\hline\n",
       "\t NA                & NA                & NA                & NA                & bamExample(1).bam & 36142             & 1474950          \\\\\n",
       "\\end{tabular}\n"
      ],
      "text/markdown": [
       "\n",
       "space | start | end | width | file | records | nucleotides | \n",
       "|---|\n",
       "| NA                | NA                | NA                | NA                | bamExample(1).bam | 36142             | 1474950           | \n",
       "\n",
       "\n"
      ],
      "text/plain": [
       "  space start end width file              records nucleotides\n",
       "1 NA    NA    NA  NA    bamExample(1).bam 36142   1474950    "
      ]
     },
     "metadata": {},
     "output_type": "display_data"
    }
   ],
   "source": [
    "countBam(\"bamExample(1).bam\")"
   ]
  },
  {
   "cell_type": "markdown",
   "metadata": {},
   "source": [
    "5. If you want to read only selected attributes, set them as parameters by typing the following commands:\n",
    " \n",
    " 读取选定的属性，请输入以下命令将其设置参数："
   ]
  },
  {
   "cell_type": "code",
   "execution_count": 14,
   "metadata": {},
   "outputs": [
    {
     "data": {
      "text/html": [
       "<ol class=list-inline>\n",
       "\t<li>'rname'</li>\n",
       "\t<li>'strand'</li>\n",
       "\t<li>'pos'</li>\n",
       "\t<li>'qwidth'</li>\n",
       "\t<li>'seq'</li>\n",
       "</ol>\n"
      ],
      "text/latex": [
       "\\begin{enumerate*}\n",
       "\\item 'rname'\n",
       "\\item 'strand'\n",
       "\\item 'pos'\n",
       "\\item 'qwidth'\n",
       "\\item 'seq'\n",
       "\\end{enumerate*}\n"
      ],
      "text/markdown": [
       "1. 'rname'\n",
       "2. 'strand'\n",
       "3. 'pos'\n",
       "4. 'qwidth'\n",
       "5. 'seq'\n",
       "\n",
       "\n"
      ],
      "text/plain": [
       "[1] \"rname\"  \"strand\" \"pos\"    \"qwidth\" \"seq\"   "
      ]
     },
     "metadata": {},
     "output_type": "display_data"
    }
   ],
   "source": [
    "what <- c(\"rname\", \"strand\", \"pos\", \"qwidth\", \"seq\")\n",
    "param <- ScanBamParam(what=what)\n",
    "bam2 <- scanBam(\"bamExample(1).bam\", param=param)\n",
    "names(bam2[[1]])"
   ]
  },
  {
   "cell_type": "markdown",
   "metadata": {},
   "source": [
    "6. Read the data as a DataFrame object using the following function:\n",
    " \n",
    " 将数据作为DataFrame对象读取：\n",
    " "
   ]
  },
  {
   "cell_type": "code",
   "execution_count": 15,
   "metadata": {},
   "outputs": [
    {
     "data": {
      "text/plain": [
       "DataFrame with 6 rows and 13 columns\n",
       "                                qname      flag    rname   strand       pos\n",
       "                          <character> <integer> <factor> <factor> <integer>\n",
       "1                  SRR010939.15011799        35       21        +  33019936\n",
       "2                  SRR010939.15011799        19       21        -  33019947\n",
       "3                   SRR006419.2418801        16       21        -  33019958\n",
       "4 -XAT_0001_FC208BFAAXX:5:149:585:182        16       21        -  33019960\n",
       "5 -XAH_0003_FC203BTAAXX:1:191:243:169        16       21        -  33019963\n",
       "6                   ERR001302.6114800        19       21        -  33019965\n",
       "     qwidth      mapq       cigar     mrnm      mpos     isize\n",
       "  <integer> <integer> <character> <factor> <integer> <integer>\n",
       "1        76        99         76M       21  33019947        87\n",
       "2        76        99         76M       21  33019936       -87\n",
       "3        51        76         51M       NA         0         0\n",
       "4        47        91         47M       NA         0         0\n",
       "5        47        90         47M       NA         0         0\n",
       "6        36        99         36M       21  33019766      -235\n",
       "                      seq                    qual\n",
       "           <DNAStringSet>          <PhredQuality>\n",
       "1 TAAAGATATA...GTATAGAGAA =789=7D69;...75-.-$+$*,\n",
       "2 TCAGTAACTC...CATATACTTT ,/06.-856$...?D:B1A=623\n",
       "3 ACAAATCCCA...TGTGTATATA A5\"4;-&24G...@?>>AB>A=C\n",
       "4 TAATCCCAAC...TATGTGTATA 63*269:A:>...@@B<&??@=D\n",
       "5 AACAAACACT...GTGTATATAT #$6#&7:6<1...+F>;BFBD-I\n",
       "6 CCAACACTAG...CATATATATG 4:>@?>??CA...=@=?<>;==@"
      ]
     },
     "metadata": {},
     "output_type": "display_data"
    }
   ],
   "source": [
    "bam_df <- do.call(\"DataFrame\", bam[[1]])\n",
    "head(bam_df)"
   ]
  },
  {
   "cell_type": "markdown",
   "metadata": {},
   "source": [
    "7. From this DataFrame object, extract the sequences that fulfill certain conditions as follows:\n",
    " \n",
    " 从DataFrame对象中提取满足以下特定条件的序列："
   ]
  },
  {
   "cell_type": "code",
   "execution_count": 16,
   "metadata": {},
   "outputs": [
    {
     "data": {
      "text/plain": [
       "\n",
       "FALSE  TRUE \n",
       "31894  4248 "
      ]
     },
     "metadata": {},
     "output_type": "display_data"
    }
   ],
   "source": [
    "table(bam_df$rname == '21' & bam_df$flag == 16)"
   ]
  }
 ],
 "metadata": {
  "kernelspec": {
   "display_name": "R",
   "language": "R",
   "name": "ir"
  },
  "language_info": {
   "codemirror_mode": "r",
   "file_extension": ".r",
   "mimetype": "text/x-r-source",
   "name": "R",
   "pygments_lexer": "r",
   "version": "3.5.1"
  }
 },
 "nbformat": 4,
 "nbformat_minor": 2
}
