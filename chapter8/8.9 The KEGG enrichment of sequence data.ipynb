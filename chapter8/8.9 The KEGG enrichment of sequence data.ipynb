{
 "cells": [
  {
   "cell_type": "markdown",
   "metadata": {},
   "source": [
    "The previous recipe dealt with the GO category enrichment of tags. However, we can do a similar analysis in terms of KEGG annotations. This recipe deals with the KEGG enrichment of data.\n",
    "\n",
    "前面的教程处理了富集标记的GO类别。但是，我们可以根据KEGG注释进行类似的分析。这个教程处理的是KEGG数据的丰富。"
   ]
  },
  {
   "cell_type": "markdown",
   "metadata": {},
   "source": [
    "1. Start with loading the required packages, goseq and edgeR, as follows:\n",
    " \n",
    " 加载goseq和edgeR："
   ]
  },
  {
   "cell_type": "code",
   "execution_count": 3,
   "metadata": {},
   "outputs": [],
   "source": [
    "library(goseq)"
   ]
  },
  {
   "cell_type": "code",
   "execution_count": 4,
   "metadata": {},
   "outputs": [
    {
     "name": "stderr",
     "output_type": "stream",
     "text": [
      "Loading required package: limma\n"
     ]
    }
   ],
   "source": [
    "library(edgeR)"
   ]
  },
  {
   "cell_type": "code",
   "execution_count": 5,
   "metadata": {},
   "outputs": [
    {
     "name": "stderr",
     "output_type": "stream",
     "text": [
      "Loading required package: AnnotationDbi\n",
      "Loading required package: stats4\n",
      "Loading required package: BiocGenerics\n",
      "Loading required package: parallel\n",
      "\n",
      "Attaching package: 'BiocGenerics'\n",
      "\n",
      "The following objects are masked from 'package:parallel':\n",
      "\n",
      "    clusterApply, clusterApplyLB, clusterCall, clusterEvalQ,\n",
      "    clusterExport, clusterMap, parApply, parCapply, parLapply,\n",
      "    parLapplyLB, parRapply, parSapply, parSapplyLB\n",
      "\n",
      "The following object is masked from 'package:limma':\n",
      "\n",
      "    plotMA\n",
      "\n",
      "The following objects are masked from 'package:stats':\n",
      "\n",
      "    IQR, mad, sd, var, xtabs\n",
      "\n",
      "The following objects are masked from 'package:base':\n",
      "\n",
      "    anyDuplicated, append, as.data.frame, basename, cbind, colMeans,\n",
      "    colnames, colSums, dirname, do.call, duplicated, eval, evalq,\n",
      "    Filter, Find, get, grep, grepl, intersect, is.unsorted, lapply,\n",
      "    lengths, Map, mapply, match, mget, order, paste, pmax, pmax.int,\n",
      "    pmin, pmin.int, Position, rank, rbind, Reduce, rowMeans, rownames,\n",
      "    rowSums, sapply, setdiff, sort, table, tapply, union, unique,\n",
      "    unsplit, which, which.max, which.min\n",
      "\n",
      "Loading required package: Biobase\n",
      "Welcome to Bioconductor\n",
      "\n",
      "    Vignettes contain introductory material; view with\n",
      "    'browseVignettes()'. To cite Bioconductor, see\n",
      "    'citation(\"Biobase\")', and for packages 'citation(\"pkgname\")'.\n",
      "\n",
      "\n",
      "Attaching package: 'Biobase'\n",
      "\n",
      "The following object is masked from 'package:BiocGenerics':\n",
      "\n",
      "    dims\n",
      "\n",
      "Loading required package: IRanges\n",
      "Loading required package: S4Vectors\n",
      "\n",
      "Attaching package: 'S4Vectors'\n",
      "\n",
      "The following object is masked from 'package:base':\n",
      "\n",
      "    expand.grid\n",
      "\n",
      "\n",
      "Attaching package: 'IRanges'\n",
      "\n",
      "The following object is masked from 'package:grDevices':\n",
      "\n",
      "    windows\n",
      "\n",
      "\n"
     ]
    }
   ],
   "source": [
    "library(org.Hs.eg.db)"
   ]
  },
  {
   "cell_type": "markdown",
   "metadata": {},
   "source": [
    "2. Load the data you will use for analysis from the goseq package as follows:\n",
    " \n",
    " 从goseq包中加载需要分析的数据："
   ]
  },
  {
   "cell_type": "code",
   "execution_count": 6,
   "metadata": {},
   "outputs": [],
   "source": [
    "myData <- read.table(system.file(\"extdata\", \"Li_sum.txt\",\n",
    "package = 'goseq'), sep = '\\t', header = TRUE, stringsAsFactors =\n",
    "FALSE,row.names = 1)"
   ]
  },
  {
   "cell_type": "markdown",
   "metadata": {},
   "source": [
    "Alternatively, you can read the data directly from the file provided with the code files on the book's web page as follows:\n",
    " \n",
    " 也可以从文件中直接读取："
   ]
  },
  {
   "cell_type": "raw",
   "metadata": {},
   "source": [
    "myData <- read.table(\"path/to/code/files/Li_sum.txt\", sep =\n",
    "'\\t', header = TRUE, stringsAsFactors = FALSE,row.names=1)"
   ]
  },
  {
   "cell_type": "markdown",
   "metadata": {},
   "source": [
    "3. The first four columns in your data are controls and the last three are the treatment samples. Assign these attributes to the data and perform the differential tag computation as follows:\n",
    "\n",
    " 前四个是对照组后三个是处理组样本。将这些属性分配给数据，并按如下方式执行差分标记计算："
   ]
  },
  {
   "cell_type": "code",
   "execution_count": 7,
   "metadata": {},
   "outputs": [],
   "source": [
    "myTreat <- factor(rep(c(\"Control\",\"Treatment\"),times = c(4,3)))"
   ]
  },
  {
   "cell_type": "code",
   "execution_count": 8,
   "metadata": {},
   "outputs": [],
   "source": [
    "myData <- read.table(system.file(\"extdata\", \"Li_sum.txt\", package=\"goseq\"), sep = '\\t', header = TRUE, stringsAsFactors = FALSE,row.names=1)\n",
    "myDG <- DGEList(myData,lib.size = colSums(myData),group = myTreat)"
   ]
  },
  {
   "cell_type": "code",
   "execution_count": 9,
   "metadata": {},
   "outputs": [],
   "source": [
    "myDisp <- estimateCommonDisp(myDG)"
   ]
  },
  {
   "cell_type": "code",
   "execution_count": 10,
   "metadata": {},
   "outputs": [],
   "source": [
    "mytest <- exactTest(myDisp)"
   ]
  },
  {
   "cell_type": "markdown",
   "metadata": {},
   "source": [
    "4. Use the genes from this analysis for enrichment, so extract the genes with the desired p-value and log fold change condition with their corresponding gene names, creating a named vector as follows:\n",
    " \n",
    " 利用本次分析得到的基因进行富集，提取出所需的p值基因，并用相应的基因名进行对数倍变化条件，创建一个向量名如下："
   ]
  },
  {
   "cell_type": "code",
   "execution_count": 11,
   "metadata": {},
   "outputs": [],
   "source": [
    "myTags <- as.integer(p.adjust(mytest$table$PValue[mytest$table$logFC!=0], method = \"BH\") < 0.05)"
   ]
  },
  {
   "cell_type": "code",
   "execution_count": 12,
   "metadata": {},
   "outputs": [],
   "source": [
    "names(myTags) <- row.names(mytest$table[mytest$table$logFC!=0,])"
   ]
  },
  {
   "cell_type": "markdown",
   "metadata": {},
   "source": [
    "5. Now, compile your KEGG data for enrichment, starting with the conversion of ENSEMBL IDs to Entrez as follows:\n",
    "\n",
    " 编译KEGG数据进行充实，首先将集成bl id转换为Entrez，如下所示："
   ]
  },
  {
   "cell_type": "code",
   "execution_count": 13,
   "metadata": {},
   "outputs": [],
   "source": [
    "en2eg <- as.list(org.Hs.egENSEMBL2EG)"
   ]
  },
  {
   "cell_type": "markdown",
   "metadata": {},
   "source": [
    "6. Get all the KEGG IDs for the compiled Entrez IDs by typing the following command:\n",
    "\n",
    " 获取编译后的Entrez id的所有KEGG id："
   ]
  },
  {
   "cell_type": "code",
   "execution_count": 14,
   "metadata": {},
   "outputs": [],
   "source": [
    "eg2kegg <- as.list(org.Hs.egPATH)"
   ]
  },
  {
   "cell_type": "markdown",
   "metadata": {},
   "source": [
    "7. Now to get the KEGG and Entrez IDs mapped together, type the following commands:\n",
    "\n",
    " 将KEGG和Entrez id映射到一起："
   ]
  },
  {
   "cell_type": "code",
   "execution_count": 15,
   "metadata": {},
   "outputs": [],
   "source": [
    "grepKEGG <- function(id,mapkeys){unique(unlist(mapkeys[id], use.names = FALSE))}"
   ]
  },
  {
   "cell_type": "code",
   "execution_count": 19,
   "metadata": {},
   "outputs": [],
   "source": [
    "kegg <- lapply(en2eg,grepKEGG,eg2kegg)"
   ]
  },
  {
   "cell_type": "markdown",
   "metadata": {},
   "source": [
    "8. To compute the probability weighting function, type the following command:\n",
    "\n",
    " 计算概率加权函数："
   ]
  },
  {
   "cell_type": "code",
   "execution_count": 20,
   "metadata": {},
   "outputs": [
    {
     "name": "stderr",
     "output_type": "stream",
     "text": [
      "Loading hg19 length data...\n",
      "Warning message in pcls(G):\n",
      "\"initial point very close to some inequality constraints\""
     ]
    },
    {
     "data": {
      "image/png": "[encoded data removed]",
      "text/plain": [
       "plot without title"
      ]
     },
     "metadata": {},
     "output_type": "display_data"
    }
   ],
   "source": [
    "pwf <- nullp(myTags,\"hg19\",\"ensGene\")"
   ]
  },
  {
   "cell_type": "markdown",
   "metadata": {},
   "source": [
    "9. Use the goseq function with KEGG mappings for the enrichment of tags as follows:\n",
    "\n",
    "  使用带有KEGG映射的goseq函数来丰富标记："
   ]
  },
  {
   "cell_type": "code",
   "execution_count": 21,
   "metadata": {},
   "outputs": [
    {
     "name": "stderr",
     "output_type": "stream",
     "text": [
      "Using manually entered categories.\n",
      "For 18656 genes, we could not find any categories. These genes will be excluded.\n",
      "To force their use, please run with use_genes_without_cat=TRUE (see documentation).\n",
      "This was the default behavior for version 1.15.1 and earlier.\n",
      "Calculating the p-values...\n"
     ]
    }
   ],
   "source": [
    "KEGG <- goseq(pwf,gene2cat = kegg)"
   ]
  },
  {
   "cell_type": "code",
   "execution_count": 22,
   "metadata": {},
   "outputs": [
    {
     "data": {
      "text/html": [
       "<table>\n",
       "<thead><tr><th></th><th scope=col>category</th><th scope=col>over_represented_pvalue</th><th scope=col>under_represented_pvalue</th><th scope=col>numDEInCat</th><th scope=col>numInCat</th></tr></thead>\n",
       "<tbody>\n",
       "\t<tr><th scope=row>88</th><td>03010       </td><td>6.269088e-06</td><td>0.9999980   </td><td>29          </td><td>87          </td></tr>\n",
       "\t<tr><th scope=row>77</th><td>00900       </td><td>2.383748e-04</td><td>0.9999711   </td><td>10          </td><td>15          </td></tr>\n",
       "\t<tr><th scope=row>113</th><td>04115       </td><td>8.117298e-04</td><td>0.9996854   </td><td>26          </td><td>64          </td></tr>\n",
       "\t<tr><th scope=row>175</th><td>04964       </td><td>2.144365e-03</td><td>0.9995939   </td><td>10          </td><td>17          </td></tr>\n",
       "\t<tr><th scope=row>27</th><td>00330       </td><td>3.653372e-03</td><td>0.9986656   </td><td>18          </td><td>44          </td></tr>\n",
       "\t<tr><th scope=row>20</th><td>00250       </td><td>5.182798e-03</td><td>0.9984416   </td><td>13          </td><td>28          </td></tr>\n",
       "</tbody>\n",
       "</table>\n"
      ],
      "text/latex": [
       "\\begin{tabular}{r|lllll}\n",
       "  & category & over\\_represented\\_pvalue & under\\_represented\\_pvalue & numDEInCat & numInCat\\\\\n",
       "\\hline\n",
       "\t88 & 03010        & 6.269088e-06 & 0.9999980    & 29           & 87          \\\\\n",
       "\t77 & 00900        & 2.383748e-04 & 0.9999711    & 10           & 15          \\\\\n",
       "\t113 & 04115        & 8.117298e-04 & 0.9996854    & 26           & 64          \\\\\n",
       "\t175 & 04964        & 2.144365e-03 & 0.9995939    & 10           & 17          \\\\\n",
       "\t27 & 00330        & 3.653372e-03 & 0.9986656    & 18           & 44          \\\\\n",
       "\t20 & 00250        & 5.182798e-03 & 0.9984416    & 13           & 28          \\\\\n",
       "\\end{tabular}\n"
      ],
      "text/markdown": [
       "\n",
       "| <!--/--> | category | over_represented_pvalue | under_represented_pvalue | numDEInCat | numInCat | \n",
       "|---|---|---|---|---|---|\n",
       "| 88 | 03010        | 6.269088e-06 | 0.9999980    | 29           | 87           | \n",
       "| 77 | 00900        | 2.383748e-04 | 0.9999711    | 10           | 15           | \n",
       "| 113 | 04115        | 8.117298e-04 | 0.9996854    | 26           | 64           | \n",
       "| 175 | 04964        | 2.144365e-03 | 0.9995939    | 10           | 17           | \n",
       "| 27 | 00330        | 3.653372e-03 | 0.9986656    | 18           | 44           | \n",
       "| 20 | 00250        | 5.182798e-03 | 0.9984416    | 13           | 28           | \n",
       "\n",
       "\n"
      ],
      "text/plain": [
       "    category over_represented_pvalue under_represented_pvalue numDEInCat\n",
       "88  03010    6.269088e-06            0.9999980                29        \n",
       "77  00900    2.383748e-04            0.9999711                10        \n",
       "113 04115    8.117298e-04            0.9996854                26        \n",
       "175 04964    2.144365e-03            0.9995939                10        \n",
       "27  00330    3.653372e-03            0.9986656                18        \n",
       "20  00250    5.182798e-03            0.9984416                13        \n",
       "    numInCat\n",
       "88  87      \n",
       "77  15      \n",
       "113 64      \n",
       "175 17      \n",
       "27  44      \n",
       "20  28      "
      ]
     },
     "metadata": {},
     "output_type": "display_data"
    }
   ],
   "source": [
    "head(KEGG)"
   ]
  }
 ],
 "metadata": {
  "kernelspec": {
   "display_name": "R",
   "language": "R",
   "name": "ir"
  },
  "language_info": {
   "codemirror_mode": "r",
   "file_extension": ".r",
   "mimetype": "text/x-r-source",
   "name": "R",
   "pygments_lexer": "r",
   "version": "3.5.1"
  }
 },
 "nbformat": 4,
 "nbformat_minor": 2
}
