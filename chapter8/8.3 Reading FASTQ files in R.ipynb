{
 "cells": [
  {
   "cell_type": "markdown",
   "metadata": {},
   "source": [
    "A FASTQ file, as explained earlier, can have several short sequence reads in it. It is the universally accepted format in the NGS community and for most alignment programs such as Bowtie, which uses these files as input. In order to analyze the data, we need to read in this data in the workspace. This recipe addresses this issue of reading FASTQ files in R.\n",
    "\n",
    " \n",
    " FASTQ文件是NGS和大多数比对程序常用的输入格式，在分析数据，我们需要读取工作区中的数据。这个教程解决了在R中却FASTQ文件的问题。"
   ]
  },
  {
   "cell_type": "markdown",
   "metadata": {},
   "source": [
    "1. To download files from within R, use the following functions:\n",
    "\n",
    " the files downloaded by other software.\n",
    " \n",
    " 下载文件，（可以使用其他软件下载后放到该工作目录）"
   ]
  },
  {
   "cell_type": "code",
   "execution_count": 2,
   "metadata": {
    "scrolled": true
   },
   "outputs": [
    {
     "name": "stderr",
     "output_type": "stream",
     "text": [
      "Warning message:\n",
      "\"unable to access index for repository http://www.stats.ox.ac.uk/pub/RWin/bin/windows/contrib/3.5:\n",
      "  无法打开URL'http://www.stats.ox.ac.uk/pub/RWin/bin/windows/contrib/3.5/PACKAGES'\"Warning message:\n",
      "\"package 'R.utils' is in use and will not be installed\"Warning message in download.file(url = \"ftp://ftp.ddbj.nig.ac.jp/ddbj_database/dra/fastq/SRA000/SRA000241/SRX000122/SRR000648.fastq.bz2\", :\n",
      "\"InternetOpenUrl失败:’无法与服务器建立连接\n",
      "'\""
     ]
    },
    {
     "ename": "ERROR",
     "evalue": "Error in download.file(url = \"ftp://ftp.ddbj.nig.ac.jp/ddbj_database/dra/fastq/SRA000/SRA000241/SRX000122/SRR000648.fastq.bz2\", : 无法打开URL'ftp://ftp.ddbj.nig.ac.jp/ddbj_database/dra/fastq/SRA000/SRA000241/SRX000122/SRR000648.fastq.bz2'\n",
     "output_type": "error",
     "traceback": [
      "Error in download.file(url = \"ftp://ftp.ddbj.nig.ac.jp/ddbj_database/dra/fastq/SRA000/SRA000241/SRX000122/SRR000648.fastq.bz2\", : 无法打开URL'ftp://ftp.ddbj.nig.ac.jp/ddbj_database/dra/fastq/SRA000/SRA000241/SRX000122/SRR000648.fastq.bz2'\nTraceback:\n",
      "1. download.file(url = \"ftp://ftp.ddbj.nig.ac.jp/ddbj_database/dra/fastq/SRA000/SRA000241/SRX000122/SRR000648.fastq.bz2\", \n .     destfile = \"SRR000648.fastq.bz2\")"
     ]
    }
   ],
   "source": [
    "install.packages(\"R.utils\")\n",
    "library(R.utils)\n",
    "download.file(url=\"ftp://ftp.ddbj.nig.ac.jp/ddbj_database/dra/fastq/SRA000/SRA000241/SRX000122/SRR000648.fastq.bz2\", destfile = \"SRR000648.fastq.bz2\")"
   ]
  },
  {
   "cell_type": "markdown",
   "metadata": {},
   "source": [
    "You can also download the files via browsers on any platform (Windows, Mac OS, or Linux)."
   ]
  },
  {
   "cell_type": "markdown",
   "metadata": {},
   "source": [
    "2. Now, unzip the downloaded file in your working directory as follows :\n",
    "\n",
    " 解压文件："
   ]
  },
  {
   "cell_type": "code",
   "execution_count": 11,
   "metadata": {
    "collapsed": true
   },
   "outputs": [
    {
     "ename": "ERROR",
     "evalue": "Error in decompressFile.default(filename = filename, ..., ext = ext, FUN = FUN): Argument 'filename' and 'destname' are identical: SRR351672.fastq.gz\n",
     "output_type": "error",
     "traceback": [
      "Error in decompressFile.default(filename = filename, ..., ext = ext, FUN = FUN): Argument 'filename' and 'destname' are identical: SRR351672.fastq.gz\nTraceback:\n",
      "1. bunzip2(list.files(pattern = \".gz\"))",
      "2. bunzip2.default(list.files(pattern = \".gz\"))",
      "3. decompressFile(filename = filename, ..., ext = ext, FUN = FUN)",
      "4. decompressFile.default(filename = filename, ..., ext = ext, FUN = FUN)",
      "5. stop(sprintf(\"Argument 'filename' and 'destname' are identical: %s\", \n .     filename))"
     ]
    }
   ],
   "source": [
    "bunzip2(list.files(pattern = \".fastq.gz\"))#解压不了，可以自己用其他软件解压"
   ]
  },
  {
   "cell_type": "markdown",
   "metadata": {},
   "source": [
    "3. Now, install and load the ShortRead package from Bioconductor as follows:\n",
    "\n",
    " 安装并加载ShortRead："
   ]
  },
  {
   "cell_type": "code",
   "execution_count": 10,
   "metadata": {},
   "outputs": [
    {
     "name": "stderr",
     "output_type": "stream",
     "text": [
      "Bioconductor version 3.7 (BiocInstaller 1.30.0), ?biocLite for help\n",
      "A newer version of Bioconductor is available for this version of R,\n",
      "  ?BiocUpgrade for help\n",
      "BioC_mirror: https://bioconductor.org\n",
      "Using Bioconductor 3.7 (BiocInstaller 1.30.0), R 3.5.1 (2018-07-02).\n",
      "Installing package(s) 'ShortRead'\n"
     ]
    },
    {
     "name": "stdout",
     "output_type": "stream",
     "text": [
      "package 'ShortRead' successfully unpacked and MD5 sums checked\n",
      "\n",
      "The downloaded binary packages are in\n",
      "\tC:\\Users\\Administrator\\AppData\\Local\\Temp\\RtmpqEvKLS\\downloaded_packages\n"
     ]
    },
    {
     "name": "stderr",
     "output_type": "stream",
     "text": [
      "Old packages: 'ade4', 'ape', 'backports', 'BH', 'BiocManager', 'broom',\n",
      "  'callr', 'caret', 'checkpoint', 'class', 'cli', 'clipr', 'codetools',\n",
      "  'colorspace', 'curl', 'data.table', 'dbplyr', 'ddalpha', 'digest', 'dimRed',\n",
      "  'doParallel', 'dplyr', 'evaluate', 'fansi', 'forcats', 'foreign', 'geometry',\n",
      "  'ggplot2', 'haven', 'htmlwidgets', 'httpuv', 'httr', 'igraph', 'ipred',\n",
      "  'IRdisplay', 'IRkernel', 'jsonlite', 'kernlab', 'knitr', 'later', 'lattice',\n",
      "  'lava', 'magic', 'markdown', 'MASS', 'Matrix', 'mgcv', 'mime', 'MKmisc',\n",
      "  'ModelMetrics', 'modelr', 'openssl', 'pillar', 'pkgconfig', 'pls',\n",
      "  'processx', 'purrr', 'R.utils', 'R6', 'Rcpp', 'readr', 'readxl', 'recipes',\n",
      "  'repr', 'reprex', 'rlang', 'rmarkdown', 'robustbase', 'rstudioapi', 'RUnit',\n",
      "  'scales', 'sfsmisc', 'shiny', 'stringi', 'stringr', 'survival', 'testthat',\n",
      "  'tibble', 'tidyr', 'tidyselect', 'tinytex', 'TTR', 'xfun', 'XML', 'xtable',\n",
      "  'xts', 'zoo'\n",
      "Loading required package: BiocGenerics\n",
      "Loading required package: parallel\n",
      "\n",
      "Attaching package: 'BiocGenerics'\n",
      "\n",
      "The following objects are masked from 'package:parallel':\n",
      "\n",
      "    clusterApply, clusterApplyLB, clusterCall, clusterEvalQ,\n",
      "    clusterExport, clusterMap, parApply, parCapply, parLapply,\n",
      "    parLapplyLB, parRapply, parSapply, parSapplyLB\n",
      "\n",
      "The following objects are masked from 'package:stats':\n",
      "\n",
      "    IQR, mad, sd, var, xtabs\n",
      "\n",
      "The following objects are masked from 'package:base':\n",
      "\n",
      "    anyDuplicated, append, as.data.frame, basename, cbind, colMeans,\n",
      "    colnames, colSums, dirname, do.call, duplicated, eval, evalq,\n",
      "    Filter, Find, get, grep, grepl, intersect, is.unsorted, lapply,\n",
      "    lengths, Map, mapply, match, mget, order, paste, pmax, pmax.int,\n",
      "    pmin, pmin.int, Position, rank, rbind, Reduce, rowMeans, rownames,\n",
      "    rowSums, sapply, setdiff, sort, table, tapply, union, unique,\n",
      "    unsplit, which, which.max, which.min\n",
      "\n",
      "Loading required package: BiocParallel\n",
      "Warning message:\n",
      "\"package 'BiocParallel' was built under R version 3.5.2\"Loading required package: Biostrings\n",
      "Loading required package: S4Vectors\n",
      "Loading required package: stats4\n",
      "\n",
      "Attaching package: 'S4Vectors'\n",
      "\n",
      "The following object is masked from 'package:base':\n",
      "\n",
      "    expand.grid\n",
      "\n",
      "Loading required package: IRanges\n",
      "\n",
      "Attaching package: 'IRanges'\n",
      "\n",
      "The following object is masked from 'package:R.oo':\n",
      "\n",
      "    trim\n",
      "\n",
      "The following object is masked from 'package:grDevices':\n",
      "\n",
      "    windows\n",
      "\n",
      "Loading required package: XVector\n",
      "\n",
      "Attaching package: 'Biostrings'\n",
      "\n",
      "The following object is masked from 'package:base':\n",
      "\n",
      "    strsplit\n",
      "\n",
      "Loading required package: Rsamtools\n",
      "Loading required package: GenomeInfoDb\n",
      "Loading required package: GenomicRanges\n",
      "Loading required package: GenomicAlignments\n",
      "Warning message:\n",
      "\"package 'GenomicAlignments' was built under R version 3.5.2\"Loading required package: SummarizedExperiment\n",
      "Loading required package: Biobase\n",
      "Welcome to Bioconductor\n",
      "\n",
      "    Vignettes contain introductory material; view with\n",
      "    'browseVignettes()'. To cite Bioconductor, see\n",
      "    'citation(\"Biobase\")', and for packages 'citation(\"pkgname\")'.\n",
      "\n",
      "\n",
      "Attaching package: 'Biobase'\n",
      "\n",
      "The following object is masked from 'package:BiocGenerics':\n",
      "\n",
      "    dims\n",
      "\n",
      "Loading required package: DelayedArray\n",
      "Loading required package: matrixStats\n",
      "Warning message:\n",
      "\"package 'matrixStats' was built under R version 3.5.2\"\n",
      "Attaching package: 'matrixStats'\n",
      "\n",
      "The following objects are masked from 'package:Biobase':\n",
      "\n",
      "    anyMissing, rowMedians\n",
      "\n",
      "\n",
      "Attaching package: 'DelayedArray'\n",
      "\n",
      "The following objects are masked from 'package:matrixStats':\n",
      "\n",
      "    colMaxs, colMins, colRanges, rowMaxs, rowMins, rowRanges\n",
      "\n",
      "The following object is masked from 'package:Biostrings':\n",
      "\n",
      "    type\n",
      "\n",
      "The following objects are masked from 'package:base':\n",
      "\n",
      "    aperm, apply\n",
      "\n",
      "Warning message:\n",
      "\"replacing previous import 'BiocGenerics::dims' by 'Biobase::dims' when loading 'SummarizedExperiment'\"Warning message:\n",
      "\"replacing previous import 'Biobase::dims' by 'DelayedArray::dims' when loading 'SummarizedExperiment'\"Warning message:\n",
      "\"replacing previous import 'BiocGenerics::dims' by 'Biobase::dims' when loading 'ShortRead'\"\n",
      "Attaching package: 'ShortRead'\n",
      "\n",
      "The following object is masked from 'package:R.utils':\n",
      "\n",
      "    countLines\n",
      "\n"
     ]
    }
   ],
   "source": [
    "source(\"http://bioconductor.org/biocLite.R\")\n",
    "biocLite(\"ShortRead\")            \n",
    "library(ShortRead)"
   ]
  },
  {
   "cell_type": "markdown",
   "metadata": {},
   "source": [
    "4. To read the downloaded FASTQ file as an R object, use the readFastq function as follows. Note that FASTQ files are usually heavy and might require huge memory space while reading (it might need approximately 8 GB); therefore, check your machines before working on such files:\n",
    "\n",
    " 读取并下载FASTQ文件，用readFastq函数。注意FASTQ文件通常比较大，需要内存比较大，至少需要8GB，因此，在运行之前需要检查你的电脑内存是否够大："
   ]
  },
  {
   "cell_type": "code",
   "execution_count": 12,
   "metadata": {},
   "outputs": [],
   "source": [
    "MyFastq <- readFastq(getwd(), pattern=\".fastq\")"
   ]
  },
  {
   "cell_type": "markdown",
   "metadata": {},
   "source": [
    "5. Look at the first four lines of the file by the generic readLines function as follows:\n",
    "\n",
    " 用readLines函数查看前四行："
   ]
  },
  {
   "cell_type": "code",
   "execution_count": 14,
   "metadata": {},
   "outputs": [
    {
     "data": {
      "text/html": [
       "<ol class=list-inline>\n",
       "\t<li>'@SRR351672.1 ILLUMINA-EAS45_1:1:1:1016:1205:0:1:0/1'</li>\n",
       "\t<li>'NNNNNNNNNNNNNNNNNNNNNNNNNNNNNNNNNNNN'</li>\n",
       "\t<li>'+'</li>\n",
       "\t<li>'####################################'</li>\n",
       "</ol>\n"
      ],
      "text/latex": [
       "\\begin{enumerate*}\n",
       "\\item '@SRR351672.1 ILLUMINA-EAS45\\_1:1:1:1016:1205:0:1:0/1'\n",
       "\\item 'NNNNNNNNNNNNNNNNNNNNNNNNNNNNNNNNNNNN'\n",
       "\\item '+'\n",
       "\\item '\\#\\#\\#\\#\\#\\#\\#\\#\\#\\#\\#\\#\\#\\#\\#\\#\\#\\#\\#\\#\\#\\#\\#\\#\\#\\#\\#\\#\\#\\#\\#\\#\\#\\#\\#\\#'\n",
       "\\end{enumerate*}\n"
      ],
      "text/markdown": [
       "1. '@SRR351672.1 ILLUMINA-EAS45_1:1:1:1016:1205:0:1:0/1'\n",
       "2. 'NNNNNNNNNNNNNNNNNNNNNNNNNNNNNNNNNNNN'\n",
       "3. '+'\n",
       "4. '####################################'\n",
       "\n",
       "\n"
      ],
      "text/plain": [
       "[1] \"@SRR351672.1 ILLUMINA-EAS45_1:1:1:1016:1205:0:1:0/1\"\n",
       "[2] \"NNNNNNNNNNNNNNNNNNNNNNNNNNNNNNNNNNNN\"               \n",
       "[3] \"+\"                                                  \n",
       "[4] \"####################################\"               "
      ]
     },
     "metadata": {},
     "output_type": "display_data"
    }
   ],
   "source": [
    "readLines(\"SRR351672.fastq\", 4)"
   ]
  }
 ],
 "metadata": {
  "kernelspec": {
   "display_name": "R",
   "language": "R",
   "name": "ir"
  },
  "language_info": {
   "codemirror_mode": "r",
   "file_extension": ".r",
   "mimetype": "text/x-r-source",
   "name": "R",
   "pygments_lexer": "r",
   "version": "3.5.1"
  }
 },
 "nbformat": 4,
 "nbformat_minor": 2
}
