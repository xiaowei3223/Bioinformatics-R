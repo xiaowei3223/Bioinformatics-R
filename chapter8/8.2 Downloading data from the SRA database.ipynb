{
 "cells": [
  {
   "cell_type": "markdown",
   "metadata": {},
   "source": [
    "We have just explored how to query the SRA database. However, we can use the SRAdb package to download the FASTQ data based on our queries. This recipe aims to address this issue.\n",
    "\n",
    "在第一节我们知道了怎样在SRA数据库查询。这里我们用SRAdb包下载FASTQ数据。\n"
   ]
  },
  {
   "cell_type": "markdown",
   "metadata": {},
   "source": [
    "1. First, load the SRAdb library as follows：\n",
    " \n",
    " 加载SRAdb包："
   ]
  },
  {
   "cell_type": "code",
   "execution_count": 2,
   "metadata": {},
   "outputs": [],
   "source": [
    "library(SRAdb)"
   ]
  },
  {
   "cell_type": "markdown",
   "metadata": {},
   "source": [
    "2. Now, frame a query. For instance, use the same query as in the previous recipe\n",
    "to search for ALZHEIMERS or EPILEPSY, as shown in the following command\n",
    "(note that the step requires the sraCon object created in the previous recipe):\n",
    "\n",
    " 构建一个检索查询，跟之前的一样，用ALZHEIMERS或EPILEPSY："
   ]
  },
  {
   "cell_type": "code",
   "execution_count": 9,
   "metadata": {},
   "outputs": [],
   "source": [
    "library(SRAdb)\n",
    "sraCon <- dbConnect(SQLite(), 'SRAmetadb.sqlite')"
   ]
  },
  {
   "cell_type": "code",
   "execution_count": 10,
   "metadata": {},
   "outputs": [],
   "source": [
    "myHit <- getSRA( search_terms ='ALZHEIMERS OR \"EPILEPSY\"', out_types = c('sample'), sraCon)"
   ]
  },
  {
   "cell_type": "markdown",
   "metadata": {},
   "source": [
    "3. Now, choose two of the hits and find their accessions (IDs) using the following sraConvert function:\n",
    "\n",
    " 用sraConvert函数选择两个hits并找到它的aceession（IDs）："
   ]
  },
  {
   "cell_type": "code",
   "execution_count": 11,
   "metadata": {},
   "outputs": [],
   "source": [
    "conversion <- sraConvert( c('ERS354366','SRS266589'), sra_con = sraCon)"
   ]
  },
  {
   "cell_type": "markdown",
   "metadata": {},
   "source": [
    "4. Take a look at the object created, as follows:\n",
    "\n",
    " 查看conversion："
   ]
  },
  {
   "cell_type": "code",
   "execution_count": 12,
   "metadata": {},
   "outputs": [
    {
     "data": {
      "text/html": [
       "<table>\n",
       "<thead><tr><th scope=col>sample</th><th scope=col>submission</th><th scope=col>study</th><th scope=col>experiment</th><th scope=col>run</th></tr></thead>\n",
       "<tbody>\n",
       "\t<tr><td>ERS354366</td><td>ERA252779</td><td>ERP003987</td><td>ERX324104</td><td>ERR351268</td></tr>\n",
       "\t<tr><td>SRS266589</td><td>SRA046961</td><td>SRP008797</td><td>SRX100465</td><td>SRR351672</td></tr>\n",
       "\t<tr><td>SRS266589</td><td>SRA046961</td><td>SRP008797</td><td>SRX100465</td><td>SRR351673</td></tr>\n",
       "</tbody>\n",
       "</table>\n"
      ],
      "text/latex": [
       "\\begin{tabular}{r|lllll}\n",
       " sample & submission & study & experiment & run\\\\\n",
       "\\hline\n",
       "\t ERS354366 & ERA252779 & ERP003987 & ERX324104 & ERR351268\\\\\n",
       "\t SRS266589 & SRA046961 & SRP008797 & SRX100465 & SRR351672\\\\\n",
       "\t SRS266589 & SRA046961 & SRP008797 & SRX100465 & SRR351673\\\\\n",
       "\\end{tabular}\n"
      ],
      "text/markdown": [
       "\n",
       "sample | submission | study | experiment | run | \n",
       "|---|---|---|\n",
       "| ERS354366 | ERA252779 | ERP003987 | ERX324104 | ERR351268 | \n",
       "| SRS266589 | SRA046961 | SRP008797 | SRX100465 | SRR351672 | \n",
       "| SRS266589 | SRA046961 | SRP008797 | SRX100465 | SRR351673 | \n",
       "\n",
       "\n"
      ],
      "text/plain": [
       "  sample    submission study     experiment run      \n",
       "1 ERS354366 ERA252779  ERP003987 ERX324104  ERR351268\n",
       "2 SRS266589 SRA046961  SRP008797 SRX100465  SRR351672\n",
       "3 SRS266589 SRA046961  SRP008797 SRX100465  SRR351673"
      ]
     },
     "metadata": {},
     "output_type": "display_data"
    }
   ],
   "source": [
    "conversion"
   ]
  },
  {
   "cell_type": "markdown",
   "metadata": {},
   "source": [
    "5. To get information on one of the experiments, use the getSRAinfo function\n",
    "\n",
    " 使用getSRAinfo函数获取其中一个实验数据信息："
   ]
  },
  {
   "cell_type": "code",
   "execution_count": 13,
   "metadata": {},
   "outputs": [],
   "source": [
    "rs <- getSRAinfo( c(\"SRX100465\"), sraCon, sraType = \"sra\")"
   ]
  },
  {
   "cell_type": "markdown",
   "metadata": {},
   "source": [
    "6. This gives us the FTP addresses and other experiment details for the search as follows:\n",
    "\n",
    " 这个结果会给我们FTP地址和实验细节："
   ]
  },
  {
   "cell_type": "code",
   "execution_count": 14,
   "metadata": {},
   "outputs": [
    {
     "data": {
      "text/html": [
       "<table>\n",
       "<thead><tr><th scope=col>ftp</th><th scope=col>experiment</th><th scope=col>study</th><th scope=col>sample</th><th scope=col>run</th><th scope=col>size(KB)</th><th scope=col>date</th></tr></thead>\n",
       "<tbody>\n",
       "\t<tr><td>ftp://ftp-trace.ncbi.nlm.nih.gov/sra/sra-instant/reads/ByRun/sra/SRR/SRR351/SRR351672/SRR351672.sra</td><td>SRX100465                                                                                          </td><td>SRP008797                                                                                          </td><td>SRS266589                                                                                          </td><td>SRR351672                                                                                          </td><td>NA                                                                                                 </td><td>NA                                                                                                 </td></tr>\n",
       "\t<tr><td>ftp://ftp-trace.ncbi.nlm.nih.gov/sra/sra-instant/reads/ByRun/sra/SRR/SRR351/SRR351673/SRR351673.sra</td><td>SRX100465                                                                                          </td><td>SRP008797                                                                                          </td><td>SRS266589                                                                                          </td><td>SRR351673                                                                                          </td><td>NA                                                                                                 </td><td>NA                                                                                                 </td></tr>\n",
       "</tbody>\n",
       "</table>\n"
      ],
      "text/latex": [
       "\\begin{tabular}{r|lllllll}\n",
       " ftp & experiment & study & sample & run & size(KB) & date\\\\\n",
       "\\hline\n",
       "\t ftp://ftp-trace.ncbi.nlm.nih.gov/sra/sra-instant/reads/ByRun/sra/SRR/SRR351/SRR351672/SRR351672.sra & SRX100465                                                                                           & SRP008797                                                                                           & SRS266589                                                                                           & SRR351672                                                                                           & NA                                                                                                  & NA                                                                                                 \\\\\n",
       "\t ftp://ftp-trace.ncbi.nlm.nih.gov/sra/sra-instant/reads/ByRun/sra/SRR/SRR351/SRR351673/SRR351673.sra & SRX100465                                                                                           & SRP008797                                                                                           & SRS266589                                                                                           & SRR351673                                                                                           & NA                                                                                                  & NA                                                                                                 \\\\\n",
       "\\end{tabular}\n"
      ],
      "text/markdown": [
       "\n",
       "ftp | experiment | study | sample | run | size(KB) | date | \n",
       "|---|---|\n",
       "| ftp://ftp-trace.ncbi.nlm.nih.gov/sra/sra-instant/reads/ByRun/sra/SRR/SRR351/SRR351672/SRR351672.sra | SRX100465                                                                                           | SRP008797                                                                                           | SRS266589                                                                                           | SRR351672                                                                                           | NA                                                                                                  | NA                                                                                                  | \n",
       "| ftp://ftp-trace.ncbi.nlm.nih.gov/sra/sra-instant/reads/ByRun/sra/SRR/SRR351/SRR351673/SRR351673.sra | SRX100465                                                                                           | SRP008797                                                                                           | SRS266589                                                                                           | SRR351673                                                                                           | NA                                                                                                  | NA                                                                                                  | \n",
       "\n",
       "\n"
      ],
      "text/plain": [
       "  ftp                                                                                                \n",
       "1 ftp://ftp-trace.ncbi.nlm.nih.gov/sra/sra-instant/reads/ByRun/sra/SRR/SRR351/SRR351672/SRR351672.sra\n",
       "2 ftp://ftp-trace.ncbi.nlm.nih.gov/sra/sra-instant/reads/ByRun/sra/SRR/SRR351/SRR351673/SRR351673.sra\n",
       "  experiment study     sample    run       size(KB) date\n",
       "1 SRX100465  SRP008797 SRS266589 SRR351672 NA       NA  \n",
       "2 SRX100465  SRP008797 SRS266589 SRR351673 NA       NA  "
      ]
     },
     "metadata": {},
     "output_type": "display_data"
    }
   ],
   "source": [
    "rs"
   ]
  },
  {
   "cell_type": "markdown",
   "metadata": {},
   "source": [
    "7. To download the data of your interest (the run), use the getSRAfile function as follows (note that this requires some time to download):\n",
    "\n",
    "  I download by other download software, because it didn't work when internet is not well.\n",
    "\n",
    "  getSRAfile函数下载数据：（但是需要时间比较长）"
   ]
  },
  {
   "cell_type": "code",
   "execution_count": 15,
   "metadata": {},
   "outputs": [
    {
     "name": "stderr",
     "output_type": "stream",
     "text": [
      "Files are saved to: \n",
      "'C:/Users/Administrator/bioinformatics_with_R/chapter8'\n",
      "\n",
      "Warning message in download.file(i, destfile = file.path(destDir, basename(i)), :\n",
      "\"InternetOpenUrl失败:’拒绝登录申请\n",
      "'\""
     ]
    },
    {
     "ename": "ERROR",
     "evalue": "Error in download.file(i, destfile = file.path(destDir, basename(i)), : 无法打开URL'ftp://ftp.sra.ebi.ac.uk/vol1/fastq/SRR351/SRR351672/SRR351672.fastq.gz'\n",
     "output_type": "error",
     "traceback": [
      "Error in download.file(i, destfile = file.path(destDir, basename(i)), : 无法打开URL'ftp://ftp.sra.ebi.ac.uk/vol1/fastq/SRR351/SRR351672/SRR351672.fastq.gz'\nTraceback:\n",
      "1. getSRAfile(c(\"SRR351672\", \"SRR351673\"), sraCon, fileType = \"fastq\")",
      "2. download.file(i, destfile = file.path(destDir, basename(i)), \n .     method = method)"
     ]
    }
   ],
   "source": [
    "getSRAfile( c(\"SRR351672\", \"SRR351673\"), sraCon, fileType ='fastq')"
   ]
  }
 ],
 "metadata": {
  "kernelspec": {
   "display_name": "R",
   "language": "R",
   "name": "ir"
  },
  "language_info": {
   "codemirror_mode": "r",
   "file_extension": ".r",
   "mimetype": "text/x-r-source",
   "name": "R",
   "pygments_lexer": "r",
   "version": "3.5.1"
  }
 },
 "nbformat": 4,
 "nbformat_minor": 2
}
