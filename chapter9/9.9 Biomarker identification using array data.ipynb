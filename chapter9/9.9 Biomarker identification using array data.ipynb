{
 "cells": [
  {
   "cell_type": "markdown",
   "metadata": {},
   "source": [
    "1. Start by installing and loading the BioMark library as follows:\n",
    "\n",
    " 安装并加载BioMark包"
   ]
  },
  {
   "cell_type": "code",
   "execution_count": 1,
   "metadata": {
    "collapsed": true
   },
   "outputs": [
    {
     "name": "stderr",
     "output_type": "stream",
     "text": [
      "Installing package into 'C:/Users/acer/Documents/R/win-library/3.5'\n",
      "(as 'lib' is unspecified)\n",
      "also installing the dependencies 'entropy', 'sda', 'fdrtool', 'corpcor', 'pls', 'glmnet', 'st'\n",
      "\n"
     ]
    },
    {
     "name": "stdout",
     "output_type": "stream",
     "text": [
      "package 'entropy' successfully unpacked and MD5 sums checked\n",
      "package 'sda' successfully unpacked and MD5 sums checked\n",
      "package 'fdrtool' successfully unpacked and MD5 sums checked\n",
      "package 'corpcor' successfully unpacked and MD5 sums checked\n",
      "package 'pls' successfully unpacked and MD5 sums checked\n",
      "package 'glmnet' successfully unpacked and MD5 sums checked\n",
      "package 'st' successfully unpacked and MD5 sums checked\n",
      "package 'BioMark' successfully unpacked and MD5 sums checked\n",
      "\n",
      "The downloaded binary packages are in\n",
      "\tC:\\Users\\acer\\AppData\\Local\\Temp\\RtmpsBLeOT\\downloaded_packages\n"
     ]
    },
    {
     "name": "stderr",
     "output_type": "stream",
     "text": [
      "Warning message:\n",
      "\"package 'BioMark' was built under R version 3.5.3\"Loading required package: pls\n",
      "Warning message:\n",
      "\"package 'pls' was built under R version 3.5.3\"\n",
      "Attaching package: 'pls'\n",
      "\n",
      "The following object is masked from 'package:stats':\n",
      "\n",
      "    loadings\n",
      "\n",
      "Loading required package: glmnet\n",
      "Warning message:\n",
      "\"package 'glmnet' was built under R version 3.5.3\"Loading required package: Matrix\n",
      "Loading required package: foreach\n",
      "Warning message:\n",
      "\"package 'foreach' was built under R version 3.5.3\"Loaded glmnet 2.0-16\n",
      "\n",
      "Loading required package: MASS\n",
      "Loading required package: st\n",
      "Warning message:\n",
      "\"package 'st' was built under R version 3.5.3\"Loading required package: sda\n",
      "Warning message:\n",
      "\"package 'sda' was built under R version 3.5.3\"Loading required package: entropy\n",
      "Warning message:\n",
      "\"package 'entropy' was built under R version 3.5.2\"Loading required package: corpcor\n",
      "Warning message:\n",
      "\"package 'corpcor' was built under R version 3.5.2\"Loading required package: fdrtool\n",
      "Warning message:\n",
      "\"package 'fdrtool' was built under R version 3.5.2\""
     ]
    }
   ],
   "source": [
    "#install.packages(\"BioMark\")\n",
    "library(BioMark)"
   ]
  },
  {
   "cell_type": "markdown",
   "metadata": {},
   "source": [
    "2. Once you have loaded the library,use the gen.data function to simulate a dataset for use. By default, it simulated the data for five biomarkers, but this can be altered with the nbiom argument as follows:\n",
    "\n",
    " 利用gen.data()函数造一个数据集供我们使用。默认该数据集有5个生物标记，但是可以通过nbiom改动："
   ]
  },
  {
   "cell_type": "code",
   "execution_count": 2,
   "metadata": {},
   "outputs": [],
   "source": [
    "simdata <- gen.data(ncontrol=10, nvar=500, nsimul=1, group.diff=1.5)"
   ]
  },
  {
   "cell_type": "markdown",
   "metadata": {},
   "source": [
    "3. Check the contents of the dataset as follows:\n",
    "\n",
    " 检查该数据内容："
   ]
  },
  {
   "cell_type": "code",
   "execution_count": 3,
   "metadata": {},
   "outputs": [
    {
     "data": {
      "text/html": [
       "'list'"
      ],
      "text/latex": [
       "'list'"
      ],
      "text/markdown": [
       "'list'"
      ],
      "text/plain": [
       "[1] \"list\""
      ]
     },
     "metadata": {},
     "output_type": "display_data"
    },
    {
     "name": "stdout",
     "output_type": "stream",
     "text": [
      " num [1:20, 1:500, 1] -2.66 1.42 0.852 0.815 -2.705 ...\n"
     ]
    }
   ],
   "source": [
    "class(simdata)\n",
    "str(simdata$X)"
   ]
  },
  {
   "cell_type": "markdown",
   "metadata": {},
   "source": [
    "4. The real biomarkers in the generated dataset are the first five variables; therefore, you can assign it to an R object for evaluation purposes, as follows:\n",
    "\n",
    " 生成的数据集中真正的生物标志物是前五个变量;因此，您可以将其分配给R对象以进行评估:"
   ]
  },
  {
   "cell_type": "code",
   "execution_count": 4,
   "metadata": {},
   "outputs": [],
   "source": [
    "myrealMarkers <- c(1,2,3,4,5)"
   ]
  },
  {
   "cell_type": "markdown",
   "metadata": {},
   "source": [
    "5. Now, use the get.biom function to look for the biomarkers in the dataset. Use the pls method for this purpose as follows:\n",
    "\n",
    " 利用get.biom函数查看该数据集的生物标记物，方法用pls。"
   ]
  },
  {
   "cell_type": "code",
   "execution_count": 5,
   "metadata": {},
   "outputs": [],
   "source": [
    "myBiom <- get.biom(X = simdata$X[1:20,,1], Y=simdata$Y, fmethod=\"pls\", type=\"HC\")"
   ]
  },
  {
   "cell_type": "markdown",
   "metadata": {},
   "source": [
    "6. Once you have selected the biomarkers,take a look at the ranked variable's indices with the following command:\n",
    "\n",
    "选择好生物标记物后，查看变量的排名："
   ]
  },
  {
   "cell_type": "code",
   "execution_count": 6,
   "metadata": {},
   "outputs": [
    {
     "data": {
      "text/html": [
       "<strong>$pls</strong> = <ol>\n",
       "\t<li><ol class=list-inline>\n",
       "\t<li>5</li>\n",
       "\t<li>3</li>\n",
       "\t<li>4</li>\n",
       "\t<li>422</li>\n",
       "\t<li>180</li>\n",
       "\t<li>124</li>\n",
       "\t<li>71</li>\n",
       "</ol>\n",
       "</li>\n",
       "</ol>\n"
      ],
      "text/latex": [
       "\\textbf{\\$pls} = \\begin{enumerate}\n",
       "\\item \\begin{enumerate*}\n",
       "\\item 5\n",
       "\\item 3\n",
       "\\item 4\n",
       "\\item 422\n",
       "\\item 180\n",
       "\\item 124\n",
       "\\item 71\n",
       "\\end{enumerate*}\n",
       "\n",
       "\\end{enumerate}\n"
      ],
      "text/markdown": [
       "**$pls** = 1. 1. 5\n",
       "2. 3\n",
       "3. 4\n",
       "4. 422\n",
       "5. 180\n",
       "6. 124\n",
       "7. 71\n",
       "\n",
       "\n",
       "\n",
       "\n",
       "\n"
      ],
      "text/plain": [
       "$pls\n",
       "$pls[[1]]\n",
       "[1]   5   3   4 422 180 124  71\n",
       "\n"
      ]
     },
     "metadata": {},
     "output_type": "display_data"
    }
   ],
   "source": [
    "selection(myBiom)"
   ]
  },
  {
   "cell_type": "markdown",
   "metadata": {},
   "source": [
    "7. Once you have the results, obseve the performance measure in terms of the ROC curve, as follows, for the top five biomarkers selected from the results:\n",
    "\n",
    " 观察从结果中筛选出的前5个生物标志物的ROC曲线表现测度如下:"
   ]
  },
  {
   "cell_type": "code",
   "execution_count": 7,
   "metadata": {
    "scrolled": true
   },
   "outputs": [
    {
     "data": {
      "image/png": "[encoded data removed]",
      "text/plain": [
       "Plot with title \"ROC\""
      ]
     },
     "metadata": {},
     "output_type": "display_data"
    }
   ],
   "source": [
    "myROC <- ROC(1/coef(myBiom)$pls[[1]][1:5],myrealMarkers)\n",
    "plot(myROC)"
   ]
  },
  {
   "cell_type": "code",
   "execution_count": null,
   "metadata": {},
   "outputs": [],
   "source": []
  }
 ],
 "metadata": {
  "kernelspec": {
   "display_name": "R",
   "language": "R",
   "name": "ir"
  },
  "language_info": {
   "codemirror_mode": "r",
   "file_extension": ".r",
   "mimetype": "text/x-r-source",
   "name": "R",
   "pygments_lexer": "r",
   "version": "3.5.1"
  }
 },
 "nbformat": 4,
 "nbformat_minor": 2
}
