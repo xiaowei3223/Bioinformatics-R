{
 "cells": [
  {
   "cell_type": "markdown",
   "metadata": {},
   "source": [
    "The exponential growth of the amount of available biological data raises two problems, that of efficient storage and management of data and of the extraction of useful information from such data. The second problem is one of the main challenges in computational biology; it requires the development of tools and methods that are capable of transforming all this heterogeneous data into biological knowledge about the underlying mechanism. To illustrate, think of gene expression data that consists of expression values from a series of DNA microarray experiments.  The data comes from patients suffering from a disease, say, cancer. With this kind of data at our disposal, it is interesting to look for answers to the following questions.\n",
    "\n",
    "现有生物数据数量的指数增长提出了两个问题，即数据的有效储存和管理以及从这些数据中提取有用信息的问题。第二个问题是计算生物学的主要挑战之一;它需要开发能够将所有这些异构数据转换为关于底层机制的生物学知识的工具和方法。举例来说，考虑由一系列DNA微阵列实验的表达值组成的基因表达数据。这些数据来自患有某种疾病的患者，比如癌症患者。有了这些可供我们使用的数据，寻找以下问题的答案是很有趣的。\n",
    "\n",
    " Which samples exhibit a higher similarity in their expression profiles?\n",
    " 哪些样本的表达谱具有更高的相似性?\n",
    " \n",
    " Is there some intra-sample similarity between the genes?\n",
    " 这些基因之间是否存在样本内相似性?\n",
    " \n",
    " Are there some genes that serve as the defining feature in certain types of cancer?\n",
    " 在某些类型的癌症中是否有某些基因起着决定性的作用?\n",
    " \n",
    " Machine learning is a domain in artificial intelligence that allows computers to learn these aspects, and more, from this kind of example data or past experience. Machine learning can create and optimize models that can predict outcomes based on the features in the known data (usually termed as training data).\n",
    " \n",
    " 机器学习是人工智能的一个领域，它允许计算机从这类示例数据或过去的经验中学习这些方面，甚至更多。机器学习可以创建和优化模型，根据已知数据(通常称为训练数据)中的特征预测结果。\n",
    " \n",
    " The two major settings in which we perform machine learning are supervised learning and unsupervised learning. In supervised learning, we have the values of the samples in the training set and use this knowledge to predict values for the unknown sample: a test set. Classification is an instance of supervised learning where we have the categories (class labels) of samples known in the training set and create our models based on this set to predict the class labels for the unknown instances. Unsupervised learning uses a set of data instances without any known results. It finds patterns in the data and thus partitions the data into meaningful subsets (these categories are not predefined as in the case of supervised learning). Clustering is an example of unsupervised learning where exploratory data analysis is performed to find patterns to identify the similarities and dissimilarities among the data instances.\n",
    " \n",
    " 我们进行机器学习的两种主要设置是监督学习和非监督学习。在监督学习中,我们在训练集样本的值和使用这些知识来预测未知样本的值:一个测试集。分类是监督学习的实例,我们有样品的类别(类标签)在训练集和基于这组创建我们的模型来预测未知实例的类标签。无监督学习使用一组没有任何已知结果的数据实例。它在数据中发现模式，从而将数据划分为有意义的子集(这些类别不像监督学习那样预定义)。聚类是无监督学习的一个例子，其中执行探索性数据分析以找到模式，以识别数据实例之间的相似性和差异性。\n",
    " \n",
    " \n",
    " In this chapter, we will elaborate on how to deal with machine learning methods in bioinformatics using R. However, before we move on to specific problems in bioinformatics and their solutions via machine learning, we must first define a clear objective, and the data should be able to answer this question. The key issues that must be taken care of before we start with the formulation of learning models are as follows：\n",
    " 在这一章中,我们将详细说明如何处理机器学习方法在生物信息学中使用R .然而,我们继续之前在生物信息学及其具体问题通过机器学习解决方案,我们必须首先定义一个明确的目标,和数据应该能够回答这个问题。在我们开始制定学习模型之前，必须注意的关键问题如下：\n",
    " \n",
    " Assessing data quality: Correctness and completeness of data is necessary to get the model to work in the way that it is supposed to. This includes checking the consistency, the attribute values and types, the missing values, and finding the outliers.\n",
    " \n",
    " 评估数据质量:数据的正确性和完整性对于使模型按照预期的方式工作是必要的。这包括检查一致性、属性值和类型、缺失的值以及查找异常值。\n",
    " \n",
    " Data normalization: Depending on the input data and the chosen algorithm, sometimes we need to standardize the data in order to make it comparable. However, it might not be required in cases where the unique scaling of data is significant. Similarly, the normalization method can be different depending on the types of features. Another important aspect is that one should first normalize the training data and then apply these normalization parameters to rescale the validation data.\n",
    " \n",
    " 数据规范化:根据输入数据和选择的算法，有时我们需要对数据进行标准化，以使其具有可比性。但是，如果数据的惟一可伸缩性非常大，则可能不需要这样做。类似地，规范化方法也可以根据特征的类型而有所不同。另一个重要的方面是，应该首先规范化训练数据，然后应用这些规范化参数来重新伸缩验证数据。\n",
    " \n",
    " \n",
    " Feature selection: We need to get the features that show a dependency between the data instance and the objective (for example, class labels in the case of classification). Depending on the data, objective, and learning algorithm, all features might not be required to create a mode; they either add noise, redundancy, or cause computational inefficiency for the model. Therefore, we need to identify useful features that can define the objective function. For example, avoiding a redundant feature or correlated feature is a good call.\n",
    " \n",
    " 特性选择:我们需要获得显示数据实例和目标之间依赖关系的特性(例如，分类中的类标签)。根据数据、目标和学习算法，创建模式可能不需要所有特性;它们要么增加噪声、冗余，要么导致模型的计算效率低下。因此，我们需要确定可以定义目标函数的有用特性。例如，避免冗余特性或相关特性是一个不错的选择。\n",
    " \n",
    "There are many other aspects that should be taken care of, and they will be explained when required. It is beyond the scope of this book to go through all the details here. It is recommended that you go through a basic book on machine learning for more information (for example, The Elements of Statistical Learning by Hastie, Tibshirani, and Friedman, which is available at http://statweb.stanford.edu/~tibs/ElemStatLearn/printings/ESLII_print10.pdf). The Machine learning in bioinformatics article by Larrañaga and others (http://bib.oxfordjournals.org/content/7/1/86.long) also gives a good overview of the field in the context of bioinformatics.\n",
    "\n",
    "还有许多其他方面需要注意，并将在需要时进行解释。在这里讨论所有细节超出了这本书的范围。建议您阅读关于机器学习的基础书籍以获得更多信息(例如，Hastie、Tibshirani和Friedman的《统计学习的要素》，可在http://statweb.stanford.edu/~tibs/ElemStatLearn/printings/ESLII_print10.pdf获得)。Larranaga和其他人撰写的《生物信息学中的机器学习》(http://bib.oxfordjournals.org/content/7/1/86.long)也对生物信息学中的这一领域进行了很好的概述。\n",
    "\n",
    "In all of the recipes presented here, the data we use has already gone through preprocessing. We will simply attempt to build our model based on the presented data (and later, validate it).\n",
    "在这里介绍的所有教程中，我们使用的数据都经过了预处理。我们将简单地尝试基于所提供的数据构建我们的模型(稍后，验证它)。\n"
   ]
  },
  {
   "cell_type": "code",
   "execution_count": null,
   "metadata": {},
   "outputs": [],
   "source": []
  }
 ],
 "metadata": {
  "kernelspec": {
   "display_name": "R",
   "language": "R",
   "name": "ir"
  },
  "language_info": {
   "codemirror_mode": "r",
   "file_extension": ".r",
   "mimetype": "text/x-r-source",
   "name": "R",
   "pygments_lexer": "r",
   "version": "3.5.1"
  }
 },
 "nbformat": 4,
 "nbformat_minor": 2
}
