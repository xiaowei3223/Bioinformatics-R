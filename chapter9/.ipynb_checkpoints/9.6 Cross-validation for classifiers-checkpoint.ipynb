{
 "cells": [
  {
   "cell_type": "markdown",
   "metadata": {},
   "source": [
    "1. First, load the e1071 package in your R session as follows:\n",
    "\n",
    " 加载e1071包："
   ]
  },
  {
   "cell_type": "code",
   "execution_count": 1,
   "metadata": {
    "scrolled": true
   },
   "outputs": [
    {
     "name": "stderr",
     "output_type": "stream",
     "text": [
      "Warning message:\n",
      "\"package 'e1071' was built under R version 3.5.3\""
     ]
    }
   ],
   "source": [
    "library(e1071)"
   ]
  },
  {
   "cell_type": "markdown",
   "metadata": {},
   "source": [
    "2. Create the dataset for learning and testing purposes, and use the iris data again and extract the first 100 instances from it as follows:\n",
    "\n",
    " 用iris的前100行数据："
   ]
  },
  {
   "cell_type": "code",
   "execution_count": 2,
   "metadata": {},
   "outputs": [],
   "source": [
    "data(iris)\n",
    "myData <- iris[1:100,]"
   ]
  },
  {
   "cell_type": "markdown",
   "metadata": {},
   "source": [
    "3. Make a small modification in the extracted data to restrict the number of levels in the class labels to 2 with the following command:\n",
    "\n",
    " 做一点小小的改动，将类级别的数量控制在2内："
   ]
  },
  {
   "cell_type": "code",
   "execution_count": 15,
   "metadata": {},
   "outputs": [],
   "source": [
    "myData$Species <- factor(as.character(myData$Species))"
   ]
  },
  {
   "cell_type": "markdown",
   "metadata": {},
   "source": [
    "4. Now, set the number of folds for the CV, that is, choose the number of folds, as follows:\n",
    "\n",
    " 设置CV的褶数："
   ]
  },
  {
   "cell_type": "code",
   "execution_count": 4,
   "metadata": {},
   "outputs": [],
   "source": [
    "k = 10"
   ]
  },
  {
   "cell_type": "markdown",
   "metadata": {},
   "source": [
    "5. Then, create indices based on the number of folds for the CV by sampling from the folds(k) with the replavement, and create the sequence vectors for the folds ranging from 1 to k, as follows:\n",
    "\n",
    " 通过对复制后的褶(k)进行采样，根据CV的褶数创建索引，并为从1到k的褶创建序列向量:"
   ]
  },
  {
   "cell_type": "code",
   "execution_count": 6,
   "metadata": {},
   "outputs": [],
   "source": [
    "index <- sample(1:k, nrow(myData), replace=TRUE)\n",
    "folds <- 1:k"
   ]
  },
  {
   "cell_type": "markdown",
   "metadata": {},
   "source": [
    "6. Then, initialize a data frame to store your CV results as follows:\n",
    "\n",
    " 创建一个空的数据框来存放你的CV结果："
   ]
  },
  {
   "cell_type": "code",
   "execution_count": 7,
   "metadata": {},
   "outputs": [],
   "source": [
    "myRes <- data.frame()"
   ]
  },
  {
   "cell_type": "markdown",
   "metadata": {},
   "source": [
    "  The following chunk of code is the main loop within which the data sampling and learning and CV actuallu occurs:\n",
    "\n",
    " 下面的代码块是数据采样和学习以及CV实际发生的主要循环:"
   ]
  },
  {
   "cell_type": "code",
   "execution_count": 18,
   "metadata": {},
   "outputs": [],
   "source": [
    "for (i in 1:k){\n",
    "    training <- subset(myData,index %in% folds[-i]) #create training set\n",
    "    test <- subset(myData, index %in% c(i)) #create test set\n",
    "    myModel <- svm(training$Species ~ ., data=training) #train model \n",
    "    actual <- test[,ncol(test)] #get actual labels\n",
    "    temp <- data.frame(predict(myModel, test[,-ncol(test)])) #run model on test set\n",
    "    colnames(temp) <- \"Predicted\"\n",
    "    results= data.frame(Predicted=temp, Actual=actual) #create data.frame for results\n",
    "    myRes <- rbind(myRes,results) #append results for each iteration\n",
    "}"
   ]
  },
  {
   "cell_type": "markdown",
   "metadata": {},
   "source": [
    "7. Finally,prepare a contingency table for the overall CV results by typing the following command:\n",
    "\n",
    " 为CV结果输出列联表"
   ]
  },
  {
   "cell_type": "code",
   "execution_count": 14,
   "metadata": {},
   "outputs": [
    {
     "data": {
      "text/plain": [
       "            Actual\n",
       "Predicted    setosa versicolor\n",
       "  setosa         50          0\n",
       "  versicolor      0         50"
      ]
     },
     "metadata": {},
     "output_type": "display_data"
    }
   ],
   "source": [
    "table(myRes)"
   ]
  },
  {
   "cell_type": "code",
   "execution_count": null,
   "metadata": {},
   "outputs": [],
   "source": []
  }
 ],
 "metadata": {
  "kernelspec": {
   "display_name": "R",
   "language": "R",
   "name": "ir"
  },
  "language_info": {
   "codemirror_mode": "r",
   "file_extension": ".r",
   "mimetype": "text/x-r-source",
   "name": "R",
   "pygments_lexer": "r",
   "version": "3.5.1"
  }
 },
 "nbformat": 4,
 "nbformat_minor": 2
}
