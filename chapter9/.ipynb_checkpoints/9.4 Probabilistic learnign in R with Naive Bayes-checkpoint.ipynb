{
 "cells": [
  {
   "cell_type": "markdown",
   "metadata": {},
   "source": [
    "Naïve Bayes classifiers require small training data to estimate the parameters (the means and variances of the variables) necessary for classification. Since it is based on the assumption that the variables are independent, only the variances of the variables for each class need to be computed and not the entire covariance matrix.\n",
    "\n",
    "朴素贝叶斯分类器需要小的训练数据来估计分类所需的参数(变量的均值和方差)。由于它是基于变量相互独立的假设，所以只需要计算每个类变量的方差，而不需要计算整个协方差矩阵。"
   ]
  },
  {
   "cell_type": "markdown",
   "metadata": {},
   "source": [
    "1. First, load the e1071 library into the R session as follows:\n",
    "\n",
    " 加载e1071包："
   ]
  },
  {
   "cell_type": "code",
   "execution_count": 7,
   "metadata": {},
   "outputs": [],
   "source": [
    "library(e1071)"
   ]
  },
  {
   "cell_type": "code",
   "execution_count": 8,
   "metadata": {
    "scrolled": true
   },
   "outputs": [
    {
     "name": "stderr",
     "output_type": "stream",
     "text": [
      "Your code contains a unicode char which cannot be displayed in your\n",
      "current locale and R will silently convert it to an escaped form when the\n",
      "R kernel executes this code. This can lead to subtle errors if you use\n",
      "such chars to do comparisons. For more information, please see\n",
      "https://github.com/IRkernel/repr/wiki/Problems-with-unicode-on-windows"
     ]
    }
   ],
   "source": [
    "wbcd <- read.csv(\"wisc_bc_data.csv\",stringsAsFactors = FALSE)#导入数据\n",
    "wbcd <- wbcd[-1] #剔除ID列\n",
    "wbcd$Diagnosis <- factor(wbcd$Diagnosis,levels = c(\"B\",\"M\"),labels = c(\"Benign\",\"Malignant\")) ##将目标属性编码为因子类型，使用labels参数对B值和M值给出含有更多信息的标签\n",
    "train_row <- sample(1:569, 380)\n",
    "train <- wbcd[train_row,] # use sampled indexes to extract training data\n",
    "test <- wbcd[-train_row,] # test set is select by selecting all the other data points\n",
    "testClass <- test$Diagnosis\n",
    "test$Diagnosis <- NULL"
   ]
  },
  {
   "cell_type": "markdown",
   "metadata": {},
   "source": [
    "2. Now, learn the classifier model based on the training set using the naiveBayes function of the e1071 package as follows:\n",
    "\n",
    "  使用e1071包的naiveBayes函数学习基于训练集的分类器模型："
   ]
  },
  {
   "cell_type": "code",
   "execution_count": 9,
   "metadata": {},
   "outputs": [],
   "source": [
    "model <- naiveBayes(Diagnosis ~ .,data = train)"
   ]
  },
  {
   "cell_type": "markdown",
   "metadata": {},
   "source": [
    "3. Once you have your trained model, use it to predict the classes in the test set as follows:\n",
    "\n",
    " 一旦您有了经过训练的模型，使用它来预测测试集中的类，如下所示："
   ]
  },
  {
   "cell_type": "code",
   "execution_count": 10,
   "metadata": {},
   "outputs": [],
   "source": [
    "testRes_nb <- predict(model,test)"
   ]
  },
  {
   "cell_type": "markdown",
   "metadata": {},
   "source": [
    "4. Compare the predicted classes with the actual classes by forming a contingency table as follows:\n",
    "\n",
    "  通过形成一个列联表，将预测的类与实际的类进行比较，如下所示："
   ]
  },
  {
   "cell_type": "code",
   "execution_count": 11,
   "metadata": {},
   "outputs": [
    {
     "data": {
      "text/plain": [
       "           testClass\n",
       "testRes_nb  Benign Malignant\n",
       "  Benign       114        11\n",
       "  Malignant      6        58"
      ]
     },
     "metadata": {},
     "output_type": "display_data"
    }
   ],
   "source": [
    "table(testRes_nb,testClass)"
   ]
  },
  {
   "cell_type": "code",
   "execution_count": null,
   "metadata": {},
   "outputs": [],
   "source": []
  }
 ],
 "metadata": {
  "kernelspec": {
   "display_name": "R",
   "language": "R",
   "name": "ir"
  },
  "language_info": {
   "codemirror_mode": "r",
   "file_extension": ".r",
   "mimetype": "text/x-r-source",
   "name": "R",
   "pygments_lexer": "r",
   "version": "3.5.1"
  }
 },
 "nbformat": 4,
 "nbformat_minor": 2
}
