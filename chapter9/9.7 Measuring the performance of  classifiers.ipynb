{
 "cells": [
  {
   "cell_type": "markdown",
   "metadata": {},
   "source": [
    "Measuring the accuracy of the learning algorithms is as important as the algorithms themselves. These measurements of performabce define how accurately yjr daya points have been classified or clustered. In this recipe, we will describe the compytation of some of these measurements in R.\n",
    "\n",
    "测量机器学习算法的精度和算法本身一样重要。这些性能测量定义了如何准确地分类或聚集数据点。在本教程中，我们将用R来描述其中一些测量值的计算。"
   ]
  },
  {
   "cell_type": "markdown",
   "metadata": {},
   "source": [
    "1. Install and load the caret library as follows:"
   ]
  },
  {
   "cell_type": "code",
   "execution_count": 16,
   "metadata": {},
   "outputs": [],
   "source": [
    "# install.packages(\"caret\")\n",
    "library(caret)\n",
    "library(e1071)\n",
    "#install.packages(\"ROCR\")\n",
    "library(\"ROCR\")"
   ]
  },
  {
   "cell_type": "markdown",
   "metadata": {},
   "source": [
    "2. Prepare your data and classifiers using the following function:\n",
    "\n",
    " 数据准备和分类器："
   ]
  },
  {
   "cell_type": "code",
   "execution_count": 17,
   "metadata": {},
   "outputs": [],
   "source": [
    "data(iris)\n",
    "myData <- iris\n",
    "indices <- sample(1:nrow(myData),floor((2*nrow(myData))/3))\n",
    "train <- myData[indices,]\n",
    "test<-myData[-indices,]\n",
    "testClass <- test[,\"Species\"]\n",
    "mySVM <-svm(Species~.,data=train,cost=100,gamma=1)"
   ]
  },
  {
   "cell_type": "markdown",
   "metadata": {},
   "source": [
    "3. To compute the performance of a classifier,first get the results from the predictions of the SVm classifier and the actual class labels for the data points, as follows:\n",
    "\n",
    " 为了计算分类器的性能，首先从SVm分类器的预测和数据点的实际类标签得到结果如下:"
   ]
  },
  {
   "cell_type": "code",
   "execution_count": 18,
   "metadata": {},
   "outputs": [],
   "source": [
    "myPred <- predict(mySVM,test)\n",
    "myLabels <- testClass"
   ]
  },
  {
   "cell_type": "markdown",
   "metadata": {},
   "source": [
    "4. Then, compute the sensitivity and specificity of your learning method using the following function from the caret package:\n",
    "\n",
    " 使用插入符号包中的以下函数计算学习方法的敏感性和特异性:"
   ]
  },
  {
   "cell_type": "code",
   "execution_count": 19,
   "metadata": {},
   "outputs": [],
   "source": [
    "myCM <- confusionMatrix(myPred,myLabels)"
   ]
  },
  {
   "cell_type": "markdown",
   "metadata": {},
   "source": [
    "5. Extract various confusion matrices from the object created earlier using the performance function and by specifying the performance measure as follows:\n",
    "\n",
    " 使用performance函数从前面创建的对象中提取各种混淆矩阵，并指定如下的性能度量:"
   ]
  },
  {
   "cell_type": "code",
   "execution_count": 20,
   "metadata": {},
   "outputs": [],
   "source": [
    "CMtable <- myCM$table"
   ]
  },
  {
   "cell_type": "markdown",
   "metadata": {},
   "source": [
    "6. Compute the sensitivity, specificity, and so on, of the classifier for every clas as follows:\n",
    "\n",
    " 计算每个clas分类器的敏感性、特异性等："
   ]
  },
  {
   "cell_type": "code",
   "execution_count": 21,
   "metadata": {},
   "outputs": [],
   "source": [
    "myPerf2 <- myCM$byClass"
   ]
  }
 ],
 "metadata": {
  "kernelspec": {
   "display_name": "R",
   "language": "R",
   "name": "ir"
  },
  "language_info": {
   "codemirror_mode": "r",
   "file_extension": ".r",
   "mimetype": "text/x-r-source",
   "name": "R",
   "pygments_lexer": "r",
   "version": "3.5.1"
  }
 },
 "nbformat": 4,
 "nbformat_minor": 2
}
